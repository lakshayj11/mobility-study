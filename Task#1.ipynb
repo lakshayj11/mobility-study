{
 "cells": [
  {
   "cell_type": "code",
   "execution_count": 31,
   "metadata": {},
   "outputs": [],
   "source": [
    "import pandas as pd\n",
    "import plotly.express as px\n",
    "import warnings \n",
    "warnings.filterwarnings('ignore')\n",
    "\n",
    "%matplotlib inline\n",
    "# import pandas as pd\n",
    "import numpy as np\n",
    "import matplotlib.pyplot as plt\n",
    "import folium\n",
    "import os"
   ]
  },
  {
   "cell_type": "code",
   "execution_count": 32,
   "metadata": {},
   "outputs": [],
   "source": [
    "pd.set_option('display.max_columns', None)"
   ]
  },
  {
   "cell_type": "code",
   "execution_count": 33,
   "metadata": {},
   "outputs": [
    {
     "data": {
      "text/html": [
       "<div>\n",
       "<style scoped>\n",
       "    .dataframe tbody tr th:only-of-type {\n",
       "        vertical-align: middle;\n",
       "    }\n",
       "\n",
       "    .dataframe tbody tr th {\n",
       "        vertical-align: top;\n",
       "    }\n",
       "\n",
       "    .dataframe thead th {\n",
       "        text-align: right;\n",
       "    }\n",
       "</style>\n",
       "<table border=\"1\" class=\"dataframe\">\n",
       "  <thead>\n",
       "    <tr style=\"text-align: right;\">\n",
       "      <th></th>\n",
       "      <th>poi_cbg</th>\n",
       "      <th>Dissemination area (DA) Population</th>\n",
       "      <th>Type</th>\n",
       "    </tr>\n",
       "  </thead>\n",
       "  <tbody>\n",
       "    <tr>\n",
       "      <th>0</th>\n",
       "      <td>10010165</td>\n",
       "      <td>539</td>\n",
       "      <td>Urban</td>\n",
       "    </tr>\n",
       "    <tr>\n",
       "      <th>1</th>\n",
       "      <td>10010166</td>\n",
       "      <td>264</td>\n",
       "      <td>Rural</td>\n",
       "    </tr>\n",
       "    <tr>\n",
       "      <th>2</th>\n",
       "      <td>10010167</td>\n",
       "      <td>341</td>\n",
       "      <td>Rural</td>\n",
       "    </tr>\n",
       "    <tr>\n",
       "      <th>3</th>\n",
       "      <td>10010168</td>\n",
       "      <td>549</td>\n",
       "      <td>Urban</td>\n",
       "    </tr>\n",
       "    <tr>\n",
       "      <th>4</th>\n",
       "      <td>10010169</td>\n",
       "      <td>296</td>\n",
       "      <td>Rural</td>\n",
       "    </tr>\n",
       "    <tr>\n",
       "      <th>...</th>\n",
       "      <td>...</td>\n",
       "      <td>...</td>\n",
       "      <td>...</td>\n",
       "    </tr>\n",
       "    <tr>\n",
       "      <th>54791</th>\n",
       "      <td>59590023</td>\n",
       "      <td>440</td>\n",
       "      <td>Urban</td>\n",
       "    </tr>\n",
       "    <tr>\n",
       "      <th>54792</th>\n",
       "      <td>59590024</td>\n",
       "      <td>318</td>\n",
       "      <td>Rural</td>\n",
       "    </tr>\n",
       "    <tr>\n",
       "      <th>54793</th>\n",
       "      <td>59590025</td>\n",
       "      <td>683</td>\n",
       "      <td>Urban</td>\n",
       "    </tr>\n",
       "    <tr>\n",
       "      <th>54794</th>\n",
       "      <td>59590026</td>\n",
       "      <td>583</td>\n",
       "      <td>Urban</td>\n",
       "    </tr>\n",
       "    <tr>\n",
       "      <th>54795</th>\n",
       "      <td>59590027</td>\n",
       "      <td>646</td>\n",
       "      <td>Urban</td>\n",
       "    </tr>\n",
       "  </tbody>\n",
       "</table>\n",
       "<p>54796 rows × 3 columns</p>\n",
       "</div>"
      ],
      "text/plain": [
       "        poi_cbg  Dissemination area (DA) Population   Type\n",
       "0      10010165                                 539  Urban\n",
       "1      10010166                                 264  Rural\n",
       "2      10010167                                 341  Rural\n",
       "3      10010168                                 549  Urban\n",
       "4      10010169                                 296  Rural\n",
       "...         ...                                 ...    ...\n",
       "54791  59590023                                 440  Urban\n",
       "54792  59590024                                 318  Rural\n",
       "54793  59590025                                 683  Urban\n",
       "54794  59590026                                 583  Urban\n",
       "54795  59590027                                 646  Urban\n",
       "\n",
       "[54796 rows x 3 columns]"
      ]
     },
     "execution_count": 33,
     "metadata": {},
     "output_type": "execute_result"
    }
   ],
   "source": [
    "df = pd.read_csv('can_scores_quintiles_EN.csv')\n",
    "df = df.rename(columns={'PRCDDA': 'poi_cbg'})\n",
    "df['Type'] = 'Urban'\n",
    "df.loc[df['Dissemination area (DA) Population'] < 400, 'Type'] = 'Rural'\n",
    "df[df['Dissemination area (DA) Population'] >= 400]\n",
    "df = df[['poi_cbg', 'Dissemination area (DA) Population', 'Type']]\n",
    "df"
   ]
  },
  {
   "cell_type": "code",
   "execution_count": 34,
   "metadata": {},
   "outputs": [],
   "source": [
    "data = pd.read_csv('safegraph.csv')\n",
    "data1 = pd.read_csv('geometry.csv')\n",
    "# drop rows with Nan values in raw_visit_counts\n",
    "\n",
    "data = data.dropna(subset=['raw_visit_counts'])\n",
    "data['mobility_score'] = data['normalized_visits_by_state_scaling'] * data['median_dwell'] / 60"
   ]
  },
  {
   "cell_type": "code",
   "execution_count": 35,
   "metadata": {},
   "outputs": [],
   "source": [
    "data2 = data1[['latitude','longitude','placekey']]\n",
    "data = data.merge(data2, on='placekey', how='left')"
   ]
  },
  {
   "cell_type": "code",
   "execution_count": 36,
   "metadata": {},
   "outputs": [],
   "source": [
    "data = data.dropna(subset=['latitude'])\n",
    "data = data.dropna(subset=['longitude'])"
   ]
  },
  {
   "cell_type": "code",
   "execution_count": 37,
   "metadata": {},
   "outputs": [],
   "source": [
    "data = data.dropna(subset=['poi_cbg'])"
   ]
  },
  {
   "cell_type": "code",
   "execution_count": 38,
   "metadata": {},
   "outputs": [],
   "source": [
    "data['poi_cbg'] = (data['poi_cbg'].str[3:]).astype(int)"
   ]
  },
  {
   "cell_type": "code",
   "execution_count": 46,
   "metadata": {},
   "outputs": [],
   "source": [
    "data = data.merge(df, on='poi_cbg')\n",
    "\n",
    "data['date_range_start'] = data['date_range_start'].str[:10]\n",
    "data = data.loc[data['date_range_start'] >= '2019-06-01']\n",
    "data = data.loc[data['date_range_start'] <= '2021-09-01']"
   ]
  },
  {
   "cell_type": "code",
   "execution_count": 47,
   "metadata": {},
   "outputs": [],
   "source": [
    "import ipywidgets as widgets\n",
    "from IPython.display import clear_output\n",
    "import folium\n",
    "import folium.plugins\n",
    "warnings.filterwarnings('ignore')\n",
    "\n",
    "from folium import IFrame"
   ]
  },
  {
   "cell_type": "code",
   "execution_count": 48,
   "metadata": {},
   "outputs": [],
   "source": [
    "\n",
    "def make_map_plot(df_, \n",
    "                  plot_limit=15000, \n",
    "                  radius_col='normalized_visits_by_state_scaling', \n",
    "                  radius_mod=5000, \n",
    "                  color='black', \n",
    "                  fill_color='red', \n",
    "                  fill_opacity = 0.2, \n",
    "                  pop_up_col='normalized_visits_by_state_scaling',\n",
    "                  tooltip = 'Click for more info.', \n",
    "                  zoom_start=4,\n",
    "                  tiles = 'OpenStreetMap', \n",
    "                  map_width = 1400,\n",
    "                  map_height = 800,\n",
    "                  marker_type= 'circle', \n",
    "                  map_plot=None, \n",
    "                  verbose=False):\n",
    "    # Parameters:\n",
    "      # df_ is a pandas dataframe. It requires a column called \"latitude\" and a column called \"longitude\". \n",
    "      # radius_col is a column_name or None. If None, every point is given a fixed radius. \n",
    "          # Otherwise, the value in the column radius_col is used as the radius. \n",
    "      # radius_mod is to scale your radius units to correspond to units on your map.\n",
    "      # zoom_start is the scale of the map. Larger numbers = higher resolution.\n",
    "      # color, fill_color, fill_opacity are marker parameters, see others: https://leafletjs.com/reference-1.3.4.html#path \n",
    "      # tiles determines the base layer. Open source options include 'OpenStreetMap', 'Stamen Terrain', 'Stamen Toner'\n",
    "      # map_width and map_height determine the size of the map image (in pixels)\n",
    "      # marker_type determines what type of marker is being drawn on the map. Options: 'circle' or 'normal'\n",
    "\n",
    "    # check valid inputs\n",
    "    valid_inputs = {'marker_type' : {'val' : marker_type, 'valids' : ['circle', 'normal']},\n",
    "                    'tiles' :  {'val' : tiles, 'valids': ['OpenStreetMap', 'Stamen Terrain', 'Stamen Toner', 'Mapbox Bright', 'Mapbox Control Room']},\n",
    "                    'radius_col' : {'val' : radius_col, 'valids' : [None] + [col for col in df_.columns if pd.api.types.is_numeric_dtype(df_[col])]}}\n",
    "    for param, param_valid_dict in valid_inputs.items():\n",
    "      if(param_valid_dict['val'] not in param_valid_dict['valids']):\n",
    "        raise Exception(\"Invalid parameter input for '{0}'. Valid options are {1}. input value was '{2}' .\".format(param, param_valid_dict['valids'], param_valid_dict['val']))   \n",
    "\n",
    "    # create basemap\n",
    "    if(not map_plot):\n",
    "      map_plot = folium.Map(width=map_width,\n",
    "                            height=map_height,\n",
    "                            location=[df_.latitude.mean(), df_.longitude.mean()],\n",
    "                            tiles=tiles,\n",
    "                            zoom_start=zoom_start,\n",
    "                            control_scale = True)\n",
    "\n",
    "    # add markers\n",
    "    counter = 0\n",
    "    for index, row in df_.iterrows():\n",
    "        counter+=1\n",
    "        if(marker_type=='circle'):\n",
    "          add_circle_marker_to_map(map_plot, row, radius_col, radius_mod, color, fill_color, fill_opacity, pop_up_col, tooltip)\n",
    "        elif(marker_type=='normal'):\n",
    "          add_marker_to_map(map_plot, row, pop_up_col, tooltip)\n",
    "        if(counter>plot_limit): break\n",
    "    if(verbose): print(\"Plotted {0} locations\".format(counter))\n",
    "    return(map_plot)\n",
    "\n",
    "\n",
    "def add_marker_to_map(map_plot, row, pop_up_col, tooltip):\n",
    "  folium.Marker([row.latitude, row.longitude],\n",
    "                        popup= row[pop_up_col] if pop_up_col else None,\n",
    "                        tooltip=tooltip if pop_up_col else None,\n",
    "                   ).add_to(map_plot)\n",
    "  return(None)\n",
    "\n",
    "\n",
    "def add_circle_marker_to_map(map_plot, row, radius_col, radius_mod, color, fill_color, fill_opacity, pop_up_col, tooltip):\n",
    "  folium.CircleMarker([row.latitude, row.longitude],\n",
    "                        radius= row[radius_col]/radius_mod if radius_col else 2,\n",
    "                        color = color,\n",
    "                        fill_color = fill_color,\n",
    "                        weight=0.5,\n",
    "                        fill_opacity= fill_opacity,\n",
    "                        popup= row[pop_up_col] if pop_up_col else None,\n",
    "                        tooltip=tooltip if pop_up_col else None,\n",
    "                   ).add_to(map_plot)\n",
    "  return(None)"
   ]
  },
  {
   "cell_type": "code",
   "execution_count": 53,
   "metadata": {},
   "outputs": [],
   "source": [
    "\n",
    "options = list(data['date_range_start'].unique())\n",
    "\n",
    "date_range = widgets.Dropdown(\n",
    "    options=options,\n",
    "    value=options[-1],\n",
    "    description='Date:',\n",
    "    disabled=False,\n",
    ")\n",
    "\n",
    "output = widgets.Output()"
   ]
  },
  {
   "cell_type": "code",
   "execution_count": 54,
   "metadata": {},
   "outputs": [],
   "source": [
    "# Function that updates plots with slider value\n",
    "\n",
    "def update_plot(change):\n",
    "    with output:\n",
    "        clear_output(wait=True)\n",
    "        df_ = data[data['date_range_start'] == change.new]\n",
    "        # df_ = df_[df_['date_range_start'] <= change.new[0]]\n",
    "\n",
    "        map = make_map_plot(df_)\n",
    "\n",
    "        title_html = f'''\n",
    "                <h3 align=\"center\" style=\"font-size:16px\">{change.new}<b></b></h3>\n",
    "                 '''\n",
    "        map.get_root().html.add_child(folium.Element(title_html))\n",
    "\n",
    "        \n",
    "        map.save(outfile=f'map{change.new}.html')\n",
    "        display(map)"
   ]
  },
  {
   "cell_type": "code",
   "execution_count": 55,
   "metadata": {},
   "outputs": [],
   "source": [
    "#sort dates in options\n",
    "# options.sort()\n"
   ]
  },
  {
   "cell_type": "code",
   "execution_count": 56,
   "metadata": {},
   "outputs": [
    {
     "data": {
      "application/vnd.jupyter.widget-view+json": {
       "model_id": "2c98454ed2ed40b6ae76b781d7eadc95",
       "version_major": 2,
       "version_minor": 0
      },
      "text/plain": [
       "HBox(children=(Dropdown(description='Date:', index=117, options=('2020-09-07', '2020-07-13', '2020-03-09', '20…"
      ]
     },
     "metadata": {},
     "output_type": "display_data"
    },
    {
     "data": {
      "application/vnd.jupyter.widget-view+json": {
       "model_id": "9dc405999a8c4473b30096f128df2cdc",
       "version_major": 2,
       "version_minor": 0
      },
      "text/plain": [
       "Output()"
      ]
     },
     "metadata": {},
     "output_type": "display_data"
    }
   ],
   "source": [
    "output = widgets.Output()\n",
    "\n",
    "with output:\n",
    "    map = make_map_plot(data[data['date_range_start'] == options[-1]])\n",
    "\n",
    "    title_html = f'''\n",
    "            <h3 align=\"center\" style=\"font-size:16px\">{options[-1]}<b></b></h3>\n",
    "                '''\n",
    "    map.get_root().html.add_child(folium.Element(title_html))\n",
    "\n",
    "    display(map)\n",
    "\n",
    "# Adding slider and reset button in horizontal box\n",
    "display(widgets.HBox([date_range]))\n",
    "\n",
    "# Plot update when slider is moved\n",
    "date_range.observe(update_plot, names='value')\n",
    "\n",
    "display(output)"
   ]
  },
  {
   "cell_type": "code",
   "execution_count": null,
   "metadata": {},
   "outputs": [],
   "source": []
  }
 ],
 "metadata": {
  "kernelspec": {
   "display_name": "acads",
   "language": "python",
   "name": "acads"
  },
  "language_info": {
   "codemirror_mode": {
    "name": "ipython",
    "version": 3
   },
   "file_extension": ".py",
   "mimetype": "text/x-python",
   "name": "python",
   "nbconvert_exporter": "python",
   "pygments_lexer": "ipython3",
   "version": "3.9.16"
  },
  "orig_nbformat": 4
 },
 "nbformat": 4,
 "nbformat_minor": 2
}
