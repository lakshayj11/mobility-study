{
 "cells": [
  {
   "cell_type": "code",
   "execution_count": 9,
   "metadata": {},
   "outputs": [],
   "source": [
    "import pandas as pd\n",
    "import plotly.express as px\n",
    "import warnings \n",
    "import ipywidgets as widgets\n",
    "from IPython.display import clear_output\n",
    "import folium\n",
    "import folium.plugins\n",
    "warnings.filterwarnings('ignore')\n",
    "\n",
    "from folium import IFrame"
   ]
  },
  {
   "cell_type": "code",
   "execution_count": 10,
   "metadata": {},
   "outputs": [],
   "source": [
    "pd.set_option('display.max_columns', None)"
   ]
  },
  {
   "cell_type": "code",
   "execution_count": 11,
   "metadata": {},
   "outputs": [
    {
     "data": {
      "text/html": [
       "<div>\n",
       "<style scoped>\n",
       "    .dataframe tbody tr th:only-of-type {\n",
       "        vertical-align: middle;\n",
       "    }\n",
       "\n",
       "    .dataframe tbody tr th {\n",
       "        vertical-align: top;\n",
       "    }\n",
       "\n",
       "    .dataframe thead th {\n",
       "        text-align: right;\n",
       "    }\n",
       "</style>\n",
       "<table border=\"1\" class=\"dataframe\">\n",
       "  <thead>\n",
       "    <tr style=\"text-align: right;\">\n",
       "      <th></th>\n",
       "      <th>poi_cbg</th>\n",
       "      <th>Dissemination area (DA) Population</th>\n",
       "      <th>Type</th>\n",
       "    </tr>\n",
       "  </thead>\n",
       "  <tbody>\n",
       "    <tr>\n",
       "      <th>0</th>\n",
       "      <td>10010165</td>\n",
       "      <td>539</td>\n",
       "      <td>Urban</td>\n",
       "    </tr>\n",
       "    <tr>\n",
       "      <th>1</th>\n",
       "      <td>10010166</td>\n",
       "      <td>264</td>\n",
       "      <td>Rural</td>\n",
       "    </tr>\n",
       "    <tr>\n",
       "      <th>2</th>\n",
       "      <td>10010167</td>\n",
       "      <td>341</td>\n",
       "      <td>Rural</td>\n",
       "    </tr>\n",
       "    <tr>\n",
       "      <th>3</th>\n",
       "      <td>10010168</td>\n",
       "      <td>549</td>\n",
       "      <td>Urban</td>\n",
       "    </tr>\n",
       "    <tr>\n",
       "      <th>4</th>\n",
       "      <td>10010169</td>\n",
       "      <td>296</td>\n",
       "      <td>Rural</td>\n",
       "    </tr>\n",
       "    <tr>\n",
       "      <th>...</th>\n",
       "      <td>...</td>\n",
       "      <td>...</td>\n",
       "      <td>...</td>\n",
       "    </tr>\n",
       "    <tr>\n",
       "      <th>54791</th>\n",
       "      <td>59590023</td>\n",
       "      <td>440</td>\n",
       "      <td>Urban</td>\n",
       "    </tr>\n",
       "    <tr>\n",
       "      <th>54792</th>\n",
       "      <td>59590024</td>\n",
       "      <td>318</td>\n",
       "      <td>Rural</td>\n",
       "    </tr>\n",
       "    <tr>\n",
       "      <th>54793</th>\n",
       "      <td>59590025</td>\n",
       "      <td>683</td>\n",
       "      <td>Urban</td>\n",
       "    </tr>\n",
       "    <tr>\n",
       "      <th>54794</th>\n",
       "      <td>59590026</td>\n",
       "      <td>583</td>\n",
       "      <td>Urban</td>\n",
       "    </tr>\n",
       "    <tr>\n",
       "      <th>54795</th>\n",
       "      <td>59590027</td>\n",
       "      <td>646</td>\n",
       "      <td>Urban</td>\n",
       "    </tr>\n",
       "  </tbody>\n",
       "</table>\n",
       "<p>54796 rows × 3 columns</p>\n",
       "</div>"
      ],
      "text/plain": [
       "        poi_cbg  Dissemination area (DA) Population   Type\n",
       "0      10010165                                 539  Urban\n",
       "1      10010166                                 264  Rural\n",
       "2      10010167                                 341  Rural\n",
       "3      10010168                                 549  Urban\n",
       "4      10010169                                 296  Rural\n",
       "...         ...                                 ...    ...\n",
       "54791  59590023                                 440  Urban\n",
       "54792  59590024                                 318  Rural\n",
       "54793  59590025                                 683  Urban\n",
       "54794  59590026                                 583  Urban\n",
       "54795  59590027                                 646  Urban\n",
       "\n",
       "[54796 rows x 3 columns]"
      ]
     },
     "execution_count": 11,
     "metadata": {},
     "output_type": "execute_result"
    }
   ],
   "source": [
    "df = pd.read_csv('can_scores_quintiles_EN.csv')\n",
    "df = df.rename(columns={'PRCDDA': 'poi_cbg'})\n",
    "df['Type'] = 'Urban'\n",
    "df.loc[df['Dissemination area (DA) Population'] < 400, 'Type'] = 'Rural'\n",
    "df[df['Dissemination area (DA) Population'] >= 400]\n",
    "df = df[['poi_cbg', 'Dissemination area (DA) Population', 'Type']]\n",
    "df"
   ]
  },
  {
   "cell_type": "code",
   "execution_count": 12,
   "metadata": {},
   "outputs": [],
   "source": [
    "data = pd.read_csv('combined.csv')\n",
    "# drop rows with Nan values in raw_visit_counts\n",
    "\n",
    "data = data.dropna(subset=['raw_visit_counts'])\n",
    "data['mobility_score'] = data['normalized_visits_by_state_scaling'] * data['median_dwell'] / 60"
   ]
  },
  {
   "cell_type": "code",
   "execution_count": 13,
   "metadata": {},
   "outputs": [],
   "source": [
    "data = data.dropna(subset=['poi_cbg'])\n",
    "data['poi_cbg'] = (data['poi_cbg'].str[3:]).astype(int)\n",
    "df1 = data.merge(df, on='poi_cbg')"
   ]
  },
  {
   "cell_type": "code",
   "execution_count": 21,
   "metadata": {},
   "outputs": [
    {
     "data": {
      "text/html": [
       "<div>\n",
       "<style scoped>\n",
       "    .dataframe tbody tr th:only-of-type {\n",
       "        vertical-align: middle;\n",
       "    }\n",
       "\n",
       "    .dataframe tbody tr th {\n",
       "        vertical-align: top;\n",
       "    }\n",
       "\n",
       "    .dataframe thead th {\n",
       "        text-align: right;\n",
       "    }\n",
       "</style>\n",
       "<table border=\"1\" class=\"dataframe\">\n",
       "  <thead>\n",
       "    <tr style=\"text-align: right;\">\n",
       "      <th></th>\n",
       "      <th>date_range_start</th>\n",
       "      <th>region</th>\n",
       "      <th>Type</th>\n",
       "      <th>Unnamed: 0</th>\n",
       "      <th>naics_code</th>\n",
       "      <th>latitude</th>\n",
       "      <th>longitude</th>\n",
       "      <th>enclosed</th>\n",
       "      <th>phone_number</th>\n",
       "      <th>is_synthetic</th>\n",
       "      <th>wkt_area_sq_meters</th>\n",
       "      <th>raw_visit_counts</th>\n",
       "      <th>raw_visitor_counts</th>\n",
       "      <th>poi_cbg</th>\n",
       "      <th>distance_from_home</th>\n",
       "      <th>median_dwell</th>\n",
       "      <th>normalized_visits_by_state_scaling</th>\n",
       "      <th>normalized_visits_by_region_naics_visits</th>\n",
       "      <th>normalized_visits_by_region_naics_visitors</th>\n",
       "      <th>normalized_visits_by_total_visits</th>\n",
       "      <th>normalized_visits_by_total_visitors</th>\n",
       "      <th>mobility_score</th>\n",
       "      <th>Dissemination area (DA) Population</th>\n",
       "    </tr>\n",
       "  </thead>\n",
       "  <tbody>\n",
       "    <tr>\n",
       "      <th>0</th>\n",
       "      <td>2019-06-03</td>\n",
       "      <td>AB</td>\n",
       "      <td>Rural</td>\n",
       "      <td>127623</td>\n",
       "      <td>79476294.0</td>\n",
       "      <td>5730.822100</td>\n",
       "      <td>-12514.344248</td>\n",
       "      <td>4</td>\n",
       "      <td>1.626486e+12</td>\n",
       "      <td>0</td>\n",
       "      <td>187250.0</td>\n",
       "      <td>841.0</td>\n",
       "      <td>621.0</td>\n",
       "      <td>5289321836</td>\n",
       "      <td>3661002.0</td>\n",
       "      <td>9417.5</td>\n",
       "      <td>1.154753e+05</td>\n",
       "      <td>0.028835</td>\n",
       "      <td>0.037668</td>\n",
       "      <td>0.001476</td>\n",
       "      <td>0.002073</td>\n",
       "      <td>1.093263e+05</td>\n",
       "      <td>32145</td>\n",
       "    </tr>\n",
       "    <tr>\n",
       "      <th>1</th>\n",
       "      <td>2019-06-03</td>\n",
       "      <td>AB</td>\n",
       "      <td>Urban</td>\n",
       "      <td>569083</td>\n",
       "      <td>365590860.0</td>\n",
       "      <td>26505.743255</td>\n",
       "      <td>-57546.841334</td>\n",
       "      <td>8</td>\n",
       "      <td>7.591217e+12</td>\n",
       "      <td>18</td>\n",
       "      <td>712695.0</td>\n",
       "      <td>3787.0</td>\n",
       "      <td>2854.0</td>\n",
       "      <td>24332374079</td>\n",
       "      <td>3312873.0</td>\n",
       "      <td>47203.5</td>\n",
       "      <td>5.200505e+05</td>\n",
       "      <td>0.130805</td>\n",
       "      <td>0.173914</td>\n",
       "      <td>0.006662</td>\n",
       "      <td>0.009551</td>\n",
       "      <td>7.400490e+05</td>\n",
       "      <td>770386</td>\n",
       "    </tr>\n",
       "    <tr>\n",
       "      <th>2</th>\n",
       "      <td>2019-06-03</td>\n",
       "      <td>BC</td>\n",
       "      <td>Rural</td>\n",
       "      <td>110831</td>\n",
       "      <td>68638611.0</td>\n",
       "      <td>4787.313436</td>\n",
       "      <td>-11626.441491</td>\n",
       "      <td>2</td>\n",
       "      <td>1.340820e+12</td>\n",
       "      <td>3</td>\n",
       "      <td>152734.0</td>\n",
       "      <td>660.0</td>\n",
       "      <td>496.0</td>\n",
       "      <td>5628313303</td>\n",
       "      <td>3360363.0</td>\n",
       "      <td>10049.0</td>\n",
       "      <td>8.667633e+04</td>\n",
       "      <td>0.014457</td>\n",
       "      <td>0.019787</td>\n",
       "      <td>0.000926</td>\n",
       "      <td>0.001375</td>\n",
       "      <td>1.272873e+05</td>\n",
       "      <td>29486</td>\n",
       "    </tr>\n",
       "    <tr>\n",
       "      <th>3</th>\n",
       "      <td>2019-06-03</td>\n",
       "      <td>BC</td>\n",
       "      <td>Urban</td>\n",
       "      <td>984382</td>\n",
       "      <td>612689786.0</td>\n",
       "      <td>41900.402501</td>\n",
       "      <td>-103942.077900</td>\n",
       "      <td>29</td>\n",
       "      <td>1.233708e+13</td>\n",
       "      <td>13</td>\n",
       "      <td>1284333.0</td>\n",
       "      <td>7522.0</td>\n",
       "      <td>5987.0</td>\n",
       "      <td>50184824354</td>\n",
       "      <td>14864359.0</td>\n",
       "      <td>76569.0</td>\n",
       "      <td>9.878475e+05</td>\n",
       "      <td>0.224333</td>\n",
       "      <td>0.291299</td>\n",
       "      <td>0.010549</td>\n",
       "      <td>0.016594</td>\n",
       "      <td>1.116625e+06</td>\n",
       "      <td>843318</td>\n",
       "    </tr>\n",
       "    <tr>\n",
       "      <th>4</th>\n",
       "      <td>2019-06-03</td>\n",
       "      <td>MB</td>\n",
       "      <td>Rural</td>\n",
       "      <td>16262</td>\n",
       "      <td>9392645.0</td>\n",
       "      <td>647.360375</td>\n",
       "      <td>-1267.710226</td>\n",
       "      <td>0</td>\n",
       "      <td>1.445603e+11</td>\n",
       "      <td>0</td>\n",
       "      <td>10390.0</td>\n",
       "      <td>59.0</td>\n",
       "      <td>39.0</td>\n",
       "      <td>599266247</td>\n",
       "      <td>10649.0</td>\n",
       "      <td>2017.5</td>\n",
       "      <td>9.422362e+03</td>\n",
       "      <td>0.008861</td>\n",
       "      <td>0.011978</td>\n",
       "      <td>0.000392</td>\n",
       "      <td>0.000491</td>\n",
       "      <td>3.177519e+04</td>\n",
       "      <td>4125</td>\n",
       "    </tr>\n",
       "    <tr>\n",
       "      <th>...</th>\n",
       "      <td>...</td>\n",
       "      <td>...</td>\n",
       "      <td>...</td>\n",
       "      <td>...</td>\n",
       "      <td>...</td>\n",
       "      <td>...</td>\n",
       "      <td>...</td>\n",
       "      <td>...</td>\n",
       "      <td>...</td>\n",
       "      <td>...</td>\n",
       "      <td>...</td>\n",
       "      <td>...</td>\n",
       "      <td>...</td>\n",
       "      <td>...</td>\n",
       "      <td>...</td>\n",
       "      <td>...</td>\n",
       "      <td>...</td>\n",
       "      <td>...</td>\n",
       "      <td>...</td>\n",
       "      <td>...</td>\n",
       "      <td>...</td>\n",
       "      <td>...</td>\n",
       "      <td>...</td>\n",
       "    </tr>\n",
       "    <tr>\n",
       "      <th>2353</th>\n",
       "      <td>2021-08-30</td>\n",
       "      <td>PE</td>\n",
       "      <td>Urban</td>\n",
       "      <td>25607</td>\n",
       "      <td>11560186.0</td>\n",
       "      <td>740.310145</td>\n",
       "      <td>-1009.632006</td>\n",
       "      <td>0</td>\n",
       "      <td>3.044296e+11</td>\n",
       "      <td>1</td>\n",
       "      <td>293331.0</td>\n",
       "      <td>149.0</td>\n",
       "      <td>130.0</td>\n",
       "      <td>176302260</td>\n",
       "      <td>357068.0</td>\n",
       "      <td>579.5</td>\n",
       "      <td>2.398090e+04</td>\n",
       "      <td>0.157766</td>\n",
       "      <td>0.200310</td>\n",
       "      <td>0.006009</td>\n",
       "      <td>0.014217</td>\n",
       "      <td>1.417394e+04</td>\n",
       "      <td>8326</td>\n",
       "    </tr>\n",
       "    <tr>\n",
       "      <th>2354</th>\n",
       "      <td>2021-08-30</td>\n",
       "      <td>QC</td>\n",
       "      <td>Rural</td>\n",
       "      <td>199643</td>\n",
       "      <td>137277194.0</td>\n",
       "      <td>8766.228173</td>\n",
       "      <td>-13857.195344</td>\n",
       "      <td>4</td>\n",
       "      <td>2.765284e+12</td>\n",
       "      <td>2</td>\n",
       "      <td>502589.0</td>\n",
       "      <td>2649.0</td>\n",
       "      <td>1909.0</td>\n",
       "      <td>4669995778</td>\n",
       "      <td>3957123.0</td>\n",
       "      <td>15532.5</td>\n",
       "      <td>3.530605e+05</td>\n",
       "      <td>0.050439</td>\n",
       "      <td>0.075701</td>\n",
       "      <td>0.001814</td>\n",
       "      <td>0.003552</td>\n",
       "      <td>3.639406e+05</td>\n",
       "      <td>64320</td>\n",
       "    </tr>\n",
       "    <tr>\n",
       "      <th>2355</th>\n",
       "      <td>2021-08-30</td>\n",
       "      <td>QC</td>\n",
       "      <td>Urban</td>\n",
       "      <td>1290269</td>\n",
       "      <td>843171015.0</td>\n",
       "      <td>53551.999875</td>\n",
       "      <td>-85370.426905</td>\n",
       "      <td>25</td>\n",
       "      <td>1.694033e+13</td>\n",
       "      <td>26</td>\n",
       "      <td>8250781.0</td>\n",
       "      <td>14212.0</td>\n",
       "      <td>10974.0</td>\n",
       "      <td>28691774190</td>\n",
       "      <td>27108656.0</td>\n",
       "      <td>86915.0</td>\n",
       "      <td>1.894185e+06</td>\n",
       "      <td>0.198558</td>\n",
       "      <td>0.274569</td>\n",
       "      <td>0.009731</td>\n",
       "      <td>0.020418</td>\n",
       "      <td>1.639705e+06</td>\n",
       "      <td>983964</td>\n",
       "    </tr>\n",
       "    <tr>\n",
       "      <th>2356</th>\n",
       "      <td>2021-08-30</td>\n",
       "      <td>SK</td>\n",
       "      <td>Rural</td>\n",
       "      <td>38338</td>\n",
       "      <td>22397859.0</td>\n",
       "      <td>1600.002718</td>\n",
       "      <td>-3272.862316</td>\n",
       "      <td>0</td>\n",
       "      <td>3.920041e+11</td>\n",
       "      <td>0</td>\n",
       "      <td>16274.0</td>\n",
       "      <td>311.0</td>\n",
       "      <td>240.0</td>\n",
       "      <td>1460070436</td>\n",
       "      <td>1641164.0</td>\n",
       "      <td>1691.0</td>\n",
       "      <td>2.835177e+04</td>\n",
       "      <td>0.036182</td>\n",
       "      <td>0.048340</td>\n",
       "      <td>0.001157</td>\n",
       "      <td>0.002445</td>\n",
       "      <td>2.584022e+04</td>\n",
       "      <td>9633</td>\n",
       "    </tr>\n",
       "    <tr>\n",
       "      <th>2357</th>\n",
       "      <td>2021-08-30</td>\n",
       "      <td>SK</td>\n",
       "      <td>Urban</td>\n",
       "      <td>160541</td>\n",
       "      <td>104041714.0</td>\n",
       "      <td>7404.878378</td>\n",
       "      <td>-15222.175490</td>\n",
       "      <td>3</td>\n",
       "      <td>1.793436e+12</td>\n",
       "      <td>2</td>\n",
       "      <td>351247.0</td>\n",
       "      <td>3186.0</td>\n",
       "      <td>2476.0</td>\n",
       "      <td>6781154151</td>\n",
       "      <td>2245037.0</td>\n",
       "      <td>8154.0</td>\n",
       "      <td>2.904461e+05</td>\n",
       "      <td>0.243141</td>\n",
       "      <td>0.338174</td>\n",
       "      <td>0.011852</td>\n",
       "      <td>0.025221</td>\n",
       "      <td>1.686459e+05</td>\n",
       "      <td>159352</td>\n",
       "    </tr>\n",
       "  </tbody>\n",
       "</table>\n",
       "<p>2358 rows × 23 columns</p>\n",
       "</div>"
      ],
      "text/plain": [
       "     date_range_start region   Type  Unnamed: 0   naics_code      latitude  \\\n",
       "0          2019-06-03     AB  Rural      127623   79476294.0   5730.822100   \n",
       "1          2019-06-03     AB  Urban      569083  365590860.0  26505.743255   \n",
       "2          2019-06-03     BC  Rural      110831   68638611.0   4787.313436   \n",
       "3          2019-06-03     BC  Urban      984382  612689786.0  41900.402501   \n",
       "4          2019-06-03     MB  Rural       16262    9392645.0    647.360375   \n",
       "...               ...    ...    ...         ...          ...           ...   \n",
       "2353       2021-08-30     PE  Urban       25607   11560186.0    740.310145   \n",
       "2354       2021-08-30     QC  Rural      199643  137277194.0   8766.228173   \n",
       "2355       2021-08-30     QC  Urban     1290269  843171015.0  53551.999875   \n",
       "2356       2021-08-30     SK  Rural       38338   22397859.0   1600.002718   \n",
       "2357       2021-08-30     SK  Urban      160541  104041714.0   7404.878378   \n",
       "\n",
       "          longitude  enclosed  phone_number  is_synthetic  wkt_area_sq_meters  \\\n",
       "0     -12514.344248         4  1.626486e+12             0            187250.0   \n",
       "1     -57546.841334         8  7.591217e+12            18            712695.0   \n",
       "2     -11626.441491         2  1.340820e+12             3            152734.0   \n",
       "3    -103942.077900        29  1.233708e+13            13           1284333.0   \n",
       "4      -1267.710226         0  1.445603e+11             0             10390.0   \n",
       "...             ...       ...           ...           ...                 ...   \n",
       "2353   -1009.632006         0  3.044296e+11             1            293331.0   \n",
       "2354  -13857.195344         4  2.765284e+12             2            502589.0   \n",
       "2355  -85370.426905        25  1.694033e+13            26           8250781.0   \n",
       "2356   -3272.862316         0  3.920041e+11             0             16274.0   \n",
       "2357  -15222.175490         3  1.793436e+12             2            351247.0   \n",
       "\n",
       "      raw_visit_counts  raw_visitor_counts      poi_cbg  distance_from_home  \\\n",
       "0                841.0               621.0   5289321836           3661002.0   \n",
       "1               3787.0              2854.0  24332374079           3312873.0   \n",
       "2                660.0               496.0   5628313303           3360363.0   \n",
       "3               7522.0              5987.0  50184824354          14864359.0   \n",
       "4                 59.0                39.0    599266247             10649.0   \n",
       "...                ...                 ...          ...                 ...   \n",
       "2353             149.0               130.0    176302260            357068.0   \n",
       "2354            2649.0              1909.0   4669995778           3957123.0   \n",
       "2355           14212.0             10974.0  28691774190          27108656.0   \n",
       "2356             311.0               240.0   1460070436           1641164.0   \n",
       "2357            3186.0              2476.0   6781154151           2245037.0   \n",
       "\n",
       "      median_dwell  normalized_visits_by_state_scaling  \\\n",
       "0           9417.5                        1.154753e+05   \n",
       "1          47203.5                        5.200505e+05   \n",
       "2          10049.0                        8.667633e+04   \n",
       "3          76569.0                        9.878475e+05   \n",
       "4           2017.5                        9.422362e+03   \n",
       "...            ...                                 ...   \n",
       "2353         579.5                        2.398090e+04   \n",
       "2354       15532.5                        3.530605e+05   \n",
       "2355       86915.0                        1.894185e+06   \n",
       "2356        1691.0                        2.835177e+04   \n",
       "2357        8154.0                        2.904461e+05   \n",
       "\n",
       "      normalized_visits_by_region_naics_visits  \\\n",
       "0                                     0.028835   \n",
       "1                                     0.130805   \n",
       "2                                     0.014457   \n",
       "3                                     0.224333   \n",
       "4                                     0.008861   \n",
       "...                                        ...   \n",
       "2353                                  0.157766   \n",
       "2354                                  0.050439   \n",
       "2355                                  0.198558   \n",
       "2356                                  0.036182   \n",
       "2357                                  0.243141   \n",
       "\n",
       "      normalized_visits_by_region_naics_visitors  \\\n",
       "0                                       0.037668   \n",
       "1                                       0.173914   \n",
       "2                                       0.019787   \n",
       "3                                       0.291299   \n",
       "4                                       0.011978   \n",
       "...                                          ...   \n",
       "2353                                    0.200310   \n",
       "2354                                    0.075701   \n",
       "2355                                    0.274569   \n",
       "2356                                    0.048340   \n",
       "2357                                    0.338174   \n",
       "\n",
       "      normalized_visits_by_total_visits  normalized_visits_by_total_visitors  \\\n",
       "0                              0.001476                             0.002073   \n",
       "1                              0.006662                             0.009551   \n",
       "2                              0.000926                             0.001375   \n",
       "3                              0.010549                             0.016594   \n",
       "4                              0.000392                             0.000491   \n",
       "...                                 ...                                  ...   \n",
       "2353                           0.006009                             0.014217   \n",
       "2354                           0.001814                             0.003552   \n",
       "2355                           0.009731                             0.020418   \n",
       "2356                           0.001157                             0.002445   \n",
       "2357                           0.011852                             0.025221   \n",
       "\n",
       "      mobility_score  Dissemination area (DA) Population  \n",
       "0       1.093263e+05                               32145  \n",
       "1       7.400490e+05                              770386  \n",
       "2       1.272873e+05                               29486  \n",
       "3       1.116625e+06                              843318  \n",
       "4       3.177519e+04                                4125  \n",
       "...              ...                                 ...  \n",
       "2353    1.417394e+04                                8326  \n",
       "2354    3.639406e+05                               64320  \n",
       "2355    1.639705e+06                              983964  \n",
       "2356    2.584022e+04                                9633  \n",
       "2357    1.686459e+05                              159352  \n",
       "\n",
       "[2358 rows x 23 columns]"
      ]
     },
     "execution_count": 21,
     "metadata": {},
     "output_type": "execute_result"
    }
   ],
   "source": [
    "df1['date_range_start'] = df1['date_range_start'].str[:10]\n",
    "df1 = df1.loc[df1['date_range_start'] >= '2019-06-01']\n",
    "df1 = df1.loc[df1['date_range_start'] <= '2021-09-01']\n",
    "df2 = df1.groupby(['date_range_start', 'region', 'Type']).sum()\n",
    "df2.to_csv('dataframe.csv')\n",
    "df2 = pd.read_csv('dataframe.csv')\n",
    "df2"
   ]
  },
  {
   "cell_type": "code",
   "execution_count": 22,
   "metadata": {},
   "outputs": [
    {
     "data": {
      "application/vnd.plotly.v1+json": {
       "config": {
        "plotlyServerURL": "https://plot.ly"
       },
       "data": [
        {
         "alignmentgroup": "True",
         "hovertemplate": "Type=Rural<br>date_range_start=2019-06-03<br>region=%{x}<br>mobility_score=%{y}<extra></extra>",
         "ids": [
          "AB",
          "BC",
          "MB",
          "NB",
          "NL",
          "NS",
          "ON",
          "PE",
          "QC",
          "SK"
         ],
         "legendgroup": "Rural",
         "marker": {
          "color": "#636efa",
          "pattern": {
           "shape": ""
          }
         },
         "name": "Rural",
         "offsetgroup": "Rural",
         "orientation": "v",
         "showlegend": true,
         "textposition": "auto",
         "type": "bar",
         "x": [
          "AB",
          "BC",
          "MB",
          "NB",
          "NL",
          "NS",
          "ON",
          "PE",
          "QC",
          "SK"
         ],
         "xaxis": "x",
         "y": [
          109326.27308902577,
          127287.25130655656,
          31775.186056821247,
          24620.602335728952,
          18895.181441441444,
          23816.17035812672,
          532622.3976421445,
          3793.339858156028,
          251584.139195726,
          26879.929049142196
         ],
         "yaxis": "y"
        },
        {
         "alignmentgroup": "True",
         "hovertemplate": "Type=Urban<br>date_range_start=2019-06-03<br>region=%{x}<br>mobility_score=%{y}<extra></extra>",
         "ids": [
          "AB",
          "BC",
          "MB",
          "NB",
          "NL",
          "NS",
          "ON",
          "PE",
          "QC",
          "SK"
         ],
         "legendgroup": "Urban",
         "marker": {
          "color": "#EF553B",
          "pattern": {
           "shape": ""
          }
         },
         "name": "Urban",
         "offsetgroup": "Urban",
         "orientation": "v",
         "showlegend": true,
         "textposition": "auto",
         "type": "bar",
         "x": [
          "AB",
          "BC",
          "MB",
          "NB",
          "NL",
          "NS",
          "ON",
          "PE",
          "QC",
          "SK"
         ],
         "xaxis": "x",
         "y": [
          740049.041642552,
          1116625.2998984826,
          187701.9702401604,
          94139.76199520876,
          87370.50060606061,
          119632.4851423324,
          2204894.896506817,
          19907.47780141844,
          1496794.0573460402,
          141603.80901424834
         ],
         "yaxis": "y"
        }
       ],
       "frames": [
        {
         "data": [
          {
           "alignmentgroup": "True",
           "hovertemplate": "Type=Rural<br>date_range_start=2019-06-03<br>region=%{x}<br>mobility_score=%{y}<extra></extra>",
           "ids": [
            "AB",
            "BC",
            "MB",
            "NB",
            "NL",
            "NS",
            "ON",
            "PE",
            "QC",
            "SK"
           ],
           "legendgroup": "Rural",
           "marker": {
            "color": "#636efa",
            "pattern": {
             "shape": ""
            }
           },
           "name": "Rural",
           "offsetgroup": "Rural",
           "orientation": "v",
           "showlegend": true,
           "textposition": "auto",
           "type": "bar",
           "x": [
            "AB",
            "BC",
            "MB",
            "NB",
            "NL",
            "NS",
            "ON",
            "PE",
            "QC",
            "SK"
           ],
           "xaxis": "x",
           "y": [
            109326.27308902577,
            127287.25130655656,
            31775.186056821247,
            24620.602335728952,
            18895.181441441444,
            23816.17035812672,
            532622.3976421445,
            3793.339858156028,
            251584.139195726,
            26879.929049142196
           ],
           "yaxis": "y"
          },
          {
           "alignmentgroup": "True",
           "hovertemplate": "Type=Urban<br>date_range_start=2019-06-03<br>region=%{x}<br>mobility_score=%{y}<extra></extra>",
           "ids": [
            "AB",
            "BC",
            "MB",
            "NB",
            "NL",
            "NS",
            "ON",
            "PE",
            "QC",
            "SK"
           ],
           "legendgroup": "Urban",
           "marker": {
            "color": "#EF553B",
            "pattern": {
             "shape": ""
            }
           },
           "name": "Urban",
           "offsetgroup": "Urban",
           "orientation": "v",
           "showlegend": true,
           "textposition": "auto",
           "type": "bar",
           "x": [
            "AB",
            "BC",
            "MB",
            "NB",
            "NL",
            "NS",
            "ON",
            "PE",
            "QC",
            "SK"
           ],
           "xaxis": "x",
           "y": [
            740049.041642552,
            1116625.2998984826,
            187701.9702401604,
            94139.76199520876,
            87370.50060606061,
            119632.4851423324,
            2204894.896506817,
            19907.47780141844,
            1496794.0573460402,
            141603.80901424834
           ],
           "yaxis": "y"
          }
         ],
         "name": "2019-06-03"
        },
        {
         "data": [
          {
           "alignmentgroup": "True",
           "hovertemplate": "Type=Rural<br>date_range_start=2019-06-10<br>region=%{x}<br>mobility_score=%{y}<extra></extra>",
           "ids": [
            "AB",
            "BC",
            "MB",
            "NB",
            "NL",
            "NS",
            "ON",
            "PE",
            "QC",
            "SK"
           ],
           "legendgroup": "Rural",
           "marker": {
            "color": "#636efa",
            "pattern": {
             "shape": ""
            }
           },
           "name": "Rural",
           "offsetgroup": "Rural",
           "orientation": "v",
           "showlegend": true,
           "textposition": "auto",
           "type": "bar",
           "x": [
            "AB",
            "BC",
            "MB",
            "NB",
            "NL",
            "NS",
            "ON",
            "PE",
            "QC",
            "SK"
           ],
           "xaxis": "x",
           "y": [
            135800.80878982163,
            120508.72877458196,
            15013.592631378524,
            29243.95292324744,
            14121.179938271607,
            19982.629910973486,
            575301.3261277785,
            867.3304783950616,
            276566.6087807935,
            27976.93058440552
           ],
           "yaxis": "y"
          },
          {
           "alignmentgroup": "True",
           "hovertemplate": "Type=Urban<br>date_range_start=2019-06-10<br>region=%{x}<br>mobility_score=%{y}<extra></extra>",
           "ids": [
            "AB",
            "BC",
            "MB",
            "NB",
            "NL",
            "NS",
            "ON",
            "PE",
            "QC",
            "SK"
           ],
           "legendgroup": "Urban",
           "marker": {
            "color": "#EF553B",
            "pattern": {
             "shape": ""
            }
           },
           "name": "Urban",
           "offsetgroup": "Urban",
           "orientation": "v",
           "showlegend": true,
           "textposition": "auto",
           "type": "bar",
           "x": [
            "AB",
            "BC",
            "MB",
            "NB",
            "NL",
            "NS",
            "ON",
            "PE",
            "QC",
            "SK"
           ],
           "xaxis": "x",
           "y": [
            854003.610900557,
            1224621.7290118174,
            252660.15402597951,
            95002.2153505126,
            48576.10308641976,
            154218.51327656282,
            2470345.051263465,
            24938.83418209877,
            1725984.4422433714,
            126624.0873042939
           ],
           "yaxis": "y"
          }
         ],
         "name": "2019-06-10"
        },
        {
         "data": [
          {
           "alignmentgroup": "True",
           "hovertemplate": "Type=Rural<br>date_range_start=2019-06-17<br>region=%{x}<br>mobility_score=%{y}<extra></extra>",
           "ids": [
            "AB",
            "BC",
            "MB",
            "NB",
            "NL",
            "NS",
            "ON",
            "PE",
            "QC",
            "SK"
           ],
           "legendgroup": "Rural",
           "marker": {
            "color": "#636efa",
            "pattern": {
             "shape": ""
            }
           },
           "name": "Rural",
           "offsetgroup": "Rural",
           "orientation": "v",
           "showlegend": true,
           "textposition": "auto",
           "type": "bar",
           "x": [
            "AB",
            "BC",
            "MB",
            "NB",
            "NL",
            "NS",
            "ON",
            "PE",
            "QC",
            "SK"
           ],
           "xaxis": "x",
           "y": [
            184136.333639058,
            135811.7661190986,
            19234.256771451168,
            53696.07630173565,
            17381.531654831073,
            25943.315312046445,
            686359.1293500784,
            1624.0599820143889,
            371969.748670492,
            85689.7959276018
           ],
           "yaxis": "y"
          },
          {
           "alignmentgroup": "True",
           "hovertemplate": "Type=Urban<br>date_range_start=2019-06-17<br>region=%{x}<br>mobility_score=%{y}<extra></extra>",
           "ids": [
            "AB",
            "BC",
            "MB",
            "NB",
            "NL",
            "NS",
            "ON",
            "PE",
            "QC",
            "SK"
           ],
           "legendgroup": "Urban",
           "marker": {
            "color": "#EF553B",
            "pattern": {
             "shape": ""
            }
           },
           "name": "Urban",
           "offsetgroup": "Urban",
           "orientation": "v",
           "showlegend": true,
           "textposition": "auto",
           "type": "bar",
           "x": [
            "AB",
            "BC",
            "MB",
            "NB",
            "NL",
            "NS",
            "ON",
            "PE",
            "QC",
            "SK"
           ],
           "xaxis": "x",
           "y": [
            1065548.2895791924,
            1470536.6164321403,
            275238.2556099249,
            137042.0278259902,
            120354.787325156,
            254473.5178035801,
            3099937.261790566,
            55845.62598920864,
            2305171.029764376,
            206106.68461538464
           ],
           "yaxis": "y"
          }
         ],
         "name": "2019-06-17"
        },
        {
         "data": [
          {
           "alignmentgroup": "True",
           "hovertemplate": "Type=Rural<br>date_range_start=2019-06-24<br>region=%{x}<br>mobility_score=%{y}<extra></extra>",
           "ids": [
            "AB",
            "BC",
            "MB",
            "NB",
            "NL",
            "NS",
            "ON",
            "PE",
            "QC",
            "SK"
           ],
           "legendgroup": "Rural",
           "marker": {
            "color": "#636efa",
            "pattern": {
             "shape": ""
            }
           },
           "name": "Rural",
           "offsetgroup": "Rural",
           "orientation": "v",
           "showlegend": true,
           "textposition": "auto",
           "type": "bar",
           "x": [
            "AB",
            "BC",
            "MB",
            "NB",
            "NL",
            "NS",
            "ON",
            "PE",
            "QC",
            "SK"
           ],
           "xaxis": "x",
           "y": [
            161340.02830204816,
            148995.04677650353,
            52373.10119147508,
            54765.48394294075,
            35913.049799196786,
            24976.33140109176,
            1030895.7377744148,
            5337.6442718446615,
            406326.590402618,
            77510.6
           ],
           "yaxis": "y"
          },
          {
           "alignmentgroup": "True",
           "hovertemplate": "Type=Urban<br>date_range_start=2019-06-24<br>region=%{x}<br>mobility_score=%{y}<extra></extra>",
           "ids": [
            "AB",
            "BC",
            "MB",
            "NB",
            "NL",
            "NS",
            "ON",
            "PE",
            "QC",
            "SK"
           ],
           "legendgroup": "Urban",
           "marker": {
            "color": "#EF553B",
            "pattern": {
             "shape": ""
            }
           },
           "name": "Urban",
           "offsetgroup": "Urban",
           "orientation": "v",
           "showlegend": true,
           "textposition": "auto",
           "type": "bar",
           "x": [
            "AB",
            "BC",
            "MB",
            "NB",
            "NL",
            "NS",
            "ON",
            "PE",
            "QC",
            "SK"
           ],
           "xaxis": "x",
           "y": [
            1496682.937340688,
            1655362.1040871155,
            383455.2993651061,
            203114.2955010973,
            199507.3807228916,
            234113.85593969325,
            3522621.14255755,
            90802.01825242718,
            2770582.840052574,
            194419.42666666667
           ],
           "yaxis": "y"
          }
         ],
         "name": "2019-06-24"
        },
        {
         "data": [
          {
           "alignmentgroup": "True",
           "hovertemplate": "Type=Rural<br>date_range_start=2019-07-01<br>region=%{x}<br>mobility_score=%{y}<extra></extra>",
           "ids": [
            "AB",
            "BC",
            "MB",
            "NB",
            "NL",
            "NS",
            "ON",
            "PE",
            "QC",
            "SK"
           ],
           "legendgroup": "Rural",
           "marker": {
            "color": "#636efa",
            "pattern": {
             "shape": ""
            }
           },
           "name": "Rural",
           "offsetgroup": "Rural",
           "orientation": "v",
           "showlegend": true,
           "textposition": "auto",
           "type": "bar",
           "x": [
            "AB",
            "BC",
            "MB",
            "NB",
            "NL",
            "NS",
            "ON",
            "PE",
            "QC",
            "SK"
           ],
           "xaxis": "x",
           "y": [
            102545.72773362236,
            111322.74381960728,
            41067.87212271192,
            16484.433404288866,
            13401.317536753677,
            25474.92632624849,
            742949.8603318135,
            6759.73661971831,
            293996.0200190593,
            12886.096536123285
           ],
           "yaxis": "y"
          },
          {
           "alignmentgroup": "True",
           "hovertemplate": "Type=Urban<br>date_range_start=2019-07-01<br>region=%{x}<br>mobility_score=%{y}<extra></extra>",
           "ids": [
            "AB",
            "BC",
            "MB",
            "NB",
            "NL",
            "NS",
            "ON",
            "PE",
            "QC",
            "SK"
           ],
           "legendgroup": "Urban",
           "marker": {
            "color": "#EF553B",
            "pattern": {
             "shape": ""
            }
           },
           "name": "Urban",
           "offsetgroup": "Urban",
           "orientation": "v",
           "showlegend": true,
           "textposition": "auto",
           "type": "bar",
           "x": [
            "AB",
            "BC",
            "MB",
            "NB",
            "NL",
            "NS",
            "ON",
            "PE",
            "QC",
            "SK"
           ],
           "xaxis": "x",
           "y": [
            839708.1428804465,
            1070174.773862871,
            283604.8199878231,
            66421.75382371491,
            73357.86750675067,
            166513.66416105063,
            2631822.771058398,
            38225.59436619718,
            1785869.3631270844,
            126594.30125830624
           ],
           "yaxis": "y"
          }
         ],
         "name": "2019-07-01"
        },
        {
         "data": [
          {
           "alignmentgroup": "True",
           "hovertemplate": "Type=Rural<br>date_range_start=2019-07-08<br>region=%{x}<br>mobility_score=%{y}<extra></extra>",
           "ids": [
            "AB",
            "BC",
            "MB",
            "NB",
            "NL",
            "NS",
            "ON",
            "PE",
            "QC",
            "SK"
           ],
           "legendgroup": "Rural",
           "marker": {
            "color": "#636efa",
            "pattern": {
             "shape": ""
            }
           },
           "name": "Rural",
           "offsetgroup": "Rural",
           "orientation": "v",
           "showlegend": true,
           "textposition": "auto",
           "type": "bar",
           "x": [
            "AB",
            "BC",
            "MB",
            "NB",
            "NL",
            "NS",
            "ON",
            "PE",
            "QC",
            "SK"
           ],
           "xaxis": "x",
           "y": [
            163235.06905546767,
            137898.6294245427,
            31039.30870007069,
            24445.551409135085,
            20884.01033681766,
            29995.625625,
            769833.2259795432,
            5610.583308714919,
            412829.19987621374,
            43037.01454319453
           ],
           "yaxis": "y"
          },
          {
           "alignmentgroup": "True",
           "hovertemplate": "Type=Urban<br>date_range_start=2019-07-08<br>region=%{x}<br>mobility_score=%{y}<extra></extra>",
           "ids": [
            "AB",
            "BC",
            "MB",
            "NB",
            "NL",
            "NS",
            "ON",
            "PE",
            "QC",
            "SK"
           ],
           "legendgroup": "Urban",
           "marker": {
            "color": "#EF553B",
            "pattern": {
             "shape": ""
            }
           },
           "name": "Urban",
           "offsetgroup": "Urban",
           "orientation": "v",
           "showlegend": true,
           "textposition": "auto",
           "type": "bar",
           "x": [
            "AB",
            "BC",
            "MB",
            "NB",
            "NL",
            "NS",
            "ON",
            "PE",
            "QC",
            "SK"
           ],
           "xaxis": "x",
           "y": [
            954190.9810915544,
            1208775.3362643928,
            258693.4481928243,
            79334.03654033042,
            123184.14284055086,
            309794.69588461536,
            3043219.091956272,
            10961.490251107827,
            2166055.346431473,
            143916.65581106275
           ],
           "yaxis": "y"
          }
         ],
         "name": "2019-07-08"
        },
        {
         "data": [
          {
           "alignmentgroup": "True",
           "hovertemplate": "Type=Rural<br>date_range_start=2019-07-15<br>region=%{x}<br>mobility_score=%{y}<extra></extra>",
           "ids": [
            "AB",
            "BC",
            "MB",
            "NB",
            "NL",
            "NS",
            "ON",
            "PE",
            "QC",
            "SK"
           ],
           "legendgroup": "Rural",
           "marker": {
            "color": "#636efa",
            "pattern": {
             "shape": ""
            }
           },
           "name": "Rural",
           "offsetgroup": "Rural",
           "orientation": "v",
           "showlegend": true,
           "textposition": "auto",
           "type": "bar",
           "x": [
            "AB",
            "BC",
            "MB",
            "NB",
            "NL",
            "NS",
            "ON",
            "PE",
            "QC",
            "SK"
           ],
           "xaxis": "x",
           "y": [
            117122.7580983234,
            127960.88667997449,
            47015.8072683236,
            38298.03309035277,
            16280.158494848962,
            36425.95101918466,
            830524.7116303197,
            8110.575,
            393764.666185888,
            28123.46320402532
           ],
           "yaxis": "y"
          },
          {
           "alignmentgroup": "True",
           "hovertemplate": "Type=Urban<br>date_range_start=2019-07-15<br>region=%{x}<br>mobility_score=%{y}<extra></extra>",
           "ids": [
            "AB",
            "BC",
            "MB",
            "NB",
            "NL",
            "NS",
            "ON",
            "PE",
            "QC",
            "SK"
           ],
           "legendgroup": "Urban",
           "marker": {
            "color": "#EF553B",
            "pattern": {
             "shape": ""
            }
           },
           "name": "Urban",
           "offsetgroup": "Urban",
           "orientation": "v",
           "showlegend": true,
           "textposition": "auto",
           "type": "bar",
           "x": [
            "AB",
            "BC",
            "MB",
            "NB",
            "NL",
            "NS",
            "ON",
            "PE",
            "QC",
            "SK"
           ],
           "xaxis": "x",
           "y": [
            1086482.2701597405,
            1320794.740455616,
            324193.69955634023,
            81051.20813534917,
            148502.48955823292,
            346369.4944844125,
            3371420.498675834,
            35548.5625,
            2552052.073590668,
            232784.71975328683
           ],
           "yaxis": "y"
          }
         ],
         "name": "2019-07-15"
        },
        {
         "data": [
          {
           "alignmentgroup": "True",
           "hovertemplate": "Type=Rural<br>date_range_start=2019-07-22<br>region=%{x}<br>mobility_score=%{y}<extra></extra>",
           "ids": [
            "AB",
            "BC",
            "MB",
            "NB",
            "NL",
            "NS",
            "ON",
            "PE",
            "QC",
            "SK"
           ],
           "legendgroup": "Rural",
           "marker": {
            "color": "#636efa",
            "pattern": {
             "shape": ""
            }
           },
           "name": "Rural",
           "offsetgroup": "Rural",
           "orientation": "v",
           "showlegend": true,
           "textposition": "auto",
           "type": "bar",
           "x": [
            "AB",
            "BC",
            "MB",
            "NB",
            "NL",
            "NS",
            "ON",
            "PE",
            "QC",
            "SK"
           ],
           "xaxis": "x",
           "y": [
            183000.08586738785,
            138548.7137803179,
            64892.47766060421,
            98822.80285370984,
            33204.79644012945,
            30390.891238995064,
            999737.669290988,
            6350.726415094339,
            368550.88335141,
            32367.73382298935
           ],
           "yaxis": "y"
          },
          {
           "alignmentgroup": "True",
           "hovertemplate": "Type=Urban<br>date_range_start=2019-07-22<br>region=%{x}<br>mobility_score=%{y}<extra></extra>",
           "ids": [
            "AB",
            "BC",
            "MB",
            "NB",
            "NL",
            "NS",
            "ON",
            "PE",
            "QC",
            "SK"
           ],
           "legendgroup": "Urban",
           "marker": {
            "color": "#EF553B",
            "pattern": {
             "shape": ""
            }
           },
           "name": "Urban",
           "offsetgroup": "Urban",
           "orientation": "v",
           "showlegend": true,
           "textposition": "auto",
           "type": "bar",
           "x": [
            "AB",
            "BC",
            "MB",
            "NB",
            "NL",
            "NS",
            "ON",
            "PE",
            "QC",
            "SK"
           ],
           "xaxis": "x",
           "y": [
            1233853.3059610222,
            1641642.7024415082,
            334322.1896301391,
            100388.9949033744,
            204920.60485436887,
            324761.9010843891,
            3808671.5301383054,
            18494.777358490563,
            3056136.0331525668,
            257682.80470069777
           ],
           "yaxis": "y"
          }
         ],
         "name": "2019-07-22"
        },
        {
         "data": [
          {
           "alignmentgroup": "True",
           "hovertemplate": "Type=Rural<br>date_range_start=2019-07-29<br>region=%{x}<br>mobility_score=%{y}<extra></extra>",
           "ids": [
            "AB",
            "BC",
            "MB",
            "NB",
            "NL",
            "NS",
            "ON",
            "PE",
            "QC",
            "SK"
           ],
           "legendgroup": "Rural",
           "marker": {
            "color": "#636efa",
            "pattern": {
             "shape": ""
            }
           },
           "name": "Rural",
           "offsetgroup": "Rural",
           "orientation": "v",
           "showlegend": true,
           "textposition": "auto",
           "type": "bar",
           "x": [
            "AB",
            "BC",
            "MB",
            "NB",
            "NL",
            "NS",
            "ON",
            "PE",
            "QC",
            "SK"
           ],
           "xaxis": "x",
           "y": [
            129809.00577936164,
            123803.66036187278,
            52545.07978302185,
            66118.48991480298,
            16693.484310311473,
            33989.0018501805,
            1008605.0762387388,
            9102.335,
            355713.9354802366,
            30120.494220200875
           ],
           "yaxis": "y"
          },
          {
           "alignmentgroup": "True",
           "hovertemplate": "Type=Urban<br>date_range_start=2019-07-29<br>region=%{x}<br>mobility_score=%{y}<extra></extra>",
           "ids": [
            "AB",
            "BC",
            "MB",
            "NB",
            "NL",
            "NS",
            "ON",
            "PE",
            "QC",
            "SK"
           ],
           "legendgroup": "Urban",
           "marker": {
            "color": "#EF553B",
            "pattern": {
             "shape": ""
            }
           },
           "name": "Urban",
           "offsetgroup": "Urban",
           "orientation": "v",
           "showlegend": true,
           "textposition": "auto",
           "type": "bar",
           "x": [
            "AB",
            "BC",
            "MB",
            "NB",
            "NL",
            "NS",
            "ON",
            "PE",
            "QC",
            "SK"
           ],
           "xaxis": "x",
           "y": [
            912597.3442698364,
            1360228.9749226873,
            260574.7504883328,
            68842.02033013843,
            101520.14614045268,
            224118.2037906137,
            3282779.4691953347,
            13350.3975,
            2607174.337742935,
            154158.10422588594
           ],
           "yaxis": "y"
          }
         ],
         "name": "2019-07-29"
        },
        {
         "data": [
          {
           "alignmentgroup": "True",
           "hovertemplate": "Type=Rural<br>date_range_start=2019-08-05<br>region=%{x}<br>mobility_score=%{y}<extra></extra>",
           "ids": [
            "AB",
            "BC",
            "MB",
            "NB",
            "NL",
            "NS",
            "ON",
            "PE",
            "QC",
            "SK"
           ],
           "legendgroup": "Rural",
           "marker": {
            "color": "#636efa",
            "pattern": {
             "shape": ""
            }
           },
           "name": "Rural",
           "offsetgroup": "Rural",
           "orientation": "v",
           "showlegend": true,
           "textposition": "auto",
           "type": "bar",
           "x": [
            "AB",
            "BC",
            "MB",
            "NB",
            "NL",
            "NS",
            "ON",
            "PE",
            "QC",
            "SK"
           ],
           "xaxis": "x",
           "y": [
            118935.67375233606,
            135175.61794229233,
            56586.21477016627,
            43367.65608663182,
            26188.466810689715,
            31185.71417993336,
            817552.1684950149,
            18947.224646074646,
            355074.5444294485,
            20350.11530373832
           ],
           "yaxis": "y"
          },
          {
           "alignmentgroup": "True",
           "hovertemplate": "Type=Urban<br>date_range_start=2019-08-05<br>region=%{x}<br>mobility_score=%{y}<extra></extra>",
           "ids": [
            "AB",
            "BC",
            "MB",
            "NB",
            "NL",
            "NS",
            "ON",
            "PE",
            "QC",
            "SK"
           ],
           "legendgroup": "Urban",
           "marker": {
            "color": "#EF553B",
            "pattern": {
             "shape": ""
            }
           },
           "name": "Urban",
           "offsetgroup": "Urban",
           "orientation": "v",
           "showlegend": true,
           "textposition": "auto",
           "type": "bar",
           "x": [
            "AB",
            "BC",
            "MB",
            "NB",
            "NL",
            "NS",
            "ON",
            "PE",
            "QC",
            "SK"
           ],
           "xaxis": "x",
           "y": [
            637685.0173354384,
            1076617.0010558888,
            165739.21152783095,
            68229.83198904656,
            77795.02893262923,
            165529.05674750093,
            2114027.3209267776,
            38141.274002574,
            1889314.898260688,
            112460.71051401868
           ],
           "yaxis": "y"
          }
         ],
         "name": "2019-08-05"
        },
        {
         "data": [
          {
           "alignmentgroup": "True",
           "hovertemplate": "Type=Rural<br>date_range_start=2019-08-12<br>region=%{x}<br>mobility_score=%{y}<extra></extra>",
           "ids": [
            "AB",
            "BC",
            "MB",
            "NB",
            "NL",
            "NS",
            "ON",
            "PE",
            "QC",
            "SK"
           ],
           "legendgroup": "Rural",
           "marker": {
            "color": "#636efa",
            "pattern": {
             "shape": ""
            }
           },
           "name": "Rural",
           "offsetgroup": "Rural",
           "orientation": "v",
           "showlegend": true,
           "textposition": "auto",
           "type": "bar",
           "x": [
            "AB",
            "BC",
            "MB",
            "NB",
            "NL",
            "NS",
            "ON",
            "PE",
            "QC",
            "SK"
           ],
           "xaxis": "x",
           "y": [
            93177.14991696934,
            135330.70158181438,
            35403.887704987144,
            38074.2401151469,
            18998.842626886144,
            43829.13899636085,
            918488.1058813208,
            20664.936150845253,
            377609.1872138195,
            18695.8916091954
           ],
           "yaxis": "y"
          },
          {
           "alignmentgroup": "True",
           "hovertemplate": "Type=Urban<br>date_range_start=2019-08-12<br>region=%{x}<br>mobility_score=%{y}<extra></extra>",
           "ids": [
            "AB",
            "BC",
            "MB",
            "NB",
            "NL",
            "NS",
            "ON",
            "PE",
            "QC",
            "SK"
           ],
           "legendgroup": "Urban",
           "marker": {
            "color": "#EF553B",
            "pattern": {
             "shape": ""
            }
           },
           "name": "Urban",
           "offsetgroup": "Urban",
           "orientation": "v",
           "showlegend": true,
           "textposition": "auto",
           "type": "bar",
           "x": [
            "AB",
            "BC",
            "MB",
            "NB",
            "NL",
            "NS",
            "ON",
            "PE",
            "QC",
            "SK"
           ],
           "xaxis": "x",
           "y": [
            759961.002699814,
            1377207.7024684686,
            190336.28356730324,
            100966.26317839304,
            102258.2140260631,
            219905.46675924156,
            2444262.21228604,
            34461.18836150846,
            2024966.330602828,
            125552.94747126436
           ],
           "yaxis": "y"
          }
         ],
         "name": "2019-08-12"
        },
        {
         "data": [
          {
           "alignmentgroup": "True",
           "hovertemplate": "Type=Rural<br>date_range_start=2019-08-19<br>region=%{x}<br>mobility_score=%{y}<extra></extra>",
           "ids": [
            "AB",
            "BC",
            "MB",
            "NB",
            "NL",
            "NS",
            "ON",
            "PE",
            "QC",
            "SK"
           ],
           "legendgroup": "Rural",
           "marker": {
            "color": "#636efa",
            "pattern": {
             "shape": ""
            }
           },
           "name": "Rural",
           "offsetgroup": "Rural",
           "orientation": "v",
           "showlegend": true,
           "textposition": "auto",
           "type": "bar",
           "x": [
            "AB",
            "BC",
            "MB",
            "NB",
            "NL",
            "NS",
            "ON",
            "PE",
            "QC",
            "SK"
           ],
           "xaxis": "x",
           "y": [
            152170.68111378432,
            159473.0314333269,
            100105.00106481482,
            71937.64703925482,
            36039.4531837256,
            31801.938738455083,
            965993.160318318,
            18342.610610263524,
            359531.5151343706,
            18159.35378640777
           ],
           "yaxis": "y"
          },
          {
           "alignmentgroup": "True",
           "hovertemplate": "Type=Urban<br>date_range_start=2019-08-19<br>region=%{x}<br>mobility_score=%{y}<extra></extra>",
           "ids": [
            "AB",
            "BC",
            "MB",
            "NB",
            "NL",
            "NS",
            "ON",
            "PE",
            "QC",
            "SK"
           ],
           "legendgroup": "Urban",
           "marker": {
            "color": "#EF553B",
            "pattern": {
             "shape": ""
            }
           },
           "name": "Urban",
           "offsetgroup": "Urban",
           "orientation": "v",
           "showlegend": true,
           "textposition": "auto",
           "type": "bar",
           "x": [
            "AB",
            "BC",
            "MB",
            "NB",
            "NL",
            "NS",
            "ON",
            "PE",
            "QC",
            "SK"
           ],
           "xaxis": "x",
           "y": [
            994986.0845353268,
            1633717.7321456564,
            273648.8926157408,
            215348.34768558125,
            134800.183670863,
            243580.7151343409,
            3135751.371775099,
            22705.67669902913,
            2640450.206732673,
            150437.78381877023
           ],
           "yaxis": "y"
          }
         ],
         "name": "2019-08-19"
        },
        {
         "data": [
          {
           "alignmentgroup": "True",
           "hovertemplate": "Type=Rural<br>date_range_start=2019-08-26<br>region=%{x}<br>mobility_score=%{y}<extra></extra>",
           "ids": [
            "AB",
            "BC",
            "MB",
            "NB",
            "NL",
            "NS",
            "ON",
            "PE",
            "QC",
            "SK"
           ],
           "legendgroup": "Rural",
           "marker": {
            "color": "#636efa",
            "pattern": {
             "shape": ""
            }
           },
           "name": "Rural",
           "offsetgroup": "Rural",
           "orientation": "v",
           "showlegend": true,
           "textposition": "auto",
           "type": "bar",
           "x": [
            "AB",
            "BC",
            "MB",
            "NB",
            "NL",
            "NS",
            "ON",
            "PE",
            "QC",
            "SK"
           ],
           "xaxis": "x",
           "y": [
            162737.6116404905,
            132907.35036078194,
            132557.54880577966,
            68036.34806882664,
            31146.60264439805,
            69326.146998372,
            978824.6586805398,
            12173.924310595065,
            459200.250871288,
            17952.271922455577
           ],
           "yaxis": "y"
          },
          {
           "alignmentgroup": "True",
           "hovertemplate": "Type=Urban<br>date_range_start=2019-08-26<br>region=%{x}<br>mobility_score=%{y}<extra></extra>",
           "ids": [
            "AB",
            "BC",
            "MB",
            "NB",
            "NL",
            "NS",
            "ON",
            "PE",
            "QC",
            "SK"
           ],
           "legendgroup": "Urban",
           "marker": {
            "color": "#EF553B",
            "pattern": {
             "shape": ""
            }
           },
           "name": "Urban",
           "offsetgroup": "Urban",
           "orientation": "v",
           "showlegend": true,
           "textposition": "auto",
           "type": "bar",
           "x": [
            "AB",
            "BC",
            "MB",
            "NB",
            "NL",
            "NS",
            "ON",
            "PE",
            "QC",
            "SK"
           ],
           "xaxis": "x",
           "y": [
            1090036.0194056532,
            1697353.8767904544,
            327861.12317106524,
            129455.16812191105,
            213109.76350034797,
            269886.6337912088,
            3357436.966884268,
            31086.22590711176,
            2656011.742064676,
            189952.5575444265
           ],
           "yaxis": "y"
          }
         ],
         "name": "2019-08-26"
        },
        {
         "data": [
          {
           "alignmentgroup": "True",
           "hovertemplate": "Type=Rural<br>date_range_start=2019-09-02<br>region=%{x}<br>mobility_score=%{y}<extra></extra>",
           "ids": [
            "AB",
            "BC",
            "MB",
            "NB",
            "NL",
            "NS",
            "ON",
            "PE",
            "QC",
            "SK"
           ],
           "legendgroup": "Rural",
           "marker": {
            "color": "#636efa",
            "pattern": {
             "shape": ""
            }
           },
           "name": "Rural",
           "offsetgroup": "Rural",
           "orientation": "v",
           "showlegend": true,
           "textposition": "auto",
           "type": "bar",
           "x": [
            "AB",
            "BC",
            "MB",
            "NB",
            "NL",
            "NS",
            "ON",
            "PE",
            "QC",
            "SK"
           ],
           "xaxis": "x",
           "y": [
            127949.65661381435,
            103511.68210113776,
            37159.53215816623,
            29500.884027630927,
            35647.24991295032,
            14356.809773741728,
            586362.9192306489,
            3455.844352331607,
            326689.66460351314,
            19031.857213995543
           ],
           "yaxis": "y"
          },
          {
           "alignmentgroup": "True",
           "hovertemplate": "Type=Urban<br>date_range_start=2019-09-02<br>region=%{x}<br>mobility_score=%{y}<extra></extra>",
           "ids": [
            "AB",
            "BC",
            "MB",
            "NB",
            "NL",
            "NS",
            "ON",
            "PE",
            "QC",
            "SK"
           ],
           "legendgroup": "Urban",
           "marker": {
            "color": "#EF553B",
            "pattern": {
             "shape": ""
            }
           },
           "name": "Urban",
           "offsetgroup": "Urban",
           "orientation": "v",
           "showlegend": true,
           "textposition": "auto",
           "type": "bar",
           "x": [
            "AB",
            "BC",
            "MB",
            "NB",
            "NL",
            "NS",
            "ON",
            "PE",
            "QC",
            "SK"
           ],
           "xaxis": "x",
           "y": [
            705978.1287096909,
            977499.0661687222,
            249845.49431487935,
            75379.81653626559,
            72071.63705638141,
            151902.28360012313,
            2144783.4861911703,
            11979.524352331606,
            1964526.4569651785,
            180782.04628489056
           ],
           "yaxis": "y"
          }
         ],
         "name": "2019-09-02"
        },
        {
         "data": [
          {
           "alignmentgroup": "True",
           "hovertemplate": "Type=Rural<br>date_range_start=2019-09-09<br>region=%{x}<br>mobility_score=%{y}<extra></extra>",
           "ids": [
            "AB",
            "BC",
            "MB",
            "NB",
            "NL",
            "NS",
            "ON",
            "PE",
            "QC",
            "SK"
           ],
           "legendgroup": "Rural",
           "marker": {
            "color": "#636efa",
            "pattern": {
             "shape": ""
            }
           },
           "name": "Rural",
           "offsetgroup": "Rural",
           "orientation": "v",
           "showlegend": true,
           "textposition": "auto",
           "type": "bar",
           "x": [
            "AB",
            "BC",
            "MB",
            "NB",
            "NL",
            "NS",
            "ON",
            "PE",
            "QC",
            "SK"
           ],
           "xaxis": "x",
           "y": [
            157424.65876519782,
            145705.82469508782,
            29004.92121938529,
            36590.47070323488,
            33855.15350470572,
            39625.085368897206,
            680128.6951002702,
            562.2939064200217,
            360940.3094373004,
            24641.213857532115
           ],
           "yaxis": "y"
          },
          {
           "alignmentgroup": "True",
           "hovertemplate": "Type=Urban<br>date_range_start=2019-09-09<br>region=%{x}<br>mobility_score=%{y}<extra></extra>",
           "ids": [
            "AB",
            "BC",
            "MB",
            "NB",
            "NL",
            "NS",
            "ON",
            "PE",
            "QC",
            "SK"
           ],
           "legendgroup": "Urban",
           "marker": {
            "color": "#EF553B",
            "pattern": {
             "shape": ""
            }
           },
           "name": "Urban",
           "offsetgroup": "Urban",
           "orientation": "v",
           "showlegend": true,
           "textposition": "auto",
           "type": "bar",
           "x": [
            "AB",
            "BC",
            "MB",
            "NB",
            "NL",
            "NS",
            "ON",
            "PE",
            "QC",
            "SK"
           ],
           "xaxis": "x",
           "y": [
            812387.5210343151,
            1169734.663635448,
            327509.5183037871,
            72155.2202601969,
            53882.40313246242,
            204862.86264233344,
            2620776.7160406923,
            16515.20968443961,
            2353218.2417298714,
            174627.33193200987
           ],
           "yaxis": "y"
          }
         ],
         "name": "2019-09-09"
        },
        {
         "data": [
          {
           "alignmentgroup": "True",
           "hovertemplate": "Type=Rural<br>date_range_start=2019-09-16<br>region=%{x}<br>mobility_score=%{y}<extra></extra>",
           "ids": [
            "AB",
            "BC",
            "MB",
            "NB",
            "NL",
            "NS",
            "ON",
            "PE",
            "QC",
            "SK"
           ],
           "legendgroup": "Rural",
           "marker": {
            "color": "#636efa",
            "pattern": {
             "shape": ""
            }
           },
           "name": "Rural",
           "offsetgroup": "Rural",
           "orientation": "v",
           "showlegend": true,
           "textposition": "auto",
           "type": "bar",
           "x": [
            "AB",
            "BC",
            "MB",
            "NB",
            "NL",
            "NS",
            "ON",
            "PE",
            "QC",
            "SK"
           ],
           "xaxis": "x",
           "y": [
            180689.60324793044,
            122052.81127290805,
            34922.24060473307,
            37966.222167868174,
            23250.74790519112,
            26512.36021146885,
            856631.9494876503,
            2122.59609375,
            414398.0052478821,
            11079.316289801567
           ],
           "yaxis": "y"
          },
          {
           "alignmentgroup": "True",
           "hovertemplate": "Type=Urban<br>date_range_start=2019-09-16<br>region=%{x}<br>mobility_score=%{y}<extra></extra>",
           "ids": [
            "AB",
            "BC",
            "MB",
            "NB",
            "NL",
            "NS",
            "ON",
            "PE",
            "QC",
            "SK"
           ],
           "legendgroup": "Urban",
           "marker": {
            "color": "#EF553B",
            "pattern": {
             "shape": ""
            }
           },
           "name": "Urban",
           "offsetgroup": "Urban",
           "orientation": "v",
           "showlegend": true,
           "textposition": "auto",
           "type": "bar",
           "x": [
            "AB",
            "BC",
            "MB",
            "NB",
            "NL",
            "NS",
            "ON",
            "PE",
            "QC",
            "SK"
           ],
           "xaxis": "x",
           "y": [
            1020111.283064592,
            1688667.094910961,
            382970.2914143367,
            67841.17220219705,
            60557.05721916208,
            291405.82570965897,
            3124581.515202064,
            28263.130013020836,
            3031525.2311342955,
            182119.66146746653
           ],
           "yaxis": "y"
          }
         ],
         "name": "2019-09-16"
        },
        {
         "data": [
          {
           "alignmentgroup": "True",
           "hovertemplate": "Type=Rural<br>date_range_start=2019-09-23<br>region=%{x}<br>mobility_score=%{y}<extra></extra>",
           "ids": [
            "AB",
            "BC",
            "MB",
            "NB",
            "NL",
            "NS",
            "ON",
            "PE",
            "QC",
            "SK"
           ],
           "legendgroup": "Rural",
           "marker": {
            "color": "#636efa",
            "pattern": {
             "shape": ""
            }
           },
           "name": "Rural",
           "offsetgroup": "Rural",
           "orientation": "v",
           "showlegend": true,
           "textposition": "auto",
           "type": "bar",
           "x": [
            "AB",
            "BC",
            "MB",
            "NB",
            "NL",
            "NS",
            "ON",
            "PE",
            "QC",
            "SK"
           ],
           "xaxis": "x",
           "y": [
            212738.05399614613,
            87842.7990940359,
            46383.6953164493,
            41693.8828536057,
            10518.337314988534,
            25731.865714285712,
            1009217.318725741,
            75.99001501501502,
            397822.0515998944,
            35142.79091071748
           ],
           "yaxis": "y"
          },
          {
           "alignmentgroup": "True",
           "hovertemplate": "Type=Urban<br>date_range_start=2019-09-23<br>region=%{x}<br>mobility_score=%{y}<extra></extra>",
           "ids": [
            "AB",
            "BC",
            "MB",
            "NB",
            "NL",
            "NS",
            "ON",
            "PE",
            "QC",
            "SK"
           ],
           "legendgroup": "Urban",
           "marker": {
            "color": "#EF553B",
            "pattern": {
             "shape": ""
            }
           },
           "name": "Urban",
           "offsetgroup": "Urban",
           "orientation": "v",
           "showlegend": true,
           "textposition": "auto",
           "type": "bar",
           "x": [
            "AB",
            "BC",
            "MB",
            "NB",
            "NL",
            "NS",
            "ON",
            "PE",
            "QC",
            "SK"
           ],
           "xaxis": "x",
           "y": [
            1343009.8677777804,
            2633406.8807948497,
            475857.8310838136,
            79264.77119570824,
            68762.47746508234,
            392788.2466666666,
            4146344.431615438,
            32111.78055555556,
            4217252.044436976,
            223916.21012703527
           ],
           "yaxis": "y"
          }
         ],
         "name": "2019-09-23"
        },
        {
         "data": [
          {
           "alignmentgroup": "True",
           "hovertemplate": "Type=Rural<br>date_range_start=2019-09-30<br>region=%{x}<br>mobility_score=%{y}<extra></extra>",
           "ids": [
            "AB",
            "BC",
            "MB",
            "NB",
            "NL",
            "NS",
            "ON",
            "PE",
            "QC",
            "SK"
           ],
           "legendgroup": "Rural",
           "marker": {
            "color": "#636efa",
            "pattern": {
             "shape": ""
            }
           },
           "name": "Rural",
           "offsetgroup": "Rural",
           "orientation": "v",
           "showlegend": true,
           "textposition": "auto",
           "type": "bar",
           "x": [
            "AB",
            "BC",
            "MB",
            "NB",
            "NL",
            "NS",
            "ON",
            "PE",
            "QC",
            "SK"
           ],
           "xaxis": "x",
           "y": [
            131673.99108888724,
            75510.86221367576,
            8209.40030173208,
            24341.150363783345,
            19299.934657106085,
            17317.111465301,
            677796.6796832776,
            3331.3477882037528,
            373390.7508488488,
            25077.472122273524
           ],
           "yaxis": "y"
          },
          {
           "alignmentgroup": "True",
           "hovertemplate": "Type=Urban<br>date_range_start=2019-09-30<br>region=%{x}<br>mobility_score=%{y}<extra></extra>",
           "ids": [
            "AB",
            "BC",
            "MB",
            "NB",
            "NL",
            "NS",
            "ON",
            "PE",
            "QC",
            "SK"
           ],
           "legendgroup": "Urban",
           "marker": {
            "color": "#EF553B",
            "pattern": {
             "shape": ""
            }
           },
           "name": "Urban",
           "offsetgroup": "Urban",
           "orientation": "v",
           "showlegend": true,
           "textposition": "auto",
           "type": "bar",
           "x": [
            "AB",
            "BC",
            "MB",
            "NB",
            "NL",
            "NS",
            "ON",
            "PE",
            "QC",
            "SK"
           ],
           "xaxis": "x",
           "y": [
            734970.6719660164,
            1872086.3043014852,
            253852.0875944352,
            49563.92103655798,
            81974.48696451554,
            138362.86754807693,
            2227642.151008923,
            7848.126943699733,
            2446123.569458724,
            125750.21289603566
           ],
           "yaxis": "y"
          }
         ],
         "name": "2019-09-30"
        },
        {
         "data": [
          {
           "alignmentgroup": "True",
           "hovertemplate": "Type=Rural<br>date_range_start=2019-10-07<br>region=%{x}<br>mobility_score=%{y}<extra></extra>",
           "ids": [
            "AB",
            "BC",
            "MB",
            "NB",
            "NL",
            "NS",
            "ON",
            "PE",
            "QC",
            "SK"
           ],
           "legendgroup": "Rural",
           "marker": {
            "color": "#636efa",
            "pattern": {
             "shape": ""
            }
           },
           "name": "Rural",
           "offsetgroup": "Rural",
           "orientation": "v",
           "showlegend": true,
           "textposition": "auto",
           "type": "bar",
           "x": [
            "AB",
            "BC",
            "MB",
            "NB",
            "NL",
            "NS",
            "ON",
            "PE",
            "QC",
            "SK"
           ],
           "xaxis": "x",
           "y": [
            92898.35088898904,
            97460.27733248383,
            38279.59521881887,
            23613.622048038134,
            9531.003546869344,
            14802.40720338983,
            518942.610384495,
            327.4376381215469,
            317690.1483650223,
            16728.01663286004
           ],
           "yaxis": "y"
          },
          {
           "alignmentgroup": "True",
           "hovertemplate": "Type=Urban<br>date_range_start=2019-10-07<br>region=%{x}<br>mobility_score=%{y}<extra></extra>",
           "ids": [
            "AB",
            "BC",
            "MB",
            "NB",
            "NL",
            "NS",
            "ON",
            "PE",
            "QC",
            "SK"
           ],
           "legendgroup": "Urban",
           "marker": {
            "color": "#EF553B",
            "pattern": {
             "shape": ""
            }
           },
           "name": "Urban",
           "offsetgroup": "Urban",
           "orientation": "v",
           "showlegend": true,
           "textposition": "auto",
           "type": "bar",
           "x": [
            "AB",
            "BC",
            "MB",
            "NB",
            "NL",
            "NS",
            "ON",
            "PE",
            "QC",
            "SK"
           ],
           "xaxis": "x",
           "y": [
            789306.7685009892,
            1007628.709606021,
            207935.28296901003,
            49761.75613311332,
            78310.56768005791,
            212480.50805084745,
            2132111.112698308,
            8001.987223756905,
            1658276.459950626,
            151435.54306964166
           ],
           "yaxis": "y"
          }
         ],
         "name": "2019-10-07"
        },
        {
         "data": [
          {
           "alignmentgroup": "True",
           "hovertemplate": "Type=Rural<br>date_range_start=2019-10-14<br>region=%{x}<br>mobility_score=%{y}<extra></extra>",
           "ids": [
            "AB",
            "BC",
            "MB",
            "NB",
            "NL",
            "NS",
            "ON",
            "PE",
            "QC",
            "SK"
           ],
           "legendgroup": "Rural",
           "marker": {
            "color": "#636efa",
            "pattern": {
             "shape": ""
            }
           },
           "name": "Rural",
           "offsetgroup": "Rural",
           "orientation": "v",
           "showlegend": true,
           "textposition": "auto",
           "type": "bar",
           "x": [
            "AB",
            "BC",
            "MB",
            "NB",
            "NL",
            "NS",
            "ON",
            "PE",
            "QC",
            "SK"
           ],
           "xaxis": "x",
           "y": [
            151157.85840897838,
            70654.47858267537,
            32669.221148723915,
            41477.80973154362,
            14949.529297188756,
            27538.514346750617,
            653046.3792637755,
            853.03704866562,
            391725.8467412451,
            7430.173431317127
           ],
           "yaxis": "y"
          },
          {
           "alignmentgroup": "True",
           "hovertemplate": "Type=Urban<br>date_range_start=2019-10-14<br>region=%{x}<br>mobility_score=%{y}<extra></extra>",
           "ids": [
            "AB",
            "BC",
            "MB",
            "NB",
            "NL",
            "NS",
            "ON",
            "PE",
            "QC",
            "SK"
           ],
           "legendgroup": "Urban",
           "marker": {
            "color": "#EF553B",
            "pattern": {
             "shape": ""
            }
           },
           "name": "Urban",
           "offsetgroup": "Urban",
           "orientation": "v",
           "showlegend": true,
           "textposition": "auto",
           "type": "bar",
           "x": [
            "AB",
            "BC",
            "MB",
            "NB",
            "NL",
            "NS",
            "ON",
            "PE",
            "QC",
            "SK"
           ],
           "xaxis": "x",
           "y": [
            815207.1381247409,
            1140439.091308945,
            289796.3889534602,
            75873.65425055928,
            87074.08465863454,
            208939.57586013043,
            2358177.3566254377,
            13857.6704866562,
            2058320.4115272372,
            170853.2654983983
           ],
           "yaxis": "y"
          }
         ],
         "name": "2019-10-14"
        },
        {
         "data": [
          {
           "alignmentgroup": "True",
           "hovertemplate": "Type=Rural<br>date_range_start=2019-10-21<br>region=%{x}<br>mobility_score=%{y}<extra></extra>",
           "ids": [
            "AB",
            "BC",
            "MB",
            "NB",
            "NL",
            "NS",
            "ON",
            "PE",
            "QC",
            "SK"
           ],
           "legendgroup": "Rural",
           "marker": {
            "color": "#636efa",
            "pattern": {
             "shape": ""
            }
           },
           "name": "Rural",
           "offsetgroup": "Rural",
           "orientation": "v",
           "showlegend": true,
           "textposition": "auto",
           "type": "bar",
           "x": [
            "AB",
            "BC",
            "MB",
            "NB",
            "NL",
            "NS",
            "ON",
            "PE",
            "QC",
            "SK"
           ],
           "xaxis": "x",
           "y": [
            178568.243041962,
            100515.67844069308,
            21462.65196006995,
            28738.668700072623,
            32861.0913754343,
            14508.691905526252,
            590842.7192707555,
            595.2054675118857,
            295799.4565318718,
            6399.653527607363
           ],
           "yaxis": "y"
          },
          {
           "alignmentgroup": "True",
           "hovertemplate": "Type=Urban<br>date_range_start=2019-10-21<br>region=%{x}<br>mobility_score=%{y}<extra></extra>",
           "ids": [
            "AB",
            "BC",
            "MB",
            "NB",
            "NL",
            "NS",
            "ON",
            "PE",
            "QC",
            "SK"
           ],
           "legendgroup": "Urban",
           "marker": {
            "color": "#EF553B",
            "pattern": {
             "shape": ""
            }
           },
           "name": "Urban",
           "offsetgroup": "Urban",
           "orientation": "v",
           "showlegend": true,
           "textposition": "auto",
           "type": "bar",
           "x": [
            "AB",
            "BC",
            "MB",
            "NB",
            "NL",
            "NS",
            "ON",
            "PE",
            "QC",
            "SK"
           ],
           "xaxis": "x",
           "y": [
            968737.7092305096,
            1254091.1872264796,
            309885.2753934713,
            72301.03805374002,
            66211.45616186388,
            267445.051410227,
            2871768.372725347,
            19147.88652931854,
            2399087.773657387,
            233943.30858895704
           ],
           "yaxis": "y"
          }
         ],
         "name": "2019-10-21"
        },
        {
         "data": [
          {
           "alignmentgroup": "True",
           "hovertemplate": "Type=Rural<br>date_range_start=2019-10-28<br>region=%{x}<br>mobility_score=%{y}<extra></extra>",
           "ids": [
            "AB",
            "BC",
            "MB",
            "NB",
            "NL",
            "NS",
            "ON",
            "PE",
            "QC",
            "SK"
           ],
           "legendgroup": "Rural",
           "marker": {
            "color": "#636efa",
            "pattern": {
             "shape": ""
            }
           },
           "name": "Rural",
           "offsetgroup": "Rural",
           "orientation": "v",
           "showlegend": true,
           "textposition": "auto",
           "type": "bar",
           "x": [
            "AB",
            "BC",
            "MB",
            "NB",
            "NL",
            "NS",
            "ON",
            "PE",
            "QC",
            "SK"
           ],
           "xaxis": "x",
           "y": [
            119646.52257934371,
            101628.45458084476,
            15670.941147684542,
            28808.24354030501,
            29230.766281310207,
            11190.069717624148,
            679920.336246912,
            171.9983420593368,
            391516.9782629133,
            17816.840458640458
           ],
           "yaxis": "y"
          },
          {
           "alignmentgroup": "True",
           "hovertemplate": "Type=Urban<br>date_range_start=2019-10-28<br>region=%{x}<br>mobility_score=%{y}<extra></extra>",
           "ids": [
            "AB",
            "BC",
            "MB",
            "NB",
            "NL",
            "NS",
            "ON",
            "PE",
            "QC",
            "SK"
           ],
           "legendgroup": "Urban",
           "marker": {
            "color": "#EF553B",
            "pattern": {
             "shape": ""
            }
           },
           "name": "Urban",
           "offsetgroup": "Urban",
           "orientation": "v",
           "showlegend": true,
           "textposition": "auto",
           "type": "bar",
           "x": [
            "AB",
            "BC",
            "MB",
            "NB",
            "NL",
            "NS",
            "ON",
            "PE",
            "QC",
            "SK"
           ],
           "xaxis": "x",
           "y": [
            897373.497815917,
            1183024.3445461,
            270634.94844949263,
            64423.462265795206,
            92243.76369085848,
            221635.70259250244,
            2913228.791635291,
            23480.0979930192,
            2140399.0663707107,
            165182.90876330878
           ],
           "yaxis": "y"
          }
         ],
         "name": "2019-10-28"
        },
        {
         "data": [
          {
           "alignmentgroup": "True",
           "hovertemplate": "Type=Rural<br>date_range_start=2019-11-04<br>region=%{x}<br>mobility_score=%{y}<extra></extra>",
           "ids": [
            "AB",
            "BC",
            "MB",
            "NB",
            "NL",
            "NS",
            "ON",
            "PE",
            "QC",
            "SK"
           ],
           "legendgroup": "Rural",
           "marker": {
            "color": "#636efa",
            "pattern": {
             "shape": ""
            }
           },
           "name": "Rural",
           "offsetgroup": "Rural",
           "orientation": "v",
           "showlegend": true,
           "textposition": "auto",
           "type": "bar",
           "x": [
            "AB",
            "BC",
            "MB",
            "NB",
            "NL",
            "NS",
            "ON",
            "PE",
            "QC",
            "SK"
           ],
           "xaxis": "x",
           "y": [
            104638.73211251844,
            96698.17928831732,
            14746.187834311806,
            49730.884793253535,
            10186.593006357856,
            21759.07854883353,
            546045.2871707509,
            186.09061643835616,
            364705.24374707055,
            6519.819718309858
           ],
           "yaxis": "y"
          },
          {
           "alignmentgroup": "True",
           "hovertemplate": "Type=Urban<br>date_range_start=2019-11-04<br>region=%{x}<br>mobility_score=%{y}<extra></extra>",
           "ids": [
            "AB",
            "BC",
            "MB",
            "NB",
            "NL",
            "NS",
            "ON",
            "PE",
            "QC",
            "SK"
           ],
           "legendgroup": "Urban",
           "marker": {
            "color": "#EF553B",
            "pattern": {
             "shape": ""
            }
           },
           "name": "Urban",
           "offsetgroup": "Urban",
           "orientation": "v",
           "showlegend": true,
           "textposition": "auto",
           "type": "bar",
           "x": [
            "AB",
            "BC",
            "MB",
            "NB",
            "NL",
            "NS",
            "ON",
            "PE",
            "QC",
            "SK"
           ],
           "xaxis": "x",
           "y": [
            755922.7803132493,
            840497.7629544784,
            225639.79454229175,
            47638.81905150526,
            101705.2135149864,
            203719.45359826015,
            2450542.8290654854,
            14737.64705479452,
            1661334.329442225,
            126026.22535211268
           ],
           "yaxis": "y"
          }
         ],
         "name": "2019-11-04"
        },
        {
         "data": [
          {
           "alignmentgroup": "True",
           "hovertemplate": "Type=Rural<br>date_range_start=2019-11-11<br>region=%{x}<br>mobility_score=%{y}<extra></extra>",
           "ids": [
            "AB",
            "BC",
            "MB",
            "NB",
            "NL",
            "NS",
            "ON",
            "PE",
            "QC",
            "SK"
           ],
           "legendgroup": "Rural",
           "marker": {
            "color": "#636efa",
            "pattern": {
             "shape": ""
            }
           },
           "name": "Rural",
           "offsetgroup": "Rural",
           "orientation": "v",
           "showlegend": true,
           "textposition": "auto",
           "type": "bar",
           "x": [
            "AB",
            "BC",
            "MB",
            "NB",
            "NL",
            "NS",
            "ON",
            "PE",
            "QC",
            "SK"
           ],
           "xaxis": "x",
           "y": [
            104481.16837099777,
            129321.632826163,
            14229.270487783127,
            25296.24407417867,
            39968.46355361369,
            12385.338079130792,
            476685.6425423573,
            583.030686695279,
            371103.17386467714,
            9778.774868374869
           ],
           "yaxis": "y"
          },
          {
           "alignmentgroup": "True",
           "hovertemplate": "Type=Urban<br>date_range_start=2019-11-11<br>region=%{x}<br>mobility_score=%{y}<extra></extra>",
           "ids": [
            "AB",
            "BC",
            "MB",
            "NB",
            "NL",
            "NS",
            "ON",
            "PE",
            "QC",
            "SK"
           ],
           "legendgroup": "Urban",
           "marker": {
            "color": "#EF553B",
            "pattern": {
             "shape": ""
            }
           },
           "name": "Urban",
           "offsetgroup": "Urban",
           "orientation": "v",
           "showlegend": true,
           "textposition": "auto",
           "type": "bar",
           "x": [
            "AB",
            "BC",
            "MB",
            "NB",
            "NL",
            "NS",
            "ON",
            "PE",
            "QC",
            "SK"
           ],
           "xaxis": "x",
           "y": [
            811856.6267957274,
            984993.1988047612,
            322938.5581193152,
            85875.4479054881,
            118650.0104496632,
            226058.355196802,
            2608476.893339349,
            45327.77789699571,
            1938404.337087587,
            176400.6852930853
           ],
           "yaxis": "y"
          }
         ],
         "name": "2019-11-11"
        },
        {
         "data": [
          {
           "alignmentgroup": "True",
           "hovertemplate": "Type=Rural<br>date_range_start=2019-11-18<br>region=%{x}<br>mobility_score=%{y}<extra></extra>",
           "ids": [
            "AB",
            "BC",
            "MB",
            "NB",
            "NL",
            "NS",
            "ON",
            "PE",
            "QC",
            "SK"
           ],
           "legendgroup": "Rural",
           "marker": {
            "color": "#636efa",
            "pattern": {
             "shape": ""
            }
           },
           "name": "Rural",
           "offsetgroup": "Rural",
           "orientation": "v",
           "showlegend": true,
           "textposition": "auto",
           "type": "bar",
           "x": [
            "AB",
            "BC",
            "MB",
            "NB",
            "NL",
            "NS",
            "ON",
            "PE",
            "QC",
            "SK"
           ],
           "xaxis": "x",
           "y": [
            103399.66856261731,
            123737.85341334697,
            18124.69298967188,
            31394.96338420194,
            33719.00228258819,
            20992.629169308813,
            518222.5985319048,
            622.6714285714285,
            447512.7031960537,
            7085.477422771403
           ],
           "yaxis": "y"
          },
          {
           "alignmentgroup": "True",
           "hovertemplate": "Type=Urban<br>date_range_start=2019-11-18<br>region=%{x}<br>mobility_score=%{y}<extra></extra>",
           "ids": [
            "AB",
            "BC",
            "MB",
            "NB",
            "NL",
            "NS",
            "ON",
            "PE",
            "QC",
            "SK"
           ],
           "legendgroup": "Urban",
           "marker": {
            "color": "#EF553B",
            "pattern": {
             "shape": ""
            }
           },
           "name": "Urban",
           "offsetgroup": "Urban",
           "orientation": "v",
           "showlegend": true,
           "textposition": "auto",
           "type": "bar",
           "x": [
            "AB",
            "BC",
            "MB",
            "NB",
            "NL",
            "NS",
            "ON",
            "PE",
            "QC",
            "SK"
           ],
           "xaxis": "x",
           "y": [
            926810.9105779028,
            1059560.3815111793,
            355103.8822548213,
            107084.41067280927,
            187405.7868892662,
            232447.47686535615,
            3132570.1691060066,
            39370.51507936508,
            2411673.1174670183,
            143676.0025419241
           ],
           "yaxis": "y"
          }
         ],
         "name": "2019-11-18"
        },
        {
         "data": [
          {
           "alignmentgroup": "True",
           "hovertemplate": "Type=Rural<br>date_range_start=2019-11-25<br>region=%{x}<br>mobility_score=%{y}<extra></extra>",
           "ids": [
            "AB",
            "BC",
            "MB",
            "NB",
            "NL",
            "NS",
            "ON",
            "QC",
            "SK"
           ],
           "legendgroup": "Rural",
           "marker": {
            "color": "#636efa",
            "pattern": {
             "shape": ""
            }
           },
           "name": "Rural",
           "offsetgroup": "Rural",
           "orientation": "v",
           "showlegend": true,
           "textposition": "auto",
           "type": "bar",
           "x": [
            "AB",
            "BC",
            "MB",
            "NB",
            "NL",
            "NS",
            "ON",
            "QC",
            "SK"
           ],
           "xaxis": "x",
           "y": [
            127788.49949177756,
            123460.12828454652,
            18025.92083041754,
            24060.082061143985,
            26553.57921774664,
            26417.84467410324,
            571263.8653477165,
            386829.9618267716,
            18230.741176470587
           ],
           "yaxis": "y"
          },
          {
           "alignmentgroup": "True",
           "hovertemplate": "Type=Urban<br>date_range_start=2019-11-25<br>region=%{x}<br>mobility_score=%{y}<extra></extra>",
           "ids": [
            "AB",
            "BC",
            "MB",
            "NB",
            "NL",
            "NS",
            "ON",
            "PE",
            "QC",
            "SK"
           ],
           "legendgroup": "Urban",
           "marker": {
            "color": "#EF553B",
            "pattern": {
             "shape": ""
            }
           },
           "name": "Urban",
           "offsetgroup": "Urban",
           "orientation": "v",
           "showlegend": true,
           "textposition": "auto",
           "type": "bar",
           "x": [
            "AB",
            "BC",
            "MB",
            "NB",
            "NL",
            "NS",
            "ON",
            "PE",
            "QC",
            "SK"
           ],
           "xaxis": "x",
           "y": [
            953985.4923449854,
            1214945.7876166515,
            277994.10178446467,
            69006.42865877712,
            211248.81223973536,
            175680.98788276466,
            3191926.4291123278,
            16522.701666666668,
            2414471.9317165352,
            183914.14117647056
           ],
           "yaxis": "y"
          }
         ],
         "name": "2019-11-25"
        },
        {
         "data": [
          {
           "alignmentgroup": "True",
           "hovertemplate": "Type=Rural<br>date_range_start=2019-12-02<br>region=%{x}<br>mobility_score=%{y}<extra></extra>",
           "ids": [
            "AB",
            "BC",
            "MB",
            "NB",
            "NL",
            "NS",
            "ON",
            "PE",
            "QC",
            "SK"
           ],
           "legendgroup": "Rural",
           "marker": {
            "color": "#636efa",
            "pattern": {
             "shape": ""
            }
           },
           "name": "Rural",
           "offsetgroup": "Rural",
           "orientation": "v",
           "showlegend": true,
           "textposition": "auto",
           "type": "bar",
           "x": [
            "AB",
            "BC",
            "MB",
            "NB",
            "NL",
            "NS",
            "ON",
            "PE",
            "QC",
            "SK"
           ],
           "xaxis": "x",
           "y": [
            127889.3201322909,
            96831.2318030141,
            4776.714869084794,
            25997.504421087757,
            16215.648022868032,
            13479.339187956204,
            455964.1877296243,
            24.183592736705577,
            351744.5068816771,
            7662.880288461538
           ],
           "yaxis": "y"
          },
          {
           "alignmentgroup": "True",
           "hovertemplate": "Type=Urban<br>date_range_start=2019-12-02<br>region=%{x}<br>mobility_score=%{y}<extra></extra>",
           "ids": [
            "AB",
            "BC",
            "MB",
            "NB",
            "NL",
            "NS",
            "ON",
            "PE",
            "QC",
            "SK"
           ],
           "legendgroup": "Urban",
           "marker": {
            "color": "#EF553B",
            "pattern": {
             "shape": ""
            }
           },
           "name": "Urban",
           "offsetgroup": "Urban",
           "orientation": "v",
           "showlegend": true,
           "textposition": "auto",
           "type": "bar",
           "x": [
            "AB",
            "BC",
            "MB",
            "NB",
            "NL",
            "NS",
            "ON",
            "PE",
            "QC",
            "SK"
           ],
           "xaxis": "x",
           "y": [
            635473.5948264536,
            834332.8958363038,
            210319.1979742173,
            39495.330430430426,
            84991.64956328411,
            180635.0605565693,
            2217995.2091084933,
            27482.92574578469,
            1498387.3453013506,
            189036.40853365383
           ],
           "yaxis": "y"
          }
         ],
         "name": "2019-12-02"
        },
        {
         "data": [
          {
           "alignmentgroup": "True",
           "hovertemplate": "Type=Rural<br>date_range_start=2019-12-09<br>region=%{x}<br>mobility_score=%{y}<extra></extra>",
           "ids": [
            "AB",
            "BC",
            "MB",
            "NB",
            "NL",
            "NS",
            "ON",
            "PE",
            "QC",
            "SK"
           ],
           "legendgroup": "Rural",
           "marker": {
            "color": "#636efa",
            "pattern": {
             "shape": ""
            }
           },
           "name": "Rural",
           "offsetgroup": "Rural",
           "orientation": "v",
           "showlegend": true,
           "textposition": "auto",
           "type": "bar",
           "x": [
            "AB",
            "BC",
            "MB",
            "NB",
            "NL",
            "NS",
            "ON",
            "PE",
            "QC",
            "SK"
           ],
           "xaxis": "x",
           "y": [
            114024.92465756786,
            119174.94523876374,
            16042.766228517952,
            18759.789963167583,
            15048.65073492144,
            26385.42078694093,
            472812.40373830247,
            297.9799454297408,
            302826.42617947696,
            26472.14884314664
           ],
           "yaxis": "y"
          },
          {
           "alignmentgroup": "True",
           "hovertemplate": "Type=Urban<br>date_range_start=2019-12-09<br>region=%{x}<br>mobility_score=%{y}<extra></extra>",
           "ids": [
            "AB",
            "BC",
            "MB",
            "NB",
            "NL",
            "NS",
            "ON",
            "PE",
            "QC",
            "SK"
           ],
           "legendgroup": "Urban",
           "marker": {
            "color": "#EF553B",
            "pattern": {
             "shape": ""
            }
           },
           "name": "Urban",
           "offsetgroup": "Urban",
           "orientation": "v",
           "showlegend": true,
           "textposition": "auto",
           "type": "bar",
           "x": [
            "AB",
            "BC",
            "MB",
            "NB",
            "NL",
            "NS",
            "ON",
            "PE",
            "QC",
            "SK"
           ],
           "xaxis": "x",
           "y": [
            625250.4052034582,
            825768.5783797133,
            172249.73003871023,
            38246.272191528544,
            98209.70165568509,
            165524.2316757879,
            2130494.2217951515,
            12831.307162346522,
            1524819.4194025793,
            125059.27161321208
           ],
           "yaxis": "y"
          }
         ],
         "name": "2019-12-09"
        },
        {
         "data": [
          {
           "alignmentgroup": "True",
           "hovertemplate": "Type=Rural<br>date_range_start=2019-12-16<br>region=%{x}<br>mobility_score=%{y}<extra></extra>",
           "ids": [
            "AB",
            "BC",
            "MB",
            "NB",
            "NL",
            "NS",
            "ON",
            "PE",
            "QC",
            "SK"
           ],
           "legendgroup": "Rural",
           "marker": {
            "color": "#636efa",
            "pattern": {
             "shape": ""
            }
           },
           "name": "Rural",
           "offsetgroup": "Rural",
           "orientation": "v",
           "showlegend": true,
           "textposition": "auto",
           "type": "bar",
           "x": [
            "AB",
            "BC",
            "MB",
            "NB",
            "NL",
            "NS",
            "ON",
            "PE",
            "QC",
            "SK"
           ],
           "xaxis": "x",
           "y": [
            154945.4696602502,
            140238.62692781186,
            42053.4618297691,
            36921.48857211887,
            9746.077388483374,
            53345.81223914269,
            728149.2693368747,
            94.09633152173912,
            471319.60369228246,
            10388.507696844588
           ],
           "yaxis": "y"
          },
          {
           "alignmentgroup": "True",
           "hovertemplate": "Type=Urban<br>date_range_start=2019-12-16<br>region=%{x}<br>mobility_score=%{y}<extra></extra>",
           "ids": [
            "AB",
            "BC",
            "MB",
            "NB",
            "NL",
            "NS",
            "ON",
            "PE",
            "QC",
            "SK"
           ],
           "legendgroup": "Urban",
           "marker": {
            "color": "#EF553B",
            "pattern": {
             "shape": ""
            }
           },
           "name": "Urban",
           "offsetgroup": "Urban",
           "orientation": "v",
           "showlegend": true,
           "textposition": "auto",
           "type": "bar",
           "x": [
            "AB",
            "BC",
            "MB",
            "NB",
            "NL",
            "NS",
            "ON",
            "PE",
            "QC",
            "SK"
           ],
           "xaxis": "x",
           "y": [
            1060568.9962405984,
            1516415.3832766258,
            359959.5503544863,
            59334.507521945714,
            56433.54468775345,
            189582.95129723632,
            3654865.779542091,
            18204.021059782608,
            2596120.4213478067,
            267033.316779711
           ],
           "yaxis": "y"
          }
         ],
         "name": "2019-12-16"
        },
        {
         "data": [
          {
           "alignmentgroup": "True",
           "hovertemplate": "Type=Rural<br>date_range_start=2019-12-23<br>region=%{x}<br>mobility_score=%{y}<extra></extra>",
           "ids": [
            "AB",
            "BC",
            "MB",
            "NB",
            "NL",
            "NS",
            "ON",
            "PE",
            "QC",
            "SK"
           ],
           "legendgroup": "Rural",
           "marker": {
            "color": "#636efa",
            "pattern": {
             "shape": ""
            }
           },
           "name": "Rural",
           "offsetgroup": "Rural",
           "orientation": "v",
           "showlegend": true,
           "textposition": "auto",
           "type": "bar",
           "x": [
            "AB",
            "BC",
            "MB",
            "NB",
            "NL",
            "NS",
            "ON",
            "PE",
            "QC",
            "SK"
           ],
           "xaxis": "x",
           "y": [
            274051.3251059269,
            414222.1194977553,
            53144.1072224925,
            111632.9774976172,
            27742.27676823638,
            34225.689775280895,
            1777488.3864982056,
            664.8927258805513,
            947999.4191208036,
            44999.395928363694
           ],
           "yaxis": "y"
          },
          {
           "alignmentgroup": "True",
           "hovertemplate": "Type=Urban<br>date_range_start=2019-12-23<br>region=%{x}<br>mobility_score=%{y}<extra></extra>",
           "ids": [
            "AB",
            "BC",
            "MB",
            "NB",
            "NL",
            "NS",
            "ON",
            "PE",
            "QC",
            "SK"
           ],
           "legendgroup": "Urban",
           "marker": {
            "color": "#EF553B",
            "pattern": {
             "shape": ""
            }
           },
           "name": "Urban",
           "offsetgroup": "Urban",
           "orientation": "v",
           "showlegend": true,
           "textposition": "auto",
           "type": "bar",
           "x": [
            "AB",
            "BC",
            "MB",
            "NB",
            "NL",
            "NS",
            "ON",
            "PE",
            "QC",
            "SK"
           ],
           "xaxis": "x",
           "y": [
            3020192.1011177474,
            4586454.222085705,
            1017153.2987513175,
            106933.46191837796,
            190875.3218836565,
            560363.5490909091,
            10593620.54964978,
            83800.95803981624,
            6561906.586211041,
            837557.7601714374
           ],
           "yaxis": "y"
          }
         ],
         "name": "2019-12-23"
        },
        {
         "data": [
          {
           "alignmentgroup": "True",
           "hovertemplate": "Type=Rural<br>date_range_start=2019-12-30<br>region=%{x}<br>mobility_score=%{y}<extra></extra>",
           "ids": [
            "AB",
            "BC",
            "MB",
            "NB",
            "NL",
            "NS",
            "ON",
            "PE",
            "QC",
            "SK"
           ],
           "legendgroup": "Rural",
           "marker": {
            "color": "#636efa",
            "pattern": {
             "shape": ""
            }
           },
           "name": "Rural",
           "offsetgroup": "Rural",
           "orientation": "v",
           "showlegend": true,
           "textposition": "auto",
           "type": "bar",
           "x": [
            "AB",
            "BC",
            "MB",
            "NB",
            "NL",
            "NS",
            "ON",
            "PE",
            "QC",
            "SK"
           ],
           "xaxis": "x",
           "y": [
            176304.09723735356,
            259598.70786025212,
            51386.76779429018,
            37590.246927169326,
            22761.010275689223,
            16268.317079948694,
            893259.9099514699,
            51.99316816816817,
            353871.53011242783,
            31911.425990180032
           ],
           "yaxis": "y"
          },
          {
           "alignmentgroup": "True",
           "hovertemplate": "Type=Urban<br>date_range_start=2019-12-30<br>region=%{x}<br>mobility_score=%{y}<extra></extra>",
           "ids": [
            "AB",
            "BC",
            "MB",
            "NB",
            "NL",
            "NS",
            "ON",
            "PE",
            "QC",
            "SK"
           ],
           "legendgroup": "Urban",
           "marker": {
            "color": "#EF553B",
            "pattern": {
             "shape": ""
            }
           },
           "name": "Urban",
           "offsetgroup": "Urban",
           "orientation": "v",
           "showlegend": true,
           "textposition": "auto",
           "type": "bar",
           "x": [
            "AB",
            "BC",
            "MB",
            "NB",
            "NL",
            "NS",
            "ON",
            "PE",
            "QC",
            "SK"
           ],
           "xaxis": "x",
           "y": [
            1235623.6667418168,
            2052934.6150720613,
            396557.5107222005,
            65047.62671986792,
            151541.0706188548,
            216903.9152843095,
            3762208.164533229,
            25240.68340840841,
            2501278.5800060774,
            313953.2523731588
           ],
           "yaxis": "y"
          }
         ],
         "name": "2019-12-30"
        },
        {
         "data": [
          {
           "alignmentgroup": "True",
           "hovertemplate": "Type=Rural<br>date_range_start=2020-01-06<br>region=%{x}<br>mobility_score=%{y}<extra></extra>",
           "ids": [
            "AB",
            "BC",
            "MB",
            "NB",
            "NL",
            "NS",
            "ON",
            "PE",
            "QC",
            "SK"
           ],
           "legendgroup": "Rural",
           "marker": {
            "color": "#636efa",
            "pattern": {
             "shape": ""
            }
           },
           "name": "Rural",
           "offsetgroup": "Rural",
           "orientation": "v",
           "showlegend": true,
           "textposition": "auto",
           "type": "bar",
           "x": [
            "AB",
            "BC",
            "MB",
            "NB",
            "NL",
            "NS",
            "ON",
            "PE",
            "QC",
            "SK"
           ],
           "xaxis": "x",
           "y": [
            117554.42202471898,
            160484.53319463652,
            27265.61713436315,
            29008.90454485401,
            7765.953496923307,
            24862.34267428121,
            547620.7797582715,
            168.1125525946704,
            339022.45696844085,
            16559.736380195398
           ],
           "yaxis": "y"
          },
          {
           "alignmentgroup": "True",
           "hovertemplate": "Type=Urban<br>date_range_start=2020-01-06<br>region=%{x}<br>mobility_score=%{y}<extra></extra>",
           "ids": [
            "AB",
            "BC",
            "MB",
            "NB",
            "NL",
            "NS",
            "ON",
            "PE",
            "QC",
            "SK"
           ],
           "legendgroup": "Urban",
           "marker": {
            "color": "#EF553B",
            "pattern": {
             "shape": ""
            }
           },
           "name": "Urban",
           "offsetgroup": "Urban",
           "orientation": "v",
           "showlegend": true,
           "textposition": "auto",
           "type": "bar",
           "x": [
            "AB",
            "BC",
            "MB",
            "NB",
            "NL",
            "NS",
            "ON",
            "PE",
            "QC",
            "SK"
           ],
           "xaxis": "x",
           "y": [
            695630.1025258215,
            1123510.494083999,
            187306.0797924136,
            50876.22837451007,
            81834.44283355845,
            143283.15315576998,
            2292965.853501146,
            33204.09705469845,
            1705361.9450287328,
            154054.34913065078
           ],
           "yaxis": "y"
          }
         ],
         "name": "2020-01-06"
        },
        {
         "data": [
          {
           "alignmentgroup": "True",
           "hovertemplate": "Type=Rural<br>date_range_start=2020-01-13<br>region=%{x}<br>mobility_score=%{y}<extra></extra>",
           "ids": [
            "AB",
            "BC",
            "MB",
            "NB",
            "NL",
            "NS",
            "ON",
            "PE",
            "QC",
            "SK"
           ],
           "legendgroup": "Rural",
           "marker": {
            "color": "#636efa",
            "pattern": {
             "shape": ""
            }
           },
           "name": "Rural",
           "offsetgroup": "Rural",
           "orientation": "v",
           "showlegend": true,
           "textposition": "auto",
           "type": "bar",
           "x": [
            "AB",
            "BC",
            "MB",
            "NB",
            "NL",
            "NS",
            "ON",
            "PE",
            "QC",
            "SK"
           ],
           "xaxis": "x",
           "y": [
            130508.94331556284,
            175212.44199229134,
            29457.16597351301,
            23497.17808738508,
            30908.451835535976,
            34629.19249814047,
            540817.5070600724,
            6096.102509803921,
            415209.2836909829,
            22489.97948056516
           ],
           "yaxis": "y"
          },
          {
           "alignmentgroup": "True",
           "hovertemplate": "Type=Urban<br>date_range_start=2020-01-13<br>region=%{x}<br>mobility_score=%{y}<extra></extra>",
           "ids": [
            "AB",
            "BC",
            "MB",
            "NB",
            "NL",
            "NS",
            "ON",
            "PE",
            "QC",
            "SK"
           ],
           "legendgroup": "Urban",
           "marker": {
            "color": "#EF553B",
            "pattern": {
             "shape": ""
            }
           },
           "name": "Urban",
           "offsetgroup": "Urban",
           "orientation": "v",
           "showlegend": true,
           "textposition": "auto",
           "type": "bar",
           "x": [
            "AB",
            "BC",
            "MB",
            "NB",
            "NL",
            "NS",
            "ON",
            "PE",
            "QC",
            "SK"
           ],
           "xaxis": "x",
           "y": [
            741648.8857834868,
            1160139.9101541734,
            209956.2365667596,
            56745.31446308407,
            110237.37268722466,
            145253.88598448626,
            2599352.470835522,
            30996.52945098039,
            1725534.307258973,
            184042.3268335581
           ],
           "yaxis": "y"
          }
         ],
         "name": "2020-01-13"
        },
        {
         "data": [
          {
           "alignmentgroup": "True",
           "hovertemplate": "Type=Rural<br>date_range_start=2020-01-20<br>region=%{x}<br>mobility_score=%{y}<extra></extra>",
           "ids": [
            "AB",
            "BC",
            "MB",
            "NB",
            "NL",
            "NS",
            "ON",
            "PE",
            "QC",
            "SK"
           ],
           "legendgroup": "Rural",
           "marker": {
            "color": "#636efa",
            "pattern": {
             "shape": ""
            }
           },
           "name": "Rural",
           "offsetgroup": "Rural",
           "orientation": "v",
           "showlegend": true,
           "textposition": "auto",
           "type": "bar",
           "x": [
            "AB",
            "BC",
            "MB",
            "NB",
            "NL",
            "NS",
            "ON",
            "PE",
            "QC",
            "SK"
           ],
           "xaxis": "x",
           "y": [
            143464.9321766609,
            185322.37605382732,
            43322.21469938002,
            20821.82973698336,
            36042.696254267,
            32333.14134489529,
            598869.4016657888,
            590.7542620363063,
            490485.1745114946,
            19508.52224903475
           ],
           "yaxis": "y"
          },
          {
           "alignmentgroup": "True",
           "hovertemplate": "Type=Urban<br>date_range_start=2020-01-20<br>region=%{x}<br>mobility_score=%{y}<extra></extra>",
           "ids": [
            "AB",
            "BC",
            "MB",
            "NB",
            "NL",
            "NS",
            "ON",
            "PE",
            "QC",
            "SK"
           ],
           "legendgroup": "Urban",
           "marker": {
            "color": "#EF553B",
            "pattern": {
             "shape": ""
            }
           },
           "name": "Urban",
           "offsetgroup": "Urban",
           "orientation": "v",
           "showlegend": true,
           "textposition": "auto",
           "type": "bar",
           "x": [
            "AB",
            "BC",
            "MB",
            "NB",
            "NL",
            "NS",
            "ON",
            "PE",
            "QC",
            "SK"
           ],
           "xaxis": "x",
           "y": [
            912527.4444243596,
            1338554.5762753498,
            240534.8028347832,
            63371.86468062265,
            171969.25167450873,
            131520.8703915794,
            2743558.140770261,
            29123.554419889504,
            2071506.4162180691,
            174901.0906853282
           ],
           "yaxis": "y"
          }
         ],
         "name": "2020-01-20"
        },
        {
         "data": [
          {
           "alignmentgroup": "True",
           "hovertemplate": "Type=Rural<br>date_range_start=2020-01-27<br>region=%{x}<br>mobility_score=%{y}<extra></extra>",
           "ids": [
            "AB",
            "BC",
            "MB",
            "NB",
            "NL",
            "NS",
            "ON",
            "PE",
            "QC",
            "SK"
           ],
           "legendgroup": "Rural",
           "marker": {
            "color": "#636efa",
            "pattern": {
             "shape": ""
            }
           },
           "name": "Rural",
           "offsetgroup": "Rural",
           "orientation": "v",
           "showlegend": true,
           "textposition": "auto",
           "type": "bar",
           "x": [
            "AB",
            "BC",
            "MB",
            "NB",
            "NL",
            "NS",
            "ON",
            "PE",
            "QC",
            "SK"
           ],
           "xaxis": "x",
           "y": [
            148837.72824933077,
            162921.96004575497,
            45913.47462877372,
            26680.44875263,
            28687.78401424121,
            37061.53108796558,
            650930.0481336614,
            305.41441441441447,
            657473.873954056,
            11900.09474574224
           ],
           "yaxis": "y"
          },
          {
           "alignmentgroup": "True",
           "hovertemplate": "Type=Urban<br>date_range_start=2020-01-27<br>region=%{x}<br>mobility_score=%{y}<extra></extra>",
           "ids": [
            "AB",
            "BC",
            "MB",
            "NB",
            "NL",
            "NS",
            "ON",
            "PE",
            "QC",
            "SK"
           ],
           "legendgroup": "Urban",
           "marker": {
            "color": "#EF553B",
            "pattern": {
             "shape": ""
            }
           },
           "name": "Urban",
           "offsetgroup": "Urban",
           "orientation": "v",
           "showlegend": true,
           "textposition": "auto",
           "type": "bar",
           "x": [
            "AB",
            "BC",
            "MB",
            "NB",
            "NL",
            "NS",
            "ON",
            "PE",
            "QC",
            "SK"
           ],
           "xaxis": "x",
           "y": [
            953050.4608554378,
            1250857.2721395888,
            262835.7436244141,
            85365.68250676285,
            96344.7240142412,
            181968.1627363297,
            3072209.327606344,
            36409.76126126127,
            2237313.296926097,
            170824.32346901798
           ],
           "yaxis": "y"
          }
         ],
         "name": "2020-01-27"
        },
        {
         "data": [
          {
           "alignmentgroup": "True",
           "hovertemplate": "Type=Rural<br>date_range_start=2020-02-03<br>region=%{x}<br>mobility_score=%{y}<extra></extra>",
           "ids": [
            "AB",
            "BC",
            "MB",
            "NB",
            "NL",
            "NS",
            "ON",
            "PE",
            "QC",
            "SK"
           ],
           "legendgroup": "Rural",
           "marker": {
            "color": "#636efa",
            "pattern": {
             "shape": ""
            }
           },
           "name": "Rural",
           "offsetgroup": "Rural",
           "orientation": "v",
           "showlegend": true,
           "textposition": "auto",
           "type": "bar",
           "x": [
            "AB",
            "BC",
            "MB",
            "NB",
            "NL",
            "NS",
            "ON",
            "PE",
            "QC",
            "SK"
           ],
           "xaxis": "x",
           "y": [
            61190.56851848612,
            77602.38975563132,
            23927.690164839347,
            17020.631281094527,
            29367.98316777042,
            12483.29402685406,
            346298.33580969705,
            215.8390423572744,
            284008.494615502,
            22878.724537313432
           ],
           "yaxis": "y"
          },
          {
           "alignmentgroup": "True",
           "hovertemplate": "Type=Urban<br>date_range_start=2020-02-03<br>region=%{x}<br>mobility_score=%{y}<extra></extra>",
           "ids": [
            "AB",
            "BC",
            "MB",
            "NB",
            "NL",
            "NS",
            "ON",
            "PE",
            "QC",
            "SK"
           ],
           "legendgroup": "Urban",
           "marker": {
            "color": "#EF553B",
            "pattern": {
             "shape": ""
            }
           },
           "name": "Urban",
           "offsetgroup": "Urban",
           "orientation": "v",
           "showlegend": true,
           "textposition": "auto",
           "type": "bar",
           "x": [
            "AB",
            "BC",
            "MB",
            "NB",
            "NL",
            "NS",
            "ON",
            "PE",
            "QC",
            "SK"
           ],
           "xaxis": "x",
           "y": [
            457673.747247444,
            576969.8260324562,
            123788.93119004113,
            45446.56672885572,
            61389.85547461369,
            56008.898142803366,
            1672650.32368649,
            15972.089134438304,
            1125883.4763679153,
            95980.97062686567
           ],
           "yaxis": "y"
          }
         ],
         "name": "2020-02-03"
        },
        {
         "data": [
          {
           "alignmentgroup": "True",
           "hovertemplate": "Type=Rural<br>date_range_start=2020-02-10<br>region=%{x}<br>mobility_score=%{y}<extra></extra>",
           "ids": [
            "AB",
            "BC",
            "MB",
            "NB",
            "NL",
            "NS",
            "ON",
            "PE",
            "QC",
            "SK"
           ],
           "legendgroup": "Rural",
           "marker": {
            "color": "#636efa",
            "pattern": {
             "shape": ""
            }
           },
           "name": "Rural",
           "offsetgroup": "Rural",
           "orientation": "v",
           "showlegend": true,
           "textposition": "auto",
           "type": "bar",
           "x": [
            "AB",
            "BC",
            "MB",
            "NB",
            "NL",
            "NS",
            "ON",
            "PE",
            "QC",
            "SK"
           ],
           "xaxis": "x",
           "y": [
            94776.28628470049,
            91864.12928435304,
            28977.281566687077,
            44015.41571901324,
            43267.73444216991,
            16542.85511789925,
            607164.5985984119,
            88.33533163265307,
            463087.13470629614,
            12305.61981841764
           ],
           "yaxis": "y"
          },
          {
           "alignmentgroup": "True",
           "hovertemplate": "Type=Urban<br>date_range_start=2020-02-10<br>region=%{x}<br>mobility_score=%{y}<extra></extra>",
           "ids": [
            "AB",
            "BC",
            "MB",
            "NB",
            "NL",
            "NS",
            "ON",
            "PE",
            "QC",
            "SK"
           ],
           "legendgroup": "Urban",
           "marker": {
            "color": "#EF553B",
            "pattern": {
             "shape": ""
            }
           },
           "name": "Urban",
           "offsetgroup": "Urban",
           "orientation": "v",
           "showlegend": true,
           "textposition": "auto",
           "type": "bar",
           "x": [
            "AB",
            "BC",
            "MB",
            "NB",
            "NL",
            "NS",
            "ON",
            "PE",
            "QC",
            "SK"
           ],
           "xaxis": "x",
           "y": [
            742031.5138415779,
            1040616.2387096928,
            210826.68805685916,
            61902.74422382672,
            102005.67043671104,
            216456.82928724543,
            2626318.5093516405,
            51326.22519132653,
            1723928.4547069506,
            147937.55496757457
           ],
           "yaxis": "y"
          }
         ],
         "name": "2020-02-10"
        },
        {
         "data": [
          {
           "alignmentgroup": "True",
           "hovertemplate": "Type=Rural<br>date_range_start=2020-02-17<br>region=%{x}<br>mobility_score=%{y}<extra></extra>",
           "ids": [
            "AB",
            "BC",
            "MB",
            "NB",
            "NL",
            "NS",
            "ON",
            "PE",
            "QC",
            "SK"
           ],
           "legendgroup": "Rural",
           "marker": {
            "color": "#636efa",
            "pattern": {
             "shape": ""
            }
           },
           "name": "Rural",
           "offsetgroup": "Rural",
           "orientation": "v",
           "showlegend": true,
           "textposition": "auto",
           "type": "bar",
           "x": [
            "AB",
            "BC",
            "MB",
            "NB",
            "NL",
            "NS",
            "ON",
            "PE",
            "QC",
            "SK"
           ],
           "xaxis": "x",
           "y": [
            105283.2771894022,
            105162.47683185364,
            43947.94813058037,
            51885.304260395365,
            41196.32201003086,
            13882.403297719333,
            629127.9599811304,
            80.83330924855494,
            485427.574967462,
            23681.714401976456
           ],
           "yaxis": "y"
          },
          {
           "alignmentgroup": "True",
           "hovertemplate": "Type=Urban<br>date_range_start=2020-02-17<br>region=%{x}<br>mobility_score=%{y}<extra></extra>",
           "ids": [
            "AB",
            "BC",
            "MB",
            "NB",
            "NL",
            "NS",
            "ON",
            "PE",
            "QC",
            "SK"
           ],
           "legendgroup": "Urban",
           "marker": {
            "color": "#EF553B",
            "pattern": {
             "shape": ""
            }
           },
           "name": "Urban",
           "offsetgroup": "Urban",
           "orientation": "v",
           "showlegend": true,
           "textposition": "auto",
           "type": "bar",
           "x": [
            "AB",
            "BC",
            "MB",
            "NB",
            "NL",
            "NS",
            "ON",
            "PE",
            "QC",
            "SK"
           ],
           "xaxis": "x",
           "y": [
            1056350.71493901,
            1198144.6461318268,
            301473.3172247024,
            90999.20014485344,
            85645.38152006172,
            291976.55759194575,
            2980520.2095184224,
            56433.19747109827,
            2114216.167881417,
            159296.21973550358
           ],
           "yaxis": "y"
          }
         ],
         "name": "2020-02-17"
        },
        {
         "data": [
          {
           "alignmentgroup": "True",
           "hovertemplate": "Type=Rural<br>date_range_start=2020-02-24<br>region=%{x}<br>mobility_score=%{y}<extra></extra>",
           "ids": [
            "AB",
            "BC",
            "MB",
            "NB",
            "NL",
            "NS",
            "ON",
            "PE",
            "QC",
            "SK"
           ],
           "legendgroup": "Rural",
           "marker": {
            "color": "#636efa",
            "pattern": {
             "shape": ""
            }
           },
           "name": "Rural",
           "offsetgroup": "Rural",
           "orientation": "v",
           "showlegend": true,
           "textposition": "auto",
           "type": "bar",
           "x": [
            "AB",
            "BC",
            "MB",
            "NB",
            "NL",
            "NS",
            "ON",
            "PE",
            "QC",
            "SK"
           ],
           "xaxis": "x",
           "y": [
            90000.41995912945,
            110451.39209650624,
            28244.383988944275,
            14789.257642141309,
            30303.08310977279,
            23810.559575424013,
            456971.582467423,
            374.8514072847682,
            332623.9392159367,
            17508.38164592235
           ],
           "yaxis": "y"
          },
          {
           "alignmentgroup": "True",
           "hovertemplate": "Type=Urban<br>date_range_start=2020-02-24<br>region=%{x}<br>mobility_score=%{y}<extra></extra>",
           "ids": [
            "AB",
            "BC",
            "MB",
            "NB",
            "NL",
            "NS",
            "ON",
            "PE",
            "QC",
            "SK"
           ],
           "legendgroup": "Urban",
           "marker": {
            "color": "#EF553B",
            "pattern": {
             "shape": ""
            }
           },
           "name": "Urban",
           "offsetgroup": "Urban",
           "orientation": "v",
           "showlegend": true,
           "textposition": "auto",
           "type": "bar",
           "x": [
            "AB",
            "BC",
            "MB",
            "NB",
            "NL",
            "NS",
            "ON",
            "PE",
            "QC",
            "SK"
           ],
           "xaxis": "x",
           "y": [
            586183.0142710133,
            1013951.7579332312,
            181752.79272164917,
            85029.36970337915,
            49130.315986860114,
            196513.2090755925,
            2271477.58080605,
            39734.24917218544,
            1587115.0347082112,
            118607.08903337667
           ],
           "yaxis": "y"
          }
         ],
         "name": "2020-02-24"
        },
        {
         "data": [
          {
           "alignmentgroup": "True",
           "hovertemplate": "Type=Rural<br>date_range_start=2020-03-02<br>region=%{x}<br>mobility_score=%{y}<extra></extra>",
           "ids": [
            "AB",
            "BC",
            "MB",
            "NB",
            "NL",
            "NS",
            "ON",
            "PE",
            "QC",
            "SK"
           ],
           "legendgroup": "Rural",
           "marker": {
            "color": "#636efa",
            "pattern": {
             "shape": ""
            }
           },
           "name": "Rural",
           "offsetgroup": "Rural",
           "orientation": "v",
           "showlegend": true,
           "textposition": "auto",
           "type": "bar",
           "x": [
            "AB",
            "BC",
            "MB",
            "NB",
            "NL",
            "NS",
            "ON",
            "PE",
            "QC",
            "SK"
           ],
           "xaxis": "x",
           "y": [
            109854.51413199604,
            153773.6094628538,
            17415.87526584432,
            11877.570764554235,
            11523.402768142556,
            10387.969455764984,
            428156.5042191947,
            1978.2473780487803,
            268782.7361919258,
            21816.0157738818
           ],
           "yaxis": "y"
          },
          {
           "alignmentgroup": "True",
           "hovertemplate": "Type=Urban<br>date_range_start=2020-03-02<br>region=%{x}<br>mobility_score=%{y}<extra></extra>",
           "ids": [
            "AB",
            "BC",
            "MB",
            "NB",
            "NL",
            "NS",
            "ON",
            "PE",
            "QC",
            "SK"
           ],
           "legendgroup": "Urban",
           "marker": {
            "color": "#EF553B",
            "pattern": {
             "shape": ""
            }
           },
           "name": "Urban",
           "offsetgroup": "Urban",
           "orientation": "v",
           "showlegend": true,
           "textposition": "auto",
           "type": "bar",
           "x": [
            "AB",
            "BC",
            "MB",
            "NB",
            "NL",
            "NS",
            "ON",
            "PE",
            "QC",
            "SK"
           ],
           "xaxis": "x",
           "y": [
            626775.0422521457,
            1125003.8376044263,
            169516.65518863668,
            70096.32495671246,
            36931.16964565055,
            102912.27592120905,
            1909668.8519928583,
            36453.02475609756,
            1279386.3895281584,
            124252.24764217377
           ],
           "yaxis": "y"
          }
         ],
         "name": "2020-03-02"
        },
        {
         "data": [
          {
           "alignmentgroup": "True",
           "hovertemplate": "Type=Rural<br>date_range_start=2020-03-09<br>region=%{x}<br>mobility_score=%{y}<extra></extra>",
           "ids": [
            "AB",
            "BC",
            "MB",
            "NB",
            "NL",
            "NS",
            "ON",
            "PE",
            "QC",
            "SK"
           ],
           "legendgroup": "Rural",
           "marker": {
            "color": "#636efa",
            "pattern": {
             "shape": ""
            }
           },
           "name": "Rural",
           "offsetgroup": "Rural",
           "orientation": "v",
           "showlegend": true,
           "textposition": "auto",
           "type": "bar",
           "x": [
            "AB",
            "BC",
            "MB",
            "NB",
            "NL",
            "NS",
            "ON",
            "PE",
            "QC",
            "SK"
           ],
           "xaxis": "x",
           "y": [
            100174.76001771534,
            150067.04426370768,
            20275.268944425992,
            26691.601214557944,
            12706.19930464061,
            18060.53162203085,
            397931.8271053464,
            2055.455659767141,
            338814.21362074907,
            18411.08408146301
           ],
           "yaxis": "y"
          },
          {
           "alignmentgroup": "True",
           "hovertemplate": "Type=Urban<br>date_range_start=2020-03-09<br>region=%{x}<br>mobility_score=%{y}<extra></extra>",
           "ids": [
            "AB",
            "BC",
            "MB",
            "NB",
            "NL",
            "NS",
            "ON",
            "PE",
            "QC",
            "SK"
           ],
           "legendgroup": "Urban",
           "marker": {
            "color": "#EF553B",
            "pattern": {
             "shape": ""
            }
           },
           "name": "Urban",
           "offsetgroup": "Urban",
           "orientation": "v",
           "showlegend": true,
           "textposition": "auto",
           "type": "bar",
           "x": [
            "AB",
            "BC",
            "MB",
            "NB",
            "NL",
            "NS",
            "ON",
            "PE",
            "QC",
            "SK"
           ],
           "xaxis": "x",
           "y": [
            619440.794072734,
            1046541.7385498576,
            174028.11780070298,
            49493.61150479541,
            50371.48055921534,
            114848.35881517934,
            2115220.223170578,
            27382.52875161708,
            1432245.986316793,
            171283.2035328346
           ],
           "yaxis": "y"
          }
         ],
         "name": "2020-03-09"
        },
        {
         "data": [
          {
           "alignmentgroup": "True",
           "hovertemplate": "Type=Rural<br>date_range_start=2020-03-16<br>region=%{x}<br>mobility_score=%{y}<extra></extra>",
           "ids": [
            "AB",
            "BC",
            "MB",
            "NB",
            "NL",
            "NS",
            "ON",
            "PE",
            "QC",
            "SK"
           ],
           "legendgroup": "Rural",
           "marker": {
            "color": "#636efa",
            "pattern": {
             "shape": ""
            }
           },
           "name": "Rural",
           "offsetgroup": "Rural",
           "orientation": "v",
           "showlegend": true,
           "textposition": "auto",
           "type": "bar",
           "x": [
            "AB",
            "BC",
            "MB",
            "NB",
            "NL",
            "NS",
            "ON",
            "PE",
            "QC",
            "SK"
           ],
           "xaxis": "x",
           "y": [
            70416.79365079365,
            107811.83701986042,
            21317.321254572733,
            36292.50849673203,
            12018.347338090012,
            26576.537034754743,
            418307.1883062332,
            650.7288273615634,
            237663.1700930688,
            14546.174409498548
           ],
           "yaxis": "y"
          },
          {
           "alignmentgroup": "True",
           "hovertemplate": "Type=Urban<br>date_range_start=2020-03-16<br>region=%{x}<br>mobility_score=%{y}<extra></extra>",
           "ids": [
            "AB",
            "BC",
            "MB",
            "NB",
            "NL",
            "NS",
            "ON",
            "PE",
            "QC",
            "SK"
           ],
           "legendgroup": "Urban",
           "marker": {
            "color": "#EF553B",
            "pattern": {
             "shape": ""
            }
           },
           "name": "Urban",
           "offsetgroup": "Urban",
           "orientation": "v",
           "showlegend": true,
           "textposition": "auto",
           "type": "bar",
           "x": [
            "AB",
            "BC",
            "MB",
            "NB",
            "NL",
            "NS",
            "ON",
            "PE",
            "QC",
            "SK"
           ],
           "xaxis": "x",
           "y": [
            683567.5397892247,
            841953.6260499002,
            184478.5197660109,
            63180.46566767628,
            30430.2935967801,
            158073.05763495193,
            2236779.074374353,
            37475.47316775245,
            1665896.4806221242,
            168220.9295440192
           ],
           "yaxis": "y"
          }
         ],
         "name": "2020-03-16"
        },
        {
         "data": [
          {
           "alignmentgroup": "True",
           "hovertemplate": "Type=Rural<br>date_range_start=2020-03-23<br>region=%{x}<br>mobility_score=%{y}<extra></extra>",
           "ids": [
            "AB",
            "BC",
            "MB",
            "NB",
            "NL",
            "NS",
            "ON",
            "PE",
            "QC",
            "SK"
           ],
           "legendgroup": "Rural",
           "marker": {
            "color": "#636efa",
            "pattern": {
             "shape": ""
            }
           },
           "name": "Rural",
           "offsetgroup": "Rural",
           "orientation": "v",
           "showlegend": true,
           "textposition": "auto",
           "type": "bar",
           "x": [
            "AB",
            "BC",
            "MB",
            "NB",
            "NL",
            "NS",
            "ON",
            "PE",
            "QC",
            "SK"
           ],
           "xaxis": "x",
           "y": [
            65415.19341609215,
            120731.5129275399,
            15811.824342298183,
            18076.17729357798,
            11328.31341759224,
            9041.6903553719,
            463591.9585689809,
            279.20859538784066,
            398444.75984555983,
            28619.481886189795
           ],
           "yaxis": "y"
          },
          {
           "alignmentgroup": "True",
           "hovertemplate": "Type=Urban<br>date_range_start=2020-03-23<br>region=%{x}<br>mobility_score=%{y}<extra></extra>",
           "ids": [
            "AB",
            "BC",
            "MB",
            "NB",
            "NL",
            "NS",
            "ON",
            "PE",
            "QC",
            "SK"
           ],
           "legendgroup": "Urban",
           "marker": {
            "color": "#EF553B",
            "pattern": {
             "shape": ""
            }
           },
           "name": "Urban",
           "offsetgroup": "Urban",
           "orientation": "v",
           "showlegend": true,
           "textposition": "auto",
           "type": "bar",
           "x": [
            "AB",
            "BC",
            "MB",
            "NB",
            "NL",
            "NS",
            "ON",
            "PE",
            "QC",
            "SK"
           ],
           "xaxis": "x",
           "y": [
            836620.2559900972,
            1366961.348864468,
            229544.0706243978,
            70133.17622324158,
            37569.47109664241,
            212699.62719008265,
            3351521.1370633254,
            37927.69559748428,
            2350341.2972132484,
            287547.3494830629
           ],
           "yaxis": "y"
          }
         ],
         "name": "2020-03-23"
        },
        {
         "data": [
          {
           "alignmentgroup": "True",
           "hovertemplate": "Type=Rural<br>date_range_start=2020-03-30<br>region=%{x}<br>mobility_score=%{y}<extra></extra>",
           "ids": [
            "AB",
            "BC",
            "MB",
            "NB",
            "NL",
            "NS",
            "ON",
            "PE",
            "QC",
            "SK"
           ],
           "legendgroup": "Rural",
           "marker": {
            "color": "#636efa",
            "pattern": {
             "shape": ""
            }
           },
           "name": "Rural",
           "offsetgroup": "Rural",
           "orientation": "v",
           "showlegend": true,
           "textposition": "auto",
           "type": "bar",
           "x": [
            "AB",
            "BC",
            "MB",
            "NB",
            "NL",
            "NS",
            "ON",
            "PE",
            "QC",
            "SK"
           ],
           "xaxis": "x",
           "y": [
            112263.5224472381,
            133626.5194225148,
            16214.03020695422,
            5893.366713254135,
            42940.681104123,
            15834.78140443314,
            380929.8245064159,
            190.47667423382524,
            291969.14467939263,
            39036.12186063615
           ],
           "yaxis": "y"
          },
          {
           "alignmentgroup": "True",
           "hovertemplate": "Type=Urban<br>date_range_start=2020-03-30<br>region=%{x}<br>mobility_score=%{y}<extra></extra>",
           "ids": [
            "AB",
            "BC",
            "MB",
            "NB",
            "NL",
            "NS",
            "ON",
            "PE",
            "QC",
            "SK"
           ],
           "legendgroup": "Urban",
           "marker": {
            "color": "#EF553B",
            "pattern": {
             "shape": ""
            }
           },
           "name": "Urban",
           "offsetgroup": "Urban",
           "orientation": "v",
           "showlegend": true,
           "textposition": "auto",
           "type": "bar",
           "x": [
            "AB",
            "BC",
            "MB",
            "NB",
            "NL",
            "NS",
            "ON",
            "PE",
            "QC",
            "SK"
           ],
           "xaxis": "x",
           "y": [
            634523.4742499047,
            1041262.4981417971,
            154615.45244233852,
            39137.29878096125,
            85746.79752620544,
            263268.44093386625,
            2220490.481579864,
            33158.05851305335,
            1629598.049497072,
            178154.1196543482
           ],
           "yaxis": "y"
          }
         ],
         "name": "2020-03-30"
        },
        {
         "data": [
          {
           "alignmentgroup": "True",
           "hovertemplate": "Type=Rural<br>date_range_start=2020-04-06<br>region=%{x}<br>mobility_score=%{y}<extra></extra>",
           "ids": [
            "AB",
            "BC",
            "MB",
            "NB",
            "NL",
            "NS",
            "ON",
            "PE",
            "QC",
            "SK"
           ],
           "legendgroup": "Rural",
           "marker": {
            "color": "#636efa",
            "pattern": {
             "shape": ""
            }
           },
           "name": "Rural",
           "offsetgroup": "Rural",
           "orientation": "v",
           "showlegend": true,
           "textposition": "auto",
           "type": "bar",
           "x": [
            "AB",
            "BC",
            "MB",
            "NB",
            "NL",
            "NS",
            "ON",
            "PE",
            "QC",
            "SK"
           ],
           "xaxis": "x",
           "y": [
            99246.4858947002,
            136702.42966850582,
            29359.13527545597,
            1961.0421440073612,
            40440.54545205854,
            4108.325269316492,
            429885.3983157009,
            550.0691358024691,
            287517.50506265066,
            9307.514845323083
           ],
           "yaxis": "y"
          },
          {
           "alignmentgroup": "True",
           "hovertemplate": "Type=Urban<br>date_range_start=2020-04-06<br>region=%{x}<br>mobility_score=%{y}<extra></extra>",
           "ids": [
            "AB",
            "BC",
            "MB",
            "NB",
            "NL",
            "NS",
            "ON",
            "PE",
            "QC",
            "SK"
           ],
           "legendgroup": "Urban",
           "marker": {
            "color": "#EF553B",
            "pattern": {
             "shape": ""
            }
           },
           "name": "Urban",
           "offsetgroup": "Urban",
           "orientation": "v",
           "showlegend": true,
           "textposition": "auto",
           "type": "bar",
           "x": [
            "AB",
            "BC",
            "MB",
            "NB",
            "NL",
            "NS",
            "ON",
            "PE",
            "QC",
            "SK"
           ],
           "xaxis": "x",
           "y": [
            533206.7413393003,
            890465.0797866296,
            137383.8110849664,
            55757.76554712062,
            38760.56503898235,
            263420.965109584,
            2188063.023236296,
            18352.57839506173,
            1574581.2476621328,
            151910.65429251327
           ],
           "yaxis": "y"
          }
         ],
         "name": "2020-04-06"
        },
        {
         "data": [
          {
           "alignmentgroup": "True",
           "hovertemplate": "Type=Rural<br>date_range_start=2020-04-13<br>region=%{x}<br>mobility_score=%{y}<extra></extra>",
           "ids": [
            "AB",
            "BC",
            "MB",
            "NB",
            "NL",
            "NS",
            "ON",
            "QC",
            "SK"
           ],
           "legendgroup": "Rural",
           "marker": {
            "color": "#636efa",
            "pattern": {
             "shape": ""
            }
           },
           "name": "Rural",
           "offsetgroup": "Rural",
           "orientation": "v",
           "showlegend": true,
           "textposition": "auto",
           "type": "bar",
           "x": [
            "AB",
            "BC",
            "MB",
            "NB",
            "NL",
            "NS",
            "ON",
            "QC",
            "SK"
           ],
           "xaxis": "x",
           "y": [
            116685.14108029308,
            171139.7538147868,
            41325.02182917931,
            31136.55833333333,
            26654.56395911037,
            13744.785986569226,
            449485.7286595834,
            372306.29627553065,
            20573.937540543047
           ],
           "yaxis": "y"
          },
          {
           "alignmentgroup": "True",
           "hovertemplate": "Type=Urban<br>date_range_start=2020-04-13<br>region=%{x}<br>mobility_score=%{y}<extra></extra>",
           "ids": [
            "AB",
            "BC",
            "MB",
            "NB",
            "NL",
            "NS",
            "ON",
            "PE",
            "QC",
            "SK"
           ],
           "legendgroup": "Urban",
           "marker": {
            "color": "#EF553B",
            "pattern": {
             "shape": ""
            }
           },
           "name": "Urban",
           "offsetgroup": "Urban",
           "orientation": "v",
           "showlegend": true,
           "textposition": "auto",
           "type": "bar",
           "x": [
            "AB",
            "BC",
            "MB",
            "NB",
            "NL",
            "NS",
            "ON",
            "PE",
            "QC",
            "SK"
           ],
           "xaxis": "x",
           "y": [
            577944.389182253,
            996190.0068579792,
            130056.00263597636,
            46029.71833333333,
            33351.45575355712,
            188545.06097175583,
            2577804.161387978,
            42728.30788834951,
            1793984.1327993593,
            150271.67565563894
           ],
           "yaxis": "y"
          }
         ],
         "name": "2020-04-13"
        },
        {
         "data": [
          {
           "alignmentgroup": "True",
           "hovertemplate": "Type=Rural<br>date_range_start=2020-04-20<br>region=%{x}<br>mobility_score=%{y}<extra></extra>",
           "ids": [
            "AB",
            "BC",
            "MB",
            "NB",
            "NL",
            "NS",
            "ON",
            "PE",
            "QC",
            "SK"
           ],
           "legendgroup": "Rural",
           "marker": {
            "color": "#636efa",
            "pattern": {
             "shape": ""
            }
           },
           "name": "Rural",
           "offsetgroup": "Rural",
           "orientation": "v",
           "showlegend": true,
           "textposition": "auto",
           "type": "bar",
           "x": [
            "AB",
            "BC",
            "MB",
            "NB",
            "NL",
            "NS",
            "ON",
            "PE",
            "QC",
            "SK"
           ],
           "xaxis": "x",
           "y": [
            132909.2491854513,
            186270.52921652392,
            37305.52126327898,
            59680.49124780048,
            33969.705094726065,
            7046.938482159365,
            440545.1773686177,
            94.36931428571428,
            387438.8599254816,
            17882.43013865876
           ],
           "yaxis": "y"
          },
          {
           "alignmentgroup": "True",
           "hovertemplate": "Type=Urban<br>date_range_start=2020-04-20<br>region=%{x}<br>mobility_score=%{y}<extra></extra>",
           "ids": [
            "AB",
            "BC",
            "MB",
            "NB",
            "NL",
            "NS",
            "ON",
            "PE",
            "QC",
            "SK"
           ],
           "legendgroup": "Urban",
           "marker": {
            "color": "#EF553B",
            "pattern": {
             "shape": ""
            }
           },
           "name": "Urban",
           "offsetgroup": "Urban",
           "orientation": "v",
           "showlegend": true,
           "textposition": "auto",
           "type": "bar",
           "x": [
            "AB",
            "BC",
            "MB",
            "NB",
            "NL",
            "NS",
            "ON",
            "PE",
            "QC",
            "SK"
           ],
           "xaxis": "x",
           "y": [
            720984.7581698402,
            1095963.4540657408,
            214081.2104788326,
            73639.54544411293,
            40128.75439068101,
            200389.57956184132,
            3150599.878873807,
            94536.74371428572,
            2262278.995151986,
            150043.1323275486
           ],
           "yaxis": "y"
          }
         ],
         "name": "2020-04-20"
        },
        {
         "data": [
          {
           "alignmentgroup": "True",
           "hovertemplate": "Type=Rural<br>date_range_start=2020-04-27<br>region=%{x}<br>mobility_score=%{y}<extra></extra>",
           "ids": [
            "AB",
            "BC",
            "MB",
            "NB",
            "NL",
            "NS",
            "ON",
            "PE",
            "QC",
            "SK"
           ],
           "legendgroup": "Rural",
           "marker": {
            "color": "#636efa",
            "pattern": {
             "shape": ""
            }
           },
           "name": "Rural",
           "offsetgroup": "Rural",
           "orientation": "v",
           "showlegend": true,
           "textposition": "auto",
           "type": "bar",
           "x": [
            "AB",
            "BC",
            "MB",
            "NB",
            "NL",
            "NS",
            "ON",
            "PE",
            "QC",
            "SK"
           ],
           "xaxis": "x",
           "y": [
            79149.06878232652,
            132797.086886768,
            22640.29662361944,
            13067.969991474847,
            12914.070253164558,
            18119.693216516305,
            413995.9791133968,
            201.79166666666669,
            236396.23536127963,
            20412.44123436197
           ],
           "yaxis": "y"
          },
          {
           "alignmentgroup": "True",
           "hovertemplate": "Type=Urban<br>date_range_start=2020-04-27<br>region=%{x}<br>mobility_score=%{y}<extra></extra>",
           "ids": [
            "AB",
            "BC",
            "MB",
            "NB",
            "NL",
            "NS",
            "ON",
            "PE",
            "QC",
            "SK"
           ],
           "legendgroup": "Urban",
           "marker": {
            "color": "#EF553B",
            "pattern": {
             "shape": ""
            }
           },
           "name": "Urban",
           "offsetgroup": "Urban",
           "orientation": "v",
           "showlegend": true,
           "textposition": "auto",
           "type": "bar",
           "x": [
            "AB",
            "BC",
            "MB",
            "NB",
            "NL",
            "NS",
            "ON",
            "PE",
            "QC",
            "SK"
           ],
           "xaxis": "x",
           "y": [
            559410.3858959907,
            803534.9461701248,
            162905.95609944343,
            59580.94226342711,
            53367.82320675106,
            140213.79985253295,
            2136117.348432035,
            63849.766071428574,
            1552385.4063872034,
            107702.3781818182
           ],
           "yaxis": "y"
          }
         ],
         "name": "2020-04-27"
        },
        {
         "data": [
          {
           "alignmentgroup": "True",
           "hovertemplate": "Type=Rural<br>date_range_start=2020-05-04<br>region=%{x}<br>mobility_score=%{y}<extra></extra>",
           "ids": [
            "AB",
            "BC",
            "MB",
            "NB",
            "NL",
            "NS",
            "ON",
            "PE",
            "QC",
            "SK"
           ],
           "legendgroup": "Rural",
           "marker": {
            "color": "#636efa",
            "pattern": {
             "shape": ""
            }
           },
           "name": "Rural",
           "offsetgroup": "Rural",
           "orientation": "v",
           "showlegend": true,
           "textposition": "auto",
           "type": "bar",
           "x": [
            "AB",
            "BC",
            "MB",
            "NB",
            "NL",
            "NS",
            "ON",
            "PE",
            "QC",
            "SK"
           ],
           "xaxis": "x",
           "y": [
            54167.75924651765,
            71982.08821120171,
            31526.302596026744,
            9384.936,
            7178.960583530472,
            19819.98695481644,
            240891.9804713398,
            144.41475903614457,
            281045.9092025442,
            5845.55950526798
           ],
           "yaxis": "y"
          },
          {
           "alignmentgroup": "True",
           "hovertemplate": "Type=Urban<br>date_range_start=2020-05-04<br>region=%{x}<br>mobility_score=%{y}<extra></extra>",
           "ids": [
            "AB",
            "BC",
            "MB",
            "NB",
            "NL",
            "NS",
            "ON",
            "PE",
            "QC",
            "SK"
           ],
           "legendgroup": "Urban",
           "marker": {
            "color": "#EF553B",
            "pattern": {
             "shape": ""
            }
           },
           "name": "Urban",
           "offsetgroup": "Urban",
           "orientation": "v",
           "showlegend": true,
           "textposition": "auto",
           "type": "bar",
           "x": [
            "AB",
            "BC",
            "MB",
            "NB",
            "NL",
            "NS",
            "ON",
            "PE",
            "QC",
            "SK"
           ],
           "xaxis": "x",
           "y": [
            404693.8936859272,
            688485.2418847039,
            128664.73437621492,
            46033.769139158576,
            21117.693770417933,
            116937.66692814558,
            1643643.490609639,
            36852.50702811246,
            970205.098908048,
            91565.43209650328
           ],
           "yaxis": "y"
          }
         ],
         "name": "2020-05-04"
        },
        {
         "data": [
          {
           "alignmentgroup": "True",
           "hovertemplate": "Type=Rural<br>date_range_start=2020-05-11<br>region=%{x}<br>mobility_score=%{y}<extra></extra>",
           "ids": [
            "AB",
            "BC",
            "MB",
            "NB",
            "NL",
            "NS",
            "ON",
            "PE",
            "QC",
            "SK"
           ],
           "legendgroup": "Rural",
           "marker": {
            "color": "#636efa",
            "pattern": {
             "shape": ""
            }
           },
           "name": "Rural",
           "offsetgroup": "Rural",
           "orientation": "v",
           "showlegend": true,
           "textposition": "auto",
           "type": "bar",
           "x": [
            "AB",
            "BC",
            "MB",
            "NB",
            "NL",
            "NS",
            "ON",
            "PE",
            "QC",
            "SK"
           ],
           "xaxis": "x",
           "y": [
            63171.03428322765,
            94498.24178723118,
            19270.334633922423,
            13926.329238299904,
            8388.074555042847,
            19346.58657195233,
            318060.8757800467,
            79.1688878235858,
            224693.36654554924,
            6606.612183415787
           ],
           "yaxis": "y"
          },
          {
           "alignmentgroup": "True",
           "hovertemplate": "Type=Urban<br>date_range_start=2020-05-11<br>region=%{x}<br>mobility_score=%{y}<extra></extra>",
           "ids": [
            "AB",
            "BC",
            "MB",
            "NB",
            "NL",
            "NS",
            "ON",
            "PE",
            "QC",
            "SK"
           ],
           "legendgroup": "Urban",
           "marker": {
            "color": "#EF553B",
            "pattern": {
             "shape": ""
            }
           },
           "name": "Urban",
           "offsetgroup": "Urban",
           "orientation": "v",
           "showlegend": true,
           "textposition": "auto",
           "type": "bar",
           "x": [
            "AB",
            "BC",
            "MB",
            "NB",
            "NL",
            "NS",
            "ON",
            "PE",
            "QC",
            "SK"
           ],
           "xaxis": "x",
           "y": [
            472810.7619008195,
            714996.0663664794,
            132635.42070709966,
            84034.16905444126,
            36376.91228301472,
            113483.51574243812,
            1692508.190023535,
            46492.56783317353,
            1184247.4862837463,
            98088.02581407368
           ],
           "yaxis": "y"
          }
         ],
         "name": "2020-05-11"
        },
        {
         "data": [
          {
           "alignmentgroup": "True",
           "hovertemplate": "Type=Rural<br>date_range_start=2020-05-18<br>region=%{x}<br>mobility_score=%{y}<extra></extra>",
           "ids": [
            "AB",
            "BC",
            "MB",
            "NB",
            "NL",
            "NS",
            "ON",
            "PE",
            "QC",
            "SK"
           ],
           "legendgroup": "Rural",
           "marker": {
            "color": "#636efa",
            "pattern": {
             "shape": ""
            }
           },
           "name": "Rural",
           "offsetgroup": "Rural",
           "orientation": "v",
           "showlegend": true,
           "textposition": "auto",
           "type": "bar",
           "x": [
            "AB",
            "BC",
            "MB",
            "NB",
            "NL",
            "NS",
            "ON",
            "PE",
            "QC",
            "SK"
           ],
           "xaxis": "x",
           "y": [
            108730.803363275,
            120570.65466708368,
            17578.32463759494,
            4906.536601787244,
            5457.971052048726,
            14356.540446250576,
            323677.7236893421,
            2142.936466165413,
            163648.6349748459,
            6837.565243763743
           ],
           "yaxis": "y"
          },
          {
           "alignmentgroup": "True",
           "hovertemplate": "Type=Urban<br>date_range_start=2020-05-18<br>region=%{x}<br>mobility_score=%{y}<extra></extra>",
           "ids": [
            "AB",
            "BC",
            "MB",
            "NB",
            "NL",
            "NS",
            "ON",
            "PE",
            "QC",
            "SK"
           ],
           "legendgroup": "Urban",
           "marker": {
            "color": "#EF553B",
            "pattern": {
             "shape": ""
            }
           },
           "name": "Urban",
           "offsetgroup": "Urban",
           "orientation": "v",
           "showlegend": true,
           "textposition": "auto",
           "type": "bar",
           "x": [
            "AB",
            "BC",
            "MB",
            "NB",
            "NL",
            "NS",
            "ON",
            "PE",
            "QC",
            "SK"
           ],
           "xaxis": "x",
           "y": [
            552807.9440550782,
            932751.8928393612,
            163455.96356614513,
            112259.16401640346,
            72463.64312292359,
            134395.74314522312,
            2006157.484868463,
            19171.27039473684,
            1267113.5001346276,
            152795.00371521723
           ],
           "yaxis": "y"
          }
         ],
         "name": "2020-05-18"
        },
        {
         "data": [
          {
           "alignmentgroup": "True",
           "hovertemplate": "Type=Rural<br>date_range_start=2020-05-25<br>region=%{x}<br>mobility_score=%{y}<extra></extra>",
           "ids": [
            "AB",
            "BC",
            "MB",
            "NB",
            "NL",
            "NS",
            "ON",
            "PE",
            "QC",
            "SK"
           ],
           "legendgroup": "Rural",
           "marker": {
            "color": "#636efa",
            "pattern": {
             "shape": ""
            }
           },
           "name": "Rural",
           "offsetgroup": "Rural",
           "orientation": "v",
           "showlegend": true,
           "textposition": "auto",
           "type": "bar",
           "x": [
            "AB",
            "BC",
            "MB",
            "NB",
            "NL",
            "NS",
            "ON",
            "PE",
            "QC",
            "SK"
           ],
           "xaxis": "x",
           "y": [
            108737.18827788612,
            117760.29956496482,
            19465.586384187573,
            12697.467560137457,
            15920.645172798217,
            14255.21176880223,
            312718.5553642695,
            9398.391437728937,
            213860.67866968067,
            10087.956264939472
           ],
           "yaxis": "y"
          },
          {
           "alignmentgroup": "True",
           "hovertemplate": "Type=Urban<br>date_range_start=2020-05-25<br>region=%{x}<br>mobility_score=%{y}<extra></extra>",
           "ids": [
            "AB",
            "BC",
            "MB",
            "NB",
            "NL",
            "NS",
            "ON",
            "PE",
            "QC",
            "SK"
           ],
           "legendgroup": "Urban",
           "marker": {
            "color": "#EF553B",
            "pattern": {
             "shape": ""
            }
           },
           "name": "Urban",
           "offsetgroup": "Urban",
           "orientation": "v",
           "showlegend": true,
           "textposition": "auto",
           "type": "bar",
           "x": [
            "AB",
            "BC",
            "MB",
            "NB",
            "NL",
            "NS",
            "ON",
            "PE",
            "QC",
            "SK"
           ],
           "xaxis": "x",
           "y": [
            620637.0617080145,
            978295.8391072043,
            162860.59933781458,
            127773.61189003436,
            75507.02488294314,
            110310.53204116372,
            2061703.9600780676,
            23575.253891941396,
            1310742.4221383224,
            142332.74590176574
           ],
           "yaxis": "y"
          }
         ],
         "name": "2020-05-25"
        },
        {
         "data": [
          {
           "alignmentgroup": "True",
           "hovertemplate": "Type=Rural<br>date_range_start=2020-06-01<br>region=%{x}<br>mobility_score=%{y}<extra></extra>",
           "ids": [
            "AB",
            "BC",
            "MB",
            "NB",
            "NL",
            "NS",
            "ON",
            "PE",
            "QC",
            "SK"
           ],
           "legendgroup": "Rural",
           "marker": {
            "color": "#636efa",
            "pattern": {
             "shape": ""
            }
           },
           "name": "Rural",
           "offsetgroup": "Rural",
           "orientation": "v",
           "showlegend": true,
           "textposition": "auto",
           "type": "bar",
           "x": [
            "AB",
            "BC",
            "MB",
            "NB",
            "NL",
            "NS",
            "ON",
            "PE",
            "QC",
            "SK"
           ],
           "xaxis": "x",
           "y": [
            138945.60735915645,
            124651.50172974307,
            19514.021159816333,
            17853.059053569363,
            21148.608317560465,
            13738.783704382133,
            295216.9375907025,
            1285.8226200505476,
            184664.45279284887,
            16461.59055688319
           ],
           "yaxis": "y"
          },
          {
           "alignmentgroup": "True",
           "hovertemplate": "Type=Urban<br>date_range_start=2020-06-01<br>region=%{x}<br>mobility_score=%{y}<extra></extra>",
           "ids": [
            "AB",
            "BC",
            "MB",
            "NB",
            "NL",
            "NS",
            "ON",
            "PE",
            "QC",
            "SK"
           ],
           "legendgroup": "Urban",
           "marker": {
            "color": "#EF553B",
            "pattern": {
             "shape": ""
            }
           },
           "name": "Urban",
           "offsetgroup": "Urban",
           "orientation": "v",
           "showlegend": true,
           "textposition": "auto",
           "type": "bar",
           "x": [
            "AB",
            "BC",
            "MB",
            "NB",
            "NL",
            "NS",
            "ON",
            "PE",
            "QC",
            "SK"
           ],
           "xaxis": "x",
           "y": [
            593241.2511169335,
            1072259.968955028,
            169162.1629068838,
            95787.13627791277,
            73758.81560462671,
            181527.67620121175,
            1874402.1149947909,
            12781.929570345408,
            1307561.9441341278,
            153546.65971467883
           ],
           "yaxis": "y"
          }
         ],
         "name": "2020-06-01"
        },
        {
         "data": [
          {
           "alignmentgroup": "True",
           "hovertemplate": "Type=Rural<br>date_range_start=2020-06-08<br>region=%{x}<br>mobility_score=%{y}<extra></extra>",
           "ids": [
            "AB",
            "BC",
            "MB",
            "NB",
            "NL",
            "NS",
            "ON",
            "PE",
            "QC",
            "SK"
           ],
           "legendgroup": "Rural",
           "marker": {
            "color": "#636efa",
            "pattern": {
             "shape": ""
            }
           },
           "name": "Rural",
           "offsetgroup": "Rural",
           "orientation": "v",
           "showlegend": true,
           "textposition": "auto",
           "type": "bar",
           "x": [
            "AB",
            "BC",
            "MB",
            "NB",
            "NL",
            "NS",
            "ON",
            "PE",
            "QC",
            "SK"
           ],
           "xaxis": "x",
           "y": [
            101071.1542180808,
            147578.72575744064,
            12203.978985627571,
            23606.998268398267,
            24851.77330858086,
            7449.768658951668,
            341186.15398325934,
            807.4400508044031,
            211257.00879182384,
            28507.868191298097
           ],
           "yaxis": "y"
          },
          {
           "alignmentgroup": "True",
           "hovertemplate": "Type=Urban<br>date_range_start=2020-06-08<br>region=%{x}<br>mobility_score=%{y}<extra></extra>",
           "ids": [
            "AB",
            "BC",
            "MB",
            "NB",
            "NL",
            "NS",
            "ON",
            "PE",
            "QC",
            "SK"
           ],
           "legendgroup": "Urban",
           "marker": {
            "color": "#EF553B",
            "pattern": {
             "shape": ""
            }
           },
           "name": "Urban",
           "offsetgroup": "Urban",
           "orientation": "v",
           "showlegend": true,
           "textposition": "auto",
           "type": "bar",
           "x": [
            "AB",
            "BC",
            "MB",
            "NB",
            "NL",
            "NS",
            "ON",
            "PE",
            "QC",
            "SK"
           ],
           "xaxis": "x",
           "y": [
            615973.9986773634,
            1112060.1783716215,
            195569.40019556836,
            86555.32956091527,
            63935.61506806931,
            196525.430619469,
            1900399.3667581428,
            18097.483149872987,
            1195367.8547322936,
            132829.48418554477
           ],
           "yaxis": "y"
          }
         ],
         "name": "2020-06-08"
        },
        {
         "data": [
          {
           "alignmentgroup": "True",
           "hovertemplate": "Type=Rural<br>date_range_start=2020-06-15<br>region=%{x}<br>mobility_score=%{y}<extra></extra>",
           "ids": [
            "AB",
            "BC",
            "MB",
            "NB",
            "NL",
            "NS",
            "ON",
            "PE",
            "QC",
            "SK"
           ],
           "legendgroup": "Rural",
           "marker": {
            "color": "#636efa",
            "pattern": {
             "shape": ""
            }
           },
           "name": "Rural",
           "offsetgroup": "Rural",
           "orientation": "v",
           "showlegend": true,
           "textposition": "auto",
           "type": "bar",
           "x": [
            "AB",
            "BC",
            "MB",
            "NB",
            "NL",
            "NS",
            "ON",
            "PE",
            "QC",
            "SK"
           ],
           "xaxis": "x",
           "y": [
            103964.3434630523,
            162540.2645133037,
            25283.57167930766,
            27080.69723132969,
            17345.22187141815,
            13286.3852443609,
            359818.8133335231,
            11856.398483412322,
            230007.69575677888,
            22144.24194773286
           ],
           "yaxis": "y"
          },
          {
           "alignmentgroup": "True",
           "hovertemplate": "Type=Urban<br>date_range_start=2020-06-15<br>region=%{x}<br>mobility_score=%{y}<extra></extra>",
           "ids": [
            "AB",
            "BC",
            "MB",
            "NB",
            "NL",
            "NS",
            "ON",
            "PE",
            "QC",
            "SK"
           ],
           "legendgroup": "Urban",
           "marker": {
            "color": "#EF553B",
            "pattern": {
             "shape": ""
            }
           },
           "name": "Urban",
           "offsetgroup": "Urban",
           "orientation": "v",
           "showlegend": true,
           "textposition": "auto",
           "type": "bar",
           "x": [
            "AB",
            "BC",
            "MB",
            "NB",
            "NL",
            "NS",
            "ON",
            "PE",
            "QC",
            "SK"
           ],
           "xaxis": "x",
           "y": [
            594927.7361529192,
            1185616.4098983398,
            200920.40274212367,
            95720.26911961142,
            50869.73699072626,
            180049.52084297285,
            2090141.661485319,
            28244.789146919436,
            1279441.402216763,
            165555.19767701585
           ],
           "yaxis": "y"
          }
         ],
         "name": "2020-06-15"
        },
        {
         "data": [
          {
           "alignmentgroup": "True",
           "hovertemplate": "Type=Rural<br>date_range_start=2020-06-22<br>region=%{x}<br>mobility_score=%{y}<extra></extra>",
           "ids": [
            "AB",
            "BC",
            "MB",
            "NB",
            "NL",
            "NS",
            "ON",
            "PE",
            "QC",
            "SK"
           ],
           "legendgroup": "Rural",
           "marker": {
            "color": "#636efa",
            "pattern": {
             "shape": ""
            }
           },
           "name": "Rural",
           "offsetgroup": "Rural",
           "orientation": "v",
           "showlegend": true,
           "textposition": "auto",
           "type": "bar",
           "x": [
            "AB",
            "BC",
            "MB",
            "NB",
            "NL",
            "NS",
            "ON",
            "PE",
            "QC",
            "SK"
           ],
           "xaxis": "x",
           "y": [
            141466.98946976187,
            143830.91377814556,
            27401.77975332141,
            15723.381174407354,
            19676.81253758268,
            10005.724547527432,
            367084.6936323017,
            11149.827346570395,
            238667.06234704528,
            20596.59102592348
           ],
           "yaxis": "y"
          },
          {
           "alignmentgroup": "True",
           "hovertemplate": "Type=Urban<br>date_range_start=2020-06-22<br>region=%{x}<br>mobility_score=%{y}<extra></extra>",
           "ids": [
            "AB",
            "BC",
            "MB",
            "NB",
            "NL",
            "NS",
            "ON",
            "PE",
            "QC",
            "SK"
           ],
           "legendgroup": "Urban",
           "marker": {
            "color": "#EF553B",
            "pattern": {
             "shape": ""
            }
           },
           "name": "Urban",
           "offsetgroup": "Urban",
           "orientation": "v",
           "showlegend": true,
           "textposition": "auto",
           "type": "bar",
           "x": [
            "AB",
            "BC",
            "MB",
            "NB",
            "NL",
            "NS",
            "ON",
            "PE",
            "QC",
            "SK"
           ],
           "xaxis": "x",
           "y": [
            619314.2735830523,
            1269332.5333463678,
            208049.61578319973,
            149940.84926221575,
            59473.78527761074,
            211108.92345731796,
            2154687.9836583366,
            8563.105866425993,
            1334654.786339293,
            148089.12876551368
           ],
           "yaxis": "y"
          }
         ],
         "name": "2020-06-22"
        },
        {
         "data": [
          {
           "alignmentgroup": "True",
           "hovertemplate": "Type=Rural<br>date_range_start=2020-06-29<br>region=%{x}<br>mobility_score=%{y}<extra></extra>",
           "ids": [
            "AB",
            "BC",
            "MB",
            "NB",
            "NL",
            "NS",
            "ON",
            "PE",
            "QC",
            "SK"
           ],
           "legendgroup": "Rural",
           "marker": {
            "color": "#636efa",
            "pattern": {
             "shape": ""
            }
           },
           "name": "Rural",
           "offsetgroup": "Rural",
           "orientation": "v",
           "showlegend": true,
           "textposition": "auto",
           "type": "bar",
           "x": [
            "AB",
            "BC",
            "MB",
            "NB",
            "NL",
            "NS",
            "ON",
            "PE",
            "QC",
            "SK"
           ],
           "xaxis": "x",
           "y": [
            136298.03854529295,
            172960.0332647903,
            21982.12639164623,
            13776.307737235067,
            7730.85130993062,
            17195.82791262136,
            346781.8779703967,
            17230.410471441526,
            244753.92687350407,
            27236.2096862716
           ],
           "yaxis": "y"
          },
          {
           "alignmentgroup": "True",
           "hovertemplate": "Type=Urban<br>date_range_start=2020-06-29<br>region=%{x}<br>mobility_score=%{y}<extra></extra>",
           "ids": [
            "AB",
            "BC",
            "MB",
            "NB",
            "NL",
            "NS",
            "ON",
            "PE",
            "QC",
            "SK"
           ],
           "legendgroup": "Urban",
           "marker": {
            "color": "#EF553B",
            "pattern": {
             "shape": ""
            }
           },
           "name": "Urban",
           "offsetgroup": "Urban",
           "orientation": "v",
           "showlegend": true,
           "textposition": "auto",
           "type": "bar",
           "x": [
            "AB",
            "BC",
            "MB",
            "NB",
            "NL",
            "NS",
            "ON",
            "PE",
            "QC",
            "SK"
           ],
           "xaxis": "x",
           "y": [
            591789.0609472301,
            1117877.7972748026,
            188520.55438611857,
            81704.26504696532,
            51157.27156466812,
            169385.19780125644,
            2045158.1484417685,
            9712.783590208524,
            1318679.9217089368,
            128268.544092561
           ],
           "yaxis": "y"
          }
         ],
         "name": "2020-06-29"
        },
        {
         "data": [
          {
           "alignmentgroup": "True",
           "hovertemplate": "Type=Rural<br>date_range_start=2020-07-06<br>region=%{x}<br>mobility_score=%{y}<extra></extra>",
           "ids": [
            "AB",
            "BC",
            "MB",
            "NB",
            "NL",
            "NS",
            "ON",
            "PE",
            "QC",
            "SK"
           ],
           "legendgroup": "Rural",
           "marker": {
            "color": "#636efa",
            "pattern": {
             "shape": ""
            }
           },
           "name": "Rural",
           "offsetgroup": "Rural",
           "orientation": "v",
           "showlegend": true,
           "textposition": "auto",
           "type": "bar",
           "x": [
            "AB",
            "BC",
            "MB",
            "NB",
            "NL",
            "NS",
            "ON",
            "PE",
            "QC",
            "SK"
           ],
           "xaxis": "x",
           "y": [
            148733.24889574575,
            194664.3357291432,
            21797.15127031019,
            19273.726810225413,
            11643.383647403683,
            12280.798577599047,
            484512.6937971276,
            10608.498365384616,
            290920.95302892145,
            25051.668424242427
           ],
           "yaxis": "y"
          },
          {
           "alignmentgroup": "True",
           "hovertemplate": "Type=Urban<br>date_range_start=2020-07-06<br>region=%{x}<br>mobility_score=%{y}<extra></extra>",
           "ids": [
            "AB",
            "BC",
            "MB",
            "NB",
            "NL",
            "NS",
            "ON",
            "PE",
            "QC",
            "SK"
           ],
           "legendgroup": "Urban",
           "marker": {
            "color": "#EF553B",
            "pattern": {
             "shape": ""
            }
           },
           "name": "Urban",
           "offsetgroup": "Urban",
           "orientation": "v",
           "showlegend": true,
           "textposition": "auto",
           "type": "bar",
           "x": [
            "AB",
            "BC",
            "MB",
            "NB",
            "NL",
            "NS",
            "ON",
            "PE",
            "QC",
            "SK"
           ],
           "xaxis": "x",
           "y": [
            648864.5453488949,
            1176830.431048104,
            197171.136770064,
            125409.71832892582,
            78218.25720268008,
            135908.15262138814,
            2279349.908544596,
            16489.01798076923,
            1407338.2559304202,
            157982.83751515154
           ],
           "yaxis": "y"
          }
         ],
         "name": "2020-07-06"
        },
        {
         "data": [
          {
           "alignmentgroup": "True",
           "hovertemplate": "Type=Rural<br>date_range_start=2020-07-13<br>region=%{x}<br>mobility_score=%{y}<extra></extra>",
           "ids": [
            "AB",
            "BC",
            "MB",
            "NB",
            "NL",
            "NS",
            "ON",
            "PE",
            "QC",
            "SK"
           ],
           "legendgroup": "Rural",
           "marker": {
            "color": "#636efa",
            "pattern": {
             "shape": ""
            }
           },
           "name": "Rural",
           "offsetgroup": "Rural",
           "orientation": "v",
           "showlegend": true,
           "textposition": "auto",
           "type": "bar",
           "x": [
            "AB",
            "BC",
            "MB",
            "NB",
            "NL",
            "NS",
            "ON",
            "PE",
            "QC",
            "SK"
           ],
           "xaxis": "x",
           "y": [
            112705.6506334191,
            178823.09985889454,
            47954.03494654892,
            29213.683614427388,
            19671.693213996765,
            15974.822842460931,
            383675.9623588295,
            7204.073577981651,
            287523.74458246905,
            28858.05742323991
           ],
           "yaxis": "y"
          },
          {
           "alignmentgroup": "True",
           "hovertemplate": "Type=Urban<br>date_range_start=2020-07-13<br>region=%{x}<br>mobility_score=%{y}<extra></extra>",
           "ids": [
            "AB",
            "BC",
            "MB",
            "NB",
            "NL",
            "NS",
            "ON",
            "PE",
            "QC",
            "SK"
           ],
           "legendgroup": "Urban",
           "marker": {
            "color": "#EF553B",
            "pattern": {
             "shape": ""
            }
           },
           "name": "Urban",
           "offsetgroup": "Urban",
           "orientation": "v",
           "showlegend": true,
           "textposition": "auto",
           "type": "bar",
           "x": [
            "AB",
            "BC",
            "MB",
            "NB",
            "NL",
            "NS",
            "ON",
            "PE",
            "QC",
            "SK"
           ],
           "xaxis": "x",
           "y": [
            629562.030081848,
            1058710.0374437568,
            271795.6930242466,
            90839.80963931528,
            53954.3885315534,
            147225.30946783052,
            2380219.821337642,
            11717.616284403668,
            1562637.5195142983,
            127390.5693257007
           ],
           "yaxis": "y"
          }
         ],
         "name": "2020-07-13"
        },
        {
         "data": [
          {
           "alignmentgroup": "True",
           "hovertemplate": "Type=Rural<br>date_range_start=2020-07-20<br>region=%{x}<br>mobility_score=%{y}<extra></extra>",
           "ids": [
            "AB",
            "BC",
            "MB",
            "NB",
            "NL",
            "NS",
            "ON",
            "PE",
            "QC",
            "SK"
           ],
           "legendgroup": "Rural",
           "marker": {
            "color": "#636efa",
            "pattern": {
             "shape": ""
            }
           },
           "name": "Rural",
           "offsetgroup": "Rural",
           "orientation": "v",
           "showlegend": true,
           "textposition": "auto",
           "type": "bar",
           "x": [
            "AB",
            "BC",
            "MB",
            "NB",
            "NL",
            "NS",
            "ON",
            "PE",
            "QC",
            "SK"
           ],
           "xaxis": "x",
           "y": [
            216866.36819248827,
            166195.79595061895,
            33464.27036010096,
            26292.15711354309,
            12931.913277408155,
            21315.540885416667,
            1998409.6298413,
            8897.91181818182,
            410697.435541353,
            33016.2086724483
           ],
           "yaxis": "y"
          },
          {
           "alignmentgroup": "True",
           "hovertemplate": "Type=Urban<br>date_range_start=2020-07-20<br>region=%{x}<br>mobility_score=%{y}<extra></extra>",
           "ids": [
            "AB",
            "BC",
            "MB",
            "NB",
            "NL",
            "NS",
            "ON",
            "PE",
            "QC",
            "SK"
           ],
           "legendgroup": "Urban",
           "marker": {
            "color": "#EF553B",
            "pattern": {
             "shape": ""
            }
           },
           "name": "Urban",
           "offsetgroup": "Urban",
           "orientation": "v",
           "showlegend": true,
           "textposition": "auto",
           "type": "bar",
           "x": [
            "AB",
            "BC",
            "MB",
            "NB",
            "NL",
            "NS",
            "ON",
            "PE",
            "QC",
            "SK"
           ],
           "xaxis": "x",
           "y": [
            586306.8367082148,
            4323647.50846653,
            251882.8189008567,
            1234817.5335043315,
            45525.15221290136,
            113454.08671875,
            3917655.10442398,
            11301.800909090907,
            2503617.0171174784,
            122726.18892595064
           ],
           "yaxis": "y"
          }
         ],
         "name": "2020-07-20"
        },
        {
         "data": [
          {
           "alignmentgroup": "True",
           "hovertemplate": "Type=Rural<br>date_range_start=2020-07-27<br>region=%{x}<br>mobility_score=%{y}<extra></extra>",
           "ids": [
            "AB",
            "BC",
            "MB",
            "NB",
            "NL",
            "NS",
            "ON",
            "PE",
            "QC",
            "SK"
           ],
           "legendgroup": "Rural",
           "marker": {
            "color": "#636efa",
            "pattern": {
             "shape": ""
            }
           },
           "name": "Rural",
           "offsetgroup": "Rural",
           "orientation": "v",
           "showlegend": true,
           "textposition": "auto",
           "type": "bar",
           "x": [
            "AB",
            "BC",
            "MB",
            "NB",
            "NL",
            "NS",
            "ON",
            "PE",
            "QC",
            "SK"
           ],
           "xaxis": "x",
           "y": [
            147772.82709695588,
            283398.58107322594,
            22280.264893420142,
            12401.803033701864,
            25931.7438913202,
            42308.91419552879,
            1221710.8394107649,
            9549.018075313808,
            413351.36415580165,
            22499.493053801463
           ],
           "yaxis": "y"
          },
          {
           "alignmentgroup": "True",
           "hovertemplate": "Type=Urban<br>date_range_start=2020-07-27<br>region=%{x}<br>mobility_score=%{y}<extra></extra>",
           "ids": [
            "AB",
            "BC",
            "MB",
            "NB",
            "NL",
            "NS",
            "ON",
            "PE",
            "QC",
            "SK"
           ],
           "legendgroup": "Urban",
           "marker": {
            "color": "#EF553B",
            "pattern": {
             "shape": ""
            }
           },
           "name": "Urban",
           "offsetgroup": "Urban",
           "orientation": "v",
           "showlegend": true,
           "textposition": "auto",
           "type": "bar",
           "x": [
            "AB",
            "BC",
            "MB",
            "NB",
            "NL",
            "NS",
            "ON",
            "PE",
            "QC",
            "SK"
           ],
           "xaxis": "x",
           "y": [
            599821.3876746548,
            2043503.1014464253,
            201323.91598950184,
            760292.3470116969,
            70796.27060539751,
            121204.87557627707,
            3761341.750607536,
            18386.98648535565,
            2312182.915343115,
            112494.9839353372
           ],
           "yaxis": "y"
          }
         ],
         "name": "2020-07-27"
        },
        {
         "data": [
          {
           "alignmentgroup": "True",
           "hovertemplate": "Type=Rural<br>date_range_start=2020-08-03<br>region=%{x}<br>mobility_score=%{y}<extra></extra>",
           "ids": [
            "AB",
            "BC",
            "MB",
            "NB",
            "NL",
            "NS",
            "ON",
            "PE",
            "QC",
            "SK"
           ],
           "legendgroup": "Rural",
           "marker": {
            "color": "#636efa",
            "pattern": {
             "shape": ""
            }
           },
           "name": "Rural",
           "offsetgroup": "Rural",
           "orientation": "v",
           "showlegend": true,
           "textposition": "auto",
           "type": "bar",
           "x": [
            "AB",
            "BC",
            "MB",
            "NB",
            "NL",
            "NS",
            "ON",
            "PE",
            "QC",
            "SK"
           ],
           "xaxis": "x",
           "y": [
            93189.84578899188,
            221714.55067078368,
            20852.917279633944,
            18557.783050847454,
            18343.26675995895,
            30492.83985463356,
            477530.37003228633,
            9979.08570822731,
            331660.10535714286,
            19545.986753194626
           ],
           "yaxis": "y"
          },
          {
           "alignmentgroup": "True",
           "hovertemplate": "Type=Urban<br>date_range_start=2020-08-03<br>region=%{x}<br>mobility_score=%{y}<extra></extra>",
           "ids": [
            "AB",
            "BC",
            "MB",
            "NB",
            "NL",
            "NS",
            "ON",
            "PE",
            "QC",
            "SK"
           ],
           "legendgroup": "Urban",
           "marker": {
            "color": "#EF553B",
            "pattern": {
             "shape": ""
            }
           },
           "name": "Urban",
           "offsetgroup": "Urban",
           "orientation": "v",
           "showlegend": true,
           "textposition": "auto",
           "type": "bar",
           "x": [
            "AB",
            "BC",
            "MB",
            "NB",
            "NL",
            "NS",
            "ON",
            "PE",
            "QC",
            "SK"
           ],
           "xaxis": "x",
           "y": [
            598974.966562766,
            1187042.7576516294,
            213047.642665976,
            150945.47251977402,
            109059.41184812016,
            119610.2406904906,
            2249167.2070368263,
            15545.865691263783,
            1508862.2751623376,
            143260.12133538505
           ],
           "yaxis": "y"
          }
         ],
         "name": "2020-08-03"
        },
        {
         "data": [
          {
           "alignmentgroup": "True",
           "hovertemplate": "Type=Rural<br>date_range_start=2020-08-10<br>region=%{x}<br>mobility_score=%{y}<extra></extra>",
           "ids": [
            "AB",
            "BC",
            "MB",
            "NB",
            "NL",
            "NS",
            "ON",
            "PE",
            "QC",
            "SK"
           ],
           "legendgroup": "Rural",
           "marker": {
            "color": "#636efa",
            "pattern": {
             "shape": ""
            }
           },
           "name": "Rural",
           "offsetgroup": "Rural",
           "orientation": "v",
           "showlegend": true,
           "textposition": "auto",
           "type": "bar",
           "x": [
            "AB",
            "BC",
            "MB",
            "NB",
            "NL",
            "NS",
            "ON",
            "PE",
            "QC",
            "SK"
           ],
           "xaxis": "x",
           "y": [
            106902.6606727839,
            170440.23035555688,
            35269.57540424415,
            24584.427397260268,
            10704.539932318105,
            21747.50223981345,
            1000078.293536614,
            14213.657768361583,
            379498.5395100275,
            38976.98145916144
           ],
           "yaxis": "y"
          },
          {
           "alignmentgroup": "True",
           "hovertemplate": "Type=Urban<br>date_range_start=2020-08-10<br>region=%{x}<br>mobility_score=%{y}<extra></extra>",
           "ids": [
            "AB",
            "BC",
            "MB",
            "NB",
            "NL",
            "NS",
            "ON",
            "PE",
            "QC",
            "SK"
           ],
           "legendgroup": "Urban",
           "marker": {
            "color": "#EF553B",
            "pattern": {
             "shape": ""
            }
           },
           "name": "Urban",
           "offsetgroup": "Urban",
           "orientation": "v",
           "showlegend": true,
           "textposition": "auto",
           "type": "bar",
           "x": [
            "AB",
            "BC",
            "MB",
            "NB",
            "NL",
            "NS",
            "ON",
            "PE",
            "QC",
            "SK"
           ],
           "xaxis": "x",
           "y": [
            710042.0771020593,
            1218568.4612106294,
            182898.3616017252,
            535672.2124429223,
            95900.5565143824,
            183057.6717783505,
            2875444.957361033,
            11366.9131826742,
            2579929.190458945,
            144924.2366457238
           ],
           "yaxis": "y"
          }
         ],
         "name": "2020-08-10"
        },
        {
         "data": [
          {
           "alignmentgroup": "True",
           "hovertemplate": "Type=Rural<br>date_range_start=2020-08-17<br>region=%{x}<br>mobility_score=%{y}<extra></extra>",
           "ids": [
            "AB",
            "BC",
            "MB",
            "NB",
            "NL",
            "NS",
            "ON",
            "PE",
            "QC",
            "SK"
           ],
           "legendgroup": "Rural",
           "marker": {
            "color": "#636efa",
            "pattern": {
             "shape": ""
            }
           },
           "name": "Rural",
           "offsetgroup": "Rural",
           "orientation": "v",
           "showlegend": true,
           "textposition": "auto",
           "type": "bar",
           "x": [
            "AB",
            "BC",
            "MB",
            "NB",
            "NL",
            "NS",
            "ON",
            "PE",
            "QC",
            "SK"
           ],
           "xaxis": "x",
           "y": [
            120458.71014547197,
            180018.3451698734,
            26544.223150395865,
            22969.915443023187,
            22442.929240412977,
            26151.239022407983,
            1255959.649222669,
            21197.93073316283,
            533844.4517642653,
            21957.70291671838
           ],
           "yaxis": "y"
          },
          {
           "alignmentgroup": "True",
           "hovertemplate": "Type=Urban<br>date_range_start=2020-08-17<br>region=%{x}<br>mobility_score=%{y}<extra></extra>",
           "ids": [
            "AB",
            "BC",
            "MB",
            "NB",
            "NL",
            "NS",
            "ON",
            "PE",
            "QC",
            "SK"
           ],
           "legendgroup": "Urban",
           "marker": {
            "color": "#EF553B",
            "pattern": {
             "shape": ""
            }
           },
           "name": "Urban",
           "offsetgroup": "Urban",
           "orientation": "v",
           "showlegend": true,
           "textposition": "auto",
           "type": "bar",
           "x": [
            "AB",
            "BC",
            "MB",
            "NB",
            "NL",
            "NS",
            "ON",
            "PE",
            "QC",
            "SK"
           ],
           "xaxis": "x",
           "y": [
            656283.0975691611,
            2102159.7214319403,
            203773.74575975377,
            866783.7028970269,
            105742.75403761062,
            190440.8354986648,
            3119051.822478058,
            13774.6810741688,
            3969211.940072088,
            163222.70472880724
           ],
           "yaxis": "y"
          }
         ],
         "name": "2020-08-17"
        },
        {
         "data": [
          {
           "alignmentgroup": "True",
           "hovertemplate": "Type=Rural<br>date_range_start=2020-08-24<br>region=%{x}<br>mobility_score=%{y}<extra></extra>",
           "ids": [
            "AB",
            "BC",
            "MB",
            "NB",
            "NL",
            "NS",
            "ON",
            "PE",
            "QC",
            "SK"
           ],
           "legendgroup": "Rural",
           "marker": {
            "color": "#636efa",
            "pattern": {
             "shape": ""
            }
           },
           "name": "Rural",
           "offsetgroup": "Rural",
           "orientation": "v",
           "showlegend": true,
           "textposition": "auto",
           "type": "bar",
           "x": [
            "AB",
            "BC",
            "MB",
            "NB",
            "NL",
            "NS",
            "ON",
            "PE",
            "QC",
            "SK"
           ],
           "xaxis": "x",
           "y": [
            140956.74574248216,
            176698.59479387896,
            21046.674806220974,
            14836.765647929176,
            19398.68730249928,
            46009.60964299089,
            1362877.6243788148,
            24603.833079526223,
            632681.9176731415,
            27320.048782974387
           ],
           "yaxis": "y"
          },
          {
           "alignmentgroup": "True",
           "hovertemplate": "Type=Urban<br>date_range_start=2020-08-24<br>region=%{x}<br>mobility_score=%{y}<extra></extra>",
           "ids": [
            "AB",
            "BC",
            "MB",
            "NB",
            "NL",
            "NS",
            "ON",
            "PE",
            "QC",
            "SK"
           ],
           "legendgroup": "Urban",
           "marker": {
            "color": "#EF553B",
            "pattern": {
             "shape": ""
            }
           },
           "name": "Urban",
           "offsetgroup": "Urban",
           "orientation": "v",
           "showlegend": true,
           "textposition": "auto",
           "type": "bar",
           "x": [
            "AB",
            "BC",
            "MB",
            "NB",
            "NL",
            "NS",
            "ON",
            "PE",
            "QC",
            "SK"
           ],
           "xaxis": "x",
           "y": [
            671161.9725823806,
            2525523.468100084,
            226000.01761969196,
            917370.7122915528,
            89144.2566791152,
            185701.2155536138,
            3535940.600088351,
            14210.64035532995,
            4549358.191070884,
            158771.25907990313
           ],
           "yaxis": "y"
          }
         ],
         "name": "2020-08-24"
        },
        {
         "data": [
          {
           "alignmentgroup": "True",
           "hovertemplate": "Type=Rural<br>date_range_start=2020-08-31<br>region=%{x}<br>mobility_score=%{y}<extra></extra>",
           "ids": [
            "AB",
            "BC",
            "MB",
            "NB",
            "NL",
            "NS",
            "ON",
            "PE",
            "QC",
            "SK"
           ],
           "legendgroup": "Rural",
           "marker": {
            "color": "#636efa",
            "pattern": {
             "shape": ""
            }
           },
           "name": "Rural",
           "offsetgroup": "Rural",
           "orientation": "v",
           "showlegend": true,
           "textposition": "auto",
           "type": "bar",
           "x": [
            "AB",
            "BC",
            "MB",
            "NB",
            "NL",
            "NS",
            "ON",
            "PE",
            "QC",
            "SK"
           ],
           "xaxis": "x",
           "y": [
            102903.95957955046,
            158410.95788943753,
            17238.948220366365,
            15339.941229800826,
            14173.614652807852,
            21638.271680931528,
            898712.2485052664,
            16809.886441798943,
            409120.3929139413,
            16615.293961264862
           ],
           "yaxis": "y"
          },
          {
           "alignmentgroup": "True",
           "hovertemplate": "Type=Urban<br>date_range_start=2020-08-31<br>region=%{x}<br>mobility_score=%{y}<extra></extra>",
           "ids": [
            "AB",
            "BC",
            "MB",
            "NB",
            "NL",
            "NS",
            "ON",
            "PE",
            "QC",
            "SK"
           ],
           "legendgroup": "Urban",
           "marker": {
            "color": "#EF553B",
            "pattern": {
             "shape": ""
            }
           },
           "name": "Urban",
           "offsetgroup": "Urban",
           "orientation": "v",
           "showlegend": true,
           "textposition": "auto",
           "type": "bar",
           "x": [
            "AB",
            "BC",
            "MB",
            "NB",
            "NL",
            "NS",
            "ON",
            "PE",
            "QC",
            "SK"
           ],
           "xaxis": "x",
           "y": [
            533232.1858907392,
            1773107.9597731074,
            162565.25531590983,
            579761.974727546,
            47107.640537029016,
            114038.35440883758,
            2765478.401373206,
            11075.639914021163,
            2967986.382265615,
            171605.67776104677
           ],
           "yaxis": "y"
          }
         ],
         "name": "2020-08-31"
        },
        {
         "data": [
          {
           "alignmentgroup": "True",
           "hovertemplate": "Type=Rural<br>date_range_start=2020-09-07<br>region=%{x}<br>mobility_score=%{y}<extra></extra>",
           "ids": [
            "AB",
            "BC",
            "MB",
            "NB",
            "NL",
            "NS",
            "ON",
            "PE",
            "QC",
            "SK"
           ],
           "legendgroup": "Rural",
           "marker": {
            "color": "#636efa",
            "pattern": {
             "shape": ""
            }
           },
           "name": "Rural",
           "offsetgroup": "Rural",
           "orientation": "v",
           "showlegend": true,
           "textposition": "auto",
           "type": "bar",
           "x": [
            "AB",
            "BC",
            "MB",
            "NB",
            "NL",
            "NS",
            "ON",
            "PE",
            "QC",
            "SK"
           ],
           "xaxis": "x",
           "y": [
            124844.69510199028,
            148026.7335814583,
            25277.31683064084,
            34857.824548921126,
            9987.84099140577,
            20127.145886482744,
            952302.9775105044,
            7107.730531845043,
            407199.9830153264,
            26468.217890342334
           ],
           "yaxis": "y"
          },
          {
           "alignmentgroup": "True",
           "hovertemplate": "Type=Urban<br>date_range_start=2020-09-07<br>region=%{x}<br>mobility_score=%{y}<extra></extra>",
           "ids": [
            "AB",
            "BC",
            "MB",
            "NB",
            "NL",
            "NS",
            "ON",
            "PE",
            "QC",
            "SK"
           ],
           "legendgroup": "Urban",
           "marker": {
            "color": "#EF553B",
            "pattern": {
             "shape": ""
            }
           },
           "name": "Urban",
           "offsetgroup": "Urban",
           "orientation": "v",
           "showlegend": true,
           "textposition": "auto",
           "type": "bar",
           "x": [
            "AB",
            "BC",
            "MB",
            "NB",
            "NL",
            "NS",
            "ON",
            "PE",
            "QC",
            "SK"
           ],
           "xaxis": "x",
           "y": [
            559122.0807292474,
            1768269.028190849,
            168786.8183140648,
            460558.2567429315,
            54835.28374769798,
            140948.1314990606,
            2639262.702762762,
            9848.334307288247,
            2985693.060257561,
            151815.49470637352
           ],
           "yaxis": "y"
          }
         ],
         "name": "2020-09-07"
        },
        {
         "data": [
          {
           "alignmentgroup": "True",
           "hovertemplate": "Type=Rural<br>date_range_start=2020-09-14<br>region=%{x}<br>mobility_score=%{y}<extra></extra>",
           "ids": [
            "AB",
            "BC",
            "MB",
            "NB",
            "NL",
            "NS",
            "ON",
            "PE",
            "QC",
            "SK"
           ],
           "legendgroup": "Rural",
           "marker": {
            "color": "#636efa",
            "pattern": {
             "shape": ""
            }
           },
           "name": "Rural",
           "offsetgroup": "Rural",
           "orientation": "v",
           "showlegend": true,
           "textposition": "auto",
           "type": "bar",
           "x": [
            "AB",
            "BC",
            "MB",
            "NB",
            "NL",
            "NS",
            "ON",
            "PE",
            "QC",
            "SK"
           ],
           "xaxis": "x",
           "y": [
            141124.35165803583,
            157714.43993150542,
            21917.918563112875,
            34427.30649224806,
            12958.14395623787,
            33563.282072958296,
            864115.3120895048,
            2604.2818722139677,
            351086.01065595617,
            39523.8075456199
           ],
           "yaxis": "y"
          },
          {
           "alignmentgroup": "True",
           "hovertemplate": "Type=Urban<br>date_range_start=2020-09-14<br>region=%{x}<br>mobility_score=%{y}<extra></extra>",
           "ids": [
            "AB",
            "BC",
            "MB",
            "NB",
            "NL",
            "NS",
            "ON",
            "PE",
            "QC",
            "SK"
           ],
           "legendgroup": "Urban",
           "marker": {
            "color": "#EF553B",
            "pattern": {
             "shape": ""
            }
           },
           "name": "Urban",
           "offsetgroup": "Urban",
           "orientation": "v",
           "showlegend": true,
           "textposition": "auto",
           "type": "bar",
           "x": [
            "AB",
            "BC",
            "MB",
            "NB",
            "NL",
            "NS",
            "ON",
            "PE",
            "QC",
            "SK"
           ],
           "xaxis": "x",
           "y": [
            631265.4555792353,
            1752481.515628746,
            177277.28249576592,
            533879.5159883721,
            48537.9378771837,
            121465.12473101752,
            4437333.1904778825,
            12811.641976225854,
            2990871.0751781617,
            177230.58621134778
           ],
           "yaxis": "y"
          }
         ],
         "name": "2020-09-14"
        },
        {
         "data": [
          {
           "alignmentgroup": "True",
           "hovertemplate": "Type=Rural<br>date_range_start=2020-09-21<br>region=%{x}<br>mobility_score=%{y}<extra></extra>",
           "ids": [
            "AB",
            "BC",
            "MB",
            "NB",
            "NL",
            "NS",
            "ON",
            "PE",
            "QC",
            "SK"
           ],
           "legendgroup": "Rural",
           "marker": {
            "color": "#636efa",
            "pattern": {
             "shape": ""
            }
           },
           "name": "Rural",
           "offsetgroup": "Rural",
           "orientation": "v",
           "showlegend": true,
           "textposition": "auto",
           "type": "bar",
           "x": [
            "AB",
            "BC",
            "MB",
            "NB",
            "NL",
            "NS",
            "ON",
            "PE",
            "QC",
            "SK"
           ],
           "xaxis": "x",
           "y": [
            120535.29529214231,
            134115.76310740542,
            17626.105556903665,
            23376.36309523809,
            26221.574760208277,
            33153.82206451613,
            467171.8311322218,
            2792.285886761033,
            248793.73998894985,
            42261.65734997987
           ],
           "yaxis": "y"
          },
          {
           "alignmentgroup": "True",
           "hovertemplate": "Type=Urban<br>date_range_start=2020-09-21<br>region=%{x}<br>mobility_score=%{y}<extra></extra>",
           "ids": [
            "AB",
            "BC",
            "MB",
            "NB",
            "NL",
            "NS",
            "ON",
            "PE",
            "QC",
            "SK"
           ],
           "legendgroup": "Urban",
           "marker": {
            "color": "#EF553B",
            "pattern": {
             "shape": ""
            }
           },
           "name": "Urban",
           "offsetgroup": "Urban",
           "orientation": "v",
           "showlegend": true,
           "textposition": "auto",
           "type": "bar",
           "x": [
            "AB",
            "BC",
            "MB",
            "NB",
            "NL",
            "NS",
            "ON",
            "PE",
            "QC",
            "SK"
           ],
           "xaxis": "x",
           "y": [
            597751.1210613202,
            968835.2356805312,
            214712.32665210712,
            113407.1011904762,
            65376.844404859774,
            147616.65552258064,
            2309788.148682098,
            9820.684596169858,
            1419144.265659399,
            174084.37298966304
           ],
           "yaxis": "y"
          }
         ],
         "name": "2020-09-21"
        },
        {
         "data": [
          {
           "alignmentgroup": "True",
           "hovertemplate": "Type=Rural<br>date_range_start=2020-09-28<br>region=%{x}<br>mobility_score=%{y}<extra></extra>",
           "ids": [
            "AB",
            "BC",
            "MB",
            "NB",
            "NL",
            "NS",
            "ON",
            "PE",
            "QC",
            "SK"
           ],
           "legendgroup": "Rural",
           "marker": {
            "color": "#636efa",
            "pattern": {
             "shape": ""
            }
           },
           "name": "Rural",
           "offsetgroup": "Rural",
           "orientation": "v",
           "showlegend": true,
           "textposition": "auto",
           "type": "bar",
           "x": [
            "AB",
            "BC",
            "MB",
            "NB",
            "NL",
            "NS",
            "ON",
            "PE",
            "QC",
            "SK"
           ],
           "xaxis": "x",
           "y": [
            101545.89872005788,
            147909.2190291893,
            21988.720478525425,
            29838.40152002861,
            16285.607500732496,
            26026.97379037754,
            507304.4551932715,
            2024.9176020408163,
            250387.4044590545,
            26498.706355677336
           ],
           "yaxis": "y"
          },
          {
           "alignmentgroup": "True",
           "hovertemplate": "Type=Urban<br>date_range_start=2020-09-28<br>region=%{x}<br>mobility_score=%{y}<extra></extra>",
           "ids": [
            "AB",
            "BC",
            "MB",
            "NB",
            "NL",
            "NS",
            "ON",
            "PE",
            "QC",
            "SK"
           ],
           "legendgroup": "Urban",
           "marker": {
            "color": "#EF553B",
            "pattern": {
             "shape": ""
            }
           },
           "name": "Urban",
           "offsetgroup": "Urban",
           "orientation": "v",
           "showlegend": true,
           "textposition": "auto",
           "type": "bar",
           "x": [
            "AB",
            "BC",
            "MB",
            "NB",
            "NL",
            "NS",
            "ON",
            "PE",
            "QC",
            "SK"
           ],
           "xaxis": "x",
           "y": [
            630677.0517773414,
            1011502.6571661872,
            205559.17171974623,
            143122.23199213162,
            56928.465670475634,
            206271.22073054384,
            2225348.191183084,
            9549.275850340136,
            1323105.9658616218,
            182409.2109871015
           ],
           "yaxis": "y"
          }
         ],
         "name": "2020-09-28"
        },
        {
         "data": [
          {
           "alignmentgroup": "True",
           "hovertemplate": "Type=Rural<br>date_range_start=2020-10-05<br>region=%{x}<br>mobility_score=%{y}<extra></extra>",
           "ids": [
            "AB",
            "BC",
            "MB",
            "NB",
            "NL",
            "NS",
            "ON",
            "PE",
            "QC",
            "SK"
           ],
           "legendgroup": "Rural",
           "marker": {
            "color": "#636efa",
            "pattern": {
             "shape": ""
            }
           },
           "name": "Rural",
           "offsetgroup": "Rural",
           "orientation": "v",
           "showlegend": true,
           "textposition": "auto",
           "type": "bar",
           "x": [
            "AB",
            "BC",
            "MB",
            "NB",
            "NL",
            "NS",
            "ON",
            "PE",
            "QC",
            "SK"
           ],
           "xaxis": "x",
           "y": [
            105830.3015496285,
            125027.72735022596,
            23040.95184623864,
            33524.42582772975,
            10259.217961214335,
            26787.14835101807,
            400834.0398782522,
            1257.359990834097,
            217263.856278896,
            16590.44725872826
           ],
           "yaxis": "y"
          },
          {
           "alignmentgroup": "True",
           "hovertemplate": "Type=Urban<br>date_range_start=2020-10-05<br>region=%{x}<br>mobility_score=%{y}<extra></extra>",
           "ids": [
            "AB",
            "BC",
            "MB",
            "NB",
            "NL",
            "NS",
            "ON",
            "PE",
            "QC",
            "SK"
           ],
           "legendgroup": "Urban",
           "marker": {
            "color": "#EF553B",
            "pattern": {
             "shape": ""
            }
           },
           "name": "Urban",
           "offsetgroup": "Urban",
           "orientation": "v",
           "showlegend": true,
           "textposition": "auto",
           "type": "bar",
           "x": [
            "AB",
            "BC",
            "MB",
            "NB",
            "NL",
            "NS",
            "ON",
            "PE",
            "QC",
            "SK"
           ],
           "xaxis": "x",
           "y": [
            538211.5864316027,
            1000105.0693863432,
            178205.34698876337,
            104822.99367275056,
            70889.79580668088,
            144099.12852021796,
            1951527.748227376,
            9824.49825847846,
            1164049.996287302,
            170772.58606133013
           ],
           "yaxis": "y"
          }
         ],
         "name": "2020-10-05"
        },
        {
         "data": [
          {
           "alignmentgroup": "True",
           "hovertemplate": "Type=Rural<br>date_range_start=2020-10-12<br>region=%{x}<br>mobility_score=%{y}<extra></extra>",
           "ids": [
            "AB",
            "BC",
            "MB",
            "NB",
            "NL",
            "NS",
            "ON",
            "PE",
            "QC",
            "SK"
           ],
           "legendgroup": "Rural",
           "marker": {
            "color": "#636efa",
            "pattern": {
             "shape": ""
            }
           },
           "name": "Rural",
           "offsetgroup": "Rural",
           "orientation": "v",
           "showlegend": true,
           "textposition": "auto",
           "type": "bar",
           "x": [
            "AB",
            "BC",
            "MB",
            "NB",
            "NL",
            "NS",
            "ON",
            "PE",
            "QC",
            "SK"
           ],
           "xaxis": "x",
           "y": [
            97126.29298858022,
            148932.34895639535,
            16987.283695526046,
            22915.68203723217,
            11597.964470993436,
            20239.46323954373,
            360441.7923337606,
            681.3988372093023,
            239771.6753451828,
            21750.35175075032
           ],
           "yaxis": "y"
          },
          {
           "alignmentgroup": "True",
           "hovertemplate": "Type=Urban<br>date_range_start=2020-10-12<br>region=%{x}<br>mobility_score=%{y}<extra></extra>",
           "ids": [
            "AB",
            "BC",
            "MB",
            "NB",
            "NL",
            "NS",
            "ON",
            "PE",
            "QC",
            "SK"
           ],
           "legendgroup": "Urban",
           "marker": {
            "color": "#EF553B",
            "pattern": {
             "shape": ""
            }
           },
           "name": "Urban",
           "offsetgroup": "Urban",
           "orientation": "v",
           "showlegend": true,
           "textposition": "auto",
           "type": "bar",
           "x": [
            "AB",
            "BC",
            "MB",
            "NB",
            "NL",
            "NS",
            "ON",
            "PE",
            "QC",
            "SK"
           ],
           "xaxis": "x",
           "y": [
            625007.3195046652,
            1038162.401690773,
            184693.5037503937,
            102348.65515981735,
            61742.84635668927,
            142753.76071482888,
            1978223.1568754185,
            11748.070070778564,
            1186260.0892523066,
            162038.15498070602
           ],
           "yaxis": "y"
          }
         ],
         "name": "2020-10-12"
        },
        {
         "data": [
          {
           "alignmentgroup": "True",
           "hovertemplate": "Type=Rural<br>date_range_start=2020-10-19<br>region=%{x}<br>mobility_score=%{y}<extra></extra>",
           "ids": [
            "AB",
            "BC",
            "MB",
            "NB",
            "NL",
            "NS",
            "ON",
            "PE",
            "QC",
            "SK"
           ],
           "legendgroup": "Rural",
           "marker": {
            "color": "#636efa",
            "pattern": {
             "shape": ""
            }
           },
           "name": "Rural",
           "offsetgroup": "Rural",
           "orientation": "v",
           "showlegend": true,
           "textposition": "auto",
           "type": "bar",
           "x": [
            "AB",
            "BC",
            "MB",
            "NB",
            "NL",
            "NS",
            "ON",
            "PE",
            "QC",
            "SK"
           ],
           "xaxis": "x",
           "y": [
            129096.95574935744,
            156750.21851595983,
            19552.2384791112,
            25053.548056743104,
            25035.15122711728,
            28214.29865865586,
            412745.14742589,
            2486.0733333333333,
            259194.89643089063,
            23898.5641025641
           ],
           "yaxis": "y"
          },
          {
           "alignmentgroup": "True",
           "hovertemplate": "Type=Urban<br>date_range_start=2020-10-19<br>region=%{x}<br>mobility_score=%{y}<extra></extra>",
           "ids": [
            "AB",
            "BC",
            "MB",
            "NB",
            "NL",
            "NS",
            "ON",
            "PE",
            "QC",
            "SK"
           ],
           "legendgroup": "Urban",
           "marker": {
            "color": "#EF553B",
            "pattern": {
             "shape": ""
            }
           },
           "name": "Urban",
           "offsetgroup": "Urban",
           "orientation": "v",
           "showlegend": true,
           "textposition": "auto",
           "type": "bar",
           "x": [
            "AB",
            "BC",
            "MB",
            "NB",
            "NL",
            "NS",
            "ON",
            "PE",
            "QC",
            "SK"
           ],
           "xaxis": "x",
           "y": [
            692161.9933363633,
            1144950.0205280497,
            214238.2913050981,
            98296.7383922788,
            54593.11911084289,
            171657.8914349588,
            2308510.787613948,
            11448.895630630628,
            1241846.6090495852,
            177149.7276353276
           ],
           "yaxis": "y"
          }
         ],
         "name": "2020-10-19"
        },
        {
         "data": [
          {
           "alignmentgroup": "True",
           "hovertemplate": "Type=Rural<br>date_range_start=2020-10-26<br>region=%{x}<br>mobility_score=%{y}<extra></extra>",
           "ids": [
            "AB",
            "BC",
            "MB",
            "NB",
            "NL",
            "NS",
            "ON",
            "PE",
            "QC",
            "SK"
           ],
           "legendgroup": "Rural",
           "marker": {
            "color": "#636efa",
            "pattern": {
             "shape": ""
            }
           },
           "name": "Rural",
           "offsetgroup": "Rural",
           "orientation": "v",
           "showlegend": true,
           "textposition": "auto",
           "type": "bar",
           "x": [
            "AB",
            "BC",
            "MB",
            "NB",
            "NL",
            "NS",
            "ON",
            "PE",
            "QC",
            "SK"
           ],
           "xaxis": "x",
           "y": [
            128575.62794816124,
            196459.911108427,
            22239.05951395651,
            38902.9992293578,
            33570.51198657188,
            36261.24149329319,
            392897.7515569576,
            453.6453096539162,
            235096.80907663092,
            20809.287377335662
           ],
           "yaxis": "y"
          },
          {
           "alignmentgroup": "True",
           "hovertemplate": "Type=Urban<br>date_range_start=2020-10-26<br>region=%{x}<br>mobility_score=%{y}<extra></extra>",
           "ids": [
            "AB",
            "BC",
            "MB",
            "NB",
            "NL",
            "NS",
            "ON",
            "PE",
            "QC",
            "SK"
           ],
           "legendgroup": "Urban",
           "marker": {
            "color": "#EF553B",
            "pattern": {
             "shape": ""
            }
           },
           "name": "Urban",
           "offsetgroup": "Urban",
           "orientation": "v",
           "showlegend": true,
           "textposition": "auto",
           "type": "bar",
           "x": [
            "AB",
            "BC",
            "MB",
            "NB",
            "NL",
            "NS",
            "ON",
            "PE",
            "QC",
            "SK"
           ],
           "xaxis": "x",
           "y": [
            683531.8771238327,
            1082299.3770726873,
            207450.6354227524,
            92079.51987767583,
            46465.84335505529,
            195675.30254585276,
            2323332.9149141884,
            16886.76470856102,
            1293756.1752408636,
            218822.3737061433
           ],
           "yaxis": "y"
          }
         ],
         "name": "2020-10-26"
        },
        {
         "data": [
          {
           "alignmentgroup": "True",
           "hovertemplate": "Type=Rural<br>date_range_start=2020-11-02<br>region=%{x}<br>mobility_score=%{y}<extra></extra>",
           "ids": [
            "AB",
            "BC",
            "MB",
            "NB",
            "NL",
            "NS",
            "ON",
            "PE",
            "QC",
            "SK"
           ],
           "legendgroup": "Rural",
           "marker": {
            "color": "#636efa",
            "pattern": {
             "shape": ""
            }
           },
           "name": "Rural",
           "offsetgroup": "Rural",
           "orientation": "v",
           "showlegend": true,
           "textposition": "auto",
           "type": "bar",
           "x": [
            "AB",
            "BC",
            "MB",
            "NB",
            "NL",
            "NS",
            "ON",
            "PE",
            "QC",
            "SK"
           ],
           "xaxis": "x",
           "y": [
            162925.49111758883,
            180516.0950342817,
            18847.58362001095,
            40201.41612666667,
            23731.83709256845,
            51979.66063732928,
            424980.53437520826,
            1206.181132075472,
            237142.01074486136,
            25037.717379320093
           ],
           "yaxis": "y"
          },
          {
           "alignmentgroup": "True",
           "hovertemplate": "Type=Urban<br>date_range_start=2020-11-02<br>region=%{x}<br>mobility_score=%{y}<extra></extra>",
           "ids": [
            "AB",
            "BC",
            "MB",
            "NB",
            "NL",
            "NS",
            "ON",
            "PE",
            "QC",
            "SK"
           ],
           "legendgroup": "Urban",
           "marker": {
            "color": "#EF553B",
            "pattern": {
             "shape": ""
            }
           },
           "name": "Urban",
           "offsetgroup": "Urban",
           "orientation": "v",
           "showlegend": true,
           "textposition": "auto",
           "type": "bar",
           "x": [
            "AB",
            "BC",
            "MB",
            "NB",
            "NL",
            "NS",
            "ON",
            "PE",
            "QC",
            "SK"
           ],
           "xaxis": "x",
           "y": [
            826204.9982574366,
            1188354.4315381616,
            201869.68614362975,
            96490.17671333332,
            57678.48564754455,
            166890.28193474963,
            2465900.2726829923,
            15524.291807348562,
            1403734.3075392763,
            217166.1989963955
           ],
           "yaxis": "y"
          }
         ],
         "name": "2020-11-02"
        },
        {
         "data": [
          {
           "alignmentgroup": "True",
           "hovertemplate": "Type=Rural<br>date_range_start=2020-11-09<br>region=%{x}<br>mobility_score=%{y}<extra></extra>",
           "ids": [
            "AB",
            "BC",
            "MB",
            "NB",
            "NL",
            "NS",
            "ON",
            "PE",
            "QC",
            "SK"
           ],
           "legendgroup": "Rural",
           "marker": {
            "color": "#636efa",
            "pattern": {
             "shape": ""
            }
           },
           "name": "Rural",
           "offsetgroup": "Rural",
           "orientation": "v",
           "showlegend": true,
           "textposition": "auto",
           "type": "bar",
           "x": [
            "AB",
            "BC",
            "MB",
            "NB",
            "NL",
            "NS",
            "ON",
            "PE",
            "QC",
            "SK"
           ],
           "xaxis": "x",
           "y": [
            160861.91439111347,
            176522.33838145193,
            17485.305823149472,
            37929.83482384824,
            12956.812898751734,
            30889.678010139414,
            375536.9768201762,
            954.3558823529412,
            267412.40265106375,
            36075.20196530932
           ],
           "yaxis": "y"
          },
          {
           "alignmentgroup": "True",
           "hovertemplate": "Type=Urban<br>date_range_start=2020-11-09<br>region=%{x}<br>mobility_score=%{y}<extra></extra>",
           "ids": [
            "AB",
            "BC",
            "MB",
            "NB",
            "NL",
            "NS",
            "ON",
            "PE",
            "QC",
            "SK"
           ],
           "legendgroup": "Urban",
           "marker": {
            "color": "#EF553B",
            "pattern": {
             "shape": ""
            }
           },
           "name": "Urban",
           "offsetgroup": "Urban",
           "orientation": "v",
           "showlegend": true,
           "textposition": "auto",
           "type": "bar",
           "x": [
            "AB",
            "BC",
            "MB",
            "NB",
            "NL",
            "NS",
            "ON",
            "PE",
            "QC",
            "SK"
           ],
           "xaxis": "x",
           "y": [
            876821.159417785,
            1135099.7315169645,
            159312.5349921098,
            78082.30609756097,
            69620.31220527047,
            127487.16322084918,
            2539413.4288220545,
            23725.002352941177,
            1473962.2667666394,
            197684.5012134296
           ],
           "yaxis": "y"
          }
         ],
         "name": "2020-11-09"
        },
        {
         "data": [
          {
           "alignmentgroup": "True",
           "hovertemplate": "Type=Rural<br>date_range_start=2020-11-16<br>region=%{x}<br>mobility_score=%{y}<extra></extra>",
           "ids": [
            "AB",
            "BC",
            "MB",
            "NB",
            "NL",
            "NS",
            "ON",
            "PE",
            "QC",
            "SK"
           ],
           "legendgroup": "Rural",
           "marker": {
            "color": "#636efa",
            "pattern": {
             "shape": ""
            }
           },
           "name": "Rural",
           "offsetgroup": "Rural",
           "orientation": "v",
           "showlegend": true,
           "textposition": "auto",
           "type": "bar",
           "x": [
            "AB",
            "BC",
            "MB",
            "NB",
            "NL",
            "NS",
            "ON",
            "PE",
            "QC",
            "SK"
           ],
           "xaxis": "x",
           "y": [
            123136.98154839002,
            176708.21774376745,
            15944.769994400636,
            33041.27984496124,
            14738.756866997108,
            29942.032404355927,
            369517.025001572,
            1171.6054511278194,
            236021.0220819871,
            21887.60545750407
           ],
           "yaxis": "y"
          },
          {
           "alignmentgroup": "True",
           "hovertemplate": "Type=Urban<br>date_range_start=2020-11-16<br>region=%{x}<br>mobility_score=%{y}<extra></extra>",
           "ids": [
            "AB",
            "BC",
            "MB",
            "NB",
            "NL",
            "NS",
            "ON",
            "PE",
            "QC",
            "SK"
           ],
           "legendgroup": "Urban",
           "marker": {
            "color": "#EF553B",
            "pattern": {
             "shape": ""
            }
           },
           "name": "Urban",
           "offsetgroup": "Urban",
           "orientation": "v",
           "showlegend": true,
           "textposition": "auto",
           "type": "bar",
           "x": [
            "AB",
            "BC",
            "MB",
            "NB",
            "NL",
            "NS",
            "ON",
            "PE",
            "QC",
            "SK"
           ],
           "xaxis": "x",
           "y": [
            676650.6701147596,
            1086137.6770667697,
            207786.76118317703,
            97816.11733615224,
            55891.7306897976,
            159938.7775755839,
            2210580.2717334246,
            23296.923778195487,
            1209363.750802706,
            161079.2501189135
           ],
           "yaxis": "y"
          }
         ],
         "name": "2020-11-16"
        },
        {
         "data": [
          {
           "alignmentgroup": "True",
           "hovertemplate": "Type=Rural<br>date_range_start=2020-11-23<br>region=%{x}<br>mobility_score=%{y}<extra></extra>",
           "ids": [
            "AB",
            "BC",
            "MB",
            "NB",
            "NL",
            "NS",
            "ON",
            "PE",
            "QC",
            "SK"
           ],
           "legendgroup": "Rural",
           "marker": {
            "color": "#636efa",
            "pattern": {
             "shape": ""
            }
           },
           "name": "Rural",
           "offsetgroup": "Rural",
           "orientation": "v",
           "showlegend": true,
           "textposition": "auto",
           "type": "bar",
           "x": [
            "AB",
            "BC",
            "MB",
            "NB",
            "NL",
            "NS",
            "ON",
            "PE",
            "QC",
            "SK"
           ],
           "xaxis": "x",
           "y": [
            97187.08676666486,
            184568.4777864938,
            20977.35204836324,
            32365.563692242475,
            21235.226305284174,
            20073.885562730626,
            336123.6542008342,
            756.6310144927536,
            301672.0528451649,
            20982.576770847547
           ],
           "yaxis": "y"
          },
          {
           "alignmentgroup": "True",
           "hovertemplate": "Type=Urban<br>date_range_start=2020-11-23<br>region=%{x}<br>mobility_score=%{y}<extra></extra>",
           "ids": [
            "AB",
            "BC",
            "MB",
            "NB",
            "NL",
            "NS",
            "ON",
            "PE",
            "QC",
            "SK"
           ],
           "legendgroup": "Urban",
           "marker": {
            "color": "#EF553B",
            "pattern": {
             "shape": ""
            }
           },
           "name": "Urban",
           "offsetgroup": "Urban",
           "orientation": "v",
           "showlegend": true,
           "textposition": "auto",
           "type": "bar",
           "x": [
            "AB",
            "BC",
            "MB",
            "NB",
            "NL",
            "NS",
            "ON",
            "PE",
            "QC",
            "SK"
           ],
           "xaxis": "x",
           "y": [
            739287.7212322745,
            1076911.2555286046,
            205305.17575487169,
            111573.4775681786,
            66647.11860489547,
            121720.83372539976,
            2629288.4136284795,
            24114.39661835749,
            1386084.7518837338,
            158179.13257813567
           ],
           "yaxis": "y"
          }
         ],
         "name": "2020-11-23"
        },
        {
         "data": [
          {
           "alignmentgroup": "True",
           "hovertemplate": "Type=Rural<br>date_range_start=2020-11-30<br>region=%{x}<br>mobility_score=%{y}<extra></extra>",
           "ids": [
            "AB",
            "BC",
            "MB",
            "NB",
            "NL",
            "NS",
            "ON",
            "PE",
            "QC",
            "SK"
           ],
           "legendgroup": "Rural",
           "marker": {
            "color": "#636efa",
            "pattern": {
             "shape": ""
            }
           },
           "name": "Rural",
           "offsetgroup": "Rural",
           "orientation": "v",
           "showlegend": true,
           "textposition": "auto",
           "type": "bar",
           "x": [
            "AB",
            "BC",
            "MB",
            "NB",
            "NL",
            "NS",
            "ON",
            "PE",
            "QC",
            "SK"
           ],
           "xaxis": "x",
           "y": [
            118386.84176445416,
            200780.5851482521,
            32323.57888836626,
            39858.79117202528,
            26526.00924405138,
            18448.592817472232,
            327201.7702279028,
            2962.14069325736,
            239849.8901610018,
            32215.871720899024
           ],
           "yaxis": "y"
          },
          {
           "alignmentgroup": "True",
           "hovertemplate": "Type=Urban<br>date_range_start=2020-11-30<br>region=%{x}<br>mobility_score=%{y}<extra></extra>",
           "ids": [
            "AB",
            "BC",
            "MB",
            "NB",
            "NL",
            "NS",
            "ON",
            "PE",
            "QC",
            "SK"
           ],
           "legendgroup": "Urban",
           "marker": {
            "color": "#EF553B",
            "pattern": {
             "shape": ""
            }
           },
           "name": "Urban",
           "offsetgroup": "Urban",
           "orientation": "v",
           "showlegend": true,
           "textposition": "auto",
           "type": "bar",
           "x": [
            "AB",
            "BC",
            "MB",
            "NB",
            "NL",
            "NS",
            "ON",
            "PE",
            "QC",
            "SK"
           ],
           "xaxis": "x",
           "y": [
            643675.3634030302,
            1033146.3186451304,
            207994.40311618065,
            87371.26543693323,
            70109.54106127606,
            126829.48123686582,
            2443096.7590480046,
            17375.699762583095,
            1397151.9170661897,
            141213.34376383762
           ],
           "yaxis": "y"
          }
         ],
         "name": "2020-11-30"
        },
        {
         "data": [
          {
           "alignmentgroup": "True",
           "hovertemplate": "Type=Rural<br>date_range_start=2020-12-07<br>region=%{x}<br>mobility_score=%{y}<extra></extra>",
           "ids": [
            "AB",
            "BC",
            "MB",
            "NB",
            "NL",
            "NS",
            "ON",
            "PE",
            "QC",
            "SK"
           ],
           "legendgroup": "Rural",
           "marker": {
            "color": "#636efa",
            "pattern": {
             "shape": ""
            }
           },
           "name": "Rural",
           "offsetgroup": "Rural",
           "orientation": "v",
           "showlegend": true,
           "textposition": "auto",
           "type": "bar",
           "x": [
            "AB",
            "BC",
            "MB",
            "NB",
            "NL",
            "NS",
            "ON",
            "PE",
            "QC",
            "SK"
           ],
           "xaxis": "x",
           "y": [
            133112.03232093624,
            186335.565459518,
            21501.018109612083,
            36251.32720448914,
            23338.09369276557,
            26934.44549335085,
            430251.6288778946,
            1792.2809080962802,
            245384.0570271919,
            20685.149801628733
           ],
           "yaxis": "y"
          },
          {
           "alignmentgroup": "True",
           "hovertemplate": "Type=Urban<br>date_range_start=2020-12-07<br>region=%{x}<br>mobility_score=%{y}<extra></extra>",
           "ids": [
            "AB",
            "BC",
            "MB",
            "NB",
            "NL",
            "NS",
            "ON",
            "PE",
            "QC",
            "SK"
           ],
           "legendgroup": "Urban",
           "marker": {
            "color": "#EF553B",
            "pattern": {
             "shape": ""
            }
           },
           "name": "Urban",
           "offsetgroup": "Urban",
           "orientation": "v",
           "showlegend": true,
           "textposition": "auto",
           "type": "bar",
           "x": [
            "AB",
            "BC",
            "MB",
            "NB",
            "NL",
            "NS",
            "ON",
            "PE",
            "QC",
            "SK"
           ],
           "xaxis": "x",
           "y": [
            682765.8550575371,
            1051287.1966450126,
            192577.63835775983,
            69339.46179857163,
            86703.9222985348,
            133953.97558693154,
            2300695.856339811,
            22804.22456236324,
            1503429.138549465,
            143130.4058467321
           ],
           "yaxis": "y"
          }
         ],
         "name": "2020-12-07"
        },
        {
         "data": [
          {
           "alignmentgroup": "True",
           "hovertemplate": "Type=Rural<br>date_range_start=2020-12-14<br>region=%{x}<br>mobility_score=%{y}<extra></extra>",
           "ids": [
            "AB",
            "BC",
            "MB",
            "NB",
            "NL",
            "NS",
            "ON",
            "PE",
            "QC",
            "SK"
           ],
           "legendgroup": "Rural",
           "marker": {
            "color": "#636efa",
            "pattern": {
             "shape": ""
            }
           },
           "name": "Rural",
           "offsetgroup": "Rural",
           "orientation": "v",
           "showlegend": true,
           "textposition": "auto",
           "type": "bar",
           "x": [
            "AB",
            "BC",
            "MB",
            "NB",
            "NL",
            "NS",
            "ON",
            "PE",
            "QC",
            "SK"
           ],
           "xaxis": "x",
           "y": [
            109202.6789645368,
            225308.877612816,
            25613.10533532144,
            41143.90024760929,
            21160.482981445937,
            15263.429770992365,
            420911.7574973922,
            783.8172069825434,
            283536.2767524121,
            27139.263721717714
           ],
           "yaxis": "y"
          },
          {
           "alignmentgroup": "True",
           "hovertemplate": "Type=Urban<br>date_range_start=2020-12-14<br>region=%{x}<br>mobility_score=%{y}<extra></extra>",
           "ids": [
            "AB",
            "BC",
            "MB",
            "NB",
            "NL",
            "NS",
            "ON",
            "PE",
            "QC",
            "SK"
           ],
           "legendgroup": "Urban",
           "marker": {
            "color": "#EF553B",
            "pattern": {
             "shape": ""
            }
           },
           "name": "Urban",
           "offsetgroup": "Urban",
           "orientation": "v",
           "showlegend": true,
           "textposition": "auto",
           "type": "bar",
           "x": [
            "AB",
            "BC",
            "MB",
            "NB",
            "NL",
            "NS",
            "ON",
            "PE",
            "QC",
            "SK"
           ],
           "xaxis": "x",
           "y": [
            990451.5871349288,
            1280432.0216948302,
            193055.64550448183,
            76388.15984460383,
            72964.54186820218,
            188896.34083969463,
            2761208.184330198,
            16277.492082294266,
            2014212.9607386617,
            123132.93667846698
           ],
           "yaxis": "y"
          }
         ],
         "name": "2020-12-14"
        },
        {
         "data": [
          {
           "alignmentgroup": "True",
           "hovertemplate": "Type=Rural<br>date_range_start=2020-12-21<br>region=%{x}<br>mobility_score=%{y}<extra></extra>",
           "ids": [
            "AB",
            "BC",
            "MB",
            "NB",
            "NL",
            "NS",
            "ON",
            "PE",
            "QC",
            "SK"
           ],
           "legendgroup": "Rural",
           "marker": {
            "color": "#636efa",
            "pattern": {
             "shape": ""
            }
           },
           "name": "Rural",
           "offsetgroup": "Rural",
           "orientation": "v",
           "showlegend": true,
           "textposition": "auto",
           "type": "bar",
           "x": [
            "AB",
            "BC",
            "MB",
            "NB",
            "NL",
            "NS",
            "ON",
            "PE",
            "QC",
            "SK"
           ],
           "xaxis": "x",
           "y": [
            95172.4520566797,
            166933.46035043208,
            35730.0537618714,
            49297.80158445441,
            6439.205305602716,
            9952.190665796345,
            382372.4869571924,
            1529.6961428571428,
            258534.3462502867,
            25697.069762746087
           ],
           "yaxis": "y"
          },
          {
           "alignmentgroup": "True",
           "hovertemplate": "Type=Urban<br>date_range_start=2020-12-21<br>region=%{x}<br>mobility_score=%{y}<extra></extra>",
           "ids": [
            "AB",
            "BC",
            "MB",
            "NB",
            "NL",
            "NS",
            "ON",
            "PE",
            "QC",
            "SK"
           ],
           "legendgroup": "Urban",
           "marker": {
            "color": "#EF553B",
            "pattern": {
             "shape": ""
            }
           },
           "name": "Urban",
           "offsetgroup": "Urban",
           "orientation": "v",
           "showlegend": true,
           "textposition": "auto",
           "type": "bar",
           "x": [
            "AB",
            "BC",
            "MB",
            "NB",
            "NL",
            "NS",
            "ON",
            "PE",
            "QC",
            "SK"
           ],
           "xaxis": "x",
           "y": [
            983608.7470267542,
            1231096.819683395,
            209878.79266892417,
            82159.10588938715,
            96532.85483870968,
            216493.8892406441,
            2753261.163452025,
            9551.087857142857,
            1560144.1329409068,
            124362.84193168432
           ],
           "yaxis": "y"
          }
         ],
         "name": "2020-12-21"
        },
        {
         "data": [
          {
           "alignmentgroup": "True",
           "hovertemplate": "Type=Rural<br>date_range_start=2020-12-28<br>region=%{x}<br>mobility_score=%{y}<extra></extra>",
           "ids": [
            "AB",
            "BC",
            "MB",
            "NB",
            "NL",
            "NS",
            "ON",
            "PE",
            "QC",
            "SK"
           ],
           "legendgroup": "Rural",
           "marker": {
            "color": "#636efa",
            "pattern": {
             "shape": ""
            }
           },
           "name": "Rural",
           "offsetgroup": "Rural",
           "orientation": "v",
           "showlegend": true,
           "textposition": "auto",
           "type": "bar",
           "x": [
            "AB",
            "BC",
            "MB",
            "NB",
            "NL",
            "NS",
            "ON",
            "PE",
            "QC",
            "SK"
           ],
           "xaxis": "x",
           "y": [
            117378.58041462796,
            161314.01983342294,
            25536.554241788097,
            32866.232361611525,
            18492.678085071973,
            7557.702954375467,
            465465.28246074176,
            313.1111754966888,
            285435.9095629485,
            21550.643556192863
           ],
           "yaxis": "y"
          },
          {
           "alignmentgroup": "True",
           "hovertemplate": "Type=Urban<br>date_range_start=2020-12-28<br>region=%{x}<br>mobility_score=%{y}<extra></extra>",
           "ids": [
            "AB",
            "BC",
            "MB",
            "NB",
            "NL",
            "NS",
            "ON",
            "PE",
            "QC",
            "SK"
           ],
           "legendgroup": "Urban",
           "marker": {
            "color": "#EF553B",
            "pattern": {
             "shape": ""
            }
           },
           "name": "Urban",
           "offsetgroup": "Urban",
           "orientation": "v",
           "showlegend": true,
           "textposition": "auto",
           "type": "bar",
           "x": [
            "AB",
            "BC",
            "MB",
            "NB",
            "NL",
            "NS",
            "ON",
            "PE",
            "QC",
            "SK"
           ],
           "xaxis": "x",
           "y": [
            932417.9126954708,
            1476535.9738131508,
            193741.01961904176,
            77763.77711540561,
            107871.14974931264,
            214354.68869359264,
            2975824.5792967887,
            13512.290728476824,
            1499724.1897108068,
            123690.37562287148
           ],
           "yaxis": "y"
          }
         ],
         "name": "2020-12-28"
        },
        {
         "data": [
          {
           "alignmentgroup": "True",
           "hovertemplate": "Type=Rural<br>date_range_start=2021-01-04<br>region=%{x}<br>mobility_score=%{y}<extra></extra>",
           "ids": [
            "AB",
            "BC",
            "MB",
            "NB",
            "NL",
            "NS",
            "ON",
            "PE",
            "QC",
            "SK"
           ],
           "legendgroup": "Rural",
           "marker": {
            "color": "#636efa",
            "pattern": {
             "shape": ""
            }
           },
           "name": "Rural",
           "offsetgroup": "Rural",
           "orientation": "v",
           "showlegend": true,
           "textposition": "auto",
           "type": "bar",
           "x": [
            "AB",
            "BC",
            "MB",
            "NB",
            "NL",
            "NS",
            "ON",
            "PE",
            "QC",
            "SK"
           ],
           "xaxis": "x",
           "y": [
            142537.2938442148,
            171805.89500598033,
            38448.22021485384,
            55180.619319938174,
            22283.187174966948,
            14274.513650580877,
            514106.23998234,
            100.89583333333331,
            249551.3308303429,
            43131.31159457384
           ],
           "yaxis": "y"
          },
          {
           "alignmentgroup": "True",
           "hovertemplate": "Type=Urban<br>date_range_start=2021-01-04<br>region=%{x}<br>mobility_score=%{y}<extra></extra>",
           "ids": [
            "AB",
            "BC",
            "MB",
            "NB",
            "NL",
            "NS",
            "ON",
            "PE",
            "QC",
            "SK"
           ],
           "legendgroup": "Urban",
           "marker": {
            "color": "#EF553B",
            "pattern": {
             "shape": ""
            }
           },
           "name": "Urban",
           "offsetgroup": "Urban",
           "orientation": "v",
           "showlegend": true,
           "textposition": "auto",
           "type": "bar",
           "x": [
            "AB",
            "BC",
            "MB",
            "NB",
            "NL",
            "NS",
            "ON",
            "PE",
            "QC",
            "SK"
           ],
           "xaxis": "x",
           "y": [
            874282.5604185378,
            1459598.652328181,
            162876.44049168474,
            92995.15837197322,
            74678.68613192302,
            139218.4490504915,
            3054215.292920993,
            18790.84,
            1658373.4007757886,
            173494.11265250406
           ],
           "yaxis": "y"
          }
         ],
         "name": "2021-01-04"
        },
        {
         "data": [
          {
           "alignmentgroup": "True",
           "hovertemplate": "Type=Rural<br>date_range_start=2021-01-11<br>region=%{x}<br>mobility_score=%{y}<extra></extra>",
           "ids": [
            "AB",
            "BC",
            "MB",
            "NB",
            "NL",
            "NS",
            "ON",
            "PE",
            "QC",
            "SK"
           ],
           "legendgroup": "Rural",
           "marker": {
            "color": "#636efa",
            "pattern": {
             "shape": ""
            }
           },
           "name": "Rural",
           "offsetgroup": "Rural",
           "orientation": "v",
           "showlegend": true,
           "textposition": "auto",
           "type": "bar",
           "x": [
            "AB",
            "BC",
            "MB",
            "NB",
            "NL",
            "NS",
            "ON",
            "PE",
            "QC",
            "SK"
           ],
           "xaxis": "x",
           "y": [
            168097.47829084017,
            190034.5516932773,
            47537.929046653975,
            29842.00825284396,
            20314.12014880952,
            26910.56836176728,
            530542.1616757112,
            120.70921450151056,
            310572.70011720335,
            28685.813088728173
           ],
           "yaxis": "y"
          },
          {
           "alignmentgroup": "True",
           "hovertemplate": "Type=Urban<br>date_range_start=2021-01-11<br>region=%{x}<br>mobility_score=%{y}<extra></extra>",
           "ids": [
            "AB",
            "BC",
            "MB",
            "NB",
            "NL",
            "NS",
            "ON",
            "PE",
            "QC",
            "SK"
           ],
           "legendgroup": "Urban",
           "marker": {
            "color": "#EF553B",
            "pattern": {
             "shape": ""
            }
           },
           "name": "Urban",
           "offsetgroup": "Urban",
           "orientation": "v",
           "showlegend": true,
           "textposition": "auto",
           "type": "bar",
           "x": [
            "AB",
            "BC",
            "MB",
            "NB",
            "NL",
            "NS",
            "ON",
            "PE",
            "QC",
            "SK"
           ],
           "xaxis": "x",
           "y": [
            1010318.6011111852,
            1330523.3303697477,
            158591.68764969602,
            126212.68432066968,
            68772.16428571429,
            184150.1225721785,
            3287842.133276737,
            13414.817371601208,
            1841554.8453726,
            174679.5156817781
           ],
           "yaxis": "y"
          }
         ],
         "name": "2021-01-11"
        },
        {
         "data": [
          {
           "alignmentgroup": "True",
           "hovertemplate": "Type=Rural<br>date_range_start=2021-01-18<br>region=%{x}<br>mobility_score=%{y}<extra></extra>",
           "ids": [
            "AB",
            "BC",
            "MB",
            "NB",
            "NL",
            "NS",
            "ON",
            "PE",
            "QC",
            "SK"
           ],
           "legendgroup": "Rural",
           "marker": {
            "color": "#636efa",
            "pattern": {
             "shape": ""
            }
           },
           "name": "Rural",
           "offsetgroup": "Rural",
           "orientation": "v",
           "showlegend": true,
           "textposition": "auto",
           "type": "bar",
           "x": [
            "AB",
            "BC",
            "MB",
            "NB",
            "NL",
            "NS",
            "ON",
            "PE",
            "QC",
            "SK"
           ],
           "xaxis": "x",
           "y": [
            169287.58728802818,
            168699.7203175598,
            42011.42482761631,
            45975.20620904143,
            31081.71388888889,
            17222.195519077195,
            475296.2653549085,
            619.3593465045592,
            295039.5944691725,
            35399.867982771
           ],
           "yaxis": "y"
          },
          {
           "alignmentgroup": "True",
           "hovertemplate": "Type=Urban<br>date_range_start=2021-01-18<br>region=%{x}<br>mobility_score=%{y}<extra></extra>",
           "ids": [
            "AB",
            "BC",
            "MB",
            "NB",
            "NL",
            "NS",
            "ON",
            "PE",
            "QC",
            "SK"
           ],
           "legendgroup": "Urban",
           "marker": {
            "color": "#EF553B",
            "pattern": {
             "shape": ""
            }
           },
           "name": "Urban",
           "offsetgroup": "Urban",
           "orientation": "v",
           "showlegend": true,
           "textposition": "auto",
           "type": "bar",
           "x": [
            "AB",
            "BC",
            "MB",
            "NB",
            "NL",
            "NS",
            "ON",
            "PE",
            "QC",
            "SK"
           ],
           "xaxis": "x",
           "y": [
            978067.2548460856,
            1349930.5229100783,
            209370.09179977307,
            93066.67391980453,
            54614.29368686869,
            221610.8375887311,
            3275108.7577750506,
            11731.394680851065,
            1703050.973994395,
            178445.0240488155
           ],
           "yaxis": "y"
          }
         ],
         "name": "2021-01-18"
        },
        {
         "data": [
          {
           "alignmentgroup": "True",
           "hovertemplate": "Type=Rural<br>date_range_start=2021-01-25<br>region=%{x}<br>mobility_score=%{y}<extra></extra>",
           "ids": [
            "AB",
            "BC",
            "MB",
            "NB",
            "NL",
            "NS",
            "ON",
            "PE",
            "QC",
            "SK"
           ],
           "legendgroup": "Rural",
           "marker": {
            "color": "#636efa",
            "pattern": {
             "shape": ""
            }
           },
           "name": "Rural",
           "offsetgroup": "Rural",
           "orientation": "v",
           "showlegend": true,
           "textposition": "auto",
           "type": "bar",
           "x": [
            "AB",
            "BC",
            "MB",
            "NB",
            "NL",
            "NS",
            "ON",
            "PE",
            "QC",
            "SK"
           ],
           "xaxis": "x",
           "y": [
            161423.81661866335,
            203567.29448405904,
            35974.05707927965,
            33134.47978531074,
            16125.606301969365,
            30727.39014270033,
            517816.8563200972,
            699.6684331797235,
            362469.4525108418,
            24565.10978853698
           ],
           "yaxis": "y"
          },
          {
           "alignmentgroup": "True",
           "hovertemplate": "Type=Urban<br>date_range_start=2021-01-25<br>region=%{x}<br>mobility_score=%{y}<extra></extra>",
           "ids": [
            "AB",
            "BC",
            "MB",
            "NB",
            "NL",
            "NS",
            "ON",
            "PE",
            "QC",
            "SK"
           ],
           "legendgroup": "Urban",
           "marker": {
            "color": "#EF553B",
            "pattern": {
             "shape": ""
            }
           },
           "name": "Urban",
           "offsetgroup": "Urban",
           "orientation": "v",
           "showlegend": true,
           "textposition": "auto",
           "type": "bar",
           "x": [
            "AB",
            "BC",
            "MB",
            "NB",
            "NL",
            "NS",
            "ON",
            "PE",
            "QC",
            "SK"
           ],
           "xaxis": "x",
           "y": [
            820627.7581476371,
            1479352.275955195,
            172765.3575116723,
            123899.71298305083,
            62714.48722100656,
            299948.6407025247,
            3482415.6541035334,
            49504.61036866359,
            1803562.0728893932,
            202314.83777628932
           ],
           "yaxis": "y"
          }
         ],
         "name": "2021-01-25"
        },
        {
         "data": [
          {
           "alignmentgroup": "True",
           "hovertemplate": "Type=Rural<br>date_range_start=2021-02-01<br>region=%{x}<br>mobility_score=%{y}<extra></extra>",
           "ids": [
            "AB",
            "BC",
            "MB",
            "NB",
            "NL",
            "NS",
            "ON",
            "PE",
            "QC",
            "SK"
           ],
           "legendgroup": "Rural",
           "marker": {
            "color": "#636efa",
            "pattern": {
             "shape": ""
            }
           },
           "name": "Rural",
           "offsetgroup": "Rural",
           "orientation": "v",
           "showlegend": true,
           "textposition": "auto",
           "type": "bar",
           "x": [
            "AB",
            "BC",
            "MB",
            "NB",
            "NL",
            "NS",
            "ON",
            "PE",
            "QC",
            "SK"
           ],
           "xaxis": "x",
           "y": [
            167464.58700547222,
            205489.99621633775,
            26500.23625328538,
            25941.809365493264,
            18919.388249293468,
            15267.860407984206,
            575240.6704670183,
            1315.827102102102,
            387272.7155023233,
            24086.151119617225
           ],
           "yaxis": "y"
          },
          {
           "alignmentgroup": "True",
           "hovertemplate": "Type=Urban<br>date_range_start=2021-02-01<br>region=%{x}<br>mobility_score=%{y}<extra></extra>",
           "ids": [
            "AB",
            "BC",
            "MB",
            "NB",
            "NL",
            "NS",
            "ON",
            "PE",
            "QC",
            "SK"
           ],
           "legendgroup": "Urban",
           "marker": {
            "color": "#EF553B",
            "pattern": {
             "shape": ""
            }
           },
           "name": "Urban",
           "offsetgroup": "Urban",
           "orientation": "v",
           "showlegend": true,
           "textposition": "auto",
           "type": "bar",
           "x": [
            "AB",
            "BC",
            "MB",
            "NB",
            "NL",
            "NS",
            "ON",
            "PE",
            "QC",
            "SK"
           ],
           "xaxis": "x",
           "y": [
            842807.5877291817,
            1481173.997939975,
            192517.12449854752,
            123306.44173185572,
            60938.389647478805,
            199337.9589054617,
            3262924.867625502,
            26440.525750750752,
            1972454.5238102868,
            167946.89776076557
           ],
           "yaxis": "y"
          }
         ],
         "name": "2021-02-01"
        },
        {
         "data": [
          {
           "alignmentgroup": "True",
           "hovertemplate": "Type=Rural<br>date_range_start=2021-02-08<br>region=%{x}<br>mobility_score=%{y}<extra></extra>",
           "ids": [
            "AB",
            "BC",
            "MB",
            "NB",
            "NL",
            "NS",
            "ON",
            "PE",
            "QC",
            "SK"
           ],
           "legendgroup": "Rural",
           "marker": {
            "color": "#636efa",
            "pattern": {
             "shape": ""
            }
           },
           "name": "Rural",
           "offsetgroup": "Rural",
           "orientation": "v",
           "showlegend": true,
           "textposition": "auto",
           "type": "bar",
           "x": [
            "AB",
            "BC",
            "MB",
            "NB",
            "NL",
            "NS",
            "ON",
            "PE",
            "QC",
            "SK"
           ],
           "xaxis": "x",
           "y": [
            168710.78764736868,
            208920.05792519412,
            23848.541258775836,
            22183.45281631685,
            5281.859876543211,
            48587.76203893443,
            553874.7347878752,
            1520.7363475177303,
            296913.45670949173,
            39038.08723829564
           ],
           "yaxis": "y"
          },
          {
           "alignmentgroup": "True",
           "hovertemplate": "Type=Urban<br>date_range_start=2021-02-08<br>region=%{x}<br>mobility_score=%{y}<extra></extra>",
           "ids": [
            "AB",
            "BC",
            "MB",
            "NB",
            "NL",
            "NS",
            "ON",
            "PE",
            "QC",
            "SK"
           ],
           "legendgroup": "Urban",
           "marker": {
            "color": "#EF553B",
            "pattern": {
             "shape": ""
            }
           },
           "name": "Urban",
           "offsetgroup": "Urban",
           "orientation": "v",
           "showlegend": true,
           "textposition": "auto",
           "type": "bar",
           "x": [
            "AB",
            "BC",
            "MB",
            "NB",
            "NL",
            "NS",
            "ON",
            "PE",
            "QC",
            "SK"
           ],
           "xaxis": "x",
           "y": [
            813435.6885263632,
            1459930.98802023,
            206312.41271754177,
            101471.67599905135,
            52681.591666666674,
            180071.59829661885,
            2921445.587742896,
            23448.621010638297,
            1624883.3812916256,
            177639.21312993162
           ],
           "yaxis": "y"
          }
         ],
         "name": "2021-02-08"
        },
        {
         "data": [
          {
           "alignmentgroup": "True",
           "hovertemplate": "Type=Rural<br>date_range_start=2021-02-15<br>region=%{x}<br>mobility_score=%{y}<extra></extra>",
           "ids": [
            "AB",
            "BC",
            "MB",
            "NB",
            "NL",
            "NS",
            "ON",
            "PE",
            "QC",
            "SK"
           ],
           "legendgroup": "Rural",
           "marker": {
            "color": "#636efa",
            "pattern": {
             "shape": ""
            }
           },
           "name": "Rural",
           "offsetgroup": "Rural",
           "orientation": "v",
           "showlegend": true,
           "textposition": "auto",
           "type": "bar",
           "x": [
            "AB",
            "BC",
            "MB",
            "NB",
            "NL",
            "NS",
            "ON",
            "PE",
            "QC",
            "SK"
           ],
           "xaxis": "x",
           "y": [
            176749.32680166097,
            173078.00613595048,
            15538.03813854272,
            24604.316091576296,
            4801.915576323988,
            23242.60342992981,
            566147.5809341724,
            1038.865054602184,
            298512.6403303454,
            23061.360046728973
           ],
           "yaxis": "y"
          },
          {
           "alignmentgroup": "True",
           "hovertemplate": "Type=Urban<br>date_range_start=2021-02-15<br>region=%{x}<br>mobility_score=%{y}<extra></extra>",
           "ids": [
            "AB",
            "BC",
            "MB",
            "NB",
            "NL",
            "NS",
            "ON",
            "PE",
            "QC",
            "SK"
           ],
           "legendgroup": "Urban",
           "marker": {
            "color": "#EF553B",
            "pattern": {
             "shape": ""
            }
           },
           "name": "Urban",
           "offsetgroup": "Urban",
           "orientation": "v",
           "showlegend": true,
           "textposition": "auto",
           "type": "bar",
           "x": [
            "AB",
            "BC",
            "MB",
            "NB",
            "NL",
            "NS",
            "ON",
            "PE",
            "QC",
            "SK"
           ],
           "xaxis": "x",
           "y": [
            687706.6478038325,
            1444419.9615364424,
            186805.2960761199,
            102165.31042830538,
            53235.933956386296,
            181905.06293864612,
            3150038.64772092,
            33771.4251950078,
            1751669.7435068989,
            165685.26604361372
           ],
           "yaxis": "y"
          }
         ],
         "name": "2021-02-15"
        },
        {
         "data": [
          {
           "alignmentgroup": "True",
           "hovertemplate": "Type=Rural<br>date_range_start=2021-02-22<br>region=%{x}<br>mobility_score=%{y}<extra></extra>",
           "ids": [
            "AB",
            "BC",
            "MB",
            "NB",
            "NL",
            "NS",
            "ON",
            "PE",
            "QC",
            "SK"
           ],
           "legendgroup": "Rural",
           "marker": {
            "color": "#636efa",
            "pattern": {
             "shape": ""
            }
           },
           "name": "Rural",
           "offsetgroup": "Rural",
           "orientation": "v",
           "showlegend": true,
           "textposition": "auto",
           "type": "bar",
           "x": [
            "AB",
            "BC",
            "MB",
            "NB",
            "NL",
            "NS",
            "ON",
            "PE",
            "QC",
            "SK"
           ],
           "xaxis": "x",
           "y": [
            178584.5355484082,
            230228.4924030368,
            24338.94841391857,
            29492.15446507516,
            3431.248692449355,
            27063.623134673137,
            559658.5615549828,
            660.550885668277,
            305821.076183985,
            30640.56783042394
           ],
           "yaxis": "y"
          },
          {
           "alignmentgroup": "True",
           "hovertemplate": "Type=Urban<br>date_range_start=2021-02-22<br>region=%{x}<br>mobility_score=%{y}<extra></extra>",
           "ids": [
            "AB",
            "BC",
            "MB",
            "NB",
            "NL",
            "NS",
            "ON",
            "PE",
            "QC",
            "SK"
           ],
           "legendgroup": "Urban",
           "marker": {
            "color": "#EF553B",
            "pattern": {
             "shape": ""
            }
           },
           "name": "Urban",
           "offsetgroup": "Urban",
           "orientation": "v",
           "showlegend": true,
           "textposition": "auto",
           "type": "bar",
           "x": [
            "AB",
            "BC",
            "MB",
            "NB",
            "NL",
            "NS",
            "ON",
            "PE",
            "QC",
            "SK"
           ],
           "xaxis": "x",
           "y": [
            731352.1082152656,
            1295393.341119852,
            244297.0861262716,
            136902.54645225464,
            53294.57640883977,
            163030.3305844306,
            2968813.373261495,
            23449.556441223835,
            1556415.3677509965,
            215784.39733998335
           ],
           "yaxis": "y"
          }
         ],
         "name": "2021-02-22"
        },
        {
         "data": [
          {
           "alignmentgroup": "True",
           "hovertemplate": "Type=Rural<br>date_range_start=2021-03-01<br>region=%{x}<br>mobility_score=%{y}<extra></extra>",
           "ids": [
            "AB",
            "BC",
            "MB",
            "NB",
            "NL",
            "NS",
            "ON",
            "PE",
            "QC",
            "SK"
           ],
           "legendgroup": "Rural",
           "marker": {
            "color": "#636efa",
            "pattern": {
             "shape": ""
            }
           },
           "name": "Rural",
           "offsetgroup": "Rural",
           "orientation": "v",
           "showlegend": true,
           "textposition": "auto",
           "type": "bar",
           "x": [
            "AB",
            "BC",
            "MB",
            "NB",
            "NL",
            "NS",
            "ON",
            "PE",
            "QC",
            "SK"
           ],
           "xaxis": "x",
           "y": [
            196739.33670126495,
            188034.54337977557,
            28740.623119358075,
            38585.769042925975,
            3024.954761904762,
            37832.3458076308,
            485058.94879723067,
            81.40186757215619,
            365962.2978526211,
            33763.73526648969
           ],
           "yaxis": "y"
          },
          {
           "alignmentgroup": "True",
           "hovertemplate": "Type=Urban<br>date_range_start=2021-03-01<br>region=%{x}<br>mobility_score=%{y}<extra></extra>",
           "ids": [
            "AB",
            "BC",
            "MB",
            "NB",
            "NL",
            "NS",
            "ON",
            "PE",
            "QC",
            "SK"
           ],
           "legendgroup": "Urban",
           "marker": {
            "color": "#EF553B",
            "pattern": {
             "shape": ""
            }
           },
           "name": "Urban",
           "offsetgroup": "Urban",
           "orientation": "v",
           "showlegend": true,
           "textposition": "auto",
           "type": "bar",
           "x": [
            "AB",
            "BC",
            "MB",
            "NB",
            "NL",
            "NS",
            "ON",
            "PE",
            "QC",
            "SK"
           ],
           "xaxis": "x",
           "y": [
            671262.6807863016,
            1438506.7573978617,
            220373.1893565312,
            126625.21100525623,
            38745.84375,
            202054.71202878683,
            3366349.9886079235,
            16018.078607809848,
            1712051.4902974884,
            193809.978925873
           ],
           "yaxis": "y"
          }
         ],
         "name": "2021-03-01"
        },
        {
         "data": [
          {
           "alignmentgroup": "True",
           "hovertemplate": "Type=Rural<br>date_range_start=2021-03-08<br>region=%{x}<br>mobility_score=%{y}<extra></extra>",
           "ids": [
            "AB",
            "BC",
            "MB",
            "NB",
            "NL",
            "NS",
            "ON",
            "PE",
            "QC",
            "SK"
           ],
           "legendgroup": "Rural",
           "marker": {
            "color": "#636efa",
            "pattern": {
             "shape": ""
            }
           },
           "name": "Rural",
           "offsetgroup": "Rural",
           "orientation": "v",
           "showlegend": true,
           "textposition": "auto",
           "type": "bar",
           "x": [
            "AB",
            "BC",
            "MB",
            "NB",
            "NL",
            "NS",
            "ON",
            "PE",
            "QC",
            "SK"
           ],
           "xaxis": "x",
           "y": [
            162862.97021887716,
            204489.35471969767,
            30343.13451964077,
            30364.421844496803,
            14279.086545881564,
            26785.64016639704,
            443490.8636427378,
            852.5446932006633,
            350912.5756296744,
            24480.19053349378
           ],
           "yaxis": "y"
          },
          {
           "alignmentgroup": "True",
           "hovertemplate": "Type=Urban<br>date_range_start=2021-03-08<br>region=%{x}<br>mobility_score=%{y}<extra></extra>",
           "ids": [
            "AB",
            "BC",
            "MB",
            "NB",
            "NL",
            "NS",
            "ON",
            "PE",
            "QC",
            "SK"
           ],
           "legendgroup": "Urban",
           "marker": {
            "color": "#EF553B",
            "pattern": {
             "shape": ""
            }
           },
           "name": "Urban",
           "offsetgroup": "Urban",
           "orientation": "v",
           "showlegend": true,
           "textposition": "auto",
           "type": "bar",
           "x": [
            "AB",
            "BC",
            "MB",
            "NB",
            "NL",
            "NS",
            "ON",
            "PE",
            "QC",
            "SK"
           ],
           "xaxis": "x",
           "y": [
            609084.7316876606,
            1355791.7282561965,
            184894.4296195717,
            139805.32675866713,
            58329.91575239055,
            200730.0783568292,
            3066241.090884706,
            37264.5960199005,
            1520268.8003333264,
            199305.2003208985
           ],
           "yaxis": "y"
          }
         ],
         "name": "2021-03-08"
        },
        {
         "data": [
          {
           "alignmentgroup": "True",
           "hovertemplate": "Type=Rural<br>date_range_start=2021-03-15<br>region=%{x}<br>mobility_score=%{y}<extra></extra>",
           "ids": [
            "AB",
            "BC",
            "MB",
            "NB",
            "NL",
            "NS",
            "ON",
            "PE",
            "QC",
            "SK"
           ],
           "legendgroup": "Rural",
           "marker": {
            "color": "#636efa",
            "pattern": {
             "shape": ""
            }
           },
           "name": "Rural",
           "offsetgroup": "Rural",
           "orientation": "v",
           "showlegend": true,
           "textposition": "auto",
           "type": "bar",
           "x": [
            "AB",
            "BC",
            "MB",
            "NB",
            "NL",
            "NS",
            "ON",
            "PE",
            "QC",
            "SK"
           ],
           "xaxis": "x",
           "y": [
            166084.42909408413,
            245902.61695627944,
            25696.663049602237,
            37460.5897909791,
            42252.60663814956,
            21718.712127906976,
            468463.0275441772,
            648.7276612903224,
            305399.7712927168,
            16799.915898220777
           ],
           "yaxis": "y"
          },
          {
           "alignmentgroup": "True",
           "hovertemplate": "Type=Urban<br>date_range_start=2021-03-15<br>region=%{x}<br>mobility_score=%{y}<extra></extra>",
           "ids": [
            "AB",
            "BC",
            "MB",
            "NB",
            "NL",
            "NS",
            "ON",
            "PE",
            "QC",
            "SK"
           ],
           "legendgroup": "Urban",
           "marker": {
            "color": "#EF553B",
            "pattern": {
             "shape": ""
            }
           },
           "name": "Urban",
           "offsetgroup": "Urban",
           "orientation": "v",
           "showlegend": true,
           "textposition": "auto",
           "type": "bar",
           "x": [
            "AB",
            "BC",
            "MB",
            "NB",
            "NL",
            "NS",
            "ON",
            "PE",
            "QC",
            "SK"
           ],
           "xaxis": "x",
           "y": [
            640727.5770152117,
            1436770.0888389614,
            170885.76578099295,
            153150.4888778878,
            41316.774683143216,
            233032.93572093025,
            3132784.6725276704,
            28625.64508064516,
            1649565.95285605,
            152069.40317581786
           ],
           "yaxis": "y"
          }
         ],
         "name": "2021-03-15"
        },
        {
         "data": [
          {
           "alignmentgroup": "True",
           "hovertemplate": "Type=Rural<br>date_range_start=2021-03-22<br>region=%{x}<br>mobility_score=%{y}<extra></extra>",
           "ids": [
            "AB",
            "BC",
            "MB",
            "NB",
            "NL",
            "NS",
            "ON",
            "PE",
            "QC",
            "SK"
           ],
           "legendgroup": "Rural",
           "marker": {
            "color": "#636efa",
            "pattern": {
             "shape": ""
            }
           },
           "name": "Rural",
           "offsetgroup": "Rural",
           "orientation": "v",
           "showlegend": true,
           "textposition": "auto",
           "type": "bar",
           "x": [
            "AB",
            "BC",
            "MB",
            "NB",
            "NL",
            "NS",
            "ON",
            "PE",
            "QC",
            "SK"
           ],
           "xaxis": "x",
           "y": [
            165944.7267356059,
            217890.5147784964,
            45350.37115803073,
            50495.87086743044,
            26813.01096634093,
            13546.206816102467,
            457100.8385467149,
            1653.44886547812,
            372858.3804037685,
            22489.716676396187
           ],
           "yaxis": "y"
          },
          {
           "alignmentgroup": "True",
           "hovertemplate": "Type=Urban<br>date_range_start=2021-03-22<br>region=%{x}<br>mobility_score=%{y}<extra></extra>",
           "ids": [
            "AB",
            "BC",
            "MB",
            "NB",
            "NL",
            "NS",
            "ON",
            "PE",
            "QC",
            "SK"
           ],
           "legendgroup": "Urban",
           "marker": {
            "color": "#EF553B",
            "pattern": {
             "shape": ""
            }
           },
           "name": "Urban",
           "offsetgroup": "Urban",
           "orientation": "v",
           "showlegend": true,
           "textposition": "auto",
           "type": "bar",
           "x": [
            "AB",
            "BC",
            "MB",
            "NB",
            "NL",
            "NS",
            "ON",
            "PE",
            "QC",
            "SK"
           ],
           "xaxis": "x",
           "y": [
            656128.4531606644,
            1505904.5235964153,
            203232.32727571516,
            134561.78921985815,
            50082.16770590973,
            248883.54678636775,
            3018713.7807509657,
            24827.63557536467,
            1587021.6913055182,
            160532.41961471105
           ],
           "yaxis": "y"
          }
         ],
         "name": "2021-03-22"
        },
        {
         "data": [
          {
           "alignmentgroup": "True",
           "hovertemplate": "Type=Rural<br>date_range_start=2021-03-29<br>region=%{x}<br>mobility_score=%{y}<extra></extra>",
           "ids": [
            "AB",
            "BC",
            "MB",
            "NB",
            "NL",
            "NS",
            "ON",
            "PE",
            "QC",
            "SK"
           ],
           "legendgroup": "Rural",
           "marker": {
            "color": "#636efa",
            "pattern": {
             "shape": ""
            }
           },
           "name": "Rural",
           "offsetgroup": "Rural",
           "orientation": "v",
           "showlegend": true,
           "textposition": "auto",
           "type": "bar",
           "x": [
            "AB",
            "BC",
            "MB",
            "NB",
            "NL",
            "NS",
            "ON",
            "PE",
            "QC",
            "SK"
           ],
           "xaxis": "x",
           "y": [
            138678.59975532093,
            185877.7466856309,
            24317.23194756802,
            37115.21352271518,
            27281.763116197184,
            39622.51746187364,
            462557.039854192,
            786.8918641390206,
            344942.71422143857,
            17544.072210107137
           ],
           "yaxis": "y"
          },
          {
           "alignmentgroup": "True",
           "hovertemplate": "Type=Urban<br>date_range_start=2021-03-29<br>region=%{x}<br>mobility_score=%{y}<extra></extra>",
           "ids": [
            "AB",
            "BC",
            "MB",
            "NB",
            "NL",
            "NS",
            "ON",
            "PE",
            "QC",
            "SK"
           ],
           "legendgroup": "Urban",
           "marker": {
            "color": "#EF553B",
            "pattern": {
             "shape": ""
            }
           },
           "name": "Urban",
           "offsetgroup": "Urban",
           "orientation": "v",
           "showlegend": true,
           "textposition": "auto",
           "type": "bar",
           "x": [
            "AB",
            "BC",
            "MB",
            "NB",
            "NL",
            "NS",
            "ON",
            "PE",
            "QC",
            "SK"
           ],
           "xaxis": "x",
           "y": [
            636592.3758740171,
            1351792.5989399464,
            188608.1230045861,
            111133.45853814234,
            67150.70409330986,
            198478.90265795207,
            2967110.087232401,
            29998.674328594,
            1773029.7685819096,
            135926.5089219683
           ],
           "yaxis": "y"
          }
         ],
         "name": "2021-03-29"
        },
        {
         "data": [
          {
           "alignmentgroup": "True",
           "hovertemplate": "Type=Rural<br>date_range_start=2021-04-05<br>region=%{x}<br>mobility_score=%{y}<extra></extra>",
           "ids": [
            "AB",
            "BC",
            "MB",
            "NB",
            "NL",
            "NS",
            "ON",
            "PE",
            "QC",
            "SK"
           ],
           "legendgroup": "Rural",
           "marker": {
            "color": "#636efa",
            "pattern": {
             "shape": ""
            }
           },
           "name": "Rural",
           "offsetgroup": "Rural",
           "orientation": "v",
           "showlegend": true,
           "textposition": "auto",
           "type": "bar",
           "x": [
            "AB",
            "BC",
            "MB",
            "NB",
            "NL",
            "NS",
            "ON",
            "PE",
            "QC",
            "SK"
           ],
           "xaxis": "x",
           "y": [
            126232.44127626136,
            175979.73407672514,
            28434.131391540333,
            38776.775997426,
            9404.961251086012,
            30619.269662191426,
            513114.7543520425,
            105.86844197138312,
            219239.2263897322,
            16682.986304665348
           ],
           "yaxis": "y"
          },
          {
           "alignmentgroup": "True",
           "hovertemplate": "Type=Urban<br>date_range_start=2021-04-05<br>region=%{x}<br>mobility_score=%{y}<extra></extra>",
           "ids": [
            "AB",
            "BC",
            "MB",
            "NB",
            "NL",
            "NS",
            "ON",
            "PE",
            "QC",
            "SK"
           ],
           "legendgroup": "Urban",
           "marker": {
            "color": "#EF553B",
            "pattern": {
             "shape": ""
            }
           },
           "name": "Urban",
           "offsetgroup": "Urban",
           "orientation": "v",
           "showlegend": true,
           "textposition": "auto",
           "type": "bar",
           "x": [
            "AB",
            "BC",
            "MB",
            "NB",
            "NL",
            "NS",
            "ON",
            "PE",
            "QC",
            "SK"
           ],
           "xaxis": "x",
           "y": [
            637652.7021283451,
            1324415.410764392,
            166568.9844890511,
            106269.16796439295,
            75390.41054155807,
            178901.0895409268,
            3108912.972322909,
            22956.51295707472,
            1587991.8025083228,
            153961.86703325028
           ],
           "yaxis": "y"
          }
         ],
         "name": "2021-04-05"
        },
        {
         "data": [
          {
           "alignmentgroup": "True",
           "hovertemplate": "Type=Rural<br>date_range_start=2021-04-12<br>region=%{x}<br>mobility_score=%{y}<extra></extra>",
           "ids": [
            "AB",
            "BC",
            "MB",
            "NB",
            "NL",
            "NS",
            "ON",
            "PE",
            "QC",
            "SK"
           ],
           "legendgroup": "Rural",
           "marker": {
            "color": "#636efa",
            "pattern": {
             "shape": ""
            }
           },
           "name": "Rural",
           "offsetgroup": "Rural",
           "orientation": "v",
           "showlegend": true,
           "textposition": "auto",
           "type": "bar",
           "x": [
            "AB",
            "BC",
            "MB",
            "NB",
            "NL",
            "NS",
            "ON",
            "PE",
            "QC",
            "SK"
           ],
           "xaxis": "x",
           "y": [
            115811.20757889329,
            198583.93974206687,
            25860.06964216668,
            42993.65050751116,
            24191.41392951664,
            37591.697047120426,
            608392.32662361,
            3226.3359422492404,
            297941.00132429006,
            23971.08853004828
           ],
           "yaxis": "y"
          },
          {
           "alignmentgroup": "True",
           "hovertemplate": "Type=Urban<br>date_range_start=2021-04-12<br>region=%{x}<br>mobility_score=%{y}<extra></extra>",
           "ids": [
            "AB",
            "BC",
            "MB",
            "NB",
            "NL",
            "NS",
            "ON",
            "PE",
            "QC",
            "SK"
           ],
           "legendgroup": "Urban",
           "marker": {
            "color": "#EF553B",
            "pattern": {
             "shape": ""
            }
           },
           "name": "Urban",
           "offsetgroup": "Urban",
           "orientation": "v",
           "showlegend": true,
           "textposition": "auto",
           "type": "bar",
           "x": [
            "AB",
            "BC",
            "MB",
            "NB",
            "NL",
            "NS",
            "ON",
            "PE",
            "QC",
            "SK"
           ],
           "xaxis": "x",
           "y": [
            638503.4276523388,
            1224824.4281850406,
            151539.27999226685,
            134224.1764413317,
            65738.01064215071,
            218815.40207329844,
            3250819.976539801,
            37716.15053191489,
            1644238.9597278966,
            183907.53873813883
           ],
           "yaxis": "y"
          }
         ],
         "name": "2021-04-12"
        },
        {
         "data": [
          {
           "alignmentgroup": "True",
           "hovertemplate": "Type=Rural<br>date_range_start=2021-04-19<br>region=%{x}<br>mobility_score=%{y}<extra></extra>",
           "ids": [
            "AB",
            "BC",
            "MB",
            "NB",
            "NL",
            "NS",
            "ON",
            "PE",
            "QC",
            "SK"
           ],
           "legendgroup": "Rural",
           "marker": {
            "color": "#636efa",
            "pattern": {
             "shape": ""
            }
           },
           "name": "Rural",
           "offsetgroup": "Rural",
           "orientation": "v",
           "showlegend": true,
           "textposition": "auto",
           "type": "bar",
           "x": [
            "AB",
            "BC",
            "MB",
            "NB",
            "NL",
            "NS",
            "ON",
            "PE",
            "QC",
            "SK"
           ],
           "xaxis": "x",
           "y": [
            116362.99858846416,
            156895.35745897138,
            26684.29473494632,
            42806.79695195614,
            22313.561899254688,
            42104.91878974755,
            486386.5675955008,
            1564.5363575268811,
            303553.9486995585,
            14974.716461274793
           ],
           "yaxis": "y"
          },
          {
           "alignmentgroup": "True",
           "hovertemplate": "Type=Urban<br>date_range_start=2021-04-19<br>region=%{x}<br>mobility_score=%{y}<extra></extra>",
           "ids": [
            "AB",
            "BC",
            "MB",
            "NB",
            "NL",
            "NS",
            "ON",
            "PE",
            "QC",
            "SK"
           ],
           "legendgroup": "Urban",
           "marker": {
            "color": "#EF553B",
            "pattern": {
             "shape": ""
            }
           },
           "name": "Urban",
           "offsetgroup": "Urban",
           "orientation": "v",
           "showlegend": true,
           "textposition": "auto",
           "type": "bar",
           "x": [
            "AB",
            "BC",
            "MB",
            "NB",
            "NL",
            "NS",
            "ON",
            "PE",
            "QC",
            "SK"
           ],
           "xaxis": "x",
           "y": [
            611976.1811799206,
            1170234.50874542,
            166240.91178201817,
            116762.98808660904,
            103592.70907221791,
            156307.90458662558,
            2819632.986538826,
            28476.70981182796,
            1586594.558698209,
            144739.55785521914
           ],
           "yaxis": "y"
          }
         ],
         "name": "2021-04-19"
        },
        {
         "data": [
          {
           "alignmentgroup": "True",
           "hovertemplate": "Type=Rural<br>date_range_start=2021-04-26<br>region=%{x}<br>mobility_score=%{y}<extra></extra>",
           "ids": [
            "AB",
            "BC",
            "MB",
            "NB",
            "NL",
            "NS",
            "ON",
            "PE",
            "QC",
            "SK"
           ],
           "legendgroup": "Rural",
           "marker": {
            "color": "#636efa",
            "pattern": {
             "shape": ""
            }
           },
           "name": "Rural",
           "offsetgroup": "Rural",
           "orientation": "v",
           "showlegend": true,
           "textposition": "auto",
           "type": "bar",
           "x": [
            "AB",
            "BC",
            "MB",
            "NB",
            "NL",
            "NS",
            "ON",
            "PE",
            "QC",
            "SK"
           ],
           "xaxis": "x",
           "y": [
            101080.68983738932,
            165639.07343230833,
            24561.2206506874,
            30048.709612233757,
            34492.11577181208,
            17684.222066814247,
            511335.2115499016,
            505.8458831341303,
            249808.1628868685,
            33899.07179317203
           ],
           "yaxis": "y"
          },
          {
           "alignmentgroup": "True",
           "hovertemplate": "Type=Urban<br>date_range_start=2021-04-26<br>region=%{x}<br>mobility_score=%{y}<extra></extra>",
           "ids": [
            "AB",
            "BC",
            "MB",
            "NB",
            "NL",
            "NS",
            "ON",
            "PE",
            "QC",
            "SK"
           ],
           "legendgroup": "Urban",
           "marker": {
            "color": "#EF553B",
            "pattern": {
             "shape": ""
            }
           },
           "name": "Urban",
           "offsetgroup": "Urban",
           "orientation": "v",
           "showlegend": true,
           "textposition": "auto",
           "type": "bar",
           "x": [
            "AB",
            "BC",
            "MB",
            "NB",
            "NL",
            "NS",
            "ON",
            "PE",
            "QC",
            "SK"
           ],
           "xaxis": "x",
           "y": [
            551110.8708485259,
            1086739.7421489826,
            210050.1234704528,
            116802.70148370654,
            70911.77969177232,
            154246.62724894346,
            2805897.5037592733,
            24015.29860557769,
            1399087.0118286626,
            156869.90023201858
           ],
           "yaxis": "y"
          }
         ],
         "name": "2021-04-26"
        },
        {
         "data": [
          {
           "alignmentgroup": "True",
           "hovertemplate": "Type=Rural<br>date_range_start=2021-05-03<br>region=%{x}<br>mobility_score=%{y}<extra></extra>",
           "ids": [
            "AB",
            "BC",
            "MB",
            "NB",
            "NL",
            "NS",
            "ON",
            "PE",
            "QC",
            "SK"
           ],
           "legendgroup": "Rural",
           "marker": {
            "color": "#636efa",
            "pattern": {
             "shape": ""
            }
           },
           "name": "Rural",
           "offsetgroup": "Rural",
           "orientation": "v",
           "showlegend": true,
           "textposition": "auto",
           "type": "bar",
           "x": [
            "AB",
            "BC",
            "MB",
            "NB",
            "NL",
            "NS",
            "ON",
            "PE",
            "QC",
            "SK"
           ],
           "xaxis": "x",
           "y": [
            111938.18404892884,
            189452.9633138906,
            33052.472926329414,
            23791.82656481481,
            16946.693055033225,
            21151.67580888697,
            467100.63516258687,
            1097.8806362378978,
            224427.9254207832,
            17127.034978469692
           ],
           "yaxis": "y"
          },
          {
           "alignmentgroup": "True",
           "hovertemplate": "Type=Urban<br>date_range_start=2021-05-03<br>region=%{x}<br>mobility_score=%{y}<extra></extra>",
           "ids": [
            "AB",
            "BC",
            "MB",
            "NB",
            "NL",
            "NS",
            "ON",
            "PE",
            "QC",
            "SK"
           ],
           "legendgroup": "Urban",
           "marker": {
            "color": "#EF553B",
            "pattern": {
             "shape": ""
            }
           },
           "name": "Urban",
           "offsetgroup": "Urban",
           "orientation": "v",
           "showlegend": true,
           "textposition": "auto",
           "type": "bar",
           "x": [
            "AB",
            "BC",
            "MB",
            "NB",
            "NL",
            "NS",
            "ON",
            "PE",
            "QC",
            "SK"
           ],
           "xaxis": "x",
           "y": [
            533430.3785871713,
            1172101.3735340952,
            160840.96953762628,
            96898.0159074074,
            64325.66705528394,
            157917.48904227783,
            2405885.902381039,
            18439.236860304285,
            1418612.912654665,
            147074.16243789333
           ],
           "yaxis": "y"
          }
         ],
         "name": "2021-05-03"
        },
        {
         "data": [
          {
           "alignmentgroup": "True",
           "hovertemplate": "Type=Rural<br>date_range_start=2021-05-10<br>region=%{x}<br>mobility_score=%{y}<extra></extra>",
           "ids": [
            "AB",
            "BC",
            "MB",
            "NB",
            "NL",
            "NS",
            "ON",
            "PE",
            "QC",
            "SK"
           ],
           "legendgroup": "Rural",
           "marker": {
            "color": "#636efa",
            "pattern": {
             "shape": ""
            }
           },
           "name": "Rural",
           "offsetgroup": "Rural",
           "orientation": "v",
           "showlegend": true,
           "textposition": "auto",
           "type": "bar",
           "x": [
            "AB",
            "BC",
            "MB",
            "NB",
            "NL",
            "NS",
            "ON",
            "PE",
            "QC",
            "SK"
           ],
           "xaxis": "x",
           "y": [
            119918.3550948066,
            169311.69330177712,
            22381.78360938929,
            24815.936538461538,
            19335.652147239263,
            25622.302025671885,
            368027.7582872789,
            2542.1146387832705,
            316931.54318997054,
            16935.21405662549
           ],
           "yaxis": "y"
          },
          {
           "alignmentgroup": "True",
           "hovertemplate": "Type=Urban<br>date_range_start=2021-05-10<br>region=%{x}<br>mobility_score=%{y}<extra></extra>",
           "ids": [
            "AB",
            "BC",
            "MB",
            "NB",
            "NL",
            "NS",
            "ON",
            "PE",
            "QC",
            "SK"
           ],
           "legendgroup": "Urban",
           "marker": {
            "color": "#EF553B",
            "pattern": {
             "shape": ""
            }
           },
           "name": "Urban",
           "offsetgroup": "Urban",
           "orientation": "v",
           "showlegend": true,
           "textposition": "auto",
           "type": "bar",
           "x": [
            "AB",
            "BC",
            "MB",
            "NB",
            "NL",
            "NS",
            "ON",
            "PE",
            "QC",
            "SK"
           ],
           "xaxis": "x",
           "y": [
            506084.28481850354,
            1064223.2275572994,
            151675.7579217898,
            95171.79265419266,
            79724.7408997955,
            132050.1287505014,
            2692349.515311843,
            24739.1979721166,
            1530996.516233974,
            171613.3850993631
           ],
           "yaxis": "y"
          }
         ],
         "name": "2021-05-10"
        },
        {
         "data": [
          {
           "alignmentgroup": "True",
           "hovertemplate": "Type=Rural<br>date_range_start=2021-05-17<br>region=%{x}<br>mobility_score=%{y}<extra></extra>",
           "ids": [
            "AB",
            "BC",
            "MB",
            "NB",
            "NL",
            "NS",
            "ON",
            "PE",
            "QC",
            "SK"
           ],
           "legendgroup": "Rural",
           "marker": {
            "color": "#636efa",
            "pattern": {
             "shape": ""
            }
           },
           "name": "Rural",
           "offsetgroup": "Rural",
           "orientation": "v",
           "showlegend": true,
           "textposition": "auto",
           "type": "bar",
           "x": [
            "AB",
            "BC",
            "MB",
            "NB",
            "NL",
            "NS",
            "ON",
            "PE",
            "QC",
            "SK"
           ],
           "xaxis": "x",
           "y": [
            94783.8952660243,
            158127.4064308921,
            31714.432446484727,
            34403.57127203822,
            14987.044562271709,
            14681.227940315974,
            407277.5492552287,
            866.8486907730673,
            244296.91991449456,
            15352.88342857143
           ],
           "yaxis": "y"
          },
          {
           "alignmentgroup": "True",
           "hovertemplate": "Type=Urban<br>date_range_start=2021-05-17<br>region=%{x}<br>mobility_score=%{y}<extra></extra>",
           "ids": [
            "AB",
            "BC",
            "MB",
            "NB",
            "NL",
            "NS",
            "ON",
            "PE",
            "QC",
            "SK"
           ],
           "legendgroup": "Urban",
           "marker": {
            "color": "#EF553B",
            "pattern": {
             "shape": ""
            }
           },
           "name": "Urban",
           "offsetgroup": "Urban",
           "orientation": "v",
           "showlegend": true,
           "textposition": "auto",
           "type": "bar",
           "x": [
            "AB",
            "BC",
            "MB",
            "NB",
            "NL",
            "NS",
            "ON",
            "PE",
            "QC",
            "SK"
           ],
           "xaxis": "x",
           "y": [
            477325.8327428983,
            1161417.8758525334,
            125875.88411365864,
            104815.07550667324,
            116152.6614469188,
            148525.24852740392,
            2203283.161622874,
            41565.56078553616,
            1545240.9739622122,
            171372.33269172933
           ],
           "yaxis": "y"
          }
         ],
         "name": "2021-05-17"
        },
        {
         "data": [
          {
           "alignmentgroup": "True",
           "hovertemplate": "Type=Rural<br>date_range_start=2021-05-24<br>region=%{x}<br>mobility_score=%{y}<extra></extra>",
           "ids": [
            "AB",
            "BC",
            "MB",
            "NB",
            "NL",
            "NS",
            "ON",
            "PE",
            "QC",
            "SK"
           ],
           "legendgroup": "Rural",
           "marker": {
            "color": "#636efa",
            "pattern": {
             "shape": ""
            }
           },
           "name": "Rural",
           "offsetgroup": "Rural",
           "orientation": "v",
           "showlegend": true,
           "textposition": "auto",
           "type": "bar",
           "x": [
            "AB",
            "BC",
            "MB",
            "NB",
            "NL",
            "NS",
            "ON",
            "PE",
            "QC",
            "SK"
           ],
           "xaxis": "x",
           "y": [
            86540.37678032667,
            162941.24284434438,
            22045.21741039912,
            25712.51101468625,
            9142.82972972973,
            24131.096961524632,
            437163.1933310281,
            2302.477118644068,
            189869.22594181547,
            14723.373412069712
           ],
           "yaxis": "y"
          },
          {
           "alignmentgroup": "True",
           "hovertemplate": "Type=Urban<br>date_range_start=2021-05-24<br>region=%{x}<br>mobility_score=%{y}<extra></extra>",
           "ids": [
            "AB",
            "BC",
            "MB",
            "NB",
            "NL",
            "NS",
            "ON",
            "PE",
            "QC",
            "SK"
           ],
           "legendgroup": "Urban",
           "marker": {
            "color": "#EF553B",
            "pattern": {
             "shape": ""
            }
           },
           "name": "Urban",
           "offsetgroup": "Urban",
           "orientation": "v",
           "showlegend": true,
           "textposition": "auto",
           "type": "bar",
           "x": [
            "AB",
            "BC",
            "MB",
            "NB",
            "NL",
            "NS",
            "ON",
            "PE",
            "QC",
            "SK"
           ],
           "xaxis": "x",
           "y": [
            411397.4569812117,
            1016178.0597146926,
            125823.3589371029,
            103934.81327696188,
            134865.11106821106,
            121929.24983818772,
            2212651.022178204,
            13441.650734463276,
            1403057.9818938302,
            147611.51047097798
           ],
           "yaxis": "y"
          }
         ],
         "name": "2021-05-24"
        },
        {
         "data": [
          {
           "alignmentgroup": "True",
           "hovertemplate": "Type=Rural<br>date_range_start=2021-05-31<br>region=%{x}<br>mobility_score=%{y}<extra></extra>",
           "ids": [
            "AB",
            "BC",
            "MB",
            "NB",
            "NL",
            "NS",
            "ON",
            "PE",
            "QC",
            "SK"
           ],
           "legendgroup": "Rural",
           "marker": {
            "color": "#636efa",
            "pattern": {
             "shape": ""
            }
           },
           "name": "Rural",
           "offsetgroup": "Rural",
           "orientation": "v",
           "showlegend": true,
           "textposition": "auto",
           "type": "bar",
           "x": [
            "AB",
            "BC",
            "MB",
            "NB",
            "NL",
            "NS",
            "ON",
            "PE",
            "QC",
            "SK"
           ],
           "xaxis": "x",
           "y": [
            87315.29359689831,
            175548.12329129514,
            15485.771984187708,
            24428.681339953942,
            15684.067609386206,
            35463.36650148662,
            377864.60223443335,
            522.8538713195202,
            248440.9681537273,
            15047.545069393716
           ],
           "yaxis": "y"
          },
          {
           "alignmentgroup": "True",
           "hovertemplate": "Type=Urban<br>date_range_start=2021-05-31<br>region=%{x}<br>mobility_score=%{y}<extra></extra>",
           "ids": [
            "AB",
            "BC",
            "MB",
            "NB",
            "NL",
            "NS",
            "ON",
            "PE",
            "QC",
            "SK"
           ],
           "legendgroup": "Urban",
           "marker": {
            "color": "#EF553B",
            "pattern": {
             "shape": ""
            }
           },
           "name": "Urban",
           "offsetgroup": "Urban",
           "orientation": "v",
           "showlegend": true,
           "textposition": "auto",
           "type": "bar",
           "x": [
            "AB",
            "BC",
            "MB",
            "NB",
            "NL",
            "NS",
            "ON",
            "PE",
            "QC",
            "SK"
           ],
           "xaxis": "x",
           "y": [
            465551.5733544765,
            1084002.0226652832,
            137640.34951968034,
            114860.67114997124,
            87395.61373091505,
            97411.00807730426,
            2251637.596336649,
            18779.168211559438,
            1617662.3264130296,
            158139.15032870707
           ],
           "yaxis": "y"
          }
         ],
         "name": "2021-05-31"
        },
        {
         "data": [
          {
           "alignmentgroup": "True",
           "hovertemplate": "Type=Rural<br>date_range_start=2021-06-07<br>region=%{x}<br>mobility_score=%{y}<extra></extra>",
           "ids": [
            "AB",
            "BC",
            "MB",
            "NB",
            "NL",
            "NS",
            "ON",
            "PE",
            "QC",
            "SK"
           ],
           "legendgroup": "Rural",
           "marker": {
            "color": "#636efa",
            "pattern": {
             "shape": ""
            }
           },
           "name": "Rural",
           "offsetgroup": "Rural",
           "orientation": "v",
           "showlegend": true,
           "textposition": "auto",
           "type": "bar",
           "x": [
            "AB",
            "BC",
            "MB",
            "NB",
            "NL",
            "NS",
            "ON",
            "PE",
            "QC",
            "SK"
           ],
           "xaxis": "x",
           "y": [
            112709.33641928234,
            224432.6540419508,
            22552.495533083777,
            33075.879914156845,
            9365.9676894753,
            12870.964423076925,
            378070.36910679785,
            1547.0106986899564,
            260930.4434575576,
            20562.75865897305
           ],
           "yaxis": "y"
          },
          {
           "alignmentgroup": "True",
           "hovertemplate": "Type=Urban<br>date_range_start=2021-06-07<br>region=%{x}<br>mobility_score=%{y}<extra></extra>",
           "ids": [
            "AB",
            "BC",
            "MB",
            "NB",
            "NL",
            "NS",
            "ON",
            "PE",
            "QC",
            "SK"
           ],
           "legendgroup": "Urban",
           "marker": {
            "color": "#EF553B",
            "pattern": {
             "shape": ""
            }
           },
           "name": "Urban",
           "offsetgroup": "Urban",
           "orientation": "v",
           "showlegend": true,
           "textposition": "auto",
           "type": "bar",
           "x": [
            "AB",
            "BC",
            "MB",
            "NB",
            "NL",
            "NS",
            "ON",
            "PE",
            "QC",
            "SK"
           ],
           "xaxis": "x",
           "y": [
            524447.5150440203,
            1127368.2978394546,
            199060.74398634364,
            101065.34666812164,
            78693.82400531862,
            115249.044958194,
            2293421.251429014,
            16220.349017467248,
            1598076.9648358189,
            163880.69482141553
           ],
           "yaxis": "y"
          }
         ],
         "name": "2021-06-07"
        },
        {
         "data": [
          {
           "alignmentgroup": "True",
           "hovertemplate": "Type=Rural<br>date_range_start=2021-06-14<br>region=%{x}<br>mobility_score=%{y}<extra></extra>",
           "ids": [
            "AB",
            "BC",
            "MB",
            "NB",
            "NL",
            "NS",
            "ON",
            "PE",
            "QC",
            "SK"
           ],
           "legendgroup": "Rural",
           "marker": {
            "color": "#636efa",
            "pattern": {
             "shape": ""
            }
           },
           "name": "Rural",
           "offsetgroup": "Rural",
           "orientation": "v",
           "showlegend": true,
           "textposition": "auto",
           "type": "bar",
           "x": [
            "AB",
            "BC",
            "MB",
            "NB",
            "NL",
            "NS",
            "ON",
            "PE",
            "QC",
            "SK"
           ],
           "xaxis": "x",
           "y": [
            96658.01328853676,
            215384.1470846899,
            23350.750026191723,
            37632.33913735707,
            8909.790135416666,
            36494.40375438011,
            493619.4208886391,
            3265.30778508772,
            290497.1695171876,
            18541.56936344369
           ],
           "yaxis": "y"
          },
          {
           "alignmentgroup": "True",
           "hovertemplate": "Type=Urban<br>date_range_start=2021-06-14<br>region=%{x}<br>mobility_score=%{y}<extra></extra>",
           "ids": [
            "AB",
            "BC",
            "MB",
            "NB",
            "NL",
            "NS",
            "ON",
            "PE",
            "QC",
            "SK"
           ],
           "legendgroup": "Urban",
           "marker": {
            "color": "#EF553B",
            "pattern": {
             "shape": ""
            }
           },
           "name": "Urban",
           "offsetgroup": "Urban",
           "orientation": "v",
           "showlegend": true,
           "textposition": "auto",
           "type": "bar",
           "x": [
            "AB",
            "BC",
            "MB",
            "NB",
            "NL",
            "NS",
            "ON",
            "PE",
            "QC",
            "SK"
           ],
           "xaxis": "x",
           "y": [
            570549.1205106569,
            1202959.8564604686,
            223946.8100663524,
            103982.75449413808,
            99173.25576041666,
            145765.15319539464,
            2622974.090644647,
            17480.203125,
            1634448.573006693,
            148135.8388072791
           ],
           "yaxis": "y"
          }
         ],
         "name": "2021-06-14"
        },
        {
         "data": [
          {
           "alignmentgroup": "True",
           "hovertemplate": "Type=Rural<br>date_range_start=2021-06-21<br>region=%{x}<br>mobility_score=%{y}<extra></extra>",
           "ids": [
            "AB",
            "BC",
            "MB",
            "NB",
            "NL",
            "NS",
            "ON",
            "PE",
            "QC",
            "SK"
           ],
           "legendgroup": "Rural",
           "marker": {
            "color": "#636efa",
            "pattern": {
             "shape": ""
            }
           },
           "name": "Rural",
           "offsetgroup": "Rural",
           "orientation": "v",
           "showlegend": true,
           "textposition": "auto",
           "type": "bar",
           "x": [
            "AB",
            "BC",
            "MB",
            "NB",
            "NL",
            "NS",
            "ON",
            "PE",
            "QC",
            "SK"
           ],
           "xaxis": "x",
           "y": [
            120761.64888848284,
            238449.6960594408,
            23189.818102619563,
            40471.7489506042,
            7641.6627096515,
            21284.190383054694,
            520021.23561640095,
            3889.634602649007,
            307997.8243956258,
            16385.906019766397
           ],
           "yaxis": "y"
          },
          {
           "alignmentgroup": "True",
           "hovertemplate": "Type=Urban<br>date_range_start=2021-06-21<br>region=%{x}<br>mobility_score=%{y}<extra></extra>",
           "ids": [
            "AB",
            "BC",
            "MB",
            "NB",
            "NL",
            "NS",
            "ON",
            "PE",
            "QC",
            "SK"
           ],
           "legendgroup": "Urban",
           "marker": {
            "color": "#EF553B",
            "pattern": {
             "shape": ""
            }
           },
           "name": "Urban",
           "offsetgroup": "Urban",
           "orientation": "v",
           "showlegend": true,
           "textposition": "auto",
           "type": "bar",
           "x": [
            "AB",
            "BC",
            "MB",
            "NB",
            "NL",
            "NS",
            "ON",
            "PE",
            "QC",
            "SK"
           ],
           "xaxis": "x",
           "y": [
            571699.6447728812,
            1371171.394271281,
            171297.66888969,
            131023.34948060208,
            74574.16054032338,
            159508.22174160037,
            2688269.7968235784,
            38655.2651214128,
            1679679.4884381995,
            180686.27798742137
           ],
           "yaxis": "y"
          }
         ],
         "name": "2021-06-21"
        },
        {
         "data": [
          {
           "alignmentgroup": "True",
           "hovertemplate": "Type=Rural<br>date_range_start=2021-06-28<br>region=%{x}<br>mobility_score=%{y}<extra></extra>",
           "ids": [
            "AB",
            "BC",
            "MB",
            "NB",
            "NL",
            "NS",
            "ON",
            "PE",
            "QC",
            "SK"
           ],
           "legendgroup": "Rural",
           "marker": {
            "color": "#636efa",
            "pattern": {
             "shape": ""
            }
           },
           "name": "Rural",
           "offsetgroup": "Rural",
           "orientation": "v",
           "showlegend": true,
           "textposition": "auto",
           "type": "bar",
           "x": [
            "AB",
            "BC",
            "MB",
            "NB",
            "NL",
            "NS",
            "ON",
            "PE",
            "QC",
            "SK"
           ],
           "xaxis": "x",
           "y": [
            131587.10771683356,
            307978.676147649,
            14361.05370577803,
            36096.81569692853,
            18910.85859649123,
            15409.033165491775,
            543241.4973486685,
            6011.129428251121,
            406590.4643941384,
            21248.86547007196
           ],
           "yaxis": "y"
          },
          {
           "alignmentgroup": "True",
           "hovertemplate": "Type=Urban<br>date_range_start=2021-06-28<br>region=%{x}<br>mobility_score=%{y}<extra></extra>",
           "ids": [
            "AB",
            "BC",
            "MB",
            "NB",
            "NL",
            "NS",
            "ON",
            "PE",
            "QC",
            "SK"
           ],
           "legendgroup": "Urban",
           "marker": {
            "color": "#EF553B",
            "pattern": {
             "shape": ""
            }
           },
           "name": "Urban",
           "offsetgroup": "Urban",
           "orientation": "v",
           "showlegend": true,
           "textposition": "auto",
           "type": "bar",
           "x": [
            "AB",
            "BC",
            "MB",
            "NB",
            "NL",
            "NS",
            "ON",
            "PE",
            "QC",
            "SK"
           ],
           "xaxis": "x",
           "y": [
            645924.1951391955,
            1427842.9811207943,
            184262.5925931112,
            120413.21678363896,
            64740.55368421053,
            157657.64338704263,
            2897782.491333945,
            20004.25039237668,
            2040357.069622004,
            161861.42288289714
           ],
           "yaxis": "y"
          }
         ],
         "name": "2021-06-28"
        },
        {
         "data": [
          {
           "alignmentgroup": "True",
           "hovertemplate": "Type=Rural<br>date_range_start=2021-07-05<br>region=%{x}<br>mobility_score=%{y}<extra></extra>",
           "ids": [
            "AB",
            "BC",
            "MB",
            "NB",
            "NL",
            "NS",
            "ON",
            "PE",
            "QC",
            "SK"
           ],
           "legendgroup": "Rural",
           "marker": {
            "color": "#636efa",
            "pattern": {
             "shape": ""
            }
           },
           "name": "Rural",
           "offsetgroup": "Rural",
           "orientation": "v",
           "showlegend": true,
           "textposition": "auto",
           "type": "bar",
           "x": [
            "AB",
            "BC",
            "MB",
            "NB",
            "NL",
            "NS",
            "ON",
            "PE",
            "QC",
            "SK"
           ],
           "xaxis": "x",
           "y": [
            146873.5239356524,
            290297.4697046487,
            15719.27837608511,
            42997.69350310153,
            16142.480545538609,
            16715.07490703555,
            540293.8311716787,
            9365.826694473411,
            308446.6103166987,
            19411.82318920408
           ],
           "yaxis": "y"
          },
          {
           "alignmentgroup": "True",
           "hovertemplate": "Type=Urban<br>date_range_start=2021-07-05<br>region=%{x}<br>mobility_score=%{y}<extra></extra>",
           "ids": [
            "AB",
            "BC",
            "MB",
            "NB",
            "NL",
            "NS",
            "ON",
            "PE",
            "QC",
            "SK"
           ],
           "legendgroup": "Urban",
           "marker": {
            "color": "#EF553B",
            "pattern": {
             "shape": ""
            }
           },
           "name": "Urban",
           "offsetgroup": "Urban",
           "orientation": "v",
           "showlegend": true,
           "textposition": "auto",
           "type": "bar",
           "x": [
            "AB",
            "BC",
            "MB",
            "NB",
            "NL",
            "NS",
            "ON",
            "PE",
            "QC",
            "SK"
           ],
           "xaxis": "x",
           "y": [
            703170.0896012248,
            1344522.614649598,
            179544.75937030872,
            116277.61057786483,
            80731.65147480351,
            155109.77631265804,
            2783719.7526583765,
            25367.16939520333,
            1819509.6479066696,
            180114.66438997522
           ],
           "yaxis": "y"
          }
         ],
         "name": "2021-07-05"
        },
        {
         "data": [
          {
           "alignmentgroup": "True",
           "hovertemplate": "Type=Rural<br>date_range_start=2021-07-12<br>region=%{x}<br>mobility_score=%{y}<extra></extra>",
           "ids": [
            "AB",
            "BC",
            "MB",
            "NB",
            "NL",
            "NS",
            "ON",
            "PE",
            "QC",
            "SK"
           ],
           "legendgroup": "Rural",
           "marker": {
            "color": "#636efa",
            "pattern": {
             "shape": ""
            }
           },
           "name": "Rural",
           "offsetgroup": "Rural",
           "orientation": "v",
           "showlegend": true,
           "textposition": "auto",
           "type": "bar",
           "x": [
            "AB",
            "BC",
            "MB",
            "NB",
            "NL",
            "NS",
            "ON",
            "PE",
            "QC",
            "SK"
           ],
           "xaxis": "x",
           "y": [
            157015.7868205553,
            285543.1149129448,
            32957.96602232135,
            44849.89757906804,
            14579.439780137876,
            17310.32290617849,
            555692.4942403251,
            36614.52721451441,
            345604.36870591174,
            25885.272121566337
           ],
           "yaxis": "y"
          },
          {
           "alignmentgroup": "True",
           "hovertemplate": "Type=Urban<br>date_range_start=2021-07-12<br>region=%{x}<br>mobility_score=%{y}<extra></extra>",
           "ids": [
            "AB",
            "BC",
            "MB",
            "NB",
            "NL",
            "NS",
            "ON",
            "PE",
            "QC",
            "SK"
           ],
           "legendgroup": "Urban",
           "marker": {
            "color": "#EF553B",
            "pattern": {
             "shape": ""
            }
           },
           "name": "Urban",
           "offsetgroup": "Urban",
           "orientation": "v",
           "showlegend": true,
           "textposition": "auto",
           "type": "bar",
           "x": [
            "AB",
            "BC",
            "MB",
            "NB",
            "NL",
            "NS",
            "ON",
            "PE",
            "QC",
            "SK"
           ],
           "xaxis": "x",
           "y": [
            729768.9047473598,
            1322847.3950668685,
            173837.69338477842,
            143228.02134331377,
            78288.73100428544,
            180325.2023646072,
            2760669.475791654,
            25391.37865528282,
            1853068.7328360076,
            149041.98270017534
           ],
           "yaxis": "y"
          }
         ],
         "name": "2021-07-12"
        },
        {
         "data": [
          {
           "alignmentgroup": "True",
           "hovertemplate": "Type=Rural<br>date_range_start=2021-07-19<br>region=%{x}<br>mobility_score=%{y}<extra></extra>",
           "ids": [
            "AB",
            "BC",
            "MB",
            "NB",
            "NL",
            "NS",
            "ON",
            "PE",
            "QC",
            "SK"
           ],
           "legendgroup": "Rural",
           "marker": {
            "color": "#636efa",
            "pattern": {
             "shape": ""
            }
           },
           "name": "Rural",
           "offsetgroup": "Rural",
           "orientation": "v",
           "showlegend": true,
           "textposition": "auto",
           "type": "bar",
           "x": [
            "AB",
            "BC",
            "MB",
            "NB",
            "NL",
            "NS",
            "ON",
            "PE",
            "QC",
            "SK"
           ],
           "xaxis": "x",
           "y": [
            152526.73685484802,
            289203.3315445445,
            29292.774174066893,
            47273.605485914544,
            13277.23436611711,
            22450.358595531237,
            579550.9567322938,
            17747.952407002187,
            310693.5169137793,
            29367.318039502563
           ],
           "yaxis": "y"
          },
          {
           "alignmentgroup": "True",
           "hovertemplate": "Type=Urban<br>date_range_start=2021-07-19<br>region=%{x}<br>mobility_score=%{y}<extra></extra>",
           "ids": [
            "AB",
            "BC",
            "MB",
            "NB",
            "NL",
            "NS",
            "ON",
            "PE",
            "QC",
            "SK"
           ],
           "legendgroup": "Urban",
           "marker": {
            "color": "#EF553B",
            "pattern": {
             "shape": ""
            }
           },
           "name": "Urban",
           "offsetgroup": "Urban",
           "orientation": "v",
           "showlegend": true,
           "textposition": "auto",
           "type": "bar",
           "x": [
            "AB",
            "BC",
            "MB",
            "NB",
            "NL",
            "NS",
            "ON",
            "PE",
            "QC",
            "SK"
           ],
           "xaxis": "x",
           "y": [
            712373.9213959659,
            1416379.0871154636,
            166835.37550185432,
            134852.84829491845,
            77192.87902217169,
            195520.09360845116,
            2885060.718269272,
            23623.13665207877,
            1925598.4691393587,
            152943.4631163131
           ],
           "yaxis": "y"
          }
         ],
         "name": "2021-07-19"
        },
        {
         "data": [
          {
           "alignmentgroup": "True",
           "hovertemplate": "Type=Rural<br>date_range_start=2021-07-26<br>region=%{x}<br>mobility_score=%{y}<extra></extra>",
           "ids": [
            "AB",
            "BC",
            "MB",
            "NB",
            "NL",
            "NS",
            "ON",
            "PE",
            "QC",
            "SK"
           ],
           "legendgroup": "Rural",
           "marker": {
            "color": "#636efa",
            "pattern": {
             "shape": ""
            }
           },
           "name": "Rural",
           "offsetgroup": "Rural",
           "orientation": "v",
           "showlegend": true,
           "textposition": "auto",
           "type": "bar",
           "x": [
            "AB",
            "BC",
            "MB",
            "NB",
            "NL",
            "NS",
            "ON",
            "PE",
            "QC",
            "SK"
           ],
           "xaxis": "x",
           "y": [
            145524.1214083723,
            295643.8162445458,
            15029.884124901377,
            46406.32536914545,
            35493.35962920923,
            34210.50360215054,
            567181.3979894602,
            25326.272162162164,
            405799.2619294802,
            23576.06370902692
           ],
           "yaxis": "y"
          },
          {
           "alignmentgroup": "True",
           "hovertemplate": "Type=Urban<br>date_range_start=2021-07-26<br>region=%{x}<br>mobility_score=%{y}<extra></extra>",
           "ids": [
            "AB",
            "BC",
            "MB",
            "NB",
            "NL",
            "NS",
            "ON",
            "PE",
            "QC",
            "SK"
           ],
           "legendgroup": "Urban",
           "marker": {
            "color": "#EF553B",
            "pattern": {
             "shape": ""
            }
           },
           "name": "Urban",
           "offsetgroup": "Urban",
           "orientation": "v",
           "showlegend": true,
           "textposition": "auto",
           "type": "bar",
           "x": [
            "AB",
            "BC",
            "MB",
            "NB",
            "NL",
            "NS",
            "ON",
            "PE",
            "QC",
            "SK"
           ],
           "xaxis": "x",
           "y": [
            687955.9671112557,
            1468833.6359289978,
            197027.55749802748,
            149021.7310215808,
            72072.19579076806,
            189340.0796006144,
            2820241.1157825715,
            20154.47172972973,
            1898041.295511806,
            155754.16129647283
           ],
           "yaxis": "y"
          }
         ],
         "name": "2021-07-26"
        },
        {
         "data": [
          {
           "alignmentgroup": "True",
           "hovertemplate": "Type=Rural<br>date_range_start=2021-08-02<br>region=%{x}<br>mobility_score=%{y}<extra></extra>",
           "ids": [
            "AB",
            "BC",
            "MB",
            "NB",
            "NL",
            "NS",
            "ON",
            "PE",
            "QC",
            "SK"
           ],
           "legendgroup": "Rural",
           "marker": {
            "color": "#636efa",
            "pattern": {
             "shape": ""
            }
           },
           "name": "Rural",
           "offsetgroup": "Rural",
           "orientation": "v",
           "showlegend": true,
           "textposition": "auto",
           "type": "bar",
           "x": [
            "AB",
            "BC",
            "MB",
            "NB",
            "NL",
            "NS",
            "ON",
            "PE",
            "QC",
            "SK"
           ],
           "xaxis": "x",
           "y": [
            118983.03410585044,
            348064.5516125822,
            26443.825536708187,
            28881.68604464106,
            20956.880129270543,
            22049.9522696011,
            597601.8137872927,
            22120.478014553017,
            368006.3472177168,
            25778.478866552927
           ],
           "yaxis": "y"
          },
          {
           "alignmentgroup": "True",
           "hovertemplate": "Type=Urban<br>date_range_start=2021-08-02<br>region=%{x}<br>mobility_score=%{y}<extra></extra>",
           "ids": [
            "AB",
            "BC",
            "MB",
            "NB",
            "NL",
            "NS",
            "ON",
            "PE",
            "QC",
            "SK"
           ],
           "legendgroup": "Urban",
           "marker": {
            "color": "#EF553B",
            "pattern": {
             "shape": ""
            }
           },
           "name": "Urban",
           "offsetgroup": "Urban",
           "orientation": "v",
           "showlegend": true,
           "textposition": "auto",
           "type": "bar",
           "x": [
            "AB",
            "BC",
            "MB",
            "NB",
            "NL",
            "NS",
            "ON",
            "PE",
            "QC",
            "SK"
           ],
           "xaxis": "x",
           "y": [
            648695.600026661,
            1442066.8656487945,
            154605.18326707304,
            136553.05196058718,
            115306.09040627886,
            194884.35411126397,
            2728878.828437157,
            16660.272401247403,
            1858767.6503431064,
            164049.23771233586
           ],
           "yaxis": "y"
          }
         ],
         "name": "2021-08-02"
        },
        {
         "data": [
          {
           "alignmentgroup": "True",
           "hovertemplate": "Type=Rural<br>date_range_start=2021-08-09<br>region=%{x}<br>mobility_score=%{y}<extra></extra>",
           "ids": [
            "AB",
            "BC",
            "MB",
            "NB",
            "NL",
            "NS",
            "ON",
            "PE",
            "QC",
            "SK"
           ],
           "legendgroup": "Rural",
           "marker": {
            "color": "#636efa",
            "pattern": {
             "shape": ""
            }
           },
           "name": "Rural",
           "offsetgroup": "Rural",
           "orientation": "v",
           "showlegend": true,
           "textposition": "auto",
           "type": "bar",
           "x": [
            "AB",
            "BC",
            "MB",
            "NB",
            "NL",
            "NS",
            "ON",
            "PE",
            "QC",
            "SK"
           ],
           "xaxis": "x",
           "y": [
            127057.24754184304,
            210623.8064930253,
            20635.12491363274,
            32973.525300737296,
            21694.228493469316,
            31393.5480215282,
            597942.2569325085,
            19296.482873210636,
            394635.0713111836,
            26374.13535173642
           ],
           "yaxis": "y"
          },
          {
           "alignmentgroup": "True",
           "hovertemplate": "Type=Urban<br>date_range_start=2021-08-09<br>region=%{x}<br>mobility_score=%{y}<extra></extra>",
           "ids": [
            "AB",
            "BC",
            "MB",
            "NB",
            "NL",
            "NS",
            "ON",
            "PE",
            "QC",
            "SK"
           ],
           "legendgroup": "Urban",
           "marker": {
            "color": "#EF553B",
            "pattern": {
             "shape": ""
            }
           },
           "name": "Urban",
           "offsetgroup": "Urban",
           "orientation": "v",
           "showlegend": true,
           "textposition": "auto",
           "type": "bar",
           "x": [
            "AB",
            "BC",
            "MB",
            "NB",
            "NL",
            "NS",
            "ON",
            "PE",
            "QC",
            "SK"
           ],
           "xaxis": "x",
           "y": [
            625752.2424669592,
            1371554.753180103,
            187002.99074763045,
            178984.68573276422,
            97529.7459742351,
            206192.62541691933,
            2905583.000215469,
            22477.61088957055,
            1790115.450005416,
            178148.60955773227
           ],
           "yaxis": "y"
          }
         ],
         "name": "2021-08-09"
        },
        {
         "data": [
          {
           "alignmentgroup": "True",
           "hovertemplate": "Type=Rural<br>date_range_start=2021-08-16<br>region=%{x}<br>mobility_score=%{y}<extra></extra>",
           "ids": [
            "AB",
            "BC",
            "MB",
            "NB",
            "NL",
            "NS",
            "ON",
            "PE",
            "QC",
            "SK"
           ],
           "legendgroup": "Rural",
           "marker": {
            "color": "#636efa",
            "pattern": {
             "shape": ""
            }
           },
           "name": "Rural",
           "offsetgroup": "Rural",
           "orientation": "v",
           "showlegend": true,
           "textposition": "auto",
           "type": "bar",
           "x": [
            "AB",
            "BC",
            "MB",
            "NB",
            "NL",
            "NS",
            "ON",
            "PE",
            "QC",
            "SK"
           ],
           "xaxis": "x",
           "y": [
            171184.10448817202,
            224348.8299700686,
            23128.56481582488,
            24447.269640644365,
            11731.747003183264,
            20989.987548099125,
            623432.1059416488,
            28996.903692307693,
            406518.8834791317,
            27603.51615099926
           ],
           "yaxis": "y"
          },
          {
           "alignmentgroup": "True",
           "hovertemplate": "Type=Urban<br>date_range_start=2021-08-16<br>region=%{x}<br>mobility_score=%{y}<extra></extra>",
           "ids": [
            "AB",
            "BC",
            "MB",
            "NB",
            "NL",
            "NS",
            "ON",
            "PE",
            "QC",
            "SK"
           ],
           "legendgroup": "Urban",
           "marker": {
            "color": "#EF553B",
            "pattern": {
             "shape": ""
            }
           },
           "name": "Urban",
           "offsetgroup": "Urban",
           "orientation": "v",
           "showlegend": true,
           "textposition": "auto",
           "type": "bar",
           "x": [
            "AB",
            "BC",
            "MB",
            "NB",
            "NL",
            "NS",
            "ON",
            "PE",
            "QC",
            "SK"
           ],
           "xaxis": "x",
           "y": [
            701566.8233195812,
            1577540.4779506072,
            182665.95019272028,
            151146.65997521687,
            73261.29281491587,
            188447.5755425581,
            3024744.8447799464,
            33053.84753846154,
            1872725.1285707576,
            194345.85592894157
           ],
           "yaxis": "y"
          }
         ],
         "name": "2021-08-16"
        },
        {
         "data": [
          {
           "alignmentgroup": "True",
           "hovertemplate": "Type=Rural<br>date_range_start=2021-08-23<br>region=%{x}<br>mobility_score=%{y}<extra></extra>",
           "ids": [
            "AB",
            "BC",
            "MB",
            "NB",
            "NL",
            "NS",
            "ON",
            "PE",
            "QC",
            "SK"
           ],
           "legendgroup": "Rural",
           "marker": {
            "color": "#636efa",
            "pattern": {
             "shape": ""
            }
           },
           "name": "Rural",
           "offsetgroup": "Rural",
           "orientation": "v",
           "showlegend": true,
           "textposition": "auto",
           "type": "bar",
           "x": [
            "AB",
            "BC",
            "MB",
            "NB",
            "NL",
            "NS",
            "ON",
            "PE",
            "QC",
            "SK"
           ],
           "xaxis": "x",
           "y": [
            182123.7364465409,
            226713.48354245236,
            15743.897743105255,
            23610.731105381463,
            13421.09206874368,
            36864.0315266698,
            593255.7626855209,
            23060.83940217391,
            354872.0885174556,
            27448.825889570555
           ],
           "yaxis": "y"
          },
          {
           "alignmentgroup": "True",
           "hovertemplate": "Type=Urban<br>date_range_start=2021-08-23<br>region=%{x}<br>mobility_score=%{y}<extra></extra>",
           "ids": [
            "AB",
            "BC",
            "MB",
            "NB",
            "NL",
            "NS",
            "ON",
            "PE",
            "QC",
            "SK"
           ],
           "legendgroup": "Urban",
           "marker": {
            "color": "#EF553B",
            "pattern": {
             "shape": ""
            }
           },
           "name": "Urban",
           "offsetgroup": "Urban",
           "orientation": "v",
           "showlegend": true,
           "textposition": "auto",
           "type": "bar",
           "x": [
            "AB",
            "BC",
            "MB",
            "NB",
            "NL",
            "NS",
            "ON",
            "PE",
            "QC",
            "SK"
           ],
           "xaxis": "x",
           "y": [
            653736.607691021,
            1589118.5686061727,
            196066.67732608077,
            139629.82565780776,
            91049.1477621542,
            212693.9969576099,
            2947466.000589804,
            39132.49282608696,
            1901770.822990318,
            151681.20539877302
           ],
           "yaxis": "y"
          }
         ],
         "name": "2021-08-23"
        },
        {
         "data": [
          {
           "alignmentgroup": "True",
           "hovertemplate": "Type=Rural<br>date_range_start=2021-08-30<br>region=%{x}<br>mobility_score=%{y}<extra></extra>",
           "ids": [
            "AB",
            "BC",
            "MB",
            "NB",
            "NL",
            "NS",
            "ON",
            "PE",
            "QC",
            "SK"
           ],
           "legendgroup": "Rural",
           "marker": {
            "color": "#636efa",
            "pattern": {
             "shape": ""
            }
           },
           "name": "Rural",
           "offsetgroup": "Rural",
           "orientation": "v",
           "showlegend": true,
           "textposition": "auto",
           "type": "bar",
           "x": [
            "AB",
            "BC",
            "MB",
            "NB",
            "NL",
            "NS",
            "ON",
            "PE",
            "QC",
            "SK"
           ],
           "xaxis": "x",
           "y": [
            157291.90782816167,
            223493.16585842785,
            22215.706608240154,
            26580.42875816993,
            7704.191833604042,
            45886.96825817192,
            622701.4067457983,
            13017.818177240684,
            363940.6100116559,
            25840.223524862733
           ],
           "yaxis": "y"
          },
          {
           "alignmentgroup": "True",
           "hovertemplate": "Type=Urban<br>date_range_start=2021-08-30<br>region=%{x}<br>mobility_score=%{y}<extra></extra>",
           "ids": [
            "AB",
            "BC",
            "MB",
            "NB",
            "NL",
            "NS",
            "ON",
            "PE",
            "QC",
            "SK"
           ],
           "legendgroup": "Urban",
           "marker": {
            "color": "#EF553B",
            "pattern": {
             "shape": ""
            }
           },
           "name": "Urban",
           "offsetgroup": "Urban",
           "orientation": "v",
           "showlegend": true,
           "textposition": "auto",
           "type": "bar",
           "x": [
            "AB",
            "BC",
            "MB",
            "NB",
            "NL",
            "NS",
            "ON",
            "PE",
            "QC",
            "SK"
           ],
           "xaxis": "x",
           "y": [
            699541.9957548616,
            1460941.7883311368,
            189359.33817366775,
            138243.7876470588,
            59280.715340191295,
            180047.3705281477,
            3030405.5303575005,
            14173.944209466265,
            1639705.29880488,
            168645.936988632
           ],
           "yaxis": "y"
          }
         ],
         "name": "2021-08-30"
        }
       ],
       "layout": {
        "barmode": "relative",
        "legend": {
         "title": {
          "text": "Type"
         },
         "tracegroupgap": 0
        },
        "margin": {
         "t": 60
        },
        "sliders": [
         {
          "active": 0,
          "currentvalue": {
           "prefix": "date_range_start="
          },
          "len": 0.9,
          "pad": {
           "b": 10,
           "t": 60
          },
          "steps": [
           {
            "args": [
             [
              "2019-06-03"
             ],
             {
              "frame": {
               "duration": 0,
               "redraw": true
              },
              "fromcurrent": true,
              "mode": "immediate",
              "transition": {
               "duration": 0,
               "easing": "linear"
              }
             }
            ],
            "label": "2019-06-03",
            "method": "animate"
           },
           {
            "args": [
             [
              "2019-06-10"
             ],
             {
              "frame": {
               "duration": 0,
               "redraw": true
              },
              "fromcurrent": true,
              "mode": "immediate",
              "transition": {
               "duration": 0,
               "easing": "linear"
              }
             }
            ],
            "label": "2019-06-10",
            "method": "animate"
           },
           {
            "args": [
             [
              "2019-06-17"
             ],
             {
              "frame": {
               "duration": 0,
               "redraw": true
              },
              "fromcurrent": true,
              "mode": "immediate",
              "transition": {
               "duration": 0,
               "easing": "linear"
              }
             }
            ],
            "label": "2019-06-17",
            "method": "animate"
           },
           {
            "args": [
             [
              "2019-06-24"
             ],
             {
              "frame": {
               "duration": 0,
               "redraw": true
              },
              "fromcurrent": true,
              "mode": "immediate",
              "transition": {
               "duration": 0,
               "easing": "linear"
              }
             }
            ],
            "label": "2019-06-24",
            "method": "animate"
           },
           {
            "args": [
             [
              "2019-07-01"
             ],
             {
              "frame": {
               "duration": 0,
               "redraw": true
              },
              "fromcurrent": true,
              "mode": "immediate",
              "transition": {
               "duration": 0,
               "easing": "linear"
              }
             }
            ],
            "label": "2019-07-01",
            "method": "animate"
           },
           {
            "args": [
             [
              "2019-07-08"
             ],
             {
              "frame": {
               "duration": 0,
               "redraw": true
              },
              "fromcurrent": true,
              "mode": "immediate",
              "transition": {
               "duration": 0,
               "easing": "linear"
              }
             }
            ],
            "label": "2019-07-08",
            "method": "animate"
           },
           {
            "args": [
             [
              "2019-07-15"
             ],
             {
              "frame": {
               "duration": 0,
               "redraw": true
              },
              "fromcurrent": true,
              "mode": "immediate",
              "transition": {
               "duration": 0,
               "easing": "linear"
              }
             }
            ],
            "label": "2019-07-15",
            "method": "animate"
           },
           {
            "args": [
             [
              "2019-07-22"
             ],
             {
              "frame": {
               "duration": 0,
               "redraw": true
              },
              "fromcurrent": true,
              "mode": "immediate",
              "transition": {
               "duration": 0,
               "easing": "linear"
              }
             }
            ],
            "label": "2019-07-22",
            "method": "animate"
           },
           {
            "args": [
             [
              "2019-07-29"
             ],
             {
              "frame": {
               "duration": 0,
               "redraw": true
              },
              "fromcurrent": true,
              "mode": "immediate",
              "transition": {
               "duration": 0,
               "easing": "linear"
              }
             }
            ],
            "label": "2019-07-29",
            "method": "animate"
           },
           {
            "args": [
             [
              "2019-08-05"
             ],
             {
              "frame": {
               "duration": 0,
               "redraw": true
              },
              "fromcurrent": true,
              "mode": "immediate",
              "transition": {
               "duration": 0,
               "easing": "linear"
              }
             }
            ],
            "label": "2019-08-05",
            "method": "animate"
           },
           {
            "args": [
             [
              "2019-08-12"
             ],
             {
              "frame": {
               "duration": 0,
               "redraw": true
              },
              "fromcurrent": true,
              "mode": "immediate",
              "transition": {
               "duration": 0,
               "easing": "linear"
              }
             }
            ],
            "label": "2019-08-12",
            "method": "animate"
           },
           {
            "args": [
             [
              "2019-08-19"
             ],
             {
              "frame": {
               "duration": 0,
               "redraw": true
              },
              "fromcurrent": true,
              "mode": "immediate",
              "transition": {
               "duration": 0,
               "easing": "linear"
              }
             }
            ],
            "label": "2019-08-19",
            "method": "animate"
           },
           {
            "args": [
             [
              "2019-08-26"
             ],
             {
              "frame": {
               "duration": 0,
               "redraw": true
              },
              "fromcurrent": true,
              "mode": "immediate",
              "transition": {
               "duration": 0,
               "easing": "linear"
              }
             }
            ],
            "label": "2019-08-26",
            "method": "animate"
           },
           {
            "args": [
             [
              "2019-09-02"
             ],
             {
              "frame": {
               "duration": 0,
               "redraw": true
              },
              "fromcurrent": true,
              "mode": "immediate",
              "transition": {
               "duration": 0,
               "easing": "linear"
              }
             }
            ],
            "label": "2019-09-02",
            "method": "animate"
           },
           {
            "args": [
             [
              "2019-09-09"
             ],
             {
              "frame": {
               "duration": 0,
               "redraw": true
              },
              "fromcurrent": true,
              "mode": "immediate",
              "transition": {
               "duration": 0,
               "easing": "linear"
              }
             }
            ],
            "label": "2019-09-09",
            "method": "animate"
           },
           {
            "args": [
             [
              "2019-09-16"
             ],
             {
              "frame": {
               "duration": 0,
               "redraw": true
              },
              "fromcurrent": true,
              "mode": "immediate",
              "transition": {
               "duration": 0,
               "easing": "linear"
              }
             }
            ],
            "label": "2019-09-16",
            "method": "animate"
           },
           {
            "args": [
             [
              "2019-09-23"
             ],
             {
              "frame": {
               "duration": 0,
               "redraw": true
              },
              "fromcurrent": true,
              "mode": "immediate",
              "transition": {
               "duration": 0,
               "easing": "linear"
              }
             }
            ],
            "label": "2019-09-23",
            "method": "animate"
           },
           {
            "args": [
             [
              "2019-09-30"
             ],
             {
              "frame": {
               "duration": 0,
               "redraw": true
              },
              "fromcurrent": true,
              "mode": "immediate",
              "transition": {
               "duration": 0,
               "easing": "linear"
              }
             }
            ],
            "label": "2019-09-30",
            "method": "animate"
           },
           {
            "args": [
             [
              "2019-10-07"
             ],
             {
              "frame": {
               "duration": 0,
               "redraw": true
              },
              "fromcurrent": true,
              "mode": "immediate",
              "transition": {
               "duration": 0,
               "easing": "linear"
              }
             }
            ],
            "label": "2019-10-07",
            "method": "animate"
           },
           {
            "args": [
             [
              "2019-10-14"
             ],
             {
              "frame": {
               "duration": 0,
               "redraw": true
              },
              "fromcurrent": true,
              "mode": "immediate",
              "transition": {
               "duration": 0,
               "easing": "linear"
              }
             }
            ],
            "label": "2019-10-14",
            "method": "animate"
           },
           {
            "args": [
             [
              "2019-10-21"
             ],
             {
              "frame": {
               "duration": 0,
               "redraw": true
              },
              "fromcurrent": true,
              "mode": "immediate",
              "transition": {
               "duration": 0,
               "easing": "linear"
              }
             }
            ],
            "label": "2019-10-21",
            "method": "animate"
           },
           {
            "args": [
             [
              "2019-10-28"
             ],
             {
              "frame": {
               "duration": 0,
               "redraw": true
              },
              "fromcurrent": true,
              "mode": "immediate",
              "transition": {
               "duration": 0,
               "easing": "linear"
              }
             }
            ],
            "label": "2019-10-28",
            "method": "animate"
           },
           {
            "args": [
             [
              "2019-11-04"
             ],
             {
              "frame": {
               "duration": 0,
               "redraw": true
              },
              "fromcurrent": true,
              "mode": "immediate",
              "transition": {
               "duration": 0,
               "easing": "linear"
              }
             }
            ],
            "label": "2019-11-04",
            "method": "animate"
           },
           {
            "args": [
             [
              "2019-11-11"
             ],
             {
              "frame": {
               "duration": 0,
               "redraw": true
              },
              "fromcurrent": true,
              "mode": "immediate",
              "transition": {
               "duration": 0,
               "easing": "linear"
              }
             }
            ],
            "label": "2019-11-11",
            "method": "animate"
           },
           {
            "args": [
             [
              "2019-11-18"
             ],
             {
              "frame": {
               "duration": 0,
               "redraw": true
              },
              "fromcurrent": true,
              "mode": "immediate",
              "transition": {
               "duration": 0,
               "easing": "linear"
              }
             }
            ],
            "label": "2019-11-18",
            "method": "animate"
           },
           {
            "args": [
             [
              "2019-11-25"
             ],
             {
              "frame": {
               "duration": 0,
               "redraw": true
              },
              "fromcurrent": true,
              "mode": "immediate",
              "transition": {
               "duration": 0,
               "easing": "linear"
              }
             }
            ],
            "label": "2019-11-25",
            "method": "animate"
           },
           {
            "args": [
             [
              "2019-12-02"
             ],
             {
              "frame": {
               "duration": 0,
               "redraw": true
              },
              "fromcurrent": true,
              "mode": "immediate",
              "transition": {
               "duration": 0,
               "easing": "linear"
              }
             }
            ],
            "label": "2019-12-02",
            "method": "animate"
           },
           {
            "args": [
             [
              "2019-12-09"
             ],
             {
              "frame": {
               "duration": 0,
               "redraw": true
              },
              "fromcurrent": true,
              "mode": "immediate",
              "transition": {
               "duration": 0,
               "easing": "linear"
              }
             }
            ],
            "label": "2019-12-09",
            "method": "animate"
           },
           {
            "args": [
             [
              "2019-12-16"
             ],
             {
              "frame": {
               "duration": 0,
               "redraw": true
              },
              "fromcurrent": true,
              "mode": "immediate",
              "transition": {
               "duration": 0,
               "easing": "linear"
              }
             }
            ],
            "label": "2019-12-16",
            "method": "animate"
           },
           {
            "args": [
             [
              "2019-12-23"
             ],
             {
              "frame": {
               "duration": 0,
               "redraw": true
              },
              "fromcurrent": true,
              "mode": "immediate",
              "transition": {
               "duration": 0,
               "easing": "linear"
              }
             }
            ],
            "label": "2019-12-23",
            "method": "animate"
           },
           {
            "args": [
             [
              "2019-12-30"
             ],
             {
              "frame": {
               "duration": 0,
               "redraw": true
              },
              "fromcurrent": true,
              "mode": "immediate",
              "transition": {
               "duration": 0,
               "easing": "linear"
              }
             }
            ],
            "label": "2019-12-30",
            "method": "animate"
           },
           {
            "args": [
             [
              "2020-01-06"
             ],
             {
              "frame": {
               "duration": 0,
               "redraw": true
              },
              "fromcurrent": true,
              "mode": "immediate",
              "transition": {
               "duration": 0,
               "easing": "linear"
              }
             }
            ],
            "label": "2020-01-06",
            "method": "animate"
           },
           {
            "args": [
             [
              "2020-01-13"
             ],
             {
              "frame": {
               "duration": 0,
               "redraw": true
              },
              "fromcurrent": true,
              "mode": "immediate",
              "transition": {
               "duration": 0,
               "easing": "linear"
              }
             }
            ],
            "label": "2020-01-13",
            "method": "animate"
           },
           {
            "args": [
             [
              "2020-01-20"
             ],
             {
              "frame": {
               "duration": 0,
               "redraw": true
              },
              "fromcurrent": true,
              "mode": "immediate",
              "transition": {
               "duration": 0,
               "easing": "linear"
              }
             }
            ],
            "label": "2020-01-20",
            "method": "animate"
           },
           {
            "args": [
             [
              "2020-01-27"
             ],
             {
              "frame": {
               "duration": 0,
               "redraw": true
              },
              "fromcurrent": true,
              "mode": "immediate",
              "transition": {
               "duration": 0,
               "easing": "linear"
              }
             }
            ],
            "label": "2020-01-27",
            "method": "animate"
           },
           {
            "args": [
             [
              "2020-02-03"
             ],
             {
              "frame": {
               "duration": 0,
               "redraw": true
              },
              "fromcurrent": true,
              "mode": "immediate",
              "transition": {
               "duration": 0,
               "easing": "linear"
              }
             }
            ],
            "label": "2020-02-03",
            "method": "animate"
           },
           {
            "args": [
             [
              "2020-02-10"
             ],
             {
              "frame": {
               "duration": 0,
               "redraw": true
              },
              "fromcurrent": true,
              "mode": "immediate",
              "transition": {
               "duration": 0,
               "easing": "linear"
              }
             }
            ],
            "label": "2020-02-10",
            "method": "animate"
           },
           {
            "args": [
             [
              "2020-02-17"
             ],
             {
              "frame": {
               "duration": 0,
               "redraw": true
              },
              "fromcurrent": true,
              "mode": "immediate",
              "transition": {
               "duration": 0,
               "easing": "linear"
              }
             }
            ],
            "label": "2020-02-17",
            "method": "animate"
           },
           {
            "args": [
             [
              "2020-02-24"
             ],
             {
              "frame": {
               "duration": 0,
               "redraw": true
              },
              "fromcurrent": true,
              "mode": "immediate",
              "transition": {
               "duration": 0,
               "easing": "linear"
              }
             }
            ],
            "label": "2020-02-24",
            "method": "animate"
           },
           {
            "args": [
             [
              "2020-03-02"
             ],
             {
              "frame": {
               "duration": 0,
               "redraw": true
              },
              "fromcurrent": true,
              "mode": "immediate",
              "transition": {
               "duration": 0,
               "easing": "linear"
              }
             }
            ],
            "label": "2020-03-02",
            "method": "animate"
           },
           {
            "args": [
             [
              "2020-03-09"
             ],
             {
              "frame": {
               "duration": 0,
               "redraw": true
              },
              "fromcurrent": true,
              "mode": "immediate",
              "transition": {
               "duration": 0,
               "easing": "linear"
              }
             }
            ],
            "label": "2020-03-09",
            "method": "animate"
           },
           {
            "args": [
             [
              "2020-03-16"
             ],
             {
              "frame": {
               "duration": 0,
               "redraw": true
              },
              "fromcurrent": true,
              "mode": "immediate",
              "transition": {
               "duration": 0,
               "easing": "linear"
              }
             }
            ],
            "label": "2020-03-16",
            "method": "animate"
           },
           {
            "args": [
             [
              "2020-03-23"
             ],
             {
              "frame": {
               "duration": 0,
               "redraw": true
              },
              "fromcurrent": true,
              "mode": "immediate",
              "transition": {
               "duration": 0,
               "easing": "linear"
              }
             }
            ],
            "label": "2020-03-23",
            "method": "animate"
           },
           {
            "args": [
             [
              "2020-03-30"
             ],
             {
              "frame": {
               "duration": 0,
               "redraw": true
              },
              "fromcurrent": true,
              "mode": "immediate",
              "transition": {
               "duration": 0,
               "easing": "linear"
              }
             }
            ],
            "label": "2020-03-30",
            "method": "animate"
           },
           {
            "args": [
             [
              "2020-04-06"
             ],
             {
              "frame": {
               "duration": 0,
               "redraw": true
              },
              "fromcurrent": true,
              "mode": "immediate",
              "transition": {
               "duration": 0,
               "easing": "linear"
              }
             }
            ],
            "label": "2020-04-06",
            "method": "animate"
           },
           {
            "args": [
             [
              "2020-04-13"
             ],
             {
              "frame": {
               "duration": 0,
               "redraw": true
              },
              "fromcurrent": true,
              "mode": "immediate",
              "transition": {
               "duration": 0,
               "easing": "linear"
              }
             }
            ],
            "label": "2020-04-13",
            "method": "animate"
           },
           {
            "args": [
             [
              "2020-04-20"
             ],
             {
              "frame": {
               "duration": 0,
               "redraw": true
              },
              "fromcurrent": true,
              "mode": "immediate",
              "transition": {
               "duration": 0,
               "easing": "linear"
              }
             }
            ],
            "label": "2020-04-20",
            "method": "animate"
           },
           {
            "args": [
             [
              "2020-04-27"
             ],
             {
              "frame": {
               "duration": 0,
               "redraw": true
              },
              "fromcurrent": true,
              "mode": "immediate",
              "transition": {
               "duration": 0,
               "easing": "linear"
              }
             }
            ],
            "label": "2020-04-27",
            "method": "animate"
           },
           {
            "args": [
             [
              "2020-05-04"
             ],
             {
              "frame": {
               "duration": 0,
               "redraw": true
              },
              "fromcurrent": true,
              "mode": "immediate",
              "transition": {
               "duration": 0,
               "easing": "linear"
              }
             }
            ],
            "label": "2020-05-04",
            "method": "animate"
           },
           {
            "args": [
             [
              "2020-05-11"
             ],
             {
              "frame": {
               "duration": 0,
               "redraw": true
              },
              "fromcurrent": true,
              "mode": "immediate",
              "transition": {
               "duration": 0,
               "easing": "linear"
              }
             }
            ],
            "label": "2020-05-11",
            "method": "animate"
           },
           {
            "args": [
             [
              "2020-05-18"
             ],
             {
              "frame": {
               "duration": 0,
               "redraw": true
              },
              "fromcurrent": true,
              "mode": "immediate",
              "transition": {
               "duration": 0,
               "easing": "linear"
              }
             }
            ],
            "label": "2020-05-18",
            "method": "animate"
           },
           {
            "args": [
             [
              "2020-05-25"
             ],
             {
              "frame": {
               "duration": 0,
               "redraw": true
              },
              "fromcurrent": true,
              "mode": "immediate",
              "transition": {
               "duration": 0,
               "easing": "linear"
              }
             }
            ],
            "label": "2020-05-25",
            "method": "animate"
           },
           {
            "args": [
             [
              "2020-06-01"
             ],
             {
              "frame": {
               "duration": 0,
               "redraw": true
              },
              "fromcurrent": true,
              "mode": "immediate",
              "transition": {
               "duration": 0,
               "easing": "linear"
              }
             }
            ],
            "label": "2020-06-01",
            "method": "animate"
           },
           {
            "args": [
             [
              "2020-06-08"
             ],
             {
              "frame": {
               "duration": 0,
               "redraw": true
              },
              "fromcurrent": true,
              "mode": "immediate",
              "transition": {
               "duration": 0,
               "easing": "linear"
              }
             }
            ],
            "label": "2020-06-08",
            "method": "animate"
           },
           {
            "args": [
             [
              "2020-06-15"
             ],
             {
              "frame": {
               "duration": 0,
               "redraw": true
              },
              "fromcurrent": true,
              "mode": "immediate",
              "transition": {
               "duration": 0,
               "easing": "linear"
              }
             }
            ],
            "label": "2020-06-15",
            "method": "animate"
           },
           {
            "args": [
             [
              "2020-06-22"
             ],
             {
              "frame": {
               "duration": 0,
               "redraw": true
              },
              "fromcurrent": true,
              "mode": "immediate",
              "transition": {
               "duration": 0,
               "easing": "linear"
              }
             }
            ],
            "label": "2020-06-22",
            "method": "animate"
           },
           {
            "args": [
             [
              "2020-06-29"
             ],
             {
              "frame": {
               "duration": 0,
               "redraw": true
              },
              "fromcurrent": true,
              "mode": "immediate",
              "transition": {
               "duration": 0,
               "easing": "linear"
              }
             }
            ],
            "label": "2020-06-29",
            "method": "animate"
           },
           {
            "args": [
             [
              "2020-07-06"
             ],
             {
              "frame": {
               "duration": 0,
               "redraw": true
              },
              "fromcurrent": true,
              "mode": "immediate",
              "transition": {
               "duration": 0,
               "easing": "linear"
              }
             }
            ],
            "label": "2020-07-06",
            "method": "animate"
           },
           {
            "args": [
             [
              "2020-07-13"
             ],
             {
              "frame": {
               "duration": 0,
               "redraw": true
              },
              "fromcurrent": true,
              "mode": "immediate",
              "transition": {
               "duration": 0,
               "easing": "linear"
              }
             }
            ],
            "label": "2020-07-13",
            "method": "animate"
           },
           {
            "args": [
             [
              "2020-07-20"
             ],
             {
              "frame": {
               "duration": 0,
               "redraw": true
              },
              "fromcurrent": true,
              "mode": "immediate",
              "transition": {
               "duration": 0,
               "easing": "linear"
              }
             }
            ],
            "label": "2020-07-20",
            "method": "animate"
           },
           {
            "args": [
             [
              "2020-07-27"
             ],
             {
              "frame": {
               "duration": 0,
               "redraw": true
              },
              "fromcurrent": true,
              "mode": "immediate",
              "transition": {
               "duration": 0,
               "easing": "linear"
              }
             }
            ],
            "label": "2020-07-27",
            "method": "animate"
           },
           {
            "args": [
             [
              "2020-08-03"
             ],
             {
              "frame": {
               "duration": 0,
               "redraw": true
              },
              "fromcurrent": true,
              "mode": "immediate",
              "transition": {
               "duration": 0,
               "easing": "linear"
              }
             }
            ],
            "label": "2020-08-03",
            "method": "animate"
           },
           {
            "args": [
             [
              "2020-08-10"
             ],
             {
              "frame": {
               "duration": 0,
               "redraw": true
              },
              "fromcurrent": true,
              "mode": "immediate",
              "transition": {
               "duration": 0,
               "easing": "linear"
              }
             }
            ],
            "label": "2020-08-10",
            "method": "animate"
           },
           {
            "args": [
             [
              "2020-08-17"
             ],
             {
              "frame": {
               "duration": 0,
               "redraw": true
              },
              "fromcurrent": true,
              "mode": "immediate",
              "transition": {
               "duration": 0,
               "easing": "linear"
              }
             }
            ],
            "label": "2020-08-17",
            "method": "animate"
           },
           {
            "args": [
             [
              "2020-08-24"
             ],
             {
              "frame": {
               "duration": 0,
               "redraw": true
              },
              "fromcurrent": true,
              "mode": "immediate",
              "transition": {
               "duration": 0,
               "easing": "linear"
              }
             }
            ],
            "label": "2020-08-24",
            "method": "animate"
           },
           {
            "args": [
             [
              "2020-08-31"
             ],
             {
              "frame": {
               "duration": 0,
               "redraw": true
              },
              "fromcurrent": true,
              "mode": "immediate",
              "transition": {
               "duration": 0,
               "easing": "linear"
              }
             }
            ],
            "label": "2020-08-31",
            "method": "animate"
           },
           {
            "args": [
             [
              "2020-09-07"
             ],
             {
              "frame": {
               "duration": 0,
               "redraw": true
              },
              "fromcurrent": true,
              "mode": "immediate",
              "transition": {
               "duration": 0,
               "easing": "linear"
              }
             }
            ],
            "label": "2020-09-07",
            "method": "animate"
           },
           {
            "args": [
             [
              "2020-09-14"
             ],
             {
              "frame": {
               "duration": 0,
               "redraw": true
              },
              "fromcurrent": true,
              "mode": "immediate",
              "transition": {
               "duration": 0,
               "easing": "linear"
              }
             }
            ],
            "label": "2020-09-14",
            "method": "animate"
           },
           {
            "args": [
             [
              "2020-09-21"
             ],
             {
              "frame": {
               "duration": 0,
               "redraw": true
              },
              "fromcurrent": true,
              "mode": "immediate",
              "transition": {
               "duration": 0,
               "easing": "linear"
              }
             }
            ],
            "label": "2020-09-21",
            "method": "animate"
           },
           {
            "args": [
             [
              "2020-09-28"
             ],
             {
              "frame": {
               "duration": 0,
               "redraw": true
              },
              "fromcurrent": true,
              "mode": "immediate",
              "transition": {
               "duration": 0,
               "easing": "linear"
              }
             }
            ],
            "label": "2020-09-28",
            "method": "animate"
           },
           {
            "args": [
             [
              "2020-10-05"
             ],
             {
              "frame": {
               "duration": 0,
               "redraw": true
              },
              "fromcurrent": true,
              "mode": "immediate",
              "transition": {
               "duration": 0,
               "easing": "linear"
              }
             }
            ],
            "label": "2020-10-05",
            "method": "animate"
           },
           {
            "args": [
             [
              "2020-10-12"
             ],
             {
              "frame": {
               "duration": 0,
               "redraw": true
              },
              "fromcurrent": true,
              "mode": "immediate",
              "transition": {
               "duration": 0,
               "easing": "linear"
              }
             }
            ],
            "label": "2020-10-12",
            "method": "animate"
           },
           {
            "args": [
             [
              "2020-10-19"
             ],
             {
              "frame": {
               "duration": 0,
               "redraw": true
              },
              "fromcurrent": true,
              "mode": "immediate",
              "transition": {
               "duration": 0,
               "easing": "linear"
              }
             }
            ],
            "label": "2020-10-19",
            "method": "animate"
           },
           {
            "args": [
             [
              "2020-10-26"
             ],
             {
              "frame": {
               "duration": 0,
               "redraw": true
              },
              "fromcurrent": true,
              "mode": "immediate",
              "transition": {
               "duration": 0,
               "easing": "linear"
              }
             }
            ],
            "label": "2020-10-26",
            "method": "animate"
           },
           {
            "args": [
             [
              "2020-11-02"
             ],
             {
              "frame": {
               "duration": 0,
               "redraw": true
              },
              "fromcurrent": true,
              "mode": "immediate",
              "transition": {
               "duration": 0,
               "easing": "linear"
              }
             }
            ],
            "label": "2020-11-02",
            "method": "animate"
           },
           {
            "args": [
             [
              "2020-11-09"
             ],
             {
              "frame": {
               "duration": 0,
               "redraw": true
              },
              "fromcurrent": true,
              "mode": "immediate",
              "transition": {
               "duration": 0,
               "easing": "linear"
              }
             }
            ],
            "label": "2020-11-09",
            "method": "animate"
           },
           {
            "args": [
             [
              "2020-11-16"
             ],
             {
              "frame": {
               "duration": 0,
               "redraw": true
              },
              "fromcurrent": true,
              "mode": "immediate",
              "transition": {
               "duration": 0,
               "easing": "linear"
              }
             }
            ],
            "label": "2020-11-16",
            "method": "animate"
           },
           {
            "args": [
             [
              "2020-11-23"
             ],
             {
              "frame": {
               "duration": 0,
               "redraw": true
              },
              "fromcurrent": true,
              "mode": "immediate",
              "transition": {
               "duration": 0,
               "easing": "linear"
              }
             }
            ],
            "label": "2020-11-23",
            "method": "animate"
           },
           {
            "args": [
             [
              "2020-11-30"
             ],
             {
              "frame": {
               "duration": 0,
               "redraw": true
              },
              "fromcurrent": true,
              "mode": "immediate",
              "transition": {
               "duration": 0,
               "easing": "linear"
              }
             }
            ],
            "label": "2020-11-30",
            "method": "animate"
           },
           {
            "args": [
             [
              "2020-12-07"
             ],
             {
              "frame": {
               "duration": 0,
               "redraw": true
              },
              "fromcurrent": true,
              "mode": "immediate",
              "transition": {
               "duration": 0,
               "easing": "linear"
              }
             }
            ],
            "label": "2020-12-07",
            "method": "animate"
           },
           {
            "args": [
             [
              "2020-12-14"
             ],
             {
              "frame": {
               "duration": 0,
               "redraw": true
              },
              "fromcurrent": true,
              "mode": "immediate",
              "transition": {
               "duration": 0,
               "easing": "linear"
              }
             }
            ],
            "label": "2020-12-14",
            "method": "animate"
           },
           {
            "args": [
             [
              "2020-12-21"
             ],
             {
              "frame": {
               "duration": 0,
               "redraw": true
              },
              "fromcurrent": true,
              "mode": "immediate",
              "transition": {
               "duration": 0,
               "easing": "linear"
              }
             }
            ],
            "label": "2020-12-21",
            "method": "animate"
           },
           {
            "args": [
             [
              "2020-12-28"
             ],
             {
              "frame": {
               "duration": 0,
               "redraw": true
              },
              "fromcurrent": true,
              "mode": "immediate",
              "transition": {
               "duration": 0,
               "easing": "linear"
              }
             }
            ],
            "label": "2020-12-28",
            "method": "animate"
           },
           {
            "args": [
             [
              "2021-01-04"
             ],
             {
              "frame": {
               "duration": 0,
               "redraw": true
              },
              "fromcurrent": true,
              "mode": "immediate",
              "transition": {
               "duration": 0,
               "easing": "linear"
              }
             }
            ],
            "label": "2021-01-04",
            "method": "animate"
           },
           {
            "args": [
             [
              "2021-01-11"
             ],
             {
              "frame": {
               "duration": 0,
               "redraw": true
              },
              "fromcurrent": true,
              "mode": "immediate",
              "transition": {
               "duration": 0,
               "easing": "linear"
              }
             }
            ],
            "label": "2021-01-11",
            "method": "animate"
           },
           {
            "args": [
             [
              "2021-01-18"
             ],
             {
              "frame": {
               "duration": 0,
               "redraw": true
              },
              "fromcurrent": true,
              "mode": "immediate",
              "transition": {
               "duration": 0,
               "easing": "linear"
              }
             }
            ],
            "label": "2021-01-18",
            "method": "animate"
           },
           {
            "args": [
             [
              "2021-01-25"
             ],
             {
              "frame": {
               "duration": 0,
               "redraw": true
              },
              "fromcurrent": true,
              "mode": "immediate",
              "transition": {
               "duration": 0,
               "easing": "linear"
              }
             }
            ],
            "label": "2021-01-25",
            "method": "animate"
           },
           {
            "args": [
             [
              "2021-02-01"
             ],
             {
              "frame": {
               "duration": 0,
               "redraw": true
              },
              "fromcurrent": true,
              "mode": "immediate",
              "transition": {
               "duration": 0,
               "easing": "linear"
              }
             }
            ],
            "label": "2021-02-01",
            "method": "animate"
           },
           {
            "args": [
             [
              "2021-02-08"
             ],
             {
              "frame": {
               "duration": 0,
               "redraw": true
              },
              "fromcurrent": true,
              "mode": "immediate",
              "transition": {
               "duration": 0,
               "easing": "linear"
              }
             }
            ],
            "label": "2021-02-08",
            "method": "animate"
           },
           {
            "args": [
             [
              "2021-02-15"
             ],
             {
              "frame": {
               "duration": 0,
               "redraw": true
              },
              "fromcurrent": true,
              "mode": "immediate",
              "transition": {
               "duration": 0,
               "easing": "linear"
              }
             }
            ],
            "label": "2021-02-15",
            "method": "animate"
           },
           {
            "args": [
             [
              "2021-02-22"
             ],
             {
              "frame": {
               "duration": 0,
               "redraw": true
              },
              "fromcurrent": true,
              "mode": "immediate",
              "transition": {
               "duration": 0,
               "easing": "linear"
              }
             }
            ],
            "label": "2021-02-22",
            "method": "animate"
           },
           {
            "args": [
             [
              "2021-03-01"
             ],
             {
              "frame": {
               "duration": 0,
               "redraw": true
              },
              "fromcurrent": true,
              "mode": "immediate",
              "transition": {
               "duration": 0,
               "easing": "linear"
              }
             }
            ],
            "label": "2021-03-01",
            "method": "animate"
           },
           {
            "args": [
             [
              "2021-03-08"
             ],
             {
              "frame": {
               "duration": 0,
               "redraw": true
              },
              "fromcurrent": true,
              "mode": "immediate",
              "transition": {
               "duration": 0,
               "easing": "linear"
              }
             }
            ],
            "label": "2021-03-08",
            "method": "animate"
           },
           {
            "args": [
             [
              "2021-03-15"
             ],
             {
              "frame": {
               "duration": 0,
               "redraw": true
              },
              "fromcurrent": true,
              "mode": "immediate",
              "transition": {
               "duration": 0,
               "easing": "linear"
              }
             }
            ],
            "label": "2021-03-15",
            "method": "animate"
           },
           {
            "args": [
             [
              "2021-03-22"
             ],
             {
              "frame": {
               "duration": 0,
               "redraw": true
              },
              "fromcurrent": true,
              "mode": "immediate",
              "transition": {
               "duration": 0,
               "easing": "linear"
              }
             }
            ],
            "label": "2021-03-22",
            "method": "animate"
           },
           {
            "args": [
             [
              "2021-03-29"
             ],
             {
              "frame": {
               "duration": 0,
               "redraw": true
              },
              "fromcurrent": true,
              "mode": "immediate",
              "transition": {
               "duration": 0,
               "easing": "linear"
              }
             }
            ],
            "label": "2021-03-29",
            "method": "animate"
           },
           {
            "args": [
             [
              "2021-04-05"
             ],
             {
              "frame": {
               "duration": 0,
               "redraw": true
              },
              "fromcurrent": true,
              "mode": "immediate",
              "transition": {
               "duration": 0,
               "easing": "linear"
              }
             }
            ],
            "label": "2021-04-05",
            "method": "animate"
           },
           {
            "args": [
             [
              "2021-04-12"
             ],
             {
              "frame": {
               "duration": 0,
               "redraw": true
              },
              "fromcurrent": true,
              "mode": "immediate",
              "transition": {
               "duration": 0,
               "easing": "linear"
              }
             }
            ],
            "label": "2021-04-12",
            "method": "animate"
           },
           {
            "args": [
             [
              "2021-04-19"
             ],
             {
              "frame": {
               "duration": 0,
               "redraw": true
              },
              "fromcurrent": true,
              "mode": "immediate",
              "transition": {
               "duration": 0,
               "easing": "linear"
              }
             }
            ],
            "label": "2021-04-19",
            "method": "animate"
           },
           {
            "args": [
             [
              "2021-04-26"
             ],
             {
              "frame": {
               "duration": 0,
               "redraw": true
              },
              "fromcurrent": true,
              "mode": "immediate",
              "transition": {
               "duration": 0,
               "easing": "linear"
              }
             }
            ],
            "label": "2021-04-26",
            "method": "animate"
           },
           {
            "args": [
             [
              "2021-05-03"
             ],
             {
              "frame": {
               "duration": 0,
               "redraw": true
              },
              "fromcurrent": true,
              "mode": "immediate",
              "transition": {
               "duration": 0,
               "easing": "linear"
              }
             }
            ],
            "label": "2021-05-03",
            "method": "animate"
           },
           {
            "args": [
             [
              "2021-05-10"
             ],
             {
              "frame": {
               "duration": 0,
               "redraw": true
              },
              "fromcurrent": true,
              "mode": "immediate",
              "transition": {
               "duration": 0,
               "easing": "linear"
              }
             }
            ],
            "label": "2021-05-10",
            "method": "animate"
           },
           {
            "args": [
             [
              "2021-05-17"
             ],
             {
              "frame": {
               "duration": 0,
               "redraw": true
              },
              "fromcurrent": true,
              "mode": "immediate",
              "transition": {
               "duration": 0,
               "easing": "linear"
              }
             }
            ],
            "label": "2021-05-17",
            "method": "animate"
           },
           {
            "args": [
             [
              "2021-05-24"
             ],
             {
              "frame": {
               "duration": 0,
               "redraw": true
              },
              "fromcurrent": true,
              "mode": "immediate",
              "transition": {
               "duration": 0,
               "easing": "linear"
              }
             }
            ],
            "label": "2021-05-24",
            "method": "animate"
           },
           {
            "args": [
             [
              "2021-05-31"
             ],
             {
              "frame": {
               "duration": 0,
               "redraw": true
              },
              "fromcurrent": true,
              "mode": "immediate",
              "transition": {
               "duration": 0,
               "easing": "linear"
              }
             }
            ],
            "label": "2021-05-31",
            "method": "animate"
           },
           {
            "args": [
             [
              "2021-06-07"
             ],
             {
              "frame": {
               "duration": 0,
               "redraw": true
              },
              "fromcurrent": true,
              "mode": "immediate",
              "transition": {
               "duration": 0,
               "easing": "linear"
              }
             }
            ],
            "label": "2021-06-07",
            "method": "animate"
           },
           {
            "args": [
             [
              "2021-06-14"
             ],
             {
              "frame": {
               "duration": 0,
               "redraw": true
              },
              "fromcurrent": true,
              "mode": "immediate",
              "transition": {
               "duration": 0,
               "easing": "linear"
              }
             }
            ],
            "label": "2021-06-14",
            "method": "animate"
           },
           {
            "args": [
             [
              "2021-06-21"
             ],
             {
              "frame": {
               "duration": 0,
               "redraw": true
              },
              "fromcurrent": true,
              "mode": "immediate",
              "transition": {
               "duration": 0,
               "easing": "linear"
              }
             }
            ],
            "label": "2021-06-21",
            "method": "animate"
           },
           {
            "args": [
             [
              "2021-06-28"
             ],
             {
              "frame": {
               "duration": 0,
               "redraw": true
              },
              "fromcurrent": true,
              "mode": "immediate",
              "transition": {
               "duration": 0,
               "easing": "linear"
              }
             }
            ],
            "label": "2021-06-28",
            "method": "animate"
           },
           {
            "args": [
             [
              "2021-07-05"
             ],
             {
              "frame": {
               "duration": 0,
               "redraw": true
              },
              "fromcurrent": true,
              "mode": "immediate",
              "transition": {
               "duration": 0,
               "easing": "linear"
              }
             }
            ],
            "label": "2021-07-05",
            "method": "animate"
           },
           {
            "args": [
             [
              "2021-07-12"
             ],
             {
              "frame": {
               "duration": 0,
               "redraw": true
              },
              "fromcurrent": true,
              "mode": "immediate",
              "transition": {
               "duration": 0,
               "easing": "linear"
              }
             }
            ],
            "label": "2021-07-12",
            "method": "animate"
           },
           {
            "args": [
             [
              "2021-07-19"
             ],
             {
              "frame": {
               "duration": 0,
               "redraw": true
              },
              "fromcurrent": true,
              "mode": "immediate",
              "transition": {
               "duration": 0,
               "easing": "linear"
              }
             }
            ],
            "label": "2021-07-19",
            "method": "animate"
           },
           {
            "args": [
             [
              "2021-07-26"
             ],
             {
              "frame": {
               "duration": 0,
               "redraw": true
              },
              "fromcurrent": true,
              "mode": "immediate",
              "transition": {
               "duration": 0,
               "easing": "linear"
              }
             }
            ],
            "label": "2021-07-26",
            "method": "animate"
           },
           {
            "args": [
             [
              "2021-08-02"
             ],
             {
              "frame": {
               "duration": 0,
               "redraw": true
              },
              "fromcurrent": true,
              "mode": "immediate",
              "transition": {
               "duration": 0,
               "easing": "linear"
              }
             }
            ],
            "label": "2021-08-02",
            "method": "animate"
           },
           {
            "args": [
             [
              "2021-08-09"
             ],
             {
              "frame": {
               "duration": 0,
               "redraw": true
              },
              "fromcurrent": true,
              "mode": "immediate",
              "transition": {
               "duration": 0,
               "easing": "linear"
              }
             }
            ],
            "label": "2021-08-09",
            "method": "animate"
           },
           {
            "args": [
             [
              "2021-08-16"
             ],
             {
              "frame": {
               "duration": 0,
               "redraw": true
              },
              "fromcurrent": true,
              "mode": "immediate",
              "transition": {
               "duration": 0,
               "easing": "linear"
              }
             }
            ],
            "label": "2021-08-16",
            "method": "animate"
           },
           {
            "args": [
             [
              "2021-08-23"
             ],
             {
              "frame": {
               "duration": 0,
               "redraw": true
              },
              "fromcurrent": true,
              "mode": "immediate",
              "transition": {
               "duration": 0,
               "easing": "linear"
              }
             }
            ],
            "label": "2021-08-23",
            "method": "animate"
           },
           {
            "args": [
             [
              "2021-08-30"
             ],
             {
              "frame": {
               "duration": 0,
               "redraw": true
              },
              "fromcurrent": true,
              "mode": "immediate",
              "transition": {
               "duration": 0,
               "easing": "linear"
              }
             }
            ],
            "label": "2021-08-30",
            "method": "animate"
           }
          ],
          "x": 0.1,
          "xanchor": "left",
          "y": 0,
          "yanchor": "top"
         }
        ],
        "template": {
         "data": {
          "bar": [
           {
            "error_x": {
             "color": "#2a3f5f"
            },
            "error_y": {
             "color": "#2a3f5f"
            },
            "marker": {
             "line": {
              "color": "#E5ECF6",
              "width": 0.5
             },
             "pattern": {
              "fillmode": "overlay",
              "size": 10,
              "solidity": 0.2
             }
            },
            "type": "bar"
           }
          ],
          "barpolar": [
           {
            "marker": {
             "line": {
              "color": "#E5ECF6",
              "width": 0.5
             },
             "pattern": {
              "fillmode": "overlay",
              "size": 10,
              "solidity": 0.2
             }
            },
            "type": "barpolar"
           }
          ],
          "carpet": [
           {
            "aaxis": {
             "endlinecolor": "#2a3f5f",
             "gridcolor": "white",
             "linecolor": "white",
             "minorgridcolor": "white",
             "startlinecolor": "#2a3f5f"
            },
            "baxis": {
             "endlinecolor": "#2a3f5f",
             "gridcolor": "white",
             "linecolor": "white",
             "minorgridcolor": "white",
             "startlinecolor": "#2a3f5f"
            },
            "type": "carpet"
           }
          ],
          "choropleth": [
           {
            "colorbar": {
             "outlinewidth": 0,
             "ticks": ""
            },
            "type": "choropleth"
           }
          ],
          "contour": [
           {
            "colorbar": {
             "outlinewidth": 0,
             "ticks": ""
            },
            "colorscale": [
             [
              0,
              "#0d0887"
             ],
             [
              0.1111111111111111,
              "#46039f"
             ],
             [
              0.2222222222222222,
              "#7201a8"
             ],
             [
              0.3333333333333333,
              "#9c179e"
             ],
             [
              0.4444444444444444,
              "#bd3786"
             ],
             [
              0.5555555555555556,
              "#d8576b"
             ],
             [
              0.6666666666666666,
              "#ed7953"
             ],
             [
              0.7777777777777778,
              "#fb9f3a"
             ],
             [
              0.8888888888888888,
              "#fdca26"
             ],
             [
              1,
              "#f0f921"
             ]
            ],
            "type": "contour"
           }
          ],
          "contourcarpet": [
           {
            "colorbar": {
             "outlinewidth": 0,
             "ticks": ""
            },
            "type": "contourcarpet"
           }
          ],
          "heatmap": [
           {
            "colorbar": {
             "outlinewidth": 0,
             "ticks": ""
            },
            "colorscale": [
             [
              0,
              "#0d0887"
             ],
             [
              0.1111111111111111,
              "#46039f"
             ],
             [
              0.2222222222222222,
              "#7201a8"
             ],
             [
              0.3333333333333333,
              "#9c179e"
             ],
             [
              0.4444444444444444,
              "#bd3786"
             ],
             [
              0.5555555555555556,
              "#d8576b"
             ],
             [
              0.6666666666666666,
              "#ed7953"
             ],
             [
              0.7777777777777778,
              "#fb9f3a"
             ],
             [
              0.8888888888888888,
              "#fdca26"
             ],
             [
              1,
              "#f0f921"
             ]
            ],
            "type": "heatmap"
           }
          ],
          "heatmapgl": [
           {
            "colorbar": {
             "outlinewidth": 0,
             "ticks": ""
            },
            "colorscale": [
             [
              0,
              "#0d0887"
             ],
             [
              0.1111111111111111,
              "#46039f"
             ],
             [
              0.2222222222222222,
              "#7201a8"
             ],
             [
              0.3333333333333333,
              "#9c179e"
             ],
             [
              0.4444444444444444,
              "#bd3786"
             ],
             [
              0.5555555555555556,
              "#d8576b"
             ],
             [
              0.6666666666666666,
              "#ed7953"
             ],
             [
              0.7777777777777778,
              "#fb9f3a"
             ],
             [
              0.8888888888888888,
              "#fdca26"
             ],
             [
              1,
              "#f0f921"
             ]
            ],
            "type": "heatmapgl"
           }
          ],
          "histogram": [
           {
            "marker": {
             "pattern": {
              "fillmode": "overlay",
              "size": 10,
              "solidity": 0.2
             }
            },
            "type": "histogram"
           }
          ],
          "histogram2d": [
           {
            "colorbar": {
             "outlinewidth": 0,
             "ticks": ""
            },
            "colorscale": [
             [
              0,
              "#0d0887"
             ],
             [
              0.1111111111111111,
              "#46039f"
             ],
             [
              0.2222222222222222,
              "#7201a8"
             ],
             [
              0.3333333333333333,
              "#9c179e"
             ],
             [
              0.4444444444444444,
              "#bd3786"
             ],
             [
              0.5555555555555556,
              "#d8576b"
             ],
             [
              0.6666666666666666,
              "#ed7953"
             ],
             [
              0.7777777777777778,
              "#fb9f3a"
             ],
             [
              0.8888888888888888,
              "#fdca26"
             ],
             [
              1,
              "#f0f921"
             ]
            ],
            "type": "histogram2d"
           }
          ],
          "histogram2dcontour": [
           {
            "colorbar": {
             "outlinewidth": 0,
             "ticks": ""
            },
            "colorscale": [
             [
              0,
              "#0d0887"
             ],
             [
              0.1111111111111111,
              "#46039f"
             ],
             [
              0.2222222222222222,
              "#7201a8"
             ],
             [
              0.3333333333333333,
              "#9c179e"
             ],
             [
              0.4444444444444444,
              "#bd3786"
             ],
             [
              0.5555555555555556,
              "#d8576b"
             ],
             [
              0.6666666666666666,
              "#ed7953"
             ],
             [
              0.7777777777777778,
              "#fb9f3a"
             ],
             [
              0.8888888888888888,
              "#fdca26"
             ],
             [
              1,
              "#f0f921"
             ]
            ],
            "type": "histogram2dcontour"
           }
          ],
          "mesh3d": [
           {
            "colorbar": {
             "outlinewidth": 0,
             "ticks": ""
            },
            "type": "mesh3d"
           }
          ],
          "parcoords": [
           {
            "line": {
             "colorbar": {
              "outlinewidth": 0,
              "ticks": ""
             }
            },
            "type": "parcoords"
           }
          ],
          "pie": [
           {
            "automargin": true,
            "type": "pie"
           }
          ],
          "scatter": [
           {
            "fillpattern": {
             "fillmode": "overlay",
             "size": 10,
             "solidity": 0.2
            },
            "type": "scatter"
           }
          ],
          "scatter3d": [
           {
            "line": {
             "colorbar": {
              "outlinewidth": 0,
              "ticks": ""
             }
            },
            "marker": {
             "colorbar": {
              "outlinewidth": 0,
              "ticks": ""
             }
            },
            "type": "scatter3d"
           }
          ],
          "scattercarpet": [
           {
            "marker": {
             "colorbar": {
              "outlinewidth": 0,
              "ticks": ""
             }
            },
            "type": "scattercarpet"
           }
          ],
          "scattergeo": [
           {
            "marker": {
             "colorbar": {
              "outlinewidth": 0,
              "ticks": ""
             }
            },
            "type": "scattergeo"
           }
          ],
          "scattergl": [
           {
            "marker": {
             "colorbar": {
              "outlinewidth": 0,
              "ticks": ""
             }
            },
            "type": "scattergl"
           }
          ],
          "scattermapbox": [
           {
            "marker": {
             "colorbar": {
              "outlinewidth": 0,
              "ticks": ""
             }
            },
            "type": "scattermapbox"
           }
          ],
          "scatterpolar": [
           {
            "marker": {
             "colorbar": {
              "outlinewidth": 0,
              "ticks": ""
             }
            },
            "type": "scatterpolar"
           }
          ],
          "scatterpolargl": [
           {
            "marker": {
             "colorbar": {
              "outlinewidth": 0,
              "ticks": ""
             }
            },
            "type": "scatterpolargl"
           }
          ],
          "scatterternary": [
           {
            "marker": {
             "colorbar": {
              "outlinewidth": 0,
              "ticks": ""
             }
            },
            "type": "scatterternary"
           }
          ],
          "surface": [
           {
            "colorbar": {
             "outlinewidth": 0,
             "ticks": ""
            },
            "colorscale": [
             [
              0,
              "#0d0887"
             ],
             [
              0.1111111111111111,
              "#46039f"
             ],
             [
              0.2222222222222222,
              "#7201a8"
             ],
             [
              0.3333333333333333,
              "#9c179e"
             ],
             [
              0.4444444444444444,
              "#bd3786"
             ],
             [
              0.5555555555555556,
              "#d8576b"
             ],
             [
              0.6666666666666666,
              "#ed7953"
             ],
             [
              0.7777777777777778,
              "#fb9f3a"
             ],
             [
              0.8888888888888888,
              "#fdca26"
             ],
             [
              1,
              "#f0f921"
             ]
            ],
            "type": "surface"
           }
          ],
          "table": [
           {
            "cells": {
             "fill": {
              "color": "#EBF0F8"
             },
             "line": {
              "color": "white"
             }
            },
            "header": {
             "fill": {
              "color": "#C8D4E3"
             },
             "line": {
              "color": "white"
             }
            },
            "type": "table"
           }
          ]
         },
         "layout": {
          "annotationdefaults": {
           "arrowcolor": "#2a3f5f",
           "arrowhead": 0,
           "arrowwidth": 1
          },
          "autotypenumbers": "strict",
          "coloraxis": {
           "colorbar": {
            "outlinewidth": 0,
            "ticks": ""
           }
          },
          "colorscale": {
           "diverging": [
            [
             0,
             "#8e0152"
            ],
            [
             0.1,
             "#c51b7d"
            ],
            [
             0.2,
             "#de77ae"
            ],
            [
             0.3,
             "#f1b6da"
            ],
            [
             0.4,
             "#fde0ef"
            ],
            [
             0.5,
             "#f7f7f7"
            ],
            [
             0.6,
             "#e6f5d0"
            ],
            [
             0.7,
             "#b8e186"
            ],
            [
             0.8,
             "#7fbc41"
            ],
            [
             0.9,
             "#4d9221"
            ],
            [
             1,
             "#276419"
            ]
           ],
           "sequential": [
            [
             0,
             "#0d0887"
            ],
            [
             0.1111111111111111,
             "#46039f"
            ],
            [
             0.2222222222222222,
             "#7201a8"
            ],
            [
             0.3333333333333333,
             "#9c179e"
            ],
            [
             0.4444444444444444,
             "#bd3786"
            ],
            [
             0.5555555555555556,
             "#d8576b"
            ],
            [
             0.6666666666666666,
             "#ed7953"
            ],
            [
             0.7777777777777778,
             "#fb9f3a"
            ],
            [
             0.8888888888888888,
             "#fdca26"
            ],
            [
             1,
             "#f0f921"
            ]
           ],
           "sequentialminus": [
            [
             0,
             "#0d0887"
            ],
            [
             0.1111111111111111,
             "#46039f"
            ],
            [
             0.2222222222222222,
             "#7201a8"
            ],
            [
             0.3333333333333333,
             "#9c179e"
            ],
            [
             0.4444444444444444,
             "#bd3786"
            ],
            [
             0.5555555555555556,
             "#d8576b"
            ],
            [
             0.6666666666666666,
             "#ed7953"
            ],
            [
             0.7777777777777778,
             "#fb9f3a"
            ],
            [
             0.8888888888888888,
             "#fdca26"
            ],
            [
             1,
             "#f0f921"
            ]
           ]
          },
          "colorway": [
           "#636efa",
           "#EF553B",
           "#00cc96",
           "#ab63fa",
           "#FFA15A",
           "#19d3f3",
           "#FF6692",
           "#B6E880",
           "#FF97FF",
           "#FECB52"
          ],
          "font": {
           "color": "#2a3f5f"
          },
          "geo": {
           "bgcolor": "white",
           "lakecolor": "white",
           "landcolor": "#E5ECF6",
           "showlakes": true,
           "showland": true,
           "subunitcolor": "white"
          },
          "hoverlabel": {
           "align": "left"
          },
          "hovermode": "closest",
          "mapbox": {
           "style": "light"
          },
          "paper_bgcolor": "white",
          "plot_bgcolor": "#E5ECF6",
          "polar": {
           "angularaxis": {
            "gridcolor": "white",
            "linecolor": "white",
            "ticks": ""
           },
           "bgcolor": "#E5ECF6",
           "radialaxis": {
            "gridcolor": "white",
            "linecolor": "white",
            "ticks": ""
           }
          },
          "scene": {
           "xaxis": {
            "backgroundcolor": "#E5ECF6",
            "gridcolor": "white",
            "gridwidth": 2,
            "linecolor": "white",
            "showbackground": true,
            "ticks": "",
            "zerolinecolor": "white"
           },
           "yaxis": {
            "backgroundcolor": "#E5ECF6",
            "gridcolor": "white",
            "gridwidth": 2,
            "linecolor": "white",
            "showbackground": true,
            "ticks": "",
            "zerolinecolor": "white"
           },
           "zaxis": {
            "backgroundcolor": "#E5ECF6",
            "gridcolor": "white",
            "gridwidth": 2,
            "linecolor": "white",
            "showbackground": true,
            "ticks": "",
            "zerolinecolor": "white"
           }
          },
          "shapedefaults": {
           "line": {
            "color": "#2a3f5f"
           }
          },
          "ternary": {
           "aaxis": {
            "gridcolor": "white",
            "linecolor": "white",
            "ticks": ""
           },
           "baxis": {
            "gridcolor": "white",
            "linecolor": "white",
            "ticks": ""
           },
           "bgcolor": "#E5ECF6",
           "caxis": {
            "gridcolor": "white",
            "linecolor": "white",
            "ticks": ""
           }
          },
          "title": {
           "x": 0.05
          },
          "xaxis": {
           "automargin": true,
           "gridcolor": "white",
           "linecolor": "white",
           "ticks": "",
           "title": {
            "standoff": 15
           },
           "zerolinecolor": "white",
           "zerolinewidth": 2
          },
          "yaxis": {
           "automargin": true,
           "gridcolor": "white",
           "linecolor": "white",
           "ticks": "",
           "title": {
            "standoff": 15
           },
           "zerolinecolor": "white",
           "zerolinewidth": 2
          }
         }
        },
        "updatemenus": [
         {
          "buttons": [
           {
            "args": [
             null,
             {
              "frame": {
               "duration": 500,
               "redraw": true
              },
              "fromcurrent": true,
              "mode": "immediate",
              "transition": {
               "duration": 500,
               "easing": "linear"
              }
             }
            ],
            "label": "&#9654;",
            "method": "animate"
           },
           {
            "args": [
             [
              null
             ],
             {
              "frame": {
               "duration": 0,
               "redraw": true
              },
              "fromcurrent": true,
              "mode": "immediate",
              "transition": {
               "duration": 0,
               "easing": "linear"
              }
             }
            ],
            "label": "&#9724;",
            "method": "animate"
           }
          ],
          "direction": "left",
          "pad": {
           "r": 10,
           "t": 70
          },
          "showactive": false,
          "type": "buttons",
          "x": 0.1,
          "xanchor": "right",
          "y": 0,
          "yanchor": "top"
         }
        ],
        "xaxis": {
         "anchor": "y",
         "domain": [
          0,
          1
         ],
         "title": {
          "text": "region"
         }
        },
        "yaxis": {
         "anchor": "x",
         "domain": [
          0,
          1
         ],
         "range": [
          0,
          3000000
         ],
         "title": {
          "text": "mobility_score"
         }
        }
       }
      }
     },
     "metadata": {},
     "output_type": "display_data"
    }
   ],
   "source": [
    "fig = px.bar(df2, x=\"region\", y=\"mobility_score\", animation_frame=\"date_range_start\", range_y= [0,3_000_000] ,animation_group=\"region\", color='Type')\n",
    "fig.show()"
   ]
  },
  {
   "cell_type": "code",
   "execution_count": 25,
   "metadata": {},
   "outputs": [
    {
     "data": {
      "application/vnd.plotly.v1+json": {
       "config": {
        "plotlyServerURL": "https://plot.ly"
       },
       "data": [
        {
         "hovertemplate": "region=AB<br>date_range_start=%{x}<br>mobility_score=%{y}<extra></extra>",
         "legendgroup": "AB",
         "line": {
          "color": "#636efa",
          "dash": "solid"
         },
         "marker": {
          "symbol": "circle"
         },
         "mode": "lines",
         "name": "AB",
         "showlegend": true,
         "type": "scattergl",
         "x": [
          "2019-06-03",
          "2019-06-10",
          "2019-06-17",
          "2019-06-24",
          "2019-07-01",
          "2019-07-08",
          "2019-07-15",
          "2019-07-22",
          "2019-07-29",
          "2019-08-05",
          "2019-08-12",
          "2019-08-19",
          "2019-08-26",
          "2019-09-02",
          "2019-09-09",
          "2019-09-16",
          "2019-09-23",
          "2019-09-30",
          "2019-10-07",
          "2019-10-14",
          "2019-10-21",
          "2019-10-28",
          "2019-11-04",
          "2019-11-11",
          "2019-11-18",
          "2019-11-25",
          "2019-12-02",
          "2019-12-09",
          "2019-12-16",
          "2019-12-23",
          "2019-12-30",
          "2020-01-06",
          "2020-01-13",
          "2020-01-20",
          "2020-01-27",
          "2020-02-03",
          "2020-02-10",
          "2020-02-17",
          "2020-02-24",
          "2020-03-02",
          "2020-03-09",
          "2020-03-16",
          "2020-03-23",
          "2020-03-30",
          "2020-04-06",
          "2020-04-13",
          "2020-04-20",
          "2020-04-27",
          "2020-05-04",
          "2020-05-11",
          "2020-05-18",
          "2020-05-25",
          "2020-06-01",
          "2020-06-08",
          "2020-06-15",
          "2020-06-22",
          "2020-06-29",
          "2020-07-06",
          "2020-07-13",
          "2020-07-20",
          "2020-07-27",
          "2020-08-03",
          "2020-08-10",
          "2020-08-17",
          "2020-08-24",
          "2020-08-31",
          "2020-09-07",
          "2020-09-14",
          "2020-09-21",
          "2020-09-28",
          "2020-10-05",
          "2020-10-12",
          "2020-10-19",
          "2020-10-26",
          "2020-11-02",
          "2020-11-09",
          "2020-11-16",
          "2020-11-23",
          "2020-11-30",
          "2020-12-07",
          "2020-12-14",
          "2020-12-21",
          "2020-12-28",
          "2021-01-04",
          "2021-01-11",
          "2021-01-18",
          "2021-01-25",
          "2021-02-01",
          "2021-02-08",
          "2021-02-15",
          "2021-02-22",
          "2021-03-01",
          "2021-03-08",
          "2021-03-15",
          "2021-03-22",
          "2021-03-29",
          "2021-04-05",
          "2021-04-12",
          "2021-04-19",
          "2021-04-26",
          "2021-05-03",
          "2021-05-10",
          "2021-05-17",
          "2021-05-24",
          "2021-05-31",
          "2021-06-07",
          "2021-06-14",
          "2021-06-21",
          "2021-06-28",
          "2021-07-05",
          "2021-07-12",
          "2021-07-19",
          "2021-07-26",
          "2021-08-02",
          "2021-08-09",
          "2021-08-16",
          "2021-08-23",
          "2021-08-30"
         ],
         "xaxis": "x",
         "y": [
          109326.27308902577,
          135800.80878982163,
          184136.333639058,
          161340.02830204816,
          102545.72773362236,
          163235.06905546767,
          117122.7580983234,
          183000.08586738785,
          129809.00577936164,
          118935.67375233606,
          93177.14991696934,
          152170.68111378432,
          162737.6116404905,
          127949.65661381435,
          157424.65876519782,
          180689.60324793044,
          212738.05399614613,
          131673.99108888724,
          92898.35088898904,
          151157.85840897838,
          178568.243041962,
          119646.52257934371,
          104638.73211251844,
          104481.16837099777,
          103399.66856261731,
          127788.49949177756,
          127889.3201322909,
          114024.92465756786,
          154945.4696602502,
          274051.3251059269,
          176304.09723735356,
          117554.42202471898,
          130508.94331556284,
          143464.9321766609,
          148837.72824933077,
          61190.56851848612,
          94776.28628470049,
          105283.2771894022,
          90000.41995912945,
          109854.51413199604,
          100174.76001771534,
          70416.79365079365,
          65415.19341609215,
          112263.5224472381,
          99246.4858947002,
          116685.14108029308,
          132909.2491854513,
          79149.06878232652,
          54167.75924651765,
          63171.03428322765,
          108730.803363275,
          108737.18827788612,
          138945.60735915645,
          101071.1542180808,
          103964.3434630523,
          141466.98946976187,
          136298.03854529295,
          148733.24889574575,
          112705.6506334191,
          216866.36819248827,
          147772.82709695588,
          93189.84578899188,
          106902.6606727839,
          120458.71014547197,
          140956.74574248216,
          102903.95957955046,
          124844.69510199028,
          141124.35165803583,
          120535.29529214231,
          101545.89872005788,
          105830.3015496285,
          97126.29298858022,
          129096.95574935744,
          128575.62794816124,
          162925.49111758883,
          160861.91439111347,
          123136.98154839002,
          97187.08676666486,
          118386.84176445416,
          133112.03232093624,
          109202.6789645368,
          95172.4520566797,
          117378.58041462796,
          142537.2938442148,
          168097.47829084017,
          169287.58728802818,
          161423.81661866335,
          167464.58700547222,
          168710.78764736868,
          176749.32680166097,
          178584.5355484082,
          196739.33670126495,
          162862.97021887716,
          166084.42909408413,
          165944.7267356059,
          138678.59975532093,
          126232.44127626136,
          115811.20757889329,
          116362.99858846416,
          101080.68983738932,
          111938.18404892884,
          119918.3550948066,
          94783.8952660243,
          86540.37678032667,
          87315.29359689831,
          112709.33641928234,
          96658.01328853676,
          120761.64888848284,
          131587.10771683356,
          146873.5239356524,
          157015.7868205553,
          152526.73685484802,
          145524.1214083723,
          118983.03410585044,
          127057.24754184304,
          171184.10448817202,
          182123.7364465409,
          157291.90782816167
         ],
         "yaxis": "y"
        },
        {
         "hovertemplate": "region=BC<br>date_range_start=%{x}<br>mobility_score=%{y}<extra></extra>",
         "legendgroup": "BC",
         "line": {
          "color": "#EF553B",
          "dash": "solid"
         },
         "marker": {
          "symbol": "circle"
         },
         "mode": "lines",
         "name": "BC",
         "showlegend": true,
         "type": "scattergl",
         "x": [
          "2019-06-03",
          "2019-06-10",
          "2019-06-17",
          "2019-06-24",
          "2019-07-01",
          "2019-07-08",
          "2019-07-15",
          "2019-07-22",
          "2019-07-29",
          "2019-08-05",
          "2019-08-12",
          "2019-08-19",
          "2019-08-26",
          "2019-09-02",
          "2019-09-09",
          "2019-09-16",
          "2019-09-23",
          "2019-09-30",
          "2019-10-07",
          "2019-10-14",
          "2019-10-21",
          "2019-10-28",
          "2019-11-04",
          "2019-11-11",
          "2019-11-18",
          "2019-11-25",
          "2019-12-02",
          "2019-12-09",
          "2019-12-16",
          "2019-12-23",
          "2019-12-30",
          "2020-01-06",
          "2020-01-13",
          "2020-01-20",
          "2020-01-27",
          "2020-02-03",
          "2020-02-10",
          "2020-02-17",
          "2020-02-24",
          "2020-03-02",
          "2020-03-09",
          "2020-03-16",
          "2020-03-23",
          "2020-03-30",
          "2020-04-06",
          "2020-04-13",
          "2020-04-20",
          "2020-04-27",
          "2020-05-04",
          "2020-05-11",
          "2020-05-18",
          "2020-05-25",
          "2020-06-01",
          "2020-06-08",
          "2020-06-15",
          "2020-06-22",
          "2020-06-29",
          "2020-07-06",
          "2020-07-13",
          "2020-07-20",
          "2020-07-27",
          "2020-08-03",
          "2020-08-10",
          "2020-08-17",
          "2020-08-24",
          "2020-08-31",
          "2020-09-07",
          "2020-09-14",
          "2020-09-21",
          "2020-09-28",
          "2020-10-05",
          "2020-10-12",
          "2020-10-19",
          "2020-10-26",
          "2020-11-02",
          "2020-11-09",
          "2020-11-16",
          "2020-11-23",
          "2020-11-30",
          "2020-12-07",
          "2020-12-14",
          "2020-12-21",
          "2020-12-28",
          "2021-01-04",
          "2021-01-11",
          "2021-01-18",
          "2021-01-25",
          "2021-02-01",
          "2021-02-08",
          "2021-02-15",
          "2021-02-22",
          "2021-03-01",
          "2021-03-08",
          "2021-03-15",
          "2021-03-22",
          "2021-03-29",
          "2021-04-05",
          "2021-04-12",
          "2021-04-19",
          "2021-04-26",
          "2021-05-03",
          "2021-05-10",
          "2021-05-17",
          "2021-05-24",
          "2021-05-31",
          "2021-06-07",
          "2021-06-14",
          "2021-06-21",
          "2021-06-28",
          "2021-07-05",
          "2021-07-12",
          "2021-07-19",
          "2021-07-26",
          "2021-08-02",
          "2021-08-09",
          "2021-08-16",
          "2021-08-23",
          "2021-08-30"
         ],
         "xaxis": "x",
         "y": [
          127287.25130655656,
          120508.72877458196,
          135811.7661190986,
          148995.04677650353,
          111322.74381960728,
          137898.6294245427,
          127960.88667997449,
          138548.7137803179,
          123803.66036187278,
          135175.61794229233,
          135330.70158181438,
          159473.0314333269,
          132907.35036078194,
          103511.68210113776,
          145705.82469508782,
          122052.81127290805,
          87842.7990940359,
          75510.86221367576,
          97460.27733248383,
          70654.47858267537,
          100515.67844069308,
          101628.45458084476,
          96698.17928831732,
          129321.632826163,
          123737.85341334697,
          123460.12828454652,
          96831.2318030141,
          119174.94523876374,
          140238.62692781186,
          414222.1194977553,
          259598.70786025212,
          160484.53319463652,
          175212.44199229134,
          185322.37605382732,
          162921.96004575497,
          77602.38975563132,
          91864.12928435304,
          105162.47683185364,
          110451.39209650624,
          153773.6094628538,
          150067.04426370768,
          107811.83701986042,
          120731.5129275399,
          133626.5194225148,
          136702.42966850582,
          171139.7538147868,
          186270.52921652392,
          132797.086886768,
          71982.08821120171,
          94498.24178723118,
          120570.65466708368,
          117760.29956496482,
          124651.50172974307,
          147578.72575744064,
          162540.2645133037,
          143830.91377814556,
          172960.0332647903,
          194664.3357291432,
          178823.09985889454,
          166195.79595061895,
          283398.58107322594,
          221714.55067078368,
          170440.23035555688,
          180018.3451698734,
          176698.59479387896,
          158410.95788943753,
          148026.7335814583,
          157714.43993150542,
          134115.76310740542,
          147909.2190291893,
          125027.72735022596,
          148932.34895639535,
          156750.21851595983,
          196459.911108427,
          180516.0950342817,
          176522.33838145193,
          176708.21774376745,
          184568.4777864938,
          200780.5851482521,
          186335.565459518,
          225308.877612816,
          166933.46035043208,
          161314.01983342294,
          171805.89500598033,
          190034.5516932773,
          168699.7203175598,
          203567.29448405904,
          205489.99621633775,
          208920.05792519412,
          173078.00613595048,
          230228.4924030368,
          188034.54337977557,
          204489.35471969767,
          245902.61695627944,
          217890.5147784964,
          185877.7466856309,
          175979.73407672514,
          198583.93974206687,
          156895.35745897138,
          165639.07343230833,
          189452.9633138906,
          169311.69330177712,
          158127.4064308921,
          162941.24284434438,
          175548.12329129514,
          224432.6540419508,
          215384.1470846899,
          238449.6960594408,
          307978.676147649,
          290297.4697046487,
          285543.1149129448,
          289203.3315445445,
          295643.8162445458,
          348064.5516125822,
          210623.8064930253,
          224348.8299700686,
          226713.48354245236,
          223493.16585842785
         ],
         "yaxis": "y"
        },
        {
         "hovertemplate": "region=MB<br>date_range_start=%{x}<br>mobility_score=%{y}<extra></extra>",
         "legendgroup": "MB",
         "line": {
          "color": "#00cc96",
          "dash": "solid"
         },
         "marker": {
          "symbol": "circle"
         },
         "mode": "lines",
         "name": "MB",
         "showlegend": true,
         "type": "scattergl",
         "x": [
          "2019-06-03",
          "2019-06-10",
          "2019-06-17",
          "2019-06-24",
          "2019-07-01",
          "2019-07-08",
          "2019-07-15",
          "2019-07-22",
          "2019-07-29",
          "2019-08-05",
          "2019-08-12",
          "2019-08-19",
          "2019-08-26",
          "2019-09-02",
          "2019-09-09",
          "2019-09-16",
          "2019-09-23",
          "2019-09-30",
          "2019-10-07",
          "2019-10-14",
          "2019-10-21",
          "2019-10-28",
          "2019-11-04",
          "2019-11-11",
          "2019-11-18",
          "2019-11-25",
          "2019-12-02",
          "2019-12-09",
          "2019-12-16",
          "2019-12-23",
          "2019-12-30",
          "2020-01-06",
          "2020-01-13",
          "2020-01-20",
          "2020-01-27",
          "2020-02-03",
          "2020-02-10",
          "2020-02-17",
          "2020-02-24",
          "2020-03-02",
          "2020-03-09",
          "2020-03-16",
          "2020-03-23",
          "2020-03-30",
          "2020-04-06",
          "2020-04-13",
          "2020-04-20",
          "2020-04-27",
          "2020-05-04",
          "2020-05-11",
          "2020-05-18",
          "2020-05-25",
          "2020-06-01",
          "2020-06-08",
          "2020-06-15",
          "2020-06-22",
          "2020-06-29",
          "2020-07-06",
          "2020-07-13",
          "2020-07-20",
          "2020-07-27",
          "2020-08-03",
          "2020-08-10",
          "2020-08-17",
          "2020-08-24",
          "2020-08-31",
          "2020-09-07",
          "2020-09-14",
          "2020-09-21",
          "2020-09-28",
          "2020-10-05",
          "2020-10-12",
          "2020-10-19",
          "2020-10-26",
          "2020-11-02",
          "2020-11-09",
          "2020-11-16",
          "2020-11-23",
          "2020-11-30",
          "2020-12-07",
          "2020-12-14",
          "2020-12-21",
          "2020-12-28",
          "2021-01-04",
          "2021-01-11",
          "2021-01-18",
          "2021-01-25",
          "2021-02-01",
          "2021-02-08",
          "2021-02-15",
          "2021-02-22",
          "2021-03-01",
          "2021-03-08",
          "2021-03-15",
          "2021-03-22",
          "2021-03-29",
          "2021-04-05",
          "2021-04-12",
          "2021-04-19",
          "2021-04-26",
          "2021-05-03",
          "2021-05-10",
          "2021-05-17",
          "2021-05-24",
          "2021-05-31",
          "2021-06-07",
          "2021-06-14",
          "2021-06-21",
          "2021-06-28",
          "2021-07-05",
          "2021-07-12",
          "2021-07-19",
          "2021-07-26",
          "2021-08-02",
          "2021-08-09",
          "2021-08-16",
          "2021-08-23",
          "2021-08-30"
         ],
         "xaxis": "x",
         "y": [
          31775.186056821247,
          15013.592631378524,
          19234.256771451168,
          52373.10119147508,
          41067.87212271192,
          31039.30870007069,
          47015.8072683236,
          64892.47766060421,
          52545.07978302185,
          56586.21477016627,
          35403.887704987144,
          100105.00106481482,
          132557.54880577966,
          37159.53215816623,
          29004.92121938529,
          34922.24060473307,
          46383.6953164493,
          8209.40030173208,
          38279.59521881887,
          32669.221148723915,
          21462.65196006995,
          15670.941147684542,
          14746.187834311806,
          14229.270487783127,
          18124.69298967188,
          18025.92083041754,
          4776.714869084794,
          16042.766228517952,
          42053.4618297691,
          53144.1072224925,
          51386.76779429018,
          27265.61713436315,
          29457.16597351301,
          43322.21469938002,
          45913.47462877372,
          23927.690164839347,
          28977.281566687077,
          43947.94813058037,
          28244.383988944275,
          17415.87526584432,
          20275.268944425992,
          21317.321254572733,
          15811.824342298183,
          16214.03020695422,
          29359.13527545597,
          41325.02182917931,
          37305.52126327898,
          22640.29662361944,
          31526.302596026744,
          19270.334633922423,
          17578.32463759494,
          19465.586384187573,
          19514.021159816333,
          12203.978985627571,
          25283.57167930766,
          27401.77975332141,
          21982.12639164623,
          21797.15127031019,
          47954.03494654892,
          33464.27036010096,
          22280.264893420142,
          20852.917279633944,
          35269.57540424415,
          26544.223150395865,
          21046.674806220974,
          17238.948220366365,
          25277.31683064084,
          21917.918563112875,
          17626.105556903665,
          21988.720478525425,
          23040.95184623864,
          16987.283695526046,
          19552.2384791112,
          22239.05951395651,
          18847.58362001095,
          17485.305823149472,
          15944.769994400636,
          20977.35204836324,
          32323.57888836626,
          21501.018109612083,
          25613.10533532144,
          35730.0537618714,
          25536.554241788097,
          38448.22021485384,
          47537.929046653975,
          42011.42482761631,
          35974.05707927965,
          26500.23625328538,
          23848.541258775836,
          15538.03813854272,
          24338.94841391857,
          28740.623119358075,
          30343.13451964077,
          25696.663049602237,
          45350.37115803073,
          24317.23194756802,
          28434.131391540333,
          25860.06964216668,
          26684.29473494632,
          24561.2206506874,
          33052.472926329414,
          22381.78360938929,
          31714.432446484727,
          22045.21741039912,
          15485.771984187708,
          22552.495533083777,
          23350.750026191723,
          23189.818102619563,
          14361.05370577803,
          15719.27837608511,
          32957.96602232135,
          29292.774174066893,
          15029.884124901377,
          26443.825536708187,
          20635.12491363274,
          23128.56481582488,
          15743.897743105255,
          22215.706608240154
         ],
         "yaxis": "y"
        },
        {
         "hovertemplate": "region=NB<br>date_range_start=%{x}<br>mobility_score=%{y}<extra></extra>",
         "legendgroup": "NB",
         "line": {
          "color": "#ab63fa",
          "dash": "solid"
         },
         "marker": {
          "symbol": "circle"
         },
         "mode": "lines",
         "name": "NB",
         "showlegend": true,
         "type": "scattergl",
         "x": [
          "2019-06-03",
          "2019-06-10",
          "2019-06-17",
          "2019-06-24",
          "2019-07-01",
          "2019-07-08",
          "2019-07-15",
          "2019-07-22",
          "2019-07-29",
          "2019-08-05",
          "2019-08-12",
          "2019-08-19",
          "2019-08-26",
          "2019-09-02",
          "2019-09-09",
          "2019-09-16",
          "2019-09-23",
          "2019-09-30",
          "2019-10-07",
          "2019-10-14",
          "2019-10-21",
          "2019-10-28",
          "2019-11-04",
          "2019-11-11",
          "2019-11-18",
          "2019-11-25",
          "2019-12-02",
          "2019-12-09",
          "2019-12-16",
          "2019-12-23",
          "2019-12-30",
          "2020-01-06",
          "2020-01-13",
          "2020-01-20",
          "2020-01-27",
          "2020-02-03",
          "2020-02-10",
          "2020-02-17",
          "2020-02-24",
          "2020-03-02",
          "2020-03-09",
          "2020-03-16",
          "2020-03-23",
          "2020-03-30",
          "2020-04-06",
          "2020-04-13",
          "2020-04-20",
          "2020-04-27",
          "2020-05-04",
          "2020-05-11",
          "2020-05-18",
          "2020-05-25",
          "2020-06-01",
          "2020-06-08",
          "2020-06-15",
          "2020-06-22",
          "2020-06-29",
          "2020-07-06",
          "2020-07-13",
          "2020-07-20",
          "2020-07-27",
          "2020-08-03",
          "2020-08-10",
          "2020-08-17",
          "2020-08-24",
          "2020-08-31",
          "2020-09-07",
          "2020-09-14",
          "2020-09-21",
          "2020-09-28",
          "2020-10-05",
          "2020-10-12",
          "2020-10-19",
          "2020-10-26",
          "2020-11-02",
          "2020-11-09",
          "2020-11-16",
          "2020-11-23",
          "2020-11-30",
          "2020-12-07",
          "2020-12-14",
          "2020-12-21",
          "2020-12-28",
          "2021-01-04",
          "2021-01-11",
          "2021-01-18",
          "2021-01-25",
          "2021-02-01",
          "2021-02-08",
          "2021-02-15",
          "2021-02-22",
          "2021-03-01",
          "2021-03-08",
          "2021-03-15",
          "2021-03-22",
          "2021-03-29",
          "2021-04-05",
          "2021-04-12",
          "2021-04-19",
          "2021-04-26",
          "2021-05-03",
          "2021-05-10",
          "2021-05-17",
          "2021-05-24",
          "2021-05-31",
          "2021-06-07",
          "2021-06-14",
          "2021-06-21",
          "2021-06-28",
          "2021-07-05",
          "2021-07-12",
          "2021-07-19",
          "2021-07-26",
          "2021-08-02",
          "2021-08-09",
          "2021-08-16",
          "2021-08-23",
          "2021-08-30"
         ],
         "xaxis": "x",
         "y": [
          24620.602335728952,
          29243.95292324744,
          53696.07630173565,
          54765.48394294075,
          16484.433404288866,
          24445.551409135085,
          38298.03309035277,
          98822.80285370984,
          66118.48991480298,
          43367.65608663182,
          38074.2401151469,
          71937.64703925482,
          68036.34806882664,
          29500.884027630927,
          36590.47070323488,
          37966.222167868174,
          41693.8828536057,
          24341.150363783345,
          23613.622048038134,
          41477.80973154362,
          28738.668700072623,
          28808.24354030501,
          49730.884793253535,
          25296.24407417867,
          31394.96338420194,
          24060.082061143985,
          25997.504421087757,
          18759.789963167583,
          36921.48857211887,
          111632.9774976172,
          37590.246927169326,
          29008.90454485401,
          23497.17808738508,
          20821.82973698336,
          26680.44875263,
          17020.631281094527,
          44015.41571901324,
          51885.304260395365,
          14789.257642141309,
          11877.570764554235,
          26691.601214557944,
          36292.50849673203,
          18076.17729357798,
          5893.366713254135,
          1961.0421440073612,
          31136.55833333333,
          59680.49124780048,
          13067.969991474847,
          9384.936,
          13926.329238299904,
          4906.536601787244,
          12697.467560137457,
          17853.059053569363,
          23606.998268398267,
          27080.69723132969,
          15723.381174407354,
          13776.307737235067,
          19273.726810225413,
          29213.683614427388,
          26292.15711354309,
          12401.803033701864,
          18557.783050847454,
          24584.427397260268,
          22969.915443023187,
          14836.765647929176,
          15339.941229800826,
          34857.824548921126,
          34427.30649224806,
          23376.36309523809,
          29838.40152002861,
          33524.42582772975,
          22915.68203723217,
          25053.548056743104,
          38902.9992293578,
          40201.41612666667,
          37929.83482384824,
          33041.27984496124,
          32365.563692242475,
          39858.79117202528,
          36251.32720448914,
          41143.90024760929,
          49297.80158445441,
          32866.232361611525,
          55180.619319938174,
          29842.00825284396,
          45975.20620904143,
          33134.47978531074,
          25941.809365493264,
          22183.45281631685,
          24604.316091576296,
          29492.15446507516,
          38585.769042925975,
          30364.421844496803,
          37460.5897909791,
          50495.87086743044,
          37115.21352271518,
          38776.775997426,
          42993.65050751116,
          42806.79695195614,
          30048.709612233757,
          23791.82656481481,
          24815.936538461538,
          34403.57127203822,
          25712.51101468625,
          24428.681339953942,
          33075.879914156845,
          37632.33913735707,
          40471.7489506042,
          36096.81569692853,
          42997.69350310153,
          44849.89757906804,
          47273.605485914544,
          46406.32536914545,
          28881.68604464106,
          32973.525300737296,
          24447.269640644365,
          23610.731105381463,
          26580.42875816993
         ],
         "yaxis": "y"
        },
        {
         "hovertemplate": "region=NL<br>date_range_start=%{x}<br>mobility_score=%{y}<extra></extra>",
         "legendgroup": "NL",
         "line": {
          "color": "#FFA15A",
          "dash": "solid"
         },
         "marker": {
          "symbol": "circle"
         },
         "mode": "lines",
         "name": "NL",
         "showlegend": true,
         "type": "scattergl",
         "x": [
          "2019-06-03",
          "2019-06-10",
          "2019-06-17",
          "2019-06-24",
          "2019-07-01",
          "2019-07-08",
          "2019-07-15",
          "2019-07-22",
          "2019-07-29",
          "2019-08-05",
          "2019-08-12",
          "2019-08-19",
          "2019-08-26",
          "2019-09-02",
          "2019-09-09",
          "2019-09-16",
          "2019-09-23",
          "2019-09-30",
          "2019-10-07",
          "2019-10-14",
          "2019-10-21",
          "2019-10-28",
          "2019-11-04",
          "2019-11-11",
          "2019-11-18",
          "2019-11-25",
          "2019-12-02",
          "2019-12-09",
          "2019-12-16",
          "2019-12-23",
          "2019-12-30",
          "2020-01-06",
          "2020-01-13",
          "2020-01-20",
          "2020-01-27",
          "2020-02-03",
          "2020-02-10",
          "2020-02-17",
          "2020-02-24",
          "2020-03-02",
          "2020-03-09",
          "2020-03-16",
          "2020-03-23",
          "2020-03-30",
          "2020-04-06",
          "2020-04-13",
          "2020-04-20",
          "2020-04-27",
          "2020-05-04",
          "2020-05-11",
          "2020-05-18",
          "2020-05-25",
          "2020-06-01",
          "2020-06-08",
          "2020-06-15",
          "2020-06-22",
          "2020-06-29",
          "2020-07-06",
          "2020-07-13",
          "2020-07-20",
          "2020-07-27",
          "2020-08-03",
          "2020-08-10",
          "2020-08-17",
          "2020-08-24",
          "2020-08-31",
          "2020-09-07",
          "2020-09-14",
          "2020-09-21",
          "2020-09-28",
          "2020-10-05",
          "2020-10-12",
          "2020-10-19",
          "2020-10-26",
          "2020-11-02",
          "2020-11-09",
          "2020-11-16",
          "2020-11-23",
          "2020-11-30",
          "2020-12-07",
          "2020-12-14",
          "2020-12-21",
          "2020-12-28",
          "2021-01-04",
          "2021-01-11",
          "2021-01-18",
          "2021-01-25",
          "2021-02-01",
          "2021-02-08",
          "2021-02-15",
          "2021-02-22",
          "2021-03-01",
          "2021-03-08",
          "2021-03-15",
          "2021-03-22",
          "2021-03-29",
          "2021-04-05",
          "2021-04-12",
          "2021-04-19",
          "2021-04-26",
          "2021-05-03",
          "2021-05-10",
          "2021-05-17",
          "2021-05-24",
          "2021-05-31",
          "2021-06-07",
          "2021-06-14",
          "2021-06-21",
          "2021-06-28",
          "2021-07-05",
          "2021-07-12",
          "2021-07-19",
          "2021-07-26",
          "2021-08-02",
          "2021-08-09",
          "2021-08-16",
          "2021-08-23",
          "2021-08-30"
         ],
         "xaxis": "x",
         "y": [
          18895.181441441444,
          14121.179938271607,
          17381.531654831073,
          35913.049799196786,
          13401.317536753677,
          20884.01033681766,
          16280.158494848962,
          33204.79644012945,
          16693.484310311473,
          26188.466810689715,
          18998.842626886144,
          36039.4531837256,
          31146.60264439805,
          35647.24991295032,
          33855.15350470572,
          23250.74790519112,
          10518.337314988534,
          19299.934657106085,
          9531.003546869344,
          14949.529297188756,
          32861.0913754343,
          29230.766281310207,
          10186.593006357856,
          39968.46355361369,
          33719.00228258819,
          26553.57921774664,
          16215.648022868032,
          15048.65073492144,
          9746.077388483374,
          27742.27676823638,
          22761.010275689223,
          7765.953496923307,
          30908.451835535976,
          36042.696254267,
          28687.78401424121,
          29367.98316777042,
          43267.73444216991,
          41196.32201003086,
          30303.08310977279,
          11523.402768142556,
          12706.19930464061,
          12018.347338090012,
          11328.31341759224,
          42940.681104123,
          40440.54545205854,
          26654.56395911037,
          33969.705094726065,
          12914.070253164558,
          7178.960583530472,
          8388.074555042847,
          5457.971052048726,
          15920.645172798217,
          21148.608317560465,
          24851.77330858086,
          17345.22187141815,
          19676.81253758268,
          7730.85130993062,
          11643.383647403683,
          19671.693213996765,
          12931.913277408155,
          25931.7438913202,
          18343.26675995895,
          10704.539932318105,
          22442.929240412977,
          19398.68730249928,
          14173.614652807852,
          9987.84099140577,
          12958.14395623787,
          26221.574760208277,
          16285.607500732496,
          10259.217961214335,
          11597.964470993436,
          25035.15122711728,
          33570.51198657188,
          23731.83709256845,
          12956.812898751734,
          14738.756866997108,
          21235.226305284174,
          26526.00924405138,
          23338.09369276557,
          21160.482981445937,
          6439.205305602716,
          18492.678085071973,
          22283.187174966948,
          20314.12014880952,
          31081.71388888889,
          16125.606301969365,
          18919.388249293468,
          5281.859876543211,
          4801.915576323988,
          3431.248692449355,
          3024.954761904762,
          14279.086545881564,
          42252.60663814956,
          26813.01096634093,
          27281.763116197184,
          9404.961251086012,
          24191.41392951664,
          22313.561899254688,
          34492.11577181208,
          16946.693055033225,
          19335.652147239263,
          14987.044562271709,
          9142.82972972973,
          15684.067609386206,
          9365.9676894753,
          8909.790135416666,
          7641.6627096515,
          18910.85859649123,
          16142.480545538609,
          14579.439780137876,
          13277.23436611711,
          35493.35962920923,
          20956.880129270543,
          21694.228493469316,
          11731.747003183264,
          13421.09206874368,
          7704.191833604042
         ],
         "yaxis": "y"
        },
        {
         "hovertemplate": "region=NS<br>date_range_start=%{x}<br>mobility_score=%{y}<extra></extra>",
         "legendgroup": "NS",
         "line": {
          "color": "#19d3f3",
          "dash": "solid"
         },
         "marker": {
          "symbol": "circle"
         },
         "mode": "lines",
         "name": "NS",
         "showlegend": true,
         "type": "scattergl",
         "x": [
          "2019-06-03",
          "2019-06-10",
          "2019-06-17",
          "2019-06-24",
          "2019-07-01",
          "2019-07-08",
          "2019-07-15",
          "2019-07-22",
          "2019-07-29",
          "2019-08-05",
          "2019-08-12",
          "2019-08-19",
          "2019-08-26",
          "2019-09-02",
          "2019-09-09",
          "2019-09-16",
          "2019-09-23",
          "2019-09-30",
          "2019-10-07",
          "2019-10-14",
          "2019-10-21",
          "2019-10-28",
          "2019-11-04",
          "2019-11-11",
          "2019-11-18",
          "2019-11-25",
          "2019-12-02",
          "2019-12-09",
          "2019-12-16",
          "2019-12-23",
          "2019-12-30",
          "2020-01-06",
          "2020-01-13",
          "2020-01-20",
          "2020-01-27",
          "2020-02-03",
          "2020-02-10",
          "2020-02-17",
          "2020-02-24",
          "2020-03-02",
          "2020-03-09",
          "2020-03-16",
          "2020-03-23",
          "2020-03-30",
          "2020-04-06",
          "2020-04-13",
          "2020-04-20",
          "2020-04-27",
          "2020-05-04",
          "2020-05-11",
          "2020-05-18",
          "2020-05-25",
          "2020-06-01",
          "2020-06-08",
          "2020-06-15",
          "2020-06-22",
          "2020-06-29",
          "2020-07-06",
          "2020-07-13",
          "2020-07-20",
          "2020-07-27",
          "2020-08-03",
          "2020-08-10",
          "2020-08-17",
          "2020-08-24",
          "2020-08-31",
          "2020-09-07",
          "2020-09-14",
          "2020-09-21",
          "2020-09-28",
          "2020-10-05",
          "2020-10-12",
          "2020-10-19",
          "2020-10-26",
          "2020-11-02",
          "2020-11-09",
          "2020-11-16",
          "2020-11-23",
          "2020-11-30",
          "2020-12-07",
          "2020-12-14",
          "2020-12-21",
          "2020-12-28",
          "2021-01-04",
          "2021-01-11",
          "2021-01-18",
          "2021-01-25",
          "2021-02-01",
          "2021-02-08",
          "2021-02-15",
          "2021-02-22",
          "2021-03-01",
          "2021-03-08",
          "2021-03-15",
          "2021-03-22",
          "2021-03-29",
          "2021-04-05",
          "2021-04-12",
          "2021-04-19",
          "2021-04-26",
          "2021-05-03",
          "2021-05-10",
          "2021-05-17",
          "2021-05-24",
          "2021-05-31",
          "2021-06-07",
          "2021-06-14",
          "2021-06-21",
          "2021-06-28",
          "2021-07-05",
          "2021-07-12",
          "2021-07-19",
          "2021-07-26",
          "2021-08-02",
          "2021-08-09",
          "2021-08-16",
          "2021-08-23",
          "2021-08-30"
         ],
         "xaxis": "x",
         "y": [
          23816.17035812672,
          19982.629910973486,
          25943.315312046445,
          24976.33140109176,
          25474.92632624849,
          29995.625625,
          36425.95101918466,
          30390.891238995064,
          33989.0018501805,
          31185.71417993336,
          43829.13899636085,
          31801.938738455083,
          69326.146998372,
          14356.809773741728,
          39625.085368897206,
          26512.36021146885,
          25731.865714285712,
          17317.111465301,
          14802.40720338983,
          27538.514346750617,
          14508.691905526252,
          11190.069717624148,
          21759.07854883353,
          12385.338079130792,
          20992.629169308813,
          26417.84467410324,
          13479.339187956204,
          26385.42078694093,
          53345.81223914269,
          34225.689775280895,
          16268.317079948694,
          24862.34267428121,
          34629.19249814047,
          32333.14134489529,
          37061.53108796558,
          12483.29402685406,
          16542.85511789925,
          13882.403297719333,
          23810.559575424013,
          10387.969455764984,
          18060.53162203085,
          26576.537034754743,
          9041.6903553719,
          15834.78140443314,
          4108.325269316492,
          13744.785986569226,
          7046.938482159365,
          18119.693216516305,
          19819.98695481644,
          19346.58657195233,
          14356.540446250576,
          14255.21176880223,
          13738.783704382133,
          7449.768658951668,
          13286.3852443609,
          10005.724547527432,
          17195.82791262136,
          12280.798577599047,
          15974.822842460931,
          21315.540885416667,
          42308.91419552879,
          30492.83985463356,
          21747.50223981345,
          26151.239022407983,
          46009.60964299089,
          21638.271680931528,
          20127.145886482744,
          33563.282072958296,
          33153.82206451613,
          26026.97379037754,
          26787.14835101807,
          20239.46323954373,
          28214.29865865586,
          36261.24149329319,
          51979.66063732928,
          30889.678010139414,
          29942.032404355927,
          20073.885562730626,
          18448.592817472232,
          26934.44549335085,
          15263.429770992365,
          9952.190665796345,
          7557.702954375467,
          14274.513650580877,
          26910.56836176728,
          17222.195519077195,
          30727.39014270033,
          15267.860407984206,
          48587.76203893443,
          23242.60342992981,
          27063.623134673137,
          37832.3458076308,
          26785.64016639704,
          21718.712127906976,
          13546.206816102467,
          39622.51746187364,
          30619.269662191426,
          37591.697047120426,
          42104.91878974755,
          17684.222066814247,
          21151.67580888697,
          25622.302025671885,
          14681.227940315974,
          24131.096961524632,
          35463.36650148662,
          12870.964423076925,
          36494.40375438011,
          21284.190383054694,
          15409.033165491775,
          16715.07490703555,
          17310.32290617849,
          22450.358595531237,
          34210.50360215054,
          22049.9522696011,
          31393.5480215282,
          20989.987548099125,
          36864.0315266698,
          45886.96825817192
         ],
         "yaxis": "y"
        },
        {
         "hovertemplate": "region=ON<br>date_range_start=%{x}<br>mobility_score=%{y}<extra></extra>",
         "legendgroup": "ON",
         "line": {
          "color": "#FF6692",
          "dash": "solid"
         },
         "marker": {
          "symbol": "circle"
         },
         "mode": "lines",
         "name": "ON",
         "showlegend": true,
         "type": "scattergl",
         "x": [
          "2019-06-03",
          "2019-06-10",
          "2019-06-17",
          "2019-06-24",
          "2019-07-01",
          "2019-07-08",
          "2019-07-15",
          "2019-07-22",
          "2019-07-29",
          "2019-08-05",
          "2019-08-12",
          "2019-08-19",
          "2019-08-26",
          "2019-09-02",
          "2019-09-09",
          "2019-09-16",
          "2019-09-23",
          "2019-09-30",
          "2019-10-07",
          "2019-10-14",
          "2019-10-21",
          "2019-10-28",
          "2019-11-04",
          "2019-11-11",
          "2019-11-18",
          "2019-11-25",
          "2019-12-02",
          "2019-12-09",
          "2019-12-16",
          "2019-12-23",
          "2019-12-30",
          "2020-01-06",
          "2020-01-13",
          "2020-01-20",
          "2020-01-27",
          "2020-02-03",
          "2020-02-10",
          "2020-02-17",
          "2020-02-24",
          "2020-03-02",
          "2020-03-09",
          "2020-03-16",
          "2020-03-23",
          "2020-03-30",
          "2020-04-06",
          "2020-04-13",
          "2020-04-20",
          "2020-04-27",
          "2020-05-04",
          "2020-05-11",
          "2020-05-18",
          "2020-05-25",
          "2020-06-01",
          "2020-06-08",
          "2020-06-15",
          "2020-06-22",
          "2020-06-29",
          "2020-07-06",
          "2020-07-13",
          "2020-07-20",
          "2020-07-27",
          "2020-08-03",
          "2020-08-10",
          "2020-08-17",
          "2020-08-24",
          "2020-08-31",
          "2020-09-07",
          "2020-09-14",
          "2020-09-21",
          "2020-09-28",
          "2020-10-05",
          "2020-10-12",
          "2020-10-19",
          "2020-10-26",
          "2020-11-02",
          "2020-11-09",
          "2020-11-16",
          "2020-11-23",
          "2020-11-30",
          "2020-12-07",
          "2020-12-14",
          "2020-12-21",
          "2020-12-28",
          "2021-01-04",
          "2021-01-11",
          "2021-01-18",
          "2021-01-25",
          "2021-02-01",
          "2021-02-08",
          "2021-02-15",
          "2021-02-22",
          "2021-03-01",
          "2021-03-08",
          "2021-03-15",
          "2021-03-22",
          "2021-03-29",
          "2021-04-05",
          "2021-04-12",
          "2021-04-19",
          "2021-04-26",
          "2021-05-03",
          "2021-05-10",
          "2021-05-17",
          "2021-05-24",
          "2021-05-31",
          "2021-06-07",
          "2021-06-14",
          "2021-06-21",
          "2021-06-28",
          "2021-07-05",
          "2021-07-12",
          "2021-07-19",
          "2021-07-26",
          "2021-08-02",
          "2021-08-09",
          "2021-08-16",
          "2021-08-23",
          "2021-08-30"
         ],
         "xaxis": "x",
         "y": [
          532622.3976421445,
          575301.3261277785,
          686359.1293500784,
          1030895.7377744148,
          742949.8603318135,
          769833.2259795432,
          830524.7116303197,
          999737.669290988,
          1008605.0762387388,
          817552.1684950149,
          918488.1058813208,
          965993.160318318,
          978824.6586805398,
          586362.9192306489,
          680128.6951002702,
          856631.9494876503,
          1009217.318725741,
          677796.6796832776,
          518942.610384495,
          653046.3792637755,
          590842.7192707555,
          679920.336246912,
          546045.2871707509,
          476685.6425423573,
          518222.5985319048,
          571263.8653477165,
          455964.1877296243,
          472812.40373830247,
          728149.2693368747,
          1777488.3864982056,
          893259.9099514699,
          547620.7797582715,
          540817.5070600724,
          598869.4016657888,
          650930.0481336614,
          346298.33580969705,
          607164.5985984119,
          629127.9599811304,
          456971.582467423,
          428156.5042191947,
          397931.8271053464,
          418307.1883062332,
          463591.9585689809,
          380929.8245064159,
          429885.3983157009,
          449485.7286595834,
          440545.1773686177,
          413995.9791133968,
          240891.9804713398,
          318060.8757800467,
          323677.7236893421,
          312718.5553642695,
          295216.9375907025,
          341186.15398325934,
          359818.8133335231,
          367084.6936323017,
          346781.8779703967,
          484512.6937971276,
          383675.9623588295,
          1998409.6298413,
          1221710.8394107649,
          477530.37003228633,
          1000078.293536614,
          1255959.649222669,
          1362877.6243788148,
          898712.2485052664,
          952302.9775105044,
          864115.3120895048,
          467171.8311322218,
          507304.4551932715,
          400834.0398782522,
          360441.7923337606,
          412745.14742589,
          392897.7515569576,
          424980.53437520826,
          375536.9768201762,
          369517.025001572,
          336123.6542008342,
          327201.7702279028,
          430251.6288778946,
          420911.7574973922,
          382372.4869571924,
          465465.28246074176,
          514106.23998234,
          530542.1616757112,
          475296.2653549085,
          517816.8563200972,
          575240.6704670183,
          553874.7347878752,
          566147.5809341724,
          559658.5615549828,
          485058.94879723067,
          443490.8636427378,
          468463.0275441772,
          457100.8385467149,
          462557.039854192,
          513114.7543520425,
          608392.32662361,
          486386.5675955008,
          511335.2115499016,
          467100.63516258687,
          368027.7582872789,
          407277.5492552287,
          437163.1933310281,
          377864.60223443335,
          378070.36910679785,
          493619.4208886391,
          520021.23561640095,
          543241.4973486685,
          540293.8311716787,
          555692.4942403251,
          579550.9567322938,
          567181.3979894602,
          597601.8137872927,
          597942.2569325085,
          623432.1059416488,
          593255.7626855209,
          622701.4067457983
         ],
         "yaxis": "y"
        },
        {
         "hovertemplate": "region=PE<br>date_range_start=%{x}<br>mobility_score=%{y}<extra></extra>",
         "legendgroup": "PE",
         "line": {
          "color": "#B6E880",
          "dash": "solid"
         },
         "marker": {
          "symbol": "circle"
         },
         "mode": "lines",
         "name": "PE",
         "showlegend": true,
         "type": "scattergl",
         "x": [
          "2019-06-03",
          "2019-06-10",
          "2019-06-17",
          "2019-06-24",
          "2019-07-01",
          "2019-07-08",
          "2019-07-15",
          "2019-07-22",
          "2019-07-29",
          "2019-08-05",
          "2019-08-12",
          "2019-08-19",
          "2019-08-26",
          "2019-09-02",
          "2019-09-09",
          "2019-09-16",
          "2019-09-23",
          "2019-09-30",
          "2019-10-07",
          "2019-10-14",
          "2019-10-21",
          "2019-10-28",
          "2019-11-04",
          "2019-11-11",
          "2019-11-18",
          "2019-12-02",
          "2019-12-09",
          "2019-12-16",
          "2019-12-23",
          "2019-12-30",
          "2020-01-06",
          "2020-01-13",
          "2020-01-20",
          "2020-01-27",
          "2020-02-03",
          "2020-02-10",
          "2020-02-17",
          "2020-02-24",
          "2020-03-02",
          "2020-03-09",
          "2020-03-16",
          "2020-03-23",
          "2020-03-30",
          "2020-04-06",
          "2020-04-20",
          "2020-04-27",
          "2020-05-04",
          "2020-05-11",
          "2020-05-18",
          "2020-05-25",
          "2020-06-01",
          "2020-06-08",
          "2020-06-15",
          "2020-06-22",
          "2020-06-29",
          "2020-07-06",
          "2020-07-13",
          "2020-07-20",
          "2020-07-27",
          "2020-08-03",
          "2020-08-10",
          "2020-08-17",
          "2020-08-24",
          "2020-08-31",
          "2020-09-07",
          "2020-09-14",
          "2020-09-21",
          "2020-09-28",
          "2020-10-05",
          "2020-10-12",
          "2020-10-19",
          "2020-10-26",
          "2020-11-02",
          "2020-11-09",
          "2020-11-16",
          "2020-11-23",
          "2020-11-30",
          "2020-12-07",
          "2020-12-14",
          "2020-12-21",
          "2020-12-28",
          "2021-01-04",
          "2021-01-11",
          "2021-01-18",
          "2021-01-25",
          "2021-02-01",
          "2021-02-08",
          "2021-02-15",
          "2021-02-22",
          "2021-03-01",
          "2021-03-08",
          "2021-03-15",
          "2021-03-22",
          "2021-03-29",
          "2021-04-05",
          "2021-04-12",
          "2021-04-19",
          "2021-04-26",
          "2021-05-03",
          "2021-05-10",
          "2021-05-17",
          "2021-05-24",
          "2021-05-31",
          "2021-06-07",
          "2021-06-14",
          "2021-06-21",
          "2021-06-28",
          "2021-07-05",
          "2021-07-12",
          "2021-07-19",
          "2021-07-26",
          "2021-08-02",
          "2021-08-09",
          "2021-08-16",
          "2021-08-23",
          "2021-08-30"
         ],
         "xaxis": "x",
         "y": [
          3793.339858156028,
          867.3304783950616,
          1624.0599820143889,
          5337.6442718446615,
          6759.73661971831,
          5610.583308714919,
          8110.575,
          6350.726415094339,
          9102.335,
          18947.224646074646,
          20664.936150845253,
          18342.610610263524,
          12173.924310595065,
          3455.844352331607,
          562.2939064200217,
          2122.59609375,
          75.99001501501502,
          3331.3477882037528,
          327.4376381215469,
          853.03704866562,
          595.2054675118857,
          171.9983420593368,
          186.09061643835616,
          583.030686695279,
          622.6714285714285,
          24.183592736705577,
          297.9799454297408,
          94.09633152173912,
          664.8927258805513,
          51.99316816816817,
          168.1125525946704,
          6096.102509803921,
          590.7542620363063,
          305.41441441441447,
          215.8390423572744,
          88.33533163265307,
          80.83330924855494,
          374.8514072847682,
          1978.2473780487803,
          2055.455659767141,
          650.7288273615634,
          279.20859538784066,
          190.47667423382524,
          550.0691358024691,
          94.36931428571428,
          201.79166666666669,
          144.41475903614457,
          79.1688878235858,
          2142.936466165413,
          9398.391437728937,
          1285.8226200505476,
          807.4400508044031,
          11856.398483412322,
          11149.827346570395,
          17230.410471441526,
          10608.498365384616,
          7204.073577981651,
          8897.91181818182,
          9549.018075313808,
          9979.08570822731,
          14213.657768361583,
          21197.93073316283,
          24603.833079526223,
          16809.886441798943,
          7107.730531845043,
          2604.2818722139677,
          2792.285886761033,
          2024.9176020408163,
          1257.359990834097,
          681.3988372093023,
          2486.0733333333333,
          453.6453096539162,
          1206.181132075472,
          954.3558823529412,
          1171.6054511278194,
          756.6310144927536,
          2962.14069325736,
          1792.2809080962802,
          783.8172069825434,
          1529.6961428571428,
          313.1111754966888,
          100.89583333333331,
          120.70921450151056,
          619.3593465045592,
          699.6684331797235,
          1315.827102102102,
          1520.7363475177303,
          1038.865054602184,
          660.550885668277,
          81.40186757215619,
          852.5446932006633,
          648.7276612903224,
          1653.44886547812,
          786.8918641390206,
          105.86844197138312,
          3226.3359422492404,
          1564.5363575268811,
          505.8458831341303,
          1097.8806362378978,
          2542.1146387832705,
          866.8486907730673,
          2302.477118644068,
          522.8538713195202,
          1547.0106986899564,
          3265.30778508772,
          3889.634602649007,
          6011.129428251121,
          9365.826694473411,
          36614.52721451441,
          17747.952407002187,
          25326.272162162164,
          22120.478014553017,
          19296.482873210636,
          28996.903692307693,
          23060.83940217391,
          13017.818177240684
         ],
         "yaxis": "y"
        },
        {
         "hovertemplate": "region=QC<br>date_range_start=%{x}<br>mobility_score=%{y}<extra></extra>",
         "legendgroup": "QC",
         "line": {
          "color": "#FF97FF",
          "dash": "solid"
         },
         "marker": {
          "symbol": "circle"
         },
         "mode": "lines",
         "name": "QC",
         "showlegend": true,
         "type": "scattergl",
         "x": [
          "2019-06-03",
          "2019-06-10",
          "2019-06-17",
          "2019-06-24",
          "2019-07-01",
          "2019-07-08",
          "2019-07-15",
          "2019-07-22",
          "2019-07-29",
          "2019-08-05",
          "2019-08-12",
          "2019-08-19",
          "2019-08-26",
          "2019-09-02",
          "2019-09-09",
          "2019-09-16",
          "2019-09-23",
          "2019-09-30",
          "2019-10-07",
          "2019-10-14",
          "2019-10-21",
          "2019-10-28",
          "2019-11-04",
          "2019-11-11",
          "2019-11-18",
          "2019-11-25",
          "2019-12-02",
          "2019-12-09",
          "2019-12-16",
          "2019-12-23",
          "2019-12-30",
          "2020-01-06",
          "2020-01-13",
          "2020-01-20",
          "2020-01-27",
          "2020-02-03",
          "2020-02-10",
          "2020-02-17",
          "2020-02-24",
          "2020-03-02",
          "2020-03-09",
          "2020-03-16",
          "2020-03-23",
          "2020-03-30",
          "2020-04-06",
          "2020-04-13",
          "2020-04-20",
          "2020-04-27",
          "2020-05-04",
          "2020-05-11",
          "2020-05-18",
          "2020-05-25",
          "2020-06-01",
          "2020-06-08",
          "2020-06-15",
          "2020-06-22",
          "2020-06-29",
          "2020-07-06",
          "2020-07-13",
          "2020-07-20",
          "2020-07-27",
          "2020-08-03",
          "2020-08-10",
          "2020-08-17",
          "2020-08-24",
          "2020-08-31",
          "2020-09-07",
          "2020-09-14",
          "2020-09-21",
          "2020-09-28",
          "2020-10-05",
          "2020-10-12",
          "2020-10-19",
          "2020-10-26",
          "2020-11-02",
          "2020-11-09",
          "2020-11-16",
          "2020-11-23",
          "2020-11-30",
          "2020-12-07",
          "2020-12-14",
          "2020-12-21",
          "2020-12-28",
          "2021-01-04",
          "2021-01-11",
          "2021-01-18",
          "2021-01-25",
          "2021-02-01",
          "2021-02-08",
          "2021-02-15",
          "2021-02-22",
          "2021-03-01",
          "2021-03-08",
          "2021-03-15",
          "2021-03-22",
          "2021-03-29",
          "2021-04-05",
          "2021-04-12",
          "2021-04-19",
          "2021-04-26",
          "2021-05-03",
          "2021-05-10",
          "2021-05-17",
          "2021-05-24",
          "2021-05-31",
          "2021-06-07",
          "2021-06-14",
          "2021-06-21",
          "2021-06-28",
          "2021-07-05",
          "2021-07-12",
          "2021-07-19",
          "2021-07-26",
          "2021-08-02",
          "2021-08-09",
          "2021-08-16",
          "2021-08-23",
          "2021-08-30"
         ],
         "xaxis": "x",
         "y": [
          251584.139195726,
          276566.6087807935,
          371969.748670492,
          406326.590402618,
          293996.0200190593,
          412829.19987621374,
          393764.666185888,
          368550.88335141,
          355713.9354802366,
          355074.5444294485,
          377609.1872138195,
          359531.5151343706,
          459200.250871288,
          326689.66460351314,
          360940.3094373004,
          414398.0052478821,
          397822.0515998944,
          373390.7508488488,
          317690.1483650223,
          391725.8467412451,
          295799.4565318718,
          391516.9782629133,
          364705.24374707055,
          371103.17386467714,
          447512.7031960537,
          386829.9618267716,
          351744.5068816771,
          302826.42617947696,
          471319.60369228246,
          947999.4191208036,
          353871.53011242783,
          339022.45696844085,
          415209.2836909829,
          490485.1745114946,
          657473.873954056,
          284008.494615502,
          463087.13470629614,
          485427.574967462,
          332623.9392159367,
          268782.7361919258,
          338814.21362074907,
          237663.1700930688,
          398444.75984555983,
          291969.14467939263,
          287517.50506265066,
          372306.29627553065,
          387438.8599254816,
          236396.23536127963,
          281045.9092025442,
          224693.36654554924,
          163648.6349748459,
          213860.67866968067,
          184664.45279284887,
          211257.00879182384,
          230007.69575677888,
          238667.06234704528,
          244753.92687350407,
          290920.95302892145,
          287523.74458246905,
          410697.435541353,
          413351.36415580165,
          331660.10535714286,
          379498.5395100275,
          533844.4517642653,
          632681.9176731415,
          409120.3929139413,
          407199.9830153264,
          351086.01065595617,
          248793.73998894985,
          250387.4044590545,
          217263.856278896,
          239771.6753451828,
          259194.89643089063,
          235096.80907663092,
          237142.01074486136,
          267412.40265106375,
          236021.0220819871,
          301672.0528451649,
          239849.8901610018,
          245384.0570271919,
          283536.2767524121,
          258534.3462502867,
          285435.9095629485,
          249551.3308303429,
          310572.70011720335,
          295039.5944691725,
          362469.4525108418,
          387272.7155023233,
          296913.45670949173,
          298512.6403303454,
          305821.076183985,
          365962.2978526211,
          350912.5756296744,
          305399.7712927168,
          372858.3804037685,
          344942.71422143857,
          219239.2263897322,
          297941.00132429006,
          303553.9486995585,
          249808.1628868685,
          224427.9254207832,
          316931.54318997054,
          244296.91991449456,
          189869.22594181547,
          248440.9681537273,
          260930.4434575576,
          290497.1695171876,
          307997.8243956258,
          406590.4643941384,
          308446.6103166987,
          345604.36870591174,
          310693.5169137793,
          405799.2619294802,
          368006.3472177168,
          394635.0713111836,
          406518.8834791317,
          354872.0885174556,
          363940.6100116559
         ],
         "yaxis": "y"
        },
        {
         "hovertemplate": "region=SK<br>date_range_start=%{x}<br>mobility_score=%{y}<extra></extra>",
         "legendgroup": "SK",
         "line": {
          "color": "#FECB52",
          "dash": "solid"
         },
         "marker": {
          "symbol": "circle"
         },
         "mode": "lines",
         "name": "SK",
         "showlegend": true,
         "type": "scattergl",
         "x": [
          "2019-06-03",
          "2019-06-10",
          "2019-06-17",
          "2019-06-24",
          "2019-07-01",
          "2019-07-08",
          "2019-07-15",
          "2019-07-22",
          "2019-07-29",
          "2019-08-05",
          "2019-08-12",
          "2019-08-19",
          "2019-08-26",
          "2019-09-02",
          "2019-09-09",
          "2019-09-16",
          "2019-09-23",
          "2019-09-30",
          "2019-10-07",
          "2019-10-14",
          "2019-10-21",
          "2019-10-28",
          "2019-11-04",
          "2019-11-11",
          "2019-11-18",
          "2019-11-25",
          "2019-12-02",
          "2019-12-09",
          "2019-12-16",
          "2019-12-23",
          "2019-12-30",
          "2020-01-06",
          "2020-01-13",
          "2020-01-20",
          "2020-01-27",
          "2020-02-03",
          "2020-02-10",
          "2020-02-17",
          "2020-02-24",
          "2020-03-02",
          "2020-03-09",
          "2020-03-16",
          "2020-03-23",
          "2020-03-30",
          "2020-04-06",
          "2020-04-13",
          "2020-04-20",
          "2020-04-27",
          "2020-05-04",
          "2020-05-11",
          "2020-05-18",
          "2020-05-25",
          "2020-06-01",
          "2020-06-08",
          "2020-06-15",
          "2020-06-22",
          "2020-06-29",
          "2020-07-06",
          "2020-07-13",
          "2020-07-20",
          "2020-07-27",
          "2020-08-03",
          "2020-08-10",
          "2020-08-17",
          "2020-08-24",
          "2020-08-31",
          "2020-09-07",
          "2020-09-14",
          "2020-09-21",
          "2020-09-28",
          "2020-10-05",
          "2020-10-12",
          "2020-10-19",
          "2020-10-26",
          "2020-11-02",
          "2020-11-09",
          "2020-11-16",
          "2020-11-23",
          "2020-11-30",
          "2020-12-07",
          "2020-12-14",
          "2020-12-21",
          "2020-12-28",
          "2021-01-04",
          "2021-01-11",
          "2021-01-18",
          "2021-01-25",
          "2021-02-01",
          "2021-02-08",
          "2021-02-15",
          "2021-02-22",
          "2021-03-01",
          "2021-03-08",
          "2021-03-15",
          "2021-03-22",
          "2021-03-29",
          "2021-04-05",
          "2021-04-12",
          "2021-04-19",
          "2021-04-26",
          "2021-05-03",
          "2021-05-10",
          "2021-05-17",
          "2021-05-24",
          "2021-05-31",
          "2021-06-07",
          "2021-06-14",
          "2021-06-21",
          "2021-06-28",
          "2021-07-05",
          "2021-07-12",
          "2021-07-19",
          "2021-07-26",
          "2021-08-02",
          "2021-08-09",
          "2021-08-16",
          "2021-08-23",
          "2021-08-30"
         ],
         "xaxis": "x",
         "y": [
          26879.929049142196,
          27976.93058440552,
          85689.7959276018,
          77510.6,
          12886.096536123285,
          43037.01454319453,
          28123.46320402532,
          32367.73382298935,
          30120.494220200875,
          20350.11530373832,
          18695.8916091954,
          18159.35378640777,
          17952.271922455577,
          19031.857213995543,
          24641.213857532115,
          11079.316289801567,
          35142.79091071748,
          25077.472122273524,
          16728.01663286004,
          7430.173431317127,
          6399.653527607363,
          17816.840458640458,
          6519.819718309858,
          9778.774868374869,
          7085.477422771403,
          18230.741176470587,
          7662.880288461538,
          26472.14884314664,
          10388.507696844588,
          44999.395928363694,
          31911.425990180032,
          16559.736380195398,
          22489.97948056516,
          19508.52224903475,
          11900.09474574224,
          22878.724537313432,
          12305.61981841764,
          23681.714401976456,
          17508.38164592235,
          21816.0157738818,
          18411.08408146301,
          14546.174409498548,
          28619.481886189795,
          39036.12186063615,
          9307.514845323083,
          20573.937540543047,
          17882.43013865876,
          20412.44123436197,
          5845.55950526798,
          6606.612183415787,
          6837.565243763743,
          10087.956264939472,
          16461.59055688319,
          28507.868191298097,
          22144.24194773286,
          20596.59102592348,
          27236.2096862716,
          25051.668424242427,
          28858.05742323991,
          33016.2086724483,
          22499.493053801463,
          19545.986753194626,
          38976.98145916144,
          21957.70291671838,
          27320.048782974387,
          16615.293961264862,
          26468.217890342334,
          39523.8075456199,
          42261.65734997987,
          26498.706355677336,
          16590.44725872826,
          21750.35175075032,
          23898.5641025641,
          20809.287377335662,
          25037.717379320093,
          36075.20196530932,
          21887.60545750407,
          20982.576770847547,
          32215.871720899024,
          20685.149801628733,
          27139.263721717714,
          25697.069762746087,
          21550.643556192863,
          43131.31159457384,
          28685.813088728173,
          35399.867982771,
          24565.10978853698,
          24086.151119617225,
          39038.08723829564,
          23061.360046728973,
          30640.56783042394,
          33763.73526648969,
          24480.19053349378,
          16799.915898220777,
          22489.716676396187,
          17544.072210107137,
          16682.986304665348,
          23971.08853004828,
          14974.716461274793,
          33899.07179317203,
          17127.034978469692,
          16935.21405662549,
          15352.88342857143,
          14723.373412069712,
          15047.545069393716,
          20562.75865897305,
          18541.56936344369,
          16385.906019766397,
          21248.86547007196,
          19411.82318920408,
          25885.272121566337,
          29367.318039502563,
          23576.06370902692,
          25778.478866552927,
          26374.13535173642,
          27603.51615099926,
          27448.825889570555,
          25840.223524862733
         ],
         "yaxis": "y"
        }
       ],
       "layout": {
        "legend": {
         "title": {
          "text": "region"
         },
         "tracegroupgap": 0
        },
        "margin": {
         "t": 60
        },
        "template": {
         "data": {
          "bar": [
           {
            "error_x": {
             "color": "#2a3f5f"
            },
            "error_y": {
             "color": "#2a3f5f"
            },
            "marker": {
             "line": {
              "color": "#E5ECF6",
              "width": 0.5
             },
             "pattern": {
              "fillmode": "overlay",
              "size": 10,
              "solidity": 0.2
             }
            },
            "type": "bar"
           }
          ],
          "barpolar": [
           {
            "marker": {
             "line": {
              "color": "#E5ECF6",
              "width": 0.5
             },
             "pattern": {
              "fillmode": "overlay",
              "size": 10,
              "solidity": 0.2
             }
            },
            "type": "barpolar"
           }
          ],
          "carpet": [
           {
            "aaxis": {
             "endlinecolor": "#2a3f5f",
             "gridcolor": "white",
             "linecolor": "white",
             "minorgridcolor": "white",
             "startlinecolor": "#2a3f5f"
            },
            "baxis": {
             "endlinecolor": "#2a3f5f",
             "gridcolor": "white",
             "linecolor": "white",
             "minorgridcolor": "white",
             "startlinecolor": "#2a3f5f"
            },
            "type": "carpet"
           }
          ],
          "choropleth": [
           {
            "colorbar": {
             "outlinewidth": 0,
             "ticks": ""
            },
            "type": "choropleth"
           }
          ],
          "contour": [
           {
            "colorbar": {
             "outlinewidth": 0,
             "ticks": ""
            },
            "colorscale": [
             [
              0,
              "#0d0887"
             ],
             [
              0.1111111111111111,
              "#46039f"
             ],
             [
              0.2222222222222222,
              "#7201a8"
             ],
             [
              0.3333333333333333,
              "#9c179e"
             ],
             [
              0.4444444444444444,
              "#bd3786"
             ],
             [
              0.5555555555555556,
              "#d8576b"
             ],
             [
              0.6666666666666666,
              "#ed7953"
             ],
             [
              0.7777777777777778,
              "#fb9f3a"
             ],
             [
              0.8888888888888888,
              "#fdca26"
             ],
             [
              1,
              "#f0f921"
             ]
            ],
            "type": "contour"
           }
          ],
          "contourcarpet": [
           {
            "colorbar": {
             "outlinewidth": 0,
             "ticks": ""
            },
            "type": "contourcarpet"
           }
          ],
          "heatmap": [
           {
            "colorbar": {
             "outlinewidth": 0,
             "ticks": ""
            },
            "colorscale": [
             [
              0,
              "#0d0887"
             ],
             [
              0.1111111111111111,
              "#46039f"
             ],
             [
              0.2222222222222222,
              "#7201a8"
             ],
             [
              0.3333333333333333,
              "#9c179e"
             ],
             [
              0.4444444444444444,
              "#bd3786"
             ],
             [
              0.5555555555555556,
              "#d8576b"
             ],
             [
              0.6666666666666666,
              "#ed7953"
             ],
             [
              0.7777777777777778,
              "#fb9f3a"
             ],
             [
              0.8888888888888888,
              "#fdca26"
             ],
             [
              1,
              "#f0f921"
             ]
            ],
            "type": "heatmap"
           }
          ],
          "heatmapgl": [
           {
            "colorbar": {
             "outlinewidth": 0,
             "ticks": ""
            },
            "colorscale": [
             [
              0,
              "#0d0887"
             ],
             [
              0.1111111111111111,
              "#46039f"
             ],
             [
              0.2222222222222222,
              "#7201a8"
             ],
             [
              0.3333333333333333,
              "#9c179e"
             ],
             [
              0.4444444444444444,
              "#bd3786"
             ],
             [
              0.5555555555555556,
              "#d8576b"
             ],
             [
              0.6666666666666666,
              "#ed7953"
             ],
             [
              0.7777777777777778,
              "#fb9f3a"
             ],
             [
              0.8888888888888888,
              "#fdca26"
             ],
             [
              1,
              "#f0f921"
             ]
            ],
            "type": "heatmapgl"
           }
          ],
          "histogram": [
           {
            "marker": {
             "pattern": {
              "fillmode": "overlay",
              "size": 10,
              "solidity": 0.2
             }
            },
            "type": "histogram"
           }
          ],
          "histogram2d": [
           {
            "colorbar": {
             "outlinewidth": 0,
             "ticks": ""
            },
            "colorscale": [
             [
              0,
              "#0d0887"
             ],
             [
              0.1111111111111111,
              "#46039f"
             ],
             [
              0.2222222222222222,
              "#7201a8"
             ],
             [
              0.3333333333333333,
              "#9c179e"
             ],
             [
              0.4444444444444444,
              "#bd3786"
             ],
             [
              0.5555555555555556,
              "#d8576b"
             ],
             [
              0.6666666666666666,
              "#ed7953"
             ],
             [
              0.7777777777777778,
              "#fb9f3a"
             ],
             [
              0.8888888888888888,
              "#fdca26"
             ],
             [
              1,
              "#f0f921"
             ]
            ],
            "type": "histogram2d"
           }
          ],
          "histogram2dcontour": [
           {
            "colorbar": {
             "outlinewidth": 0,
             "ticks": ""
            },
            "colorscale": [
             [
              0,
              "#0d0887"
             ],
             [
              0.1111111111111111,
              "#46039f"
             ],
             [
              0.2222222222222222,
              "#7201a8"
             ],
             [
              0.3333333333333333,
              "#9c179e"
             ],
             [
              0.4444444444444444,
              "#bd3786"
             ],
             [
              0.5555555555555556,
              "#d8576b"
             ],
             [
              0.6666666666666666,
              "#ed7953"
             ],
             [
              0.7777777777777778,
              "#fb9f3a"
             ],
             [
              0.8888888888888888,
              "#fdca26"
             ],
             [
              1,
              "#f0f921"
             ]
            ],
            "type": "histogram2dcontour"
           }
          ],
          "mesh3d": [
           {
            "colorbar": {
             "outlinewidth": 0,
             "ticks": ""
            },
            "type": "mesh3d"
           }
          ],
          "parcoords": [
           {
            "line": {
             "colorbar": {
              "outlinewidth": 0,
              "ticks": ""
             }
            },
            "type": "parcoords"
           }
          ],
          "pie": [
           {
            "automargin": true,
            "type": "pie"
           }
          ],
          "scatter": [
           {
            "fillpattern": {
             "fillmode": "overlay",
             "size": 10,
             "solidity": 0.2
            },
            "type": "scatter"
           }
          ],
          "scatter3d": [
           {
            "line": {
             "colorbar": {
              "outlinewidth": 0,
              "ticks": ""
             }
            },
            "marker": {
             "colorbar": {
              "outlinewidth": 0,
              "ticks": ""
             }
            },
            "type": "scatter3d"
           }
          ],
          "scattercarpet": [
           {
            "marker": {
             "colorbar": {
              "outlinewidth": 0,
              "ticks": ""
             }
            },
            "type": "scattercarpet"
           }
          ],
          "scattergeo": [
           {
            "marker": {
             "colorbar": {
              "outlinewidth": 0,
              "ticks": ""
             }
            },
            "type": "scattergeo"
           }
          ],
          "scattergl": [
           {
            "marker": {
             "colorbar": {
              "outlinewidth": 0,
              "ticks": ""
             }
            },
            "type": "scattergl"
           }
          ],
          "scattermapbox": [
           {
            "marker": {
             "colorbar": {
              "outlinewidth": 0,
              "ticks": ""
             }
            },
            "type": "scattermapbox"
           }
          ],
          "scatterpolar": [
           {
            "marker": {
             "colorbar": {
              "outlinewidth": 0,
              "ticks": ""
             }
            },
            "type": "scatterpolar"
           }
          ],
          "scatterpolargl": [
           {
            "marker": {
             "colorbar": {
              "outlinewidth": 0,
              "ticks": ""
             }
            },
            "type": "scatterpolargl"
           }
          ],
          "scatterternary": [
           {
            "marker": {
             "colorbar": {
              "outlinewidth": 0,
              "ticks": ""
             }
            },
            "type": "scatterternary"
           }
          ],
          "surface": [
           {
            "colorbar": {
             "outlinewidth": 0,
             "ticks": ""
            },
            "colorscale": [
             [
              0,
              "#0d0887"
             ],
             [
              0.1111111111111111,
              "#46039f"
             ],
             [
              0.2222222222222222,
              "#7201a8"
             ],
             [
              0.3333333333333333,
              "#9c179e"
             ],
             [
              0.4444444444444444,
              "#bd3786"
             ],
             [
              0.5555555555555556,
              "#d8576b"
             ],
             [
              0.6666666666666666,
              "#ed7953"
             ],
             [
              0.7777777777777778,
              "#fb9f3a"
             ],
             [
              0.8888888888888888,
              "#fdca26"
             ],
             [
              1,
              "#f0f921"
             ]
            ],
            "type": "surface"
           }
          ],
          "table": [
           {
            "cells": {
             "fill": {
              "color": "#EBF0F8"
             },
             "line": {
              "color": "white"
             }
            },
            "header": {
             "fill": {
              "color": "#C8D4E3"
             },
             "line": {
              "color": "white"
             }
            },
            "type": "table"
           }
          ]
         },
         "layout": {
          "annotationdefaults": {
           "arrowcolor": "#2a3f5f",
           "arrowhead": 0,
           "arrowwidth": 1
          },
          "autotypenumbers": "strict",
          "coloraxis": {
           "colorbar": {
            "outlinewidth": 0,
            "ticks": ""
           }
          },
          "colorscale": {
           "diverging": [
            [
             0,
             "#8e0152"
            ],
            [
             0.1,
             "#c51b7d"
            ],
            [
             0.2,
             "#de77ae"
            ],
            [
             0.3,
             "#f1b6da"
            ],
            [
             0.4,
             "#fde0ef"
            ],
            [
             0.5,
             "#f7f7f7"
            ],
            [
             0.6,
             "#e6f5d0"
            ],
            [
             0.7,
             "#b8e186"
            ],
            [
             0.8,
             "#7fbc41"
            ],
            [
             0.9,
             "#4d9221"
            ],
            [
             1,
             "#276419"
            ]
           ],
           "sequential": [
            [
             0,
             "#0d0887"
            ],
            [
             0.1111111111111111,
             "#46039f"
            ],
            [
             0.2222222222222222,
             "#7201a8"
            ],
            [
             0.3333333333333333,
             "#9c179e"
            ],
            [
             0.4444444444444444,
             "#bd3786"
            ],
            [
             0.5555555555555556,
             "#d8576b"
            ],
            [
             0.6666666666666666,
             "#ed7953"
            ],
            [
             0.7777777777777778,
             "#fb9f3a"
            ],
            [
             0.8888888888888888,
             "#fdca26"
            ],
            [
             1,
             "#f0f921"
            ]
           ],
           "sequentialminus": [
            [
             0,
             "#0d0887"
            ],
            [
             0.1111111111111111,
             "#46039f"
            ],
            [
             0.2222222222222222,
             "#7201a8"
            ],
            [
             0.3333333333333333,
             "#9c179e"
            ],
            [
             0.4444444444444444,
             "#bd3786"
            ],
            [
             0.5555555555555556,
             "#d8576b"
            ],
            [
             0.6666666666666666,
             "#ed7953"
            ],
            [
             0.7777777777777778,
             "#fb9f3a"
            ],
            [
             0.8888888888888888,
             "#fdca26"
            ],
            [
             1,
             "#f0f921"
            ]
           ]
          },
          "colorway": [
           "#636efa",
           "#EF553B",
           "#00cc96",
           "#ab63fa",
           "#FFA15A",
           "#19d3f3",
           "#FF6692",
           "#B6E880",
           "#FF97FF",
           "#FECB52"
          ],
          "font": {
           "color": "#2a3f5f"
          },
          "geo": {
           "bgcolor": "white",
           "lakecolor": "white",
           "landcolor": "#E5ECF6",
           "showlakes": true,
           "showland": true,
           "subunitcolor": "white"
          },
          "hoverlabel": {
           "align": "left"
          },
          "hovermode": "closest",
          "mapbox": {
           "style": "light"
          },
          "paper_bgcolor": "white",
          "plot_bgcolor": "#E5ECF6",
          "polar": {
           "angularaxis": {
            "gridcolor": "white",
            "linecolor": "white",
            "ticks": ""
           },
           "bgcolor": "#E5ECF6",
           "radialaxis": {
            "gridcolor": "white",
            "linecolor": "white",
            "ticks": ""
           }
          },
          "scene": {
           "xaxis": {
            "backgroundcolor": "#E5ECF6",
            "gridcolor": "white",
            "gridwidth": 2,
            "linecolor": "white",
            "showbackground": true,
            "ticks": "",
            "zerolinecolor": "white"
           },
           "yaxis": {
            "backgroundcolor": "#E5ECF6",
            "gridcolor": "white",
            "gridwidth": 2,
            "linecolor": "white",
            "showbackground": true,
            "ticks": "",
            "zerolinecolor": "white"
           },
           "zaxis": {
            "backgroundcolor": "#E5ECF6",
            "gridcolor": "white",
            "gridwidth": 2,
            "linecolor": "white",
            "showbackground": true,
            "ticks": "",
            "zerolinecolor": "white"
           }
          },
          "shapedefaults": {
           "line": {
            "color": "#2a3f5f"
           }
          },
          "ternary": {
           "aaxis": {
            "gridcolor": "white",
            "linecolor": "white",
            "ticks": ""
           },
           "baxis": {
            "gridcolor": "white",
            "linecolor": "white",
            "ticks": ""
           },
           "bgcolor": "#E5ECF6",
           "caxis": {
            "gridcolor": "white",
            "linecolor": "white",
            "ticks": ""
           }
          },
          "title": {
           "x": 0.05
          },
          "xaxis": {
           "automargin": true,
           "gridcolor": "white",
           "linecolor": "white",
           "ticks": "",
           "title": {
            "standoff": 15
           },
           "zerolinecolor": "white",
           "zerolinewidth": 2
          },
          "yaxis": {
           "automargin": true,
           "gridcolor": "white",
           "linecolor": "white",
           "ticks": "",
           "title": {
            "standoff": 15
           },
           "zerolinecolor": "white",
           "zerolinewidth": 2
          }
         }
        },
        "xaxis": {
         "anchor": "y",
         "domain": [
          0,
          1
         ],
         "title": {
          "text": "date_range_start"
         }
        },
        "yaxis": {
         "anchor": "x",
         "domain": [
          0,
          1
         ],
         "title": {
          "text": "mobility_score"
         }
        }
       }
      }
     },
     "metadata": {},
     "output_type": "display_data"
    }
   ],
   "source": [
    "fig = px.line(df2[df2['Type'] == 'Rural'], x='date_range_start', y='mobility_score', color='region')\n",
    "fig.show()"
   ]
  },
  {
   "cell_type": "code",
   "execution_count": 26,
   "metadata": {},
   "outputs": [
    {
     "data": {
      "application/vnd.plotly.v1+json": {
       "config": {
        "plotlyServerURL": "https://plot.ly"
       },
       "data": [
        {
         "hovertemplate": "region=AB<br>date_range_start=%{x}<br>mobility_score=%{y}<extra></extra>",
         "legendgroup": "AB",
         "line": {
          "color": "#636efa",
          "dash": "solid"
         },
         "marker": {
          "symbol": "circle"
         },
         "mode": "lines",
         "name": "AB",
         "showlegend": true,
         "type": "scattergl",
         "x": [
          "2019-06-03",
          "2019-06-10",
          "2019-06-17",
          "2019-06-24",
          "2019-07-01",
          "2019-07-08",
          "2019-07-15",
          "2019-07-22",
          "2019-07-29",
          "2019-08-05",
          "2019-08-12",
          "2019-08-19",
          "2019-08-26",
          "2019-09-02",
          "2019-09-09",
          "2019-09-16",
          "2019-09-23",
          "2019-09-30",
          "2019-10-07",
          "2019-10-14",
          "2019-10-21",
          "2019-10-28",
          "2019-11-04",
          "2019-11-11",
          "2019-11-18",
          "2019-11-25",
          "2019-12-02",
          "2019-12-09",
          "2019-12-16",
          "2019-12-23",
          "2019-12-30",
          "2020-01-06",
          "2020-01-13",
          "2020-01-20",
          "2020-01-27",
          "2020-02-03",
          "2020-02-10",
          "2020-02-17",
          "2020-02-24",
          "2020-03-02",
          "2020-03-09",
          "2020-03-16",
          "2020-03-23",
          "2020-03-30",
          "2020-04-06",
          "2020-04-13",
          "2020-04-20",
          "2020-04-27",
          "2020-05-04",
          "2020-05-11",
          "2020-05-18",
          "2020-05-25",
          "2020-06-01",
          "2020-06-08",
          "2020-06-15",
          "2020-06-22",
          "2020-06-29",
          "2020-07-06",
          "2020-07-13",
          "2020-07-20",
          "2020-07-27",
          "2020-08-03",
          "2020-08-10",
          "2020-08-17",
          "2020-08-24",
          "2020-08-31",
          "2020-09-07",
          "2020-09-14",
          "2020-09-21",
          "2020-09-28",
          "2020-10-05",
          "2020-10-12",
          "2020-10-19",
          "2020-10-26",
          "2020-11-02",
          "2020-11-09",
          "2020-11-16",
          "2020-11-23",
          "2020-11-30",
          "2020-12-07",
          "2020-12-14",
          "2020-12-21",
          "2020-12-28",
          "2021-01-04",
          "2021-01-11",
          "2021-01-18",
          "2021-01-25",
          "2021-02-01",
          "2021-02-08",
          "2021-02-15",
          "2021-02-22",
          "2021-03-01",
          "2021-03-08",
          "2021-03-15",
          "2021-03-22",
          "2021-03-29",
          "2021-04-05",
          "2021-04-12",
          "2021-04-19",
          "2021-04-26",
          "2021-05-03",
          "2021-05-10",
          "2021-05-17",
          "2021-05-24",
          "2021-05-31",
          "2021-06-07",
          "2021-06-14",
          "2021-06-21",
          "2021-06-28",
          "2021-07-05",
          "2021-07-12",
          "2021-07-19",
          "2021-07-26",
          "2021-08-02",
          "2021-08-09",
          "2021-08-16",
          "2021-08-23",
          "2021-08-30"
         ],
         "xaxis": "x",
         "y": [
          740049.041642552,
          854003.610900557,
          1065548.2895791924,
          1496682.937340688,
          839708.1428804465,
          954190.9810915544,
          1086482.2701597405,
          1233853.3059610222,
          912597.3442698364,
          637685.0173354384,
          759961.002699814,
          994986.0845353268,
          1090036.0194056532,
          705978.1287096909,
          812387.5210343151,
          1020111.283064592,
          1343009.8677777804,
          734970.6719660164,
          789306.7685009892,
          815207.1381247409,
          968737.7092305096,
          897373.497815917,
          755922.7803132493,
          811856.6267957274,
          926810.9105779028,
          953985.4923449854,
          635473.5948264536,
          625250.4052034582,
          1060568.9962405984,
          3020192.1011177474,
          1235623.6667418168,
          695630.1025258215,
          741648.8857834868,
          912527.4444243596,
          953050.4608554378,
          457673.747247444,
          742031.5138415779,
          1056350.71493901,
          586183.0142710133,
          626775.0422521457,
          619440.794072734,
          683567.5397892247,
          836620.2559900972,
          634523.4742499047,
          533206.7413393003,
          577944.389182253,
          720984.7581698402,
          559410.3858959907,
          404693.8936859272,
          472810.7619008195,
          552807.9440550782,
          620637.0617080145,
          593241.2511169335,
          615973.9986773634,
          594927.7361529192,
          619314.2735830523,
          591789.0609472301,
          648864.5453488949,
          629562.030081848,
          586306.8367082148,
          599821.3876746548,
          598974.966562766,
          710042.0771020593,
          656283.0975691611,
          671161.9725823806,
          533232.1858907392,
          559122.0807292474,
          631265.4555792353,
          597751.1210613202,
          630677.0517773414,
          538211.5864316027,
          625007.3195046652,
          692161.9933363633,
          683531.8771238327,
          826204.9982574366,
          876821.159417785,
          676650.6701147596,
          739287.7212322745,
          643675.3634030302,
          682765.8550575371,
          990451.5871349288,
          983608.7470267542,
          932417.9126954708,
          874282.5604185378,
          1010318.6011111852,
          978067.2548460856,
          820627.7581476371,
          842807.5877291817,
          813435.6885263632,
          687706.6478038325,
          731352.1082152656,
          671262.6807863016,
          609084.7316876606,
          640727.5770152117,
          656128.4531606644,
          636592.3758740171,
          637652.7021283451,
          638503.4276523388,
          611976.1811799206,
          551110.8708485259,
          533430.3785871713,
          506084.28481850354,
          477325.8327428983,
          411397.4569812117,
          465551.5733544765,
          524447.5150440203,
          570549.1205106569,
          571699.6447728812,
          645924.1951391955,
          703170.0896012248,
          729768.9047473598,
          712373.9213959659,
          687955.9671112557,
          648695.600026661,
          625752.2424669592,
          701566.8233195812,
          653736.607691021,
          699541.9957548616
         ],
         "yaxis": "y"
        },
        {
         "hovertemplate": "region=BC<br>date_range_start=%{x}<br>mobility_score=%{y}<extra></extra>",
         "legendgroup": "BC",
         "line": {
          "color": "#EF553B",
          "dash": "solid"
         },
         "marker": {
          "symbol": "circle"
         },
         "mode": "lines",
         "name": "BC",
         "showlegend": true,
         "type": "scattergl",
         "x": [
          "2019-06-03",
          "2019-06-10",
          "2019-06-17",
          "2019-06-24",
          "2019-07-01",
          "2019-07-08",
          "2019-07-15",
          "2019-07-22",
          "2019-07-29",
          "2019-08-05",
          "2019-08-12",
          "2019-08-19",
          "2019-08-26",
          "2019-09-02",
          "2019-09-09",
          "2019-09-16",
          "2019-09-23",
          "2019-09-30",
          "2019-10-07",
          "2019-10-14",
          "2019-10-21",
          "2019-10-28",
          "2019-11-04",
          "2019-11-11",
          "2019-11-18",
          "2019-11-25",
          "2019-12-02",
          "2019-12-09",
          "2019-12-16",
          "2019-12-23",
          "2019-12-30",
          "2020-01-06",
          "2020-01-13",
          "2020-01-20",
          "2020-01-27",
          "2020-02-03",
          "2020-02-10",
          "2020-02-17",
          "2020-02-24",
          "2020-03-02",
          "2020-03-09",
          "2020-03-16",
          "2020-03-23",
          "2020-03-30",
          "2020-04-06",
          "2020-04-13",
          "2020-04-20",
          "2020-04-27",
          "2020-05-04",
          "2020-05-11",
          "2020-05-18",
          "2020-05-25",
          "2020-06-01",
          "2020-06-08",
          "2020-06-15",
          "2020-06-22",
          "2020-06-29",
          "2020-07-06",
          "2020-07-13",
          "2020-07-20",
          "2020-07-27",
          "2020-08-03",
          "2020-08-10",
          "2020-08-17",
          "2020-08-24",
          "2020-08-31",
          "2020-09-07",
          "2020-09-14",
          "2020-09-21",
          "2020-09-28",
          "2020-10-05",
          "2020-10-12",
          "2020-10-19",
          "2020-10-26",
          "2020-11-02",
          "2020-11-09",
          "2020-11-16",
          "2020-11-23",
          "2020-11-30",
          "2020-12-07",
          "2020-12-14",
          "2020-12-21",
          "2020-12-28",
          "2021-01-04",
          "2021-01-11",
          "2021-01-18",
          "2021-01-25",
          "2021-02-01",
          "2021-02-08",
          "2021-02-15",
          "2021-02-22",
          "2021-03-01",
          "2021-03-08",
          "2021-03-15",
          "2021-03-22",
          "2021-03-29",
          "2021-04-05",
          "2021-04-12",
          "2021-04-19",
          "2021-04-26",
          "2021-05-03",
          "2021-05-10",
          "2021-05-17",
          "2021-05-24",
          "2021-05-31",
          "2021-06-07",
          "2021-06-14",
          "2021-06-21",
          "2021-06-28",
          "2021-07-05",
          "2021-07-12",
          "2021-07-19",
          "2021-07-26",
          "2021-08-02",
          "2021-08-09",
          "2021-08-16",
          "2021-08-23",
          "2021-08-30"
         ],
         "xaxis": "x",
         "y": [
          1116625.2998984826,
          1224621.7290118174,
          1470536.6164321403,
          1655362.1040871155,
          1070174.773862871,
          1208775.3362643928,
          1320794.740455616,
          1641642.7024415082,
          1360228.9749226873,
          1076617.0010558888,
          1377207.7024684686,
          1633717.7321456564,
          1697353.8767904544,
          977499.0661687222,
          1169734.663635448,
          1688667.094910961,
          2633406.8807948497,
          1872086.3043014852,
          1007628.709606021,
          1140439.091308945,
          1254091.1872264796,
          1183024.3445461,
          840497.7629544784,
          984993.1988047612,
          1059560.3815111793,
          1214945.7876166515,
          834332.8958363038,
          825768.5783797133,
          1516415.3832766258,
          4586454.222085705,
          2052934.6150720613,
          1123510.494083999,
          1160139.9101541734,
          1338554.5762753498,
          1250857.2721395888,
          576969.8260324562,
          1040616.2387096928,
          1198144.6461318268,
          1013951.7579332312,
          1125003.8376044263,
          1046541.7385498576,
          841953.6260499002,
          1366961.348864468,
          1041262.4981417971,
          890465.0797866296,
          996190.0068579792,
          1095963.4540657408,
          803534.9461701248,
          688485.2418847039,
          714996.0663664794,
          932751.8928393612,
          978295.8391072043,
          1072259.968955028,
          1112060.1783716215,
          1185616.4098983398,
          1269332.5333463678,
          1117877.7972748026,
          1176830.431048104,
          1058710.0374437568,
          4323647.50846653,
          2043503.1014464253,
          1187042.7576516294,
          1218568.4612106294,
          2102159.7214319403,
          2525523.468100084,
          1773107.9597731074,
          1768269.028190849,
          1752481.515628746,
          968835.2356805312,
          1011502.6571661872,
          1000105.0693863432,
          1038162.401690773,
          1144950.0205280497,
          1082299.3770726873,
          1188354.4315381616,
          1135099.7315169645,
          1086137.6770667697,
          1076911.2555286046,
          1033146.3186451304,
          1051287.1966450126,
          1280432.0216948302,
          1231096.819683395,
          1476535.9738131508,
          1459598.652328181,
          1330523.3303697477,
          1349930.5229100783,
          1479352.275955195,
          1481173.997939975,
          1459930.98802023,
          1444419.9615364424,
          1295393.341119852,
          1438506.7573978617,
          1355791.7282561965,
          1436770.0888389614,
          1505904.5235964153,
          1351792.5989399464,
          1324415.410764392,
          1224824.4281850406,
          1170234.50874542,
          1086739.7421489826,
          1172101.3735340952,
          1064223.2275572994,
          1161417.8758525334,
          1016178.0597146926,
          1084002.0226652832,
          1127368.2978394546,
          1202959.8564604686,
          1371171.394271281,
          1427842.9811207943,
          1344522.614649598,
          1322847.3950668685,
          1416379.0871154636,
          1468833.6359289978,
          1442066.8656487945,
          1371554.753180103,
          1577540.4779506072,
          1589118.5686061727,
          1460941.7883311368
         ],
         "yaxis": "y"
        },
        {
         "hovertemplate": "region=MB<br>date_range_start=%{x}<br>mobility_score=%{y}<extra></extra>",
         "legendgroup": "MB",
         "line": {
          "color": "#00cc96",
          "dash": "solid"
         },
         "marker": {
          "symbol": "circle"
         },
         "mode": "lines",
         "name": "MB",
         "showlegend": true,
         "type": "scattergl",
         "x": [
          "2019-06-03",
          "2019-06-10",
          "2019-06-17",
          "2019-06-24",
          "2019-07-01",
          "2019-07-08",
          "2019-07-15",
          "2019-07-22",
          "2019-07-29",
          "2019-08-05",
          "2019-08-12",
          "2019-08-19",
          "2019-08-26",
          "2019-09-02",
          "2019-09-09",
          "2019-09-16",
          "2019-09-23",
          "2019-09-30",
          "2019-10-07",
          "2019-10-14",
          "2019-10-21",
          "2019-10-28",
          "2019-11-04",
          "2019-11-11",
          "2019-11-18",
          "2019-11-25",
          "2019-12-02",
          "2019-12-09",
          "2019-12-16",
          "2019-12-23",
          "2019-12-30",
          "2020-01-06",
          "2020-01-13",
          "2020-01-20",
          "2020-01-27",
          "2020-02-03",
          "2020-02-10",
          "2020-02-17",
          "2020-02-24",
          "2020-03-02",
          "2020-03-09",
          "2020-03-16",
          "2020-03-23",
          "2020-03-30",
          "2020-04-06",
          "2020-04-13",
          "2020-04-20",
          "2020-04-27",
          "2020-05-04",
          "2020-05-11",
          "2020-05-18",
          "2020-05-25",
          "2020-06-01",
          "2020-06-08",
          "2020-06-15",
          "2020-06-22",
          "2020-06-29",
          "2020-07-06",
          "2020-07-13",
          "2020-07-20",
          "2020-07-27",
          "2020-08-03",
          "2020-08-10",
          "2020-08-17",
          "2020-08-24",
          "2020-08-31",
          "2020-09-07",
          "2020-09-14",
          "2020-09-21",
          "2020-09-28",
          "2020-10-05",
          "2020-10-12",
          "2020-10-19",
          "2020-10-26",
          "2020-11-02",
          "2020-11-09",
          "2020-11-16",
          "2020-11-23",
          "2020-11-30",
          "2020-12-07",
          "2020-12-14",
          "2020-12-21",
          "2020-12-28",
          "2021-01-04",
          "2021-01-11",
          "2021-01-18",
          "2021-01-25",
          "2021-02-01",
          "2021-02-08",
          "2021-02-15",
          "2021-02-22",
          "2021-03-01",
          "2021-03-08",
          "2021-03-15",
          "2021-03-22",
          "2021-03-29",
          "2021-04-05",
          "2021-04-12",
          "2021-04-19",
          "2021-04-26",
          "2021-05-03",
          "2021-05-10",
          "2021-05-17",
          "2021-05-24",
          "2021-05-31",
          "2021-06-07",
          "2021-06-14",
          "2021-06-21",
          "2021-06-28",
          "2021-07-05",
          "2021-07-12",
          "2021-07-19",
          "2021-07-26",
          "2021-08-02",
          "2021-08-09",
          "2021-08-16",
          "2021-08-23",
          "2021-08-30"
         ],
         "xaxis": "x",
         "y": [
          187701.9702401604,
          252660.15402597951,
          275238.2556099249,
          383455.2993651061,
          283604.8199878231,
          258693.4481928243,
          324193.69955634023,
          334322.1896301391,
          260574.7504883328,
          165739.21152783095,
          190336.28356730324,
          273648.8926157408,
          327861.12317106524,
          249845.49431487935,
          327509.5183037871,
          382970.2914143367,
          475857.8310838136,
          253852.0875944352,
          207935.28296901003,
          289796.3889534602,
          309885.2753934713,
          270634.94844949263,
          225639.79454229175,
          322938.5581193152,
          355103.8822548213,
          277994.10178446467,
          210319.1979742173,
          172249.73003871023,
          359959.5503544863,
          1017153.2987513175,
          396557.5107222005,
          187306.0797924136,
          209956.2365667596,
          240534.8028347832,
          262835.7436244141,
          123788.93119004113,
          210826.68805685916,
          301473.3172247024,
          181752.79272164917,
          169516.65518863668,
          174028.11780070298,
          184478.5197660109,
          229544.0706243978,
          154615.45244233852,
          137383.8110849664,
          130056.00263597636,
          214081.2104788326,
          162905.95609944343,
          128664.73437621492,
          132635.42070709966,
          163455.96356614513,
          162860.59933781458,
          169162.1629068838,
          195569.40019556836,
          200920.40274212367,
          208049.61578319973,
          188520.55438611857,
          197171.136770064,
          271795.6930242466,
          251882.8189008567,
          201323.91598950184,
          213047.642665976,
          182898.3616017252,
          203773.74575975377,
          226000.01761969196,
          162565.25531590983,
          168786.8183140648,
          177277.28249576592,
          214712.32665210712,
          205559.17171974623,
          178205.34698876337,
          184693.5037503937,
          214238.2913050981,
          207450.6354227524,
          201869.68614362975,
          159312.5349921098,
          207786.76118317703,
          205305.17575487169,
          207994.40311618065,
          192577.63835775983,
          193055.64550448183,
          209878.79266892417,
          193741.01961904176,
          162876.44049168474,
          158591.68764969602,
          209370.09179977307,
          172765.3575116723,
          192517.12449854752,
          206312.41271754177,
          186805.2960761199,
          244297.0861262716,
          220373.1893565312,
          184894.4296195717,
          170885.76578099295,
          203232.32727571516,
          188608.1230045861,
          166568.9844890511,
          151539.27999226685,
          166240.91178201817,
          210050.1234704528,
          160840.96953762628,
          151675.7579217898,
          125875.88411365864,
          125823.3589371029,
          137640.34951968034,
          199060.74398634364,
          223946.8100663524,
          171297.66888969,
          184262.5925931112,
          179544.75937030872,
          173837.69338477842,
          166835.37550185432,
          197027.55749802748,
          154605.18326707304,
          187002.99074763045,
          182665.95019272028,
          196066.67732608077,
          189359.33817366775
         ],
         "yaxis": "y"
        },
        {
         "hovertemplate": "region=NB<br>date_range_start=%{x}<br>mobility_score=%{y}<extra></extra>",
         "legendgroup": "NB",
         "line": {
          "color": "#ab63fa",
          "dash": "solid"
         },
         "marker": {
          "symbol": "circle"
         },
         "mode": "lines",
         "name": "NB",
         "showlegend": true,
         "type": "scattergl",
         "x": [
          "2019-06-03",
          "2019-06-10",
          "2019-06-17",
          "2019-06-24",
          "2019-07-01",
          "2019-07-08",
          "2019-07-15",
          "2019-07-22",
          "2019-07-29",
          "2019-08-05",
          "2019-08-12",
          "2019-08-19",
          "2019-08-26",
          "2019-09-02",
          "2019-09-09",
          "2019-09-16",
          "2019-09-23",
          "2019-09-30",
          "2019-10-07",
          "2019-10-14",
          "2019-10-21",
          "2019-10-28",
          "2019-11-04",
          "2019-11-11",
          "2019-11-18",
          "2019-11-25",
          "2019-12-02",
          "2019-12-09",
          "2019-12-16",
          "2019-12-23",
          "2019-12-30",
          "2020-01-06",
          "2020-01-13",
          "2020-01-20",
          "2020-01-27",
          "2020-02-03",
          "2020-02-10",
          "2020-02-17",
          "2020-02-24",
          "2020-03-02",
          "2020-03-09",
          "2020-03-16",
          "2020-03-23",
          "2020-03-30",
          "2020-04-06",
          "2020-04-13",
          "2020-04-20",
          "2020-04-27",
          "2020-05-04",
          "2020-05-11",
          "2020-05-18",
          "2020-05-25",
          "2020-06-01",
          "2020-06-08",
          "2020-06-15",
          "2020-06-22",
          "2020-06-29",
          "2020-07-06",
          "2020-07-13",
          "2020-07-20",
          "2020-07-27",
          "2020-08-03",
          "2020-08-10",
          "2020-08-17",
          "2020-08-24",
          "2020-08-31",
          "2020-09-07",
          "2020-09-14",
          "2020-09-21",
          "2020-09-28",
          "2020-10-05",
          "2020-10-12",
          "2020-10-19",
          "2020-10-26",
          "2020-11-02",
          "2020-11-09",
          "2020-11-16",
          "2020-11-23",
          "2020-11-30",
          "2020-12-07",
          "2020-12-14",
          "2020-12-21",
          "2020-12-28",
          "2021-01-04",
          "2021-01-11",
          "2021-01-18",
          "2021-01-25",
          "2021-02-01",
          "2021-02-08",
          "2021-02-15",
          "2021-02-22",
          "2021-03-01",
          "2021-03-08",
          "2021-03-15",
          "2021-03-22",
          "2021-03-29",
          "2021-04-05",
          "2021-04-12",
          "2021-04-19",
          "2021-04-26",
          "2021-05-03",
          "2021-05-10",
          "2021-05-17",
          "2021-05-24",
          "2021-05-31",
          "2021-06-07",
          "2021-06-14",
          "2021-06-21",
          "2021-06-28",
          "2021-07-05",
          "2021-07-12",
          "2021-07-19",
          "2021-07-26",
          "2021-08-02",
          "2021-08-09",
          "2021-08-16",
          "2021-08-23",
          "2021-08-30"
         ],
         "xaxis": "x",
         "y": [
          94139.76199520876,
          95002.2153505126,
          137042.0278259902,
          203114.2955010973,
          66421.75382371491,
          79334.03654033042,
          81051.20813534917,
          100388.9949033744,
          68842.02033013843,
          68229.83198904656,
          100966.26317839304,
          215348.34768558125,
          129455.16812191105,
          75379.81653626559,
          72155.2202601969,
          67841.17220219705,
          79264.77119570824,
          49563.92103655798,
          49761.75613311332,
          75873.65425055928,
          72301.03805374002,
          64423.462265795206,
          47638.81905150526,
          85875.4479054881,
          107084.41067280927,
          69006.42865877712,
          39495.330430430426,
          38246.272191528544,
          59334.507521945714,
          106933.46191837796,
          65047.62671986792,
          50876.22837451007,
          56745.31446308407,
          63371.86468062265,
          85365.68250676285,
          45446.56672885572,
          61902.74422382672,
          90999.20014485344,
          85029.36970337915,
          70096.32495671246,
          49493.61150479541,
          63180.46566767628,
          70133.17622324158,
          39137.29878096125,
          55757.76554712062,
          46029.71833333333,
          73639.54544411293,
          59580.94226342711,
          46033.769139158576,
          84034.16905444126,
          112259.16401640346,
          127773.61189003436,
          95787.13627791277,
          86555.32956091527,
          95720.26911961142,
          149940.84926221575,
          81704.26504696532,
          125409.71832892582,
          90839.80963931528,
          1234817.5335043315,
          760292.3470116969,
          150945.47251977402,
          535672.2124429223,
          866783.7028970269,
          917370.7122915528,
          579761.974727546,
          460558.2567429315,
          533879.5159883721,
          113407.1011904762,
          143122.23199213162,
          104822.99367275056,
          102348.65515981735,
          98296.7383922788,
          92079.51987767583,
          96490.17671333332,
          78082.30609756097,
          97816.11733615224,
          111573.4775681786,
          87371.26543693323,
          69339.46179857163,
          76388.15984460383,
          82159.10588938715,
          77763.77711540561,
          92995.15837197322,
          126212.68432066968,
          93066.67391980453,
          123899.71298305083,
          123306.44173185572,
          101471.67599905135,
          102165.31042830538,
          136902.54645225464,
          126625.21100525623,
          139805.32675866713,
          153150.4888778878,
          134561.78921985815,
          111133.45853814234,
          106269.16796439295,
          134224.1764413317,
          116762.98808660904,
          116802.70148370654,
          96898.0159074074,
          95171.79265419266,
          104815.07550667324,
          103934.81327696188,
          114860.67114997124,
          101065.34666812164,
          103982.75449413808,
          131023.34948060208,
          120413.21678363896,
          116277.61057786483,
          143228.02134331377,
          134852.84829491845,
          149021.7310215808,
          136553.05196058718,
          178984.68573276422,
          151146.65997521687,
          139629.82565780776,
          138243.7876470588
         ],
         "yaxis": "y"
        },
        {
         "hovertemplate": "region=NL<br>date_range_start=%{x}<br>mobility_score=%{y}<extra></extra>",
         "legendgroup": "NL",
         "line": {
          "color": "#FFA15A",
          "dash": "solid"
         },
         "marker": {
          "symbol": "circle"
         },
         "mode": "lines",
         "name": "NL",
         "showlegend": true,
         "type": "scattergl",
         "x": [
          "2019-06-03",
          "2019-06-10",
          "2019-06-17",
          "2019-06-24",
          "2019-07-01",
          "2019-07-08",
          "2019-07-15",
          "2019-07-22",
          "2019-07-29",
          "2019-08-05",
          "2019-08-12",
          "2019-08-19",
          "2019-08-26",
          "2019-09-02",
          "2019-09-09",
          "2019-09-16",
          "2019-09-23",
          "2019-09-30",
          "2019-10-07",
          "2019-10-14",
          "2019-10-21",
          "2019-10-28",
          "2019-11-04",
          "2019-11-11",
          "2019-11-18",
          "2019-11-25",
          "2019-12-02",
          "2019-12-09",
          "2019-12-16",
          "2019-12-23",
          "2019-12-30",
          "2020-01-06",
          "2020-01-13",
          "2020-01-20",
          "2020-01-27",
          "2020-02-03",
          "2020-02-10",
          "2020-02-17",
          "2020-02-24",
          "2020-03-02",
          "2020-03-09",
          "2020-03-16",
          "2020-03-23",
          "2020-03-30",
          "2020-04-06",
          "2020-04-13",
          "2020-04-20",
          "2020-04-27",
          "2020-05-04",
          "2020-05-11",
          "2020-05-18",
          "2020-05-25",
          "2020-06-01",
          "2020-06-08",
          "2020-06-15",
          "2020-06-22",
          "2020-06-29",
          "2020-07-06",
          "2020-07-13",
          "2020-07-20",
          "2020-07-27",
          "2020-08-03",
          "2020-08-10",
          "2020-08-17",
          "2020-08-24",
          "2020-08-31",
          "2020-09-07",
          "2020-09-14",
          "2020-09-21",
          "2020-09-28",
          "2020-10-05",
          "2020-10-12",
          "2020-10-19",
          "2020-10-26",
          "2020-11-02",
          "2020-11-09",
          "2020-11-16",
          "2020-11-23",
          "2020-11-30",
          "2020-12-07",
          "2020-12-14",
          "2020-12-21",
          "2020-12-28",
          "2021-01-04",
          "2021-01-11",
          "2021-01-18",
          "2021-01-25",
          "2021-02-01",
          "2021-02-08",
          "2021-02-15",
          "2021-02-22",
          "2021-03-01",
          "2021-03-08",
          "2021-03-15",
          "2021-03-22",
          "2021-03-29",
          "2021-04-05",
          "2021-04-12",
          "2021-04-19",
          "2021-04-26",
          "2021-05-03",
          "2021-05-10",
          "2021-05-17",
          "2021-05-24",
          "2021-05-31",
          "2021-06-07",
          "2021-06-14",
          "2021-06-21",
          "2021-06-28",
          "2021-07-05",
          "2021-07-12",
          "2021-07-19",
          "2021-07-26",
          "2021-08-02",
          "2021-08-09",
          "2021-08-16",
          "2021-08-23",
          "2021-08-30"
         ],
         "xaxis": "x",
         "y": [
          87370.50060606061,
          48576.10308641976,
          120354.787325156,
          199507.3807228916,
          73357.86750675067,
          123184.14284055086,
          148502.48955823292,
          204920.60485436887,
          101520.14614045268,
          77795.02893262923,
          102258.2140260631,
          134800.183670863,
          213109.76350034797,
          72071.63705638141,
          53882.40313246242,
          60557.05721916208,
          68762.47746508234,
          81974.48696451554,
          78310.56768005791,
          87074.08465863454,
          66211.45616186388,
          92243.76369085848,
          101705.2135149864,
          118650.0104496632,
          187405.7868892662,
          211248.81223973536,
          84991.64956328411,
          98209.70165568509,
          56433.54468775345,
          190875.3218836565,
          151541.0706188548,
          81834.44283355845,
          110237.37268722466,
          171969.25167450873,
          96344.7240142412,
          61389.85547461369,
          102005.67043671104,
          85645.38152006172,
          49130.315986860114,
          36931.16964565055,
          50371.48055921534,
          30430.2935967801,
          37569.47109664241,
          85746.79752620544,
          38760.56503898235,
          33351.45575355712,
          40128.75439068101,
          53367.82320675106,
          21117.693770417933,
          36376.91228301472,
          72463.64312292359,
          75507.02488294314,
          73758.81560462671,
          63935.61506806931,
          50869.73699072626,
          59473.78527761074,
          51157.27156466812,
          78218.25720268008,
          53954.3885315534,
          45525.15221290136,
          70796.27060539751,
          109059.41184812016,
          95900.5565143824,
          105742.75403761062,
          89144.2566791152,
          47107.640537029016,
          54835.28374769798,
          48537.9378771837,
          65376.844404859774,
          56928.465670475634,
          70889.79580668088,
          61742.84635668927,
          54593.11911084289,
          46465.84335505529,
          57678.48564754455,
          69620.31220527047,
          55891.7306897976,
          66647.11860489547,
          70109.54106127606,
          86703.9222985348,
          72964.54186820218,
          96532.85483870968,
          107871.14974931264,
          74678.68613192302,
          68772.16428571429,
          54614.29368686869,
          62714.48722100656,
          60938.389647478805,
          52681.591666666674,
          53235.933956386296,
          53294.57640883977,
          38745.84375,
          58329.91575239055,
          41316.774683143216,
          50082.16770590973,
          67150.70409330986,
          75390.41054155807,
          65738.01064215071,
          103592.70907221791,
          70911.77969177232,
          64325.66705528394,
          79724.7408997955,
          116152.6614469188,
          134865.11106821106,
          87395.61373091505,
          78693.82400531862,
          99173.25576041666,
          74574.16054032338,
          64740.55368421053,
          80731.65147480351,
          78288.73100428544,
          77192.87902217169,
          72072.19579076806,
          115306.09040627886,
          97529.7459742351,
          73261.29281491587,
          91049.1477621542,
          59280.715340191295
         ],
         "yaxis": "y"
        },
        {
         "hovertemplate": "region=NS<br>date_range_start=%{x}<br>mobility_score=%{y}<extra></extra>",
         "legendgroup": "NS",
         "line": {
          "color": "#19d3f3",
          "dash": "solid"
         },
         "marker": {
          "symbol": "circle"
         },
         "mode": "lines",
         "name": "NS",
         "showlegend": true,
         "type": "scattergl",
         "x": [
          "2019-06-03",
          "2019-06-10",
          "2019-06-17",
          "2019-06-24",
          "2019-07-01",
          "2019-07-08",
          "2019-07-15",
          "2019-07-22",
          "2019-07-29",
          "2019-08-05",
          "2019-08-12",
          "2019-08-19",
          "2019-08-26",
          "2019-09-02",
          "2019-09-09",
          "2019-09-16",
          "2019-09-23",
          "2019-09-30",
          "2019-10-07",
          "2019-10-14",
          "2019-10-21",
          "2019-10-28",
          "2019-11-04",
          "2019-11-11",
          "2019-11-18",
          "2019-11-25",
          "2019-12-02",
          "2019-12-09",
          "2019-12-16",
          "2019-12-23",
          "2019-12-30",
          "2020-01-06",
          "2020-01-13",
          "2020-01-20",
          "2020-01-27",
          "2020-02-03",
          "2020-02-10",
          "2020-02-17",
          "2020-02-24",
          "2020-03-02",
          "2020-03-09",
          "2020-03-16",
          "2020-03-23",
          "2020-03-30",
          "2020-04-06",
          "2020-04-13",
          "2020-04-20",
          "2020-04-27",
          "2020-05-04",
          "2020-05-11",
          "2020-05-18",
          "2020-05-25",
          "2020-06-01",
          "2020-06-08",
          "2020-06-15",
          "2020-06-22",
          "2020-06-29",
          "2020-07-06",
          "2020-07-13",
          "2020-07-20",
          "2020-07-27",
          "2020-08-03",
          "2020-08-10",
          "2020-08-17",
          "2020-08-24",
          "2020-08-31",
          "2020-09-07",
          "2020-09-14",
          "2020-09-21",
          "2020-09-28",
          "2020-10-05",
          "2020-10-12",
          "2020-10-19",
          "2020-10-26",
          "2020-11-02",
          "2020-11-09",
          "2020-11-16",
          "2020-11-23",
          "2020-11-30",
          "2020-12-07",
          "2020-12-14",
          "2020-12-21",
          "2020-12-28",
          "2021-01-04",
          "2021-01-11",
          "2021-01-18",
          "2021-01-25",
          "2021-02-01",
          "2021-02-08",
          "2021-02-15",
          "2021-02-22",
          "2021-03-01",
          "2021-03-08",
          "2021-03-15",
          "2021-03-22",
          "2021-03-29",
          "2021-04-05",
          "2021-04-12",
          "2021-04-19",
          "2021-04-26",
          "2021-05-03",
          "2021-05-10",
          "2021-05-17",
          "2021-05-24",
          "2021-05-31",
          "2021-06-07",
          "2021-06-14",
          "2021-06-21",
          "2021-06-28",
          "2021-07-05",
          "2021-07-12",
          "2021-07-19",
          "2021-07-26",
          "2021-08-02",
          "2021-08-09",
          "2021-08-16",
          "2021-08-23",
          "2021-08-30"
         ],
         "xaxis": "x",
         "y": [
          119632.4851423324,
          154218.51327656282,
          254473.5178035801,
          234113.85593969325,
          166513.66416105063,
          309794.69588461536,
          346369.4944844125,
          324761.9010843891,
          224118.2037906137,
          165529.05674750093,
          219905.46675924156,
          243580.7151343409,
          269886.6337912088,
          151902.28360012313,
          204862.86264233344,
          291405.82570965897,
          392788.2466666666,
          138362.86754807693,
          212480.50805084745,
          208939.57586013043,
          267445.051410227,
          221635.70259250244,
          203719.45359826015,
          226058.355196802,
          232447.47686535615,
          175680.98788276466,
          180635.0605565693,
          165524.2316757879,
          189582.95129723632,
          560363.5490909091,
          216903.9152843095,
          143283.15315576998,
          145253.88598448626,
          131520.8703915794,
          181968.1627363297,
          56008.898142803366,
          216456.82928724543,
          291976.55759194575,
          196513.2090755925,
          102912.27592120905,
          114848.35881517934,
          158073.05763495193,
          212699.62719008265,
          263268.44093386625,
          263420.965109584,
          188545.06097175583,
          200389.57956184132,
          140213.79985253295,
          116937.66692814558,
          113483.51574243812,
          134395.74314522312,
          110310.53204116372,
          181527.67620121175,
          196525.430619469,
          180049.52084297285,
          211108.92345731796,
          169385.19780125644,
          135908.15262138814,
          147225.30946783052,
          113454.08671875,
          121204.87557627707,
          119610.2406904906,
          183057.6717783505,
          190440.8354986648,
          185701.2155536138,
          114038.35440883758,
          140948.1314990606,
          121465.12473101752,
          147616.65552258064,
          206271.22073054384,
          144099.12852021796,
          142753.76071482888,
          171657.8914349588,
          195675.30254585276,
          166890.28193474963,
          127487.16322084918,
          159938.7775755839,
          121720.83372539976,
          126829.48123686582,
          133953.97558693154,
          188896.34083969463,
          216493.8892406441,
          214354.68869359264,
          139218.4490504915,
          184150.1225721785,
          221610.8375887311,
          299948.6407025247,
          199337.9589054617,
          180071.59829661885,
          181905.06293864612,
          163030.3305844306,
          202054.71202878683,
          200730.0783568292,
          233032.93572093025,
          248883.54678636775,
          198478.90265795207,
          178901.0895409268,
          218815.40207329844,
          156307.90458662558,
          154246.62724894346,
          157917.48904227783,
          132050.1287505014,
          148525.24852740392,
          121929.24983818772,
          97411.00807730426,
          115249.044958194,
          145765.15319539464,
          159508.22174160037,
          157657.64338704263,
          155109.77631265804,
          180325.2023646072,
          195520.09360845116,
          189340.0796006144,
          194884.35411126397,
          206192.62541691933,
          188447.5755425581,
          212693.9969576099,
          180047.3705281477
         ],
         "yaxis": "y"
        },
        {
         "hovertemplate": "region=ON<br>date_range_start=%{x}<br>mobility_score=%{y}<extra></extra>",
         "legendgroup": "ON",
         "line": {
          "color": "#FF6692",
          "dash": "solid"
         },
         "marker": {
          "symbol": "circle"
         },
         "mode": "lines",
         "name": "ON",
         "showlegend": true,
         "type": "scattergl",
         "x": [
          "2019-06-03",
          "2019-06-10",
          "2019-06-17",
          "2019-06-24",
          "2019-07-01",
          "2019-07-08",
          "2019-07-15",
          "2019-07-22",
          "2019-07-29",
          "2019-08-05",
          "2019-08-12",
          "2019-08-19",
          "2019-08-26",
          "2019-09-02",
          "2019-09-09",
          "2019-09-16",
          "2019-09-23",
          "2019-09-30",
          "2019-10-07",
          "2019-10-14",
          "2019-10-21",
          "2019-10-28",
          "2019-11-04",
          "2019-11-11",
          "2019-11-18",
          "2019-11-25",
          "2019-12-02",
          "2019-12-09",
          "2019-12-16",
          "2019-12-23",
          "2019-12-30",
          "2020-01-06",
          "2020-01-13",
          "2020-01-20",
          "2020-01-27",
          "2020-02-03",
          "2020-02-10",
          "2020-02-17",
          "2020-02-24",
          "2020-03-02",
          "2020-03-09",
          "2020-03-16",
          "2020-03-23",
          "2020-03-30",
          "2020-04-06",
          "2020-04-13",
          "2020-04-20",
          "2020-04-27",
          "2020-05-04",
          "2020-05-11",
          "2020-05-18",
          "2020-05-25",
          "2020-06-01",
          "2020-06-08",
          "2020-06-15",
          "2020-06-22",
          "2020-06-29",
          "2020-07-06",
          "2020-07-13",
          "2020-07-20",
          "2020-07-27",
          "2020-08-03",
          "2020-08-10",
          "2020-08-17",
          "2020-08-24",
          "2020-08-31",
          "2020-09-07",
          "2020-09-14",
          "2020-09-21",
          "2020-09-28",
          "2020-10-05",
          "2020-10-12",
          "2020-10-19",
          "2020-10-26",
          "2020-11-02",
          "2020-11-09",
          "2020-11-16",
          "2020-11-23",
          "2020-11-30",
          "2020-12-07",
          "2020-12-14",
          "2020-12-21",
          "2020-12-28",
          "2021-01-04",
          "2021-01-11",
          "2021-01-18",
          "2021-01-25",
          "2021-02-01",
          "2021-02-08",
          "2021-02-15",
          "2021-02-22",
          "2021-03-01",
          "2021-03-08",
          "2021-03-15",
          "2021-03-22",
          "2021-03-29",
          "2021-04-05",
          "2021-04-12",
          "2021-04-19",
          "2021-04-26",
          "2021-05-03",
          "2021-05-10",
          "2021-05-17",
          "2021-05-24",
          "2021-05-31",
          "2021-06-07",
          "2021-06-14",
          "2021-06-21",
          "2021-06-28",
          "2021-07-05",
          "2021-07-12",
          "2021-07-19",
          "2021-07-26",
          "2021-08-02",
          "2021-08-09",
          "2021-08-16",
          "2021-08-23",
          "2021-08-30"
         ],
         "xaxis": "x",
         "y": [
          2204894.896506817,
          2470345.051263465,
          3099937.261790566,
          3522621.14255755,
          2631822.771058398,
          3043219.091956272,
          3371420.498675834,
          3808671.5301383054,
          3282779.4691953347,
          2114027.3209267776,
          2444262.21228604,
          3135751.371775099,
          3357436.966884268,
          2144783.4861911703,
          2620776.7160406923,
          3124581.515202064,
          4146344.431615438,
          2227642.151008923,
          2132111.112698308,
          2358177.3566254377,
          2871768.372725347,
          2913228.791635291,
          2450542.8290654854,
          2608476.893339349,
          3132570.1691060066,
          3191926.4291123278,
          2217995.2091084933,
          2130494.2217951515,
          3654865.779542091,
          10593620.54964978,
          3762208.164533229,
          2292965.853501146,
          2599352.470835522,
          2743558.140770261,
          3072209.327606344,
          1672650.32368649,
          2626318.5093516405,
          2980520.2095184224,
          2271477.58080605,
          1909668.8519928583,
          2115220.223170578,
          2236779.074374353,
          3351521.1370633254,
          2220490.481579864,
          2188063.023236296,
          2577804.161387978,
          3150599.878873807,
          2136117.348432035,
          1643643.490609639,
          1692508.190023535,
          2006157.484868463,
          2061703.9600780676,
          1874402.1149947909,
          1900399.3667581428,
          2090141.661485319,
          2154687.9836583366,
          2045158.1484417685,
          2279349.908544596,
          2380219.821337642,
          3917655.10442398,
          3761341.750607536,
          2249167.2070368263,
          2875444.957361033,
          3119051.822478058,
          3535940.600088351,
          2765478.401373206,
          2639262.702762762,
          4437333.1904778825,
          2309788.148682098,
          2225348.191183084,
          1951527.748227376,
          1978223.1568754185,
          2308510.787613948,
          2323332.9149141884,
          2465900.2726829923,
          2539413.4288220545,
          2210580.2717334246,
          2629288.4136284795,
          2443096.7590480046,
          2300695.856339811,
          2761208.184330198,
          2753261.163452025,
          2975824.5792967887,
          3054215.292920993,
          3287842.133276737,
          3275108.7577750506,
          3482415.6541035334,
          3262924.867625502,
          2921445.587742896,
          3150038.64772092,
          2968813.373261495,
          3366349.9886079235,
          3066241.090884706,
          3132784.6725276704,
          3018713.7807509657,
          2967110.087232401,
          3108912.972322909,
          3250819.976539801,
          2819632.986538826,
          2805897.5037592733,
          2405885.902381039,
          2692349.515311843,
          2203283.161622874,
          2212651.022178204,
          2251637.596336649,
          2293421.251429014,
          2622974.090644647,
          2688269.7968235784,
          2897782.491333945,
          2783719.7526583765,
          2760669.475791654,
          2885060.718269272,
          2820241.1157825715,
          2728878.828437157,
          2905583.000215469,
          3024744.8447799464,
          2947466.000589804,
          3030405.5303575005
         ],
         "yaxis": "y"
        },
        {
         "hovertemplate": "region=PE<br>date_range_start=%{x}<br>mobility_score=%{y}<extra></extra>",
         "legendgroup": "PE",
         "line": {
          "color": "#B6E880",
          "dash": "solid"
         },
         "marker": {
          "symbol": "circle"
         },
         "mode": "lines",
         "name": "PE",
         "showlegend": true,
         "type": "scattergl",
         "x": [
          "2019-06-03",
          "2019-06-10",
          "2019-06-17",
          "2019-06-24",
          "2019-07-01",
          "2019-07-08",
          "2019-07-15",
          "2019-07-22",
          "2019-07-29",
          "2019-08-05",
          "2019-08-12",
          "2019-08-19",
          "2019-08-26",
          "2019-09-02",
          "2019-09-09",
          "2019-09-16",
          "2019-09-23",
          "2019-09-30",
          "2019-10-07",
          "2019-10-14",
          "2019-10-21",
          "2019-10-28",
          "2019-11-04",
          "2019-11-11",
          "2019-11-18",
          "2019-11-25",
          "2019-12-02",
          "2019-12-09",
          "2019-12-16",
          "2019-12-23",
          "2019-12-30",
          "2020-01-06",
          "2020-01-13",
          "2020-01-20",
          "2020-01-27",
          "2020-02-03",
          "2020-02-10",
          "2020-02-17",
          "2020-02-24",
          "2020-03-02",
          "2020-03-09",
          "2020-03-16",
          "2020-03-23",
          "2020-03-30",
          "2020-04-06",
          "2020-04-13",
          "2020-04-20",
          "2020-04-27",
          "2020-05-04",
          "2020-05-11",
          "2020-05-18",
          "2020-05-25",
          "2020-06-01",
          "2020-06-08",
          "2020-06-15",
          "2020-06-22",
          "2020-06-29",
          "2020-07-06",
          "2020-07-13",
          "2020-07-20",
          "2020-07-27",
          "2020-08-03",
          "2020-08-10",
          "2020-08-17",
          "2020-08-24",
          "2020-08-31",
          "2020-09-07",
          "2020-09-14",
          "2020-09-21",
          "2020-09-28",
          "2020-10-05",
          "2020-10-12",
          "2020-10-19",
          "2020-10-26",
          "2020-11-02",
          "2020-11-09",
          "2020-11-16",
          "2020-11-23",
          "2020-11-30",
          "2020-12-07",
          "2020-12-14",
          "2020-12-21",
          "2020-12-28",
          "2021-01-04",
          "2021-01-11",
          "2021-01-18",
          "2021-01-25",
          "2021-02-01",
          "2021-02-08",
          "2021-02-15",
          "2021-02-22",
          "2021-03-01",
          "2021-03-08",
          "2021-03-15",
          "2021-03-22",
          "2021-03-29",
          "2021-04-05",
          "2021-04-12",
          "2021-04-19",
          "2021-04-26",
          "2021-05-03",
          "2021-05-10",
          "2021-05-17",
          "2021-05-24",
          "2021-05-31",
          "2021-06-07",
          "2021-06-14",
          "2021-06-21",
          "2021-06-28",
          "2021-07-05",
          "2021-07-12",
          "2021-07-19",
          "2021-07-26",
          "2021-08-02",
          "2021-08-09",
          "2021-08-16",
          "2021-08-23",
          "2021-08-30"
         ],
         "xaxis": "x",
         "y": [
          19907.47780141844,
          24938.83418209877,
          55845.62598920864,
          90802.01825242718,
          38225.59436619718,
          10961.490251107827,
          35548.5625,
          18494.777358490563,
          13350.3975,
          38141.274002574,
          34461.18836150846,
          22705.67669902913,
          31086.22590711176,
          11979.524352331606,
          16515.20968443961,
          28263.130013020836,
          32111.78055555556,
          7848.126943699733,
          8001.987223756905,
          13857.6704866562,
          19147.88652931854,
          23480.0979930192,
          14737.64705479452,
          45327.77789699571,
          39370.51507936508,
          16522.701666666668,
          27482.92574578469,
          12831.307162346522,
          18204.021059782608,
          83800.95803981624,
          25240.68340840841,
          33204.09705469845,
          30996.52945098039,
          29123.554419889504,
          36409.76126126127,
          15972.089134438304,
          51326.22519132653,
          56433.19747109827,
          39734.24917218544,
          36453.02475609756,
          27382.52875161708,
          37475.47316775245,
          37927.69559748428,
          33158.05851305335,
          18352.57839506173,
          42728.30788834951,
          94536.74371428572,
          63849.766071428574,
          36852.50702811246,
          46492.56783317353,
          19171.27039473684,
          23575.253891941396,
          12781.929570345408,
          18097.483149872987,
          28244.789146919436,
          8563.105866425993,
          9712.783590208524,
          16489.01798076923,
          11717.616284403668,
          11301.800909090907,
          18386.98648535565,
          15545.865691263783,
          11366.9131826742,
          13774.6810741688,
          14210.64035532995,
          11075.639914021163,
          9848.334307288247,
          12811.641976225854,
          9820.684596169858,
          9549.275850340136,
          9824.49825847846,
          11748.070070778564,
          11448.895630630628,
          16886.76470856102,
          15524.291807348562,
          23725.002352941177,
          23296.923778195487,
          24114.39661835749,
          17375.699762583095,
          22804.22456236324,
          16277.492082294266,
          9551.087857142857,
          13512.290728476824,
          18790.84,
          13414.817371601208,
          11731.394680851065,
          49504.61036866359,
          26440.525750750752,
          23448.621010638297,
          33771.4251950078,
          23449.556441223835,
          16018.078607809848,
          37264.5960199005,
          28625.64508064516,
          24827.63557536467,
          29998.674328594,
          22956.51295707472,
          37716.15053191489,
          28476.70981182796,
          24015.29860557769,
          18439.236860304285,
          24739.1979721166,
          41565.56078553616,
          13441.650734463276,
          18779.168211559438,
          16220.349017467248,
          17480.203125,
          38655.2651214128,
          20004.25039237668,
          25367.16939520333,
          25391.37865528282,
          23623.13665207877,
          20154.47172972973,
          16660.272401247403,
          22477.61088957055,
          33053.84753846154,
          39132.49282608696,
          14173.944209466265
         ],
         "yaxis": "y"
        },
        {
         "hovertemplate": "region=QC<br>date_range_start=%{x}<br>mobility_score=%{y}<extra></extra>",
         "legendgroup": "QC",
         "line": {
          "color": "#FF97FF",
          "dash": "solid"
         },
         "marker": {
          "symbol": "circle"
         },
         "mode": "lines",
         "name": "QC",
         "showlegend": true,
         "type": "scattergl",
         "x": [
          "2019-06-03",
          "2019-06-10",
          "2019-06-17",
          "2019-06-24",
          "2019-07-01",
          "2019-07-08",
          "2019-07-15",
          "2019-07-22",
          "2019-07-29",
          "2019-08-05",
          "2019-08-12",
          "2019-08-19",
          "2019-08-26",
          "2019-09-02",
          "2019-09-09",
          "2019-09-16",
          "2019-09-23",
          "2019-09-30",
          "2019-10-07",
          "2019-10-14",
          "2019-10-21",
          "2019-10-28",
          "2019-11-04",
          "2019-11-11",
          "2019-11-18",
          "2019-11-25",
          "2019-12-02",
          "2019-12-09",
          "2019-12-16",
          "2019-12-23",
          "2019-12-30",
          "2020-01-06",
          "2020-01-13",
          "2020-01-20",
          "2020-01-27",
          "2020-02-03",
          "2020-02-10",
          "2020-02-17",
          "2020-02-24",
          "2020-03-02",
          "2020-03-09",
          "2020-03-16",
          "2020-03-23",
          "2020-03-30",
          "2020-04-06",
          "2020-04-13",
          "2020-04-20",
          "2020-04-27",
          "2020-05-04",
          "2020-05-11",
          "2020-05-18",
          "2020-05-25",
          "2020-06-01",
          "2020-06-08",
          "2020-06-15",
          "2020-06-22",
          "2020-06-29",
          "2020-07-06",
          "2020-07-13",
          "2020-07-20",
          "2020-07-27",
          "2020-08-03",
          "2020-08-10",
          "2020-08-17",
          "2020-08-24",
          "2020-08-31",
          "2020-09-07",
          "2020-09-14",
          "2020-09-21",
          "2020-09-28",
          "2020-10-05",
          "2020-10-12",
          "2020-10-19",
          "2020-10-26",
          "2020-11-02",
          "2020-11-09",
          "2020-11-16",
          "2020-11-23",
          "2020-11-30",
          "2020-12-07",
          "2020-12-14",
          "2020-12-21",
          "2020-12-28",
          "2021-01-04",
          "2021-01-11",
          "2021-01-18",
          "2021-01-25",
          "2021-02-01",
          "2021-02-08",
          "2021-02-15",
          "2021-02-22",
          "2021-03-01",
          "2021-03-08",
          "2021-03-15",
          "2021-03-22",
          "2021-03-29",
          "2021-04-05",
          "2021-04-12",
          "2021-04-19",
          "2021-04-26",
          "2021-05-03",
          "2021-05-10",
          "2021-05-17",
          "2021-05-24",
          "2021-05-31",
          "2021-06-07",
          "2021-06-14",
          "2021-06-21",
          "2021-06-28",
          "2021-07-05",
          "2021-07-12",
          "2021-07-19",
          "2021-07-26",
          "2021-08-02",
          "2021-08-09",
          "2021-08-16",
          "2021-08-23",
          "2021-08-30"
         ],
         "xaxis": "x",
         "y": [
          1496794.0573460402,
          1725984.4422433714,
          2305171.029764376,
          2770582.840052574,
          1785869.3631270844,
          2166055.346431473,
          2552052.073590668,
          3056136.0331525668,
          2607174.337742935,
          1889314.898260688,
          2024966.330602828,
          2640450.206732673,
          2656011.742064676,
          1964526.4569651785,
          2353218.2417298714,
          3031525.2311342955,
          4217252.044436976,
          2446123.569458724,
          1658276.459950626,
          2058320.4115272372,
          2399087.773657387,
          2140399.0663707107,
          1661334.329442225,
          1938404.337087587,
          2411673.1174670183,
          2414471.9317165352,
          1498387.3453013506,
          1524819.4194025793,
          2596120.4213478067,
          6561906.586211041,
          2501278.5800060774,
          1705361.9450287328,
          1725534.307258973,
          2071506.4162180691,
          2237313.296926097,
          1125883.4763679153,
          1723928.4547069506,
          2114216.167881417,
          1587115.0347082112,
          1279386.3895281584,
          1432245.986316793,
          1665896.4806221242,
          2350341.2972132484,
          1629598.049497072,
          1574581.2476621328,
          1793984.1327993593,
          2262278.995151986,
          1552385.4063872034,
          970205.098908048,
          1184247.4862837463,
          1267113.5001346276,
          1310742.4221383224,
          1307561.9441341278,
          1195367.8547322936,
          1279441.402216763,
          1334654.786339293,
          1318679.9217089368,
          1407338.2559304202,
          1562637.5195142983,
          2503617.0171174784,
          2312182.915343115,
          1508862.2751623376,
          2579929.190458945,
          3969211.940072088,
          4549358.191070884,
          2967986.382265615,
          2985693.060257561,
          2990871.0751781617,
          1419144.265659399,
          1323105.9658616218,
          1164049.996287302,
          1186260.0892523066,
          1241846.6090495852,
          1293756.1752408636,
          1403734.3075392763,
          1473962.2667666394,
          1209363.750802706,
          1386084.7518837338,
          1397151.9170661897,
          1503429.138549465,
          2014212.9607386617,
          1560144.1329409068,
          1499724.1897108068,
          1658373.4007757886,
          1841554.8453726,
          1703050.973994395,
          1803562.0728893932,
          1972454.5238102868,
          1624883.3812916256,
          1751669.7435068989,
          1556415.3677509965,
          1712051.4902974884,
          1520268.8003333264,
          1649565.95285605,
          1587021.6913055182,
          1773029.7685819096,
          1587991.8025083228,
          1644238.9597278966,
          1586594.558698209,
          1399087.0118286626,
          1418612.912654665,
          1530996.516233974,
          1545240.9739622122,
          1403057.9818938302,
          1617662.3264130296,
          1598076.9648358189,
          1634448.573006693,
          1679679.4884381995,
          2040357.069622004,
          1819509.6479066696,
          1853068.7328360076,
          1925598.4691393587,
          1898041.295511806,
          1858767.6503431064,
          1790115.450005416,
          1872725.1285707576,
          1901770.822990318,
          1639705.29880488
         ],
         "yaxis": "y"
        },
        {
         "hovertemplate": "region=SK<br>date_range_start=%{x}<br>mobility_score=%{y}<extra></extra>",
         "legendgroup": "SK",
         "line": {
          "color": "#FECB52",
          "dash": "solid"
         },
         "marker": {
          "symbol": "circle"
         },
         "mode": "lines",
         "name": "SK",
         "showlegend": true,
         "type": "scattergl",
         "x": [
          "2019-06-03",
          "2019-06-10",
          "2019-06-17",
          "2019-06-24",
          "2019-07-01",
          "2019-07-08",
          "2019-07-15",
          "2019-07-22",
          "2019-07-29",
          "2019-08-05",
          "2019-08-12",
          "2019-08-19",
          "2019-08-26",
          "2019-09-02",
          "2019-09-09",
          "2019-09-16",
          "2019-09-23",
          "2019-09-30",
          "2019-10-07",
          "2019-10-14",
          "2019-10-21",
          "2019-10-28",
          "2019-11-04",
          "2019-11-11",
          "2019-11-18",
          "2019-11-25",
          "2019-12-02",
          "2019-12-09",
          "2019-12-16",
          "2019-12-23",
          "2019-12-30",
          "2020-01-06",
          "2020-01-13",
          "2020-01-20",
          "2020-01-27",
          "2020-02-03",
          "2020-02-10",
          "2020-02-17",
          "2020-02-24",
          "2020-03-02",
          "2020-03-09",
          "2020-03-16",
          "2020-03-23",
          "2020-03-30",
          "2020-04-06",
          "2020-04-13",
          "2020-04-20",
          "2020-04-27",
          "2020-05-04",
          "2020-05-11",
          "2020-05-18",
          "2020-05-25",
          "2020-06-01",
          "2020-06-08",
          "2020-06-15",
          "2020-06-22",
          "2020-06-29",
          "2020-07-06",
          "2020-07-13",
          "2020-07-20",
          "2020-07-27",
          "2020-08-03",
          "2020-08-10",
          "2020-08-17",
          "2020-08-24",
          "2020-08-31",
          "2020-09-07",
          "2020-09-14",
          "2020-09-21",
          "2020-09-28",
          "2020-10-05",
          "2020-10-12",
          "2020-10-19",
          "2020-10-26",
          "2020-11-02",
          "2020-11-09",
          "2020-11-16",
          "2020-11-23",
          "2020-11-30",
          "2020-12-07",
          "2020-12-14",
          "2020-12-21",
          "2020-12-28",
          "2021-01-04",
          "2021-01-11",
          "2021-01-18",
          "2021-01-25",
          "2021-02-01",
          "2021-02-08",
          "2021-02-15",
          "2021-02-22",
          "2021-03-01",
          "2021-03-08",
          "2021-03-15",
          "2021-03-22",
          "2021-03-29",
          "2021-04-05",
          "2021-04-12",
          "2021-04-19",
          "2021-04-26",
          "2021-05-03",
          "2021-05-10",
          "2021-05-17",
          "2021-05-24",
          "2021-05-31",
          "2021-06-07",
          "2021-06-14",
          "2021-06-21",
          "2021-06-28",
          "2021-07-05",
          "2021-07-12",
          "2021-07-19",
          "2021-07-26",
          "2021-08-02",
          "2021-08-09",
          "2021-08-16",
          "2021-08-23",
          "2021-08-30"
         ],
         "xaxis": "x",
         "y": [
          141603.80901424834,
          126624.0873042939,
          206106.68461538464,
          194419.42666666667,
          126594.30125830624,
          143916.65581106275,
          232784.71975328683,
          257682.80470069777,
          154158.10422588594,
          112460.71051401868,
          125552.94747126436,
          150437.78381877023,
          189952.5575444265,
          180782.04628489056,
          174627.33193200987,
          182119.66146746653,
          223916.21012703527,
          125750.21289603566,
          151435.54306964166,
          170853.2654983983,
          233943.30858895704,
          165182.90876330878,
          126026.22535211268,
          176400.6852930853,
          143676.0025419241,
          183914.14117647056,
          189036.40853365383,
          125059.27161321208,
          267033.316779711,
          837557.7601714374,
          313953.2523731588,
          154054.34913065078,
          184042.3268335581,
          174901.0906853282,
          170824.32346901798,
          95980.97062686567,
          147937.55496757457,
          159296.21973550358,
          118607.08903337667,
          124252.24764217377,
          171283.2035328346,
          168220.9295440192,
          287547.3494830629,
          178154.1196543482,
          151910.65429251327,
          150271.67565563894,
          150043.1323275486,
          107702.3781818182,
          91565.43209650328,
          98088.02581407368,
          152795.00371521723,
          142332.74590176574,
          153546.65971467883,
          132829.48418554477,
          165555.19767701585,
          148089.12876551368,
          128268.544092561,
          157982.83751515154,
          127390.5693257007,
          122726.18892595064,
          112494.9839353372,
          143260.12133538505,
          144924.2366457238,
          163222.70472880724,
          158771.25907990313,
          171605.67776104677,
          151815.49470637352,
          177230.58621134778,
          174084.37298966304,
          182409.2109871015,
          170772.58606133013,
          162038.15498070602,
          177149.7276353276,
          218822.3737061433,
          217166.1989963955,
          197684.5012134296,
          161079.2501189135,
          158179.13257813567,
          141213.34376383762,
          143130.4058467321,
          123132.93667846698,
          124362.84193168432,
          123690.37562287148,
          173494.11265250406,
          174679.5156817781,
          178445.0240488155,
          202314.83777628932,
          167946.89776076557,
          177639.21312993162,
          165685.26604361372,
          215784.39733998335,
          193809.978925873,
          199305.2003208985,
          152069.40317581786,
          160532.41961471105,
          135926.5089219683,
          153961.86703325028,
          183907.53873813883,
          144739.55785521914,
          156869.90023201858,
          147074.16243789333,
          171613.3850993631,
          171372.33269172933,
          147611.51047097798,
          158139.15032870707,
          163880.69482141553,
          148135.8388072791,
          180686.27798742137,
          161861.42288289714,
          180114.66438997522,
          149041.98270017534,
          152943.4631163131,
          155754.16129647283,
          164049.23771233586,
          178148.60955773227,
          194345.85592894157,
          151681.20539877302,
          168645.936988632
         ],
         "yaxis": "y"
        }
       ],
       "layout": {
        "legend": {
         "title": {
          "text": "region"
         },
         "tracegroupgap": 0
        },
        "margin": {
         "t": 60
        },
        "template": {
         "data": {
          "bar": [
           {
            "error_x": {
             "color": "#2a3f5f"
            },
            "error_y": {
             "color": "#2a3f5f"
            },
            "marker": {
             "line": {
              "color": "#E5ECF6",
              "width": 0.5
             },
             "pattern": {
              "fillmode": "overlay",
              "size": 10,
              "solidity": 0.2
             }
            },
            "type": "bar"
           }
          ],
          "barpolar": [
           {
            "marker": {
             "line": {
              "color": "#E5ECF6",
              "width": 0.5
             },
             "pattern": {
              "fillmode": "overlay",
              "size": 10,
              "solidity": 0.2
             }
            },
            "type": "barpolar"
           }
          ],
          "carpet": [
           {
            "aaxis": {
             "endlinecolor": "#2a3f5f",
             "gridcolor": "white",
             "linecolor": "white",
             "minorgridcolor": "white",
             "startlinecolor": "#2a3f5f"
            },
            "baxis": {
             "endlinecolor": "#2a3f5f",
             "gridcolor": "white",
             "linecolor": "white",
             "minorgridcolor": "white",
             "startlinecolor": "#2a3f5f"
            },
            "type": "carpet"
           }
          ],
          "choropleth": [
           {
            "colorbar": {
             "outlinewidth": 0,
             "ticks": ""
            },
            "type": "choropleth"
           }
          ],
          "contour": [
           {
            "colorbar": {
             "outlinewidth": 0,
             "ticks": ""
            },
            "colorscale": [
             [
              0,
              "#0d0887"
             ],
             [
              0.1111111111111111,
              "#46039f"
             ],
             [
              0.2222222222222222,
              "#7201a8"
             ],
             [
              0.3333333333333333,
              "#9c179e"
             ],
             [
              0.4444444444444444,
              "#bd3786"
             ],
             [
              0.5555555555555556,
              "#d8576b"
             ],
             [
              0.6666666666666666,
              "#ed7953"
             ],
             [
              0.7777777777777778,
              "#fb9f3a"
             ],
             [
              0.8888888888888888,
              "#fdca26"
             ],
             [
              1,
              "#f0f921"
             ]
            ],
            "type": "contour"
           }
          ],
          "contourcarpet": [
           {
            "colorbar": {
             "outlinewidth": 0,
             "ticks": ""
            },
            "type": "contourcarpet"
           }
          ],
          "heatmap": [
           {
            "colorbar": {
             "outlinewidth": 0,
             "ticks": ""
            },
            "colorscale": [
             [
              0,
              "#0d0887"
             ],
             [
              0.1111111111111111,
              "#46039f"
             ],
             [
              0.2222222222222222,
              "#7201a8"
             ],
             [
              0.3333333333333333,
              "#9c179e"
             ],
             [
              0.4444444444444444,
              "#bd3786"
             ],
             [
              0.5555555555555556,
              "#d8576b"
             ],
             [
              0.6666666666666666,
              "#ed7953"
             ],
             [
              0.7777777777777778,
              "#fb9f3a"
             ],
             [
              0.8888888888888888,
              "#fdca26"
             ],
             [
              1,
              "#f0f921"
             ]
            ],
            "type": "heatmap"
           }
          ],
          "heatmapgl": [
           {
            "colorbar": {
             "outlinewidth": 0,
             "ticks": ""
            },
            "colorscale": [
             [
              0,
              "#0d0887"
             ],
             [
              0.1111111111111111,
              "#46039f"
             ],
             [
              0.2222222222222222,
              "#7201a8"
             ],
             [
              0.3333333333333333,
              "#9c179e"
             ],
             [
              0.4444444444444444,
              "#bd3786"
             ],
             [
              0.5555555555555556,
              "#d8576b"
             ],
             [
              0.6666666666666666,
              "#ed7953"
             ],
             [
              0.7777777777777778,
              "#fb9f3a"
             ],
             [
              0.8888888888888888,
              "#fdca26"
             ],
             [
              1,
              "#f0f921"
             ]
            ],
            "type": "heatmapgl"
           }
          ],
          "histogram": [
           {
            "marker": {
             "pattern": {
              "fillmode": "overlay",
              "size": 10,
              "solidity": 0.2
             }
            },
            "type": "histogram"
           }
          ],
          "histogram2d": [
           {
            "colorbar": {
             "outlinewidth": 0,
             "ticks": ""
            },
            "colorscale": [
             [
              0,
              "#0d0887"
             ],
             [
              0.1111111111111111,
              "#46039f"
             ],
             [
              0.2222222222222222,
              "#7201a8"
             ],
             [
              0.3333333333333333,
              "#9c179e"
             ],
             [
              0.4444444444444444,
              "#bd3786"
             ],
             [
              0.5555555555555556,
              "#d8576b"
             ],
             [
              0.6666666666666666,
              "#ed7953"
             ],
             [
              0.7777777777777778,
              "#fb9f3a"
             ],
             [
              0.8888888888888888,
              "#fdca26"
             ],
             [
              1,
              "#f0f921"
             ]
            ],
            "type": "histogram2d"
           }
          ],
          "histogram2dcontour": [
           {
            "colorbar": {
             "outlinewidth": 0,
             "ticks": ""
            },
            "colorscale": [
             [
              0,
              "#0d0887"
             ],
             [
              0.1111111111111111,
              "#46039f"
             ],
             [
              0.2222222222222222,
              "#7201a8"
             ],
             [
              0.3333333333333333,
              "#9c179e"
             ],
             [
              0.4444444444444444,
              "#bd3786"
             ],
             [
              0.5555555555555556,
              "#d8576b"
             ],
             [
              0.6666666666666666,
              "#ed7953"
             ],
             [
              0.7777777777777778,
              "#fb9f3a"
             ],
             [
              0.8888888888888888,
              "#fdca26"
             ],
             [
              1,
              "#f0f921"
             ]
            ],
            "type": "histogram2dcontour"
           }
          ],
          "mesh3d": [
           {
            "colorbar": {
             "outlinewidth": 0,
             "ticks": ""
            },
            "type": "mesh3d"
           }
          ],
          "parcoords": [
           {
            "line": {
             "colorbar": {
              "outlinewidth": 0,
              "ticks": ""
             }
            },
            "type": "parcoords"
           }
          ],
          "pie": [
           {
            "automargin": true,
            "type": "pie"
           }
          ],
          "scatter": [
           {
            "fillpattern": {
             "fillmode": "overlay",
             "size": 10,
             "solidity": 0.2
            },
            "type": "scatter"
           }
          ],
          "scatter3d": [
           {
            "line": {
             "colorbar": {
              "outlinewidth": 0,
              "ticks": ""
             }
            },
            "marker": {
             "colorbar": {
              "outlinewidth": 0,
              "ticks": ""
             }
            },
            "type": "scatter3d"
           }
          ],
          "scattercarpet": [
           {
            "marker": {
             "colorbar": {
              "outlinewidth": 0,
              "ticks": ""
             }
            },
            "type": "scattercarpet"
           }
          ],
          "scattergeo": [
           {
            "marker": {
             "colorbar": {
              "outlinewidth": 0,
              "ticks": ""
             }
            },
            "type": "scattergeo"
           }
          ],
          "scattergl": [
           {
            "marker": {
             "colorbar": {
              "outlinewidth": 0,
              "ticks": ""
             }
            },
            "type": "scattergl"
           }
          ],
          "scattermapbox": [
           {
            "marker": {
             "colorbar": {
              "outlinewidth": 0,
              "ticks": ""
             }
            },
            "type": "scattermapbox"
           }
          ],
          "scatterpolar": [
           {
            "marker": {
             "colorbar": {
              "outlinewidth": 0,
              "ticks": ""
             }
            },
            "type": "scatterpolar"
           }
          ],
          "scatterpolargl": [
           {
            "marker": {
             "colorbar": {
              "outlinewidth": 0,
              "ticks": ""
             }
            },
            "type": "scatterpolargl"
           }
          ],
          "scatterternary": [
           {
            "marker": {
             "colorbar": {
              "outlinewidth": 0,
              "ticks": ""
             }
            },
            "type": "scatterternary"
           }
          ],
          "surface": [
           {
            "colorbar": {
             "outlinewidth": 0,
             "ticks": ""
            },
            "colorscale": [
             [
              0,
              "#0d0887"
             ],
             [
              0.1111111111111111,
              "#46039f"
             ],
             [
              0.2222222222222222,
              "#7201a8"
             ],
             [
              0.3333333333333333,
              "#9c179e"
             ],
             [
              0.4444444444444444,
              "#bd3786"
             ],
             [
              0.5555555555555556,
              "#d8576b"
             ],
             [
              0.6666666666666666,
              "#ed7953"
             ],
             [
              0.7777777777777778,
              "#fb9f3a"
             ],
             [
              0.8888888888888888,
              "#fdca26"
             ],
             [
              1,
              "#f0f921"
             ]
            ],
            "type": "surface"
           }
          ],
          "table": [
           {
            "cells": {
             "fill": {
              "color": "#EBF0F8"
             },
             "line": {
              "color": "white"
             }
            },
            "header": {
             "fill": {
              "color": "#C8D4E3"
             },
             "line": {
              "color": "white"
             }
            },
            "type": "table"
           }
          ]
         },
         "layout": {
          "annotationdefaults": {
           "arrowcolor": "#2a3f5f",
           "arrowhead": 0,
           "arrowwidth": 1
          },
          "autotypenumbers": "strict",
          "coloraxis": {
           "colorbar": {
            "outlinewidth": 0,
            "ticks": ""
           }
          },
          "colorscale": {
           "diverging": [
            [
             0,
             "#8e0152"
            ],
            [
             0.1,
             "#c51b7d"
            ],
            [
             0.2,
             "#de77ae"
            ],
            [
             0.3,
             "#f1b6da"
            ],
            [
             0.4,
             "#fde0ef"
            ],
            [
             0.5,
             "#f7f7f7"
            ],
            [
             0.6,
             "#e6f5d0"
            ],
            [
             0.7,
             "#b8e186"
            ],
            [
             0.8,
             "#7fbc41"
            ],
            [
             0.9,
             "#4d9221"
            ],
            [
             1,
             "#276419"
            ]
           ],
           "sequential": [
            [
             0,
             "#0d0887"
            ],
            [
             0.1111111111111111,
             "#46039f"
            ],
            [
             0.2222222222222222,
             "#7201a8"
            ],
            [
             0.3333333333333333,
             "#9c179e"
            ],
            [
             0.4444444444444444,
             "#bd3786"
            ],
            [
             0.5555555555555556,
             "#d8576b"
            ],
            [
             0.6666666666666666,
             "#ed7953"
            ],
            [
             0.7777777777777778,
             "#fb9f3a"
            ],
            [
             0.8888888888888888,
             "#fdca26"
            ],
            [
             1,
             "#f0f921"
            ]
           ],
           "sequentialminus": [
            [
             0,
             "#0d0887"
            ],
            [
             0.1111111111111111,
             "#46039f"
            ],
            [
             0.2222222222222222,
             "#7201a8"
            ],
            [
             0.3333333333333333,
             "#9c179e"
            ],
            [
             0.4444444444444444,
             "#bd3786"
            ],
            [
             0.5555555555555556,
             "#d8576b"
            ],
            [
             0.6666666666666666,
             "#ed7953"
            ],
            [
             0.7777777777777778,
             "#fb9f3a"
            ],
            [
             0.8888888888888888,
             "#fdca26"
            ],
            [
             1,
             "#f0f921"
            ]
           ]
          },
          "colorway": [
           "#636efa",
           "#EF553B",
           "#00cc96",
           "#ab63fa",
           "#FFA15A",
           "#19d3f3",
           "#FF6692",
           "#B6E880",
           "#FF97FF",
           "#FECB52"
          ],
          "font": {
           "color": "#2a3f5f"
          },
          "geo": {
           "bgcolor": "white",
           "lakecolor": "white",
           "landcolor": "#E5ECF6",
           "showlakes": true,
           "showland": true,
           "subunitcolor": "white"
          },
          "hoverlabel": {
           "align": "left"
          },
          "hovermode": "closest",
          "mapbox": {
           "style": "light"
          },
          "paper_bgcolor": "white",
          "plot_bgcolor": "#E5ECF6",
          "polar": {
           "angularaxis": {
            "gridcolor": "white",
            "linecolor": "white",
            "ticks": ""
           },
           "bgcolor": "#E5ECF6",
           "radialaxis": {
            "gridcolor": "white",
            "linecolor": "white",
            "ticks": ""
           }
          },
          "scene": {
           "xaxis": {
            "backgroundcolor": "#E5ECF6",
            "gridcolor": "white",
            "gridwidth": 2,
            "linecolor": "white",
            "showbackground": true,
            "ticks": "",
            "zerolinecolor": "white"
           },
           "yaxis": {
            "backgroundcolor": "#E5ECF6",
            "gridcolor": "white",
            "gridwidth": 2,
            "linecolor": "white",
            "showbackground": true,
            "ticks": "",
            "zerolinecolor": "white"
           },
           "zaxis": {
            "backgroundcolor": "#E5ECF6",
            "gridcolor": "white",
            "gridwidth": 2,
            "linecolor": "white",
            "showbackground": true,
            "ticks": "",
            "zerolinecolor": "white"
           }
          },
          "shapedefaults": {
           "line": {
            "color": "#2a3f5f"
           }
          },
          "ternary": {
           "aaxis": {
            "gridcolor": "white",
            "linecolor": "white",
            "ticks": ""
           },
           "baxis": {
            "gridcolor": "white",
            "linecolor": "white",
            "ticks": ""
           },
           "bgcolor": "#E5ECF6",
           "caxis": {
            "gridcolor": "white",
            "linecolor": "white",
            "ticks": ""
           }
          },
          "title": {
           "x": 0.05
          },
          "xaxis": {
           "automargin": true,
           "gridcolor": "white",
           "linecolor": "white",
           "ticks": "",
           "title": {
            "standoff": 15
           },
           "zerolinecolor": "white",
           "zerolinewidth": 2
          },
          "yaxis": {
           "automargin": true,
           "gridcolor": "white",
           "linecolor": "white",
           "ticks": "",
           "title": {
            "standoff": 15
           },
           "zerolinecolor": "white",
           "zerolinewidth": 2
          }
         }
        },
        "xaxis": {
         "anchor": "y",
         "domain": [
          0,
          1
         ],
         "title": {
          "text": "date_range_start"
         }
        },
        "yaxis": {
         "anchor": "x",
         "domain": [
          0,
          1
         ],
         "title": {
          "text": "mobility_score"
         }
        }
       }
      }
     },
     "metadata": {},
     "output_type": "display_data"
    }
   ],
   "source": [
    "fig = px.line(df2[df2['Type'] == 'Urban'], x='date_range_start', y='mobility_score', color='region')\n",
    "fig.show()"
   ]
  },
  {
   "cell_type": "code",
   "execution_count": null,
   "metadata": {},
   "outputs": [],
   "source": []
  }
 ],
 "metadata": {
  "kernelspec": {
   "display_name": "acads",
   "language": "python",
   "name": "acads"
  },
  "language_info": {
   "codemirror_mode": {
    "name": "ipython",
    "version": 3
   },
   "file_extension": ".py",
   "mimetype": "text/x-python",
   "name": "python",
   "nbconvert_exporter": "python",
   "pygments_lexer": "ipython3",
   "version": "3.9.16"
  },
  "orig_nbformat": 4
 },
 "nbformat": 4,
 "nbformat_minor": 2
}
